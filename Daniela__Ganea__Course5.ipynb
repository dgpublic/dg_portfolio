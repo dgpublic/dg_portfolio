{
  "cells": [
    {
      "cell_type": "markdown",
      "metadata": {
        "id": "2118a349-19a4-4f18-a781-4c484a1b0bf8"
      },
      "source": [
        "<p style=\"text-align:center\">\n",
        "    <a href=\"https://skills.network/?utm_medium=Exinfluencer&utm_source=Exinfluencer&utm_content=000026UJ&utm_term=10006555&utm_id=NA-SkillsNetwork-Channel-SkillsNetworkCoursesIBMDeveloperSkillsNetworkPY0220ENSkillsNetwork900-2022-01-01\" target=\"_blank\">\n",
        "    <img src=\"https://cf-courses-data.s3.us.cloud-object-storage.appdomain.cloud/assets/logos/SN_web_lightmode.png\" width=\"200\" alt=\"Skills Network Logo\">\n",
        "    </a>\n",
        "</p>\n"
      ]
    },
    {
      "cell_type": "markdown",
      "metadata": {
        "id": "e736c660-cfd4-4887-a586-355c35cdcaca"
      },
      "source": [
        "<h1>Extracting and Visualizing Stock Data</h1>\n",
        "<h2>Description</h2>\n"
      ]
    },
    {
      "cell_type": "markdown",
      "metadata": {
        "id": "23e15576-dbda-49c4-923b-6e6cfcc5fedf"
      },
      "source": [
        "Extracting essential data from a dataset and displaying it is a necessary part of data science; therefore individuals can make correct decisions based on the data. In this assignment, you will extract some stock data, you will then display this data in a graph.\n"
      ]
    },
    {
      "cell_type": "markdown",
      "metadata": {
        "id": "4f8220cd-8b1c-4d78-9a0d-28e1a583548d"
      },
      "source": [
        "<h2>Table of Contents</h2>\n",
        "<div class=\"alert alert-block alert-info\" style=\"margin-top: 20px\">\n",
        "    <ul>\n",
        "        <li>Define a Function that Makes a Graph</li>\n",
        "        <li>Question 1: Use yfinance to Extract Stock Data</li>\n",
        "        <li>Question 2: Use Webscraping to Extract Tesla Revenue Data</li>\n",
        "        <li>Question 3: Use yfinance to Extract Stock Data</li>\n",
        "        <li>Question 4: Use Webscraping to Extract GME Revenue Data</li>\n",
        "        <li>Question 5: Plot Tesla Stock Graph</li>\n",
        "        <li>Question 6: Plot GameStop Stock Graph</li>\n",
        "    </ul>\n",
        "<p>\n",
        "    Estimated Time Needed: <strong>30 min</strong></p>\n",
        "</div>\n",
        "\n",
        "<hr>\n"
      ]
    },
    {
      "cell_type": "markdown",
      "metadata": {
        "id": "1b161ab1-0327-46d9-8793-1a7ccc3fcf09"
      },
      "source": [
        "***Note***:- If you are working in IBM Cloud Watson Studio, please replace the command for installing nbformat from `!pip install nbformat==4.2.0` to simply `!pip install nbformat`\n"
      ]
    },
    {
      "cell_type": "code",
      "metadata": {
        "colab": {
          "base_uri": "https://localhost:8080/"
        },
        "id": "ec85e8e3-fe7a-4b30-9ea7-a67a38c1c74b",
        "outputId": "5ca69ae9-1a9a-48cb-edff-d375257b314b"
      },
      "outputs": [
        {
          "output_type": "stream",
          "name": "stdout",
          "text": [
            "Collecting yfinance==0.1.67\n",
            "  Using cached yfinance-0.1.67-py2.py3-none-any.whl (25 kB)\n",
            "Requirement already satisfied: pandas>=0.24 in /usr/local/lib/python3.10/dist-packages (from yfinance==0.1.67) (2.1.2)\n",
            "Requirement already satisfied: numpy>=1.15 in /usr/local/lib/python3.10/dist-packages (from yfinance==0.1.67) (1.23.5)\n",
            "Requirement already satisfied: requests>=2.20 in /usr/local/lib/python3.10/dist-packages (from yfinance==0.1.67) (2.31.0)\n",
            "Requirement already satisfied: multitasking>=0.0.7 in /usr/local/lib/python3.10/dist-packages (from yfinance==0.1.67) (0.0.11)\n",
            "Requirement already satisfied: lxml>=4.5.1 in /usr/local/lib/python3.10/dist-packages (from yfinance==0.1.67) (4.9.3)\n",
            "Requirement already satisfied: python-dateutil>=2.8.2 in /usr/local/lib/python3.10/dist-packages (from pandas>=0.24->yfinance==0.1.67) (2.8.2)\n",
            "Requirement already satisfied: pytz>=2020.1 in /usr/local/lib/python3.10/dist-packages (from pandas>=0.24->yfinance==0.1.67) (2023.3.post1)\n",
            "Requirement already satisfied: tzdata>=2022.1 in /usr/local/lib/python3.10/dist-packages (from pandas>=0.24->yfinance==0.1.67) (2023.3)\n",
            "Requirement already satisfied: charset-normalizer<4,>=2 in /usr/local/lib/python3.10/dist-packages (from requests>=2.20->yfinance==0.1.67) (3.3.1)\n",
            "Requirement already satisfied: idna<4,>=2.5 in /usr/local/lib/python3.10/dist-packages (from requests>=2.20->yfinance==0.1.67) (3.4)\n",
            "Requirement already satisfied: urllib3<3,>=1.21.1 in /usr/local/lib/python3.10/dist-packages (from requests>=2.20->yfinance==0.1.67) (2.0.7)\n",
            "Requirement already satisfied: certifi>=2017.4.17 in /usr/local/lib/python3.10/dist-packages (from requests>=2.20->yfinance==0.1.67) (2023.7.22)\n",
            "Requirement already satisfied: six>=1.5 in /usr/local/lib/python3.10/dist-packages (from python-dateutil>=2.8.2->pandas>=0.24->yfinance==0.1.67) (1.16.0)\n",
            "Installing collected packages: yfinance\n",
            "  Attempting uninstall: yfinance\n",
            "    Found existing installation: yfinance 0.2.31\n",
            "    Uninstalling yfinance-0.2.31:\n",
            "      Successfully uninstalled yfinance-0.2.31\n",
            "Successfully installed yfinance-0.1.67\n",
            "/bin/bash: line 1: mamba: command not found\n",
            "Collecting nbformat==4.2.0\n",
            "  Using cached nbformat-4.2.0-py2.py3-none-any.whl (153 kB)\n",
            "Requirement already satisfied: ipython-genutils in /usr/local/lib/python3.10/dist-packages (from nbformat==4.2.0) (0.2.0)\n",
            "Requirement already satisfied: jsonschema!=2.5.0,>=2.4 in /usr/local/lib/python3.10/dist-packages (from nbformat==4.2.0) (4.19.1)\n",
            "Requirement already satisfied: jupyter-core in /usr/local/lib/python3.10/dist-packages (from nbformat==4.2.0) (5.4.0)\n",
            "Requirement already satisfied: traitlets>=4.1 in /usr/local/lib/python3.10/dist-packages (from nbformat==4.2.0) (5.7.1)\n",
            "Requirement already satisfied: attrs>=22.2.0 in /usr/local/lib/python3.10/dist-packages (from jsonschema!=2.5.0,>=2.4->nbformat==4.2.0) (23.1.0)\n",
            "Requirement already satisfied: jsonschema-specifications>=2023.03.6 in /usr/local/lib/python3.10/dist-packages (from jsonschema!=2.5.0,>=2.4->nbformat==4.2.0) (2023.7.1)\n",
            "Requirement already satisfied: referencing>=0.28.4 in /usr/local/lib/python3.10/dist-packages (from jsonschema!=2.5.0,>=2.4->nbformat==4.2.0) (0.30.2)\n",
            "Requirement already satisfied: rpds-py>=0.7.1 in /usr/local/lib/python3.10/dist-packages (from jsonschema!=2.5.0,>=2.4->nbformat==4.2.0) (0.10.6)\n",
            "Requirement already satisfied: platformdirs>=2.5 in /usr/local/lib/python3.10/dist-packages (from jupyter-core->nbformat==4.2.0) (3.11.0)\n",
            "Installing collected packages: nbformat\n",
            "  Attempting uninstall: nbformat\n",
            "    Found existing installation: nbformat 5.2.0\n",
            "    Uninstalling nbformat-5.2.0:\n",
            "      Successfully uninstalled nbformat-5.2.0\n",
            "\u001b[31mERROR: pip's dependency resolver does not currently take into account all the packages that are installed. This behaviour is the source of the following dependency conflicts.\n",
            "jupyter-server 1.24.0 requires nbformat>=5.2.0, but you have nbformat 4.2.0 which is incompatible.\n",
            "nbclient 0.8.0 requires nbformat>=5.1, but you have nbformat 4.2.0 which is incompatible.\n",
            "nbconvert 6.5.4 requires nbformat>=5.1, but you have nbformat 4.2.0 which is incompatible.\u001b[0m\u001b[31m\n",
            "\u001b[0mSuccessfully installed nbformat-4.2.0\n",
            "Requirement already satisfied: yfinance in /usr/local/lib/python3.10/dist-packages (0.1.67)\n",
            "Collecting yfinance\n",
            "  Using cached yfinance-0.2.31-py2.py3-none-any.whl (65 kB)\n",
            "Requirement already satisfied: pandas in /usr/local/lib/python3.10/dist-packages (2.1.2)\n",
            "Requirement already satisfied: numpy>=1.16.5 in /usr/local/lib/python3.10/dist-packages (from yfinance) (1.23.5)\n",
            "Requirement already satisfied: requests>=2.31 in /usr/local/lib/python3.10/dist-packages (from yfinance) (2.31.0)\n",
            "Requirement already satisfied: multitasking>=0.0.7 in /usr/local/lib/python3.10/dist-packages (from yfinance) (0.0.11)\n",
            "Requirement already satisfied: lxml>=4.9.1 in /usr/local/lib/python3.10/dist-packages (from yfinance) (4.9.3)\n",
            "Requirement already satisfied: appdirs>=1.4.4 in /usr/local/lib/python3.10/dist-packages (from yfinance) (1.4.4)\n",
            "Requirement already satisfied: pytz>=2022.5 in /usr/local/lib/python3.10/dist-packages (from yfinance) (2023.3.post1)\n",
            "Requirement already satisfied: frozendict>=2.3.4 in /usr/local/lib/python3.10/dist-packages (from yfinance) (2.3.8)\n",
            "Requirement already satisfied: peewee>=3.16.2 in /usr/local/lib/python3.10/dist-packages (from yfinance) (3.17.0)\n",
            "Requirement already satisfied: beautifulsoup4>=4.11.1 in /usr/local/lib/python3.10/dist-packages (from yfinance) (4.11.2)\n",
            "Requirement already satisfied: html5lib>=1.1 in /usr/local/lib/python3.10/dist-packages (from yfinance) (1.1)\n",
            "Requirement already satisfied: python-dateutil>=2.8.2 in /usr/local/lib/python3.10/dist-packages (from pandas) (2.8.2)\n",
            "Requirement already satisfied: tzdata>=2022.1 in /usr/local/lib/python3.10/dist-packages (from pandas) (2023.3)\n",
            "Requirement already satisfied: soupsieve>1.2 in /usr/local/lib/python3.10/dist-packages (from beautifulsoup4>=4.11.1->yfinance) (2.5)\n",
            "Requirement already satisfied: six>=1.9 in /usr/local/lib/python3.10/dist-packages (from html5lib>=1.1->yfinance) (1.16.0)\n",
            "Requirement already satisfied: webencodings in /usr/local/lib/python3.10/dist-packages (from html5lib>=1.1->yfinance) (0.5.1)\n",
            "Requirement already satisfied: charset-normalizer<4,>=2 in /usr/local/lib/python3.10/dist-packages (from requests>=2.31->yfinance) (3.3.1)\n",
            "Requirement already satisfied: idna<4,>=2.5 in /usr/local/lib/python3.10/dist-packages (from requests>=2.31->yfinance) (3.4)\n",
            "Requirement already satisfied: urllib3<3,>=1.21.1 in /usr/local/lib/python3.10/dist-packages (from requests>=2.31->yfinance) (2.0.7)\n",
            "Requirement already satisfied: certifi>=2017.4.17 in /usr/local/lib/python3.10/dist-packages (from requests>=2.31->yfinance) (2023.7.22)\n",
            "Installing collected packages: yfinance\n",
            "  Attempting uninstall: yfinance\n",
            "    Found existing installation: yfinance 0.1.67\n",
            "    Uninstalling yfinance-0.1.67:\n",
            "      Successfully uninstalled yfinance-0.1.67\n",
            "Successfully installed yfinance-0.2.31\n"
          ]
        }
      ],
      "source": [
        "!pip install yfinance==0.1.67\n",
        "!mamba install bs4==4.10.0 -y\n",
        "!pip install nbformat==4.2.0\n",
        "!pip install -U yfinance pandas"
      ],
      "execution_count": 4
    },
    {
      "cell_type": "code",
      "metadata": {
        "id": "f62cd91c-15a4-4152-8104-a61a00bf8950",
        "colab": {
          "base_uri": "https://localhost:8080/"
        },
        "outputId": "c4ed6431-bdae-4661-adb4-00bafb3d779b"
      },
      "outputs": [
        {
          "output_type": "stream",
          "name": "stdout",
          "text": [
            "done\n"
          ]
        }
      ],
      "source": [
        "import yfinance as yf\n",
        "import pandas as pd\n",
        "import requests\n",
        "from bs4 import BeautifulSoup\n",
        "import plotly.graph_objects as go\n",
        "from plotly.subplots import make_subplots\n",
        "print(\"done\")"
      ],
      "execution_count": 5
    },
    {
      "cell_type": "markdown",
      "metadata": {
        "id": "42c8b334-9e2f-4188-af4c-ce6a516ae961"
      },
      "source": [
        "## Define Graphing Function\n"
      ]
    },
    {
      "cell_type": "markdown",
      "metadata": {
        "id": "30ac7780-8b65-46ed-a9b6-a747d2ca5446"
      },
      "source": [
        "In this section, we define the function `make_graph`. You don't have to know how the function works, you should only care about the inputs. It takes a dataframe with stock data (dataframe must contain Date and Close columns), a dataframe with revenue data (dataframe must contain Date and Revenue columns), and the name of the stock.\n"
      ]
    },
    {
      "cell_type": "code",
      "metadata": {
        "id": "3178f6c6-a77c-47c7-803b-f68481ac8b91"
      },
      "outputs": [],
      "source": [
        "def make_graph(stock_data, revenue_data, stock):\n",
        "    fig = make_subplots(rows=2, cols=1, shared_xaxes=True, subplot_titles=(\"Historical Share Price\", \"Historical Revenue\"), vertical_spacing = .3)\n",
        "    print(\"1\")\n",
        "    stock_data_specific = stock_data[stock_data.Date <= '2021--06-14']\n",
        "    revenue_data_specific = revenue_data[revenue_data.Date <= '2021-04-30']\n",
        "    fig.add_trace(go.Scatter(x=pd.to_datetime(stock_data_specific.Date, infer_datetime_format=True), y=stock_data_specific.Close.astype(\"float\"), name=\"Share Price\"), row=1, col=1)\n",
        "    fig.add_trace(go.Scatter(x=pd.to_datetime(revenue_data_specific.Date, infer_datetime_format=True), y=revenue_data_specific.Revenue.astype(\"float\"), name=\"Revenue\"), row=2, col=1)\n",
        "    fig.update_xaxes(title_text=\"Date\", row=1, col=1)\n",
        "    fig.update_xaxes(title_text=\"Date\", row=2, col=1)\n",
        "    fig.update_yaxes(title_text=\"Price ($US)\", row=1, col=1)\n",
        "    fig.update_yaxes(title_text=\"Revenue ($US Millions)\", row=2, col=1)\n",
        "    fig.update_layout(showlegend=False,\n",
        "    height=900,\n",
        "    title=stock,\n",
        "    xaxis_rangeslider_visible=True)\n",
        "    print(\"hello\")\n",
        "    fig.show()"
      ],
      "execution_count": 6
    },
    {
      "cell_type": "markdown",
      "metadata": {
        "id": "c2d16067-978f-49eb-881e-4f380f86736d"
      },
      "source": [
        "## Question 1: Use yfinance to Extract Stock Data\n"
      ]
    },
    {
      "cell_type": "markdown",
      "metadata": {
        "id": "08e2df7c-0a30-4e0e-9b29-d3d1e9350ff0"
      },
      "source": [
        "Using the `Ticker` function enter the ticker symbol of the stock we want to extract data on to create a ticker object. The stock is Tesla and its ticker symbol is `TSLA`.\n"
      ]
    },
    {
      "cell_type": "code",
      "metadata": {
        "id": "dd2222c9-0fdc-4c12-919c-afbc96b76249"
      },
      "outputs": [],
      "source": [
        "tsla=yf.Ticker(\"TSLA\")"
      ],
      "execution_count": 7
    },
    {
      "cell_type": "markdown",
      "metadata": {
        "id": "ff18351c-1f5e-4321-aef4-4ddb0fa6cb52"
      },
      "source": [
        "Using the ticker object and the function `history` extract stock information and save it in a dataframe named `tesla_data`. Set the `period` parameter to `max` so we get information for the maximum amount of time.\n"
      ]
    },
    {
      "cell_type": "code",
      "metadata": {
        "id": "3a963c86-b6c6-41ec-9b3e-af1602008202"
      },
      "outputs": [],
      "source": [
        "tesla_data= tsla.history(period=\"max\")"
      ],
      "execution_count": 8
    },
    {
      "cell_type": "markdown",
      "metadata": {
        "id": "2260c851-3930-4601-9b8a-7bda4f7d7c2a"
      },
      "source": [
        "**Reset the index** using the `reset_index(inplace=True)` function on the tesla_data DataFrame and display the first five rows of the `tesla_data` dataframe using the `head` function. Take a screenshot of the results and code from the beginning of Question 1 to the results below.\n"
      ]
    },
    {
      "cell_type": "code",
      "metadata": {
        "id": "9cb5f4b1-987d-4ad5-9c4f-ca652ce7399d",
        "colab": {
          "base_uri": "https://localhost:8080/",
          "height": 206
        },
        "outputId": "f1e3a16e-4d24-45f0-b015-4e17f76dbf4a"
      },
      "outputs": [
        {
          "output_type": "execute_result",
          "data": {
            "text/plain": [
              "                       Date      Open      High       Low     Close  \\\n",
              "0 2010-06-29 00:00:00-04:00  1.266667  1.666667  1.169333  1.592667   \n",
              "1 2010-06-30 00:00:00-04:00  1.719333  2.028000  1.553333  1.588667   \n",
              "2 2010-07-01 00:00:00-04:00  1.666667  1.728000  1.351333  1.464000   \n",
              "3 2010-07-02 00:00:00-04:00  1.533333  1.540000  1.247333  1.280000   \n",
              "4 2010-07-06 00:00:00-04:00  1.333333  1.333333  1.055333  1.074000   \n",
              "\n",
              "      Volume  Dividends  Stock Splits  \n",
              "0  281494500        0.0           0.0  \n",
              "1  257806500        0.0           0.0  \n",
              "2  123282000        0.0           0.0  \n",
              "3   77097000        0.0           0.0  \n",
              "4  103003500        0.0           0.0  "
            ],
            "text/html": [
              "\n",
              "  <div id=\"df-615c2e80-0ad7-4118-9640-c3d5833ea410\" class=\"colab-df-container\">\n",
              "    <div>\n",
              "<style scoped>\n",
              "    .dataframe tbody tr th:only-of-type {\n",
              "        vertical-align: middle;\n",
              "    }\n",
              "\n",
              "    .dataframe tbody tr th {\n",
              "        vertical-align: top;\n",
              "    }\n",
              "\n",
              "    .dataframe thead th {\n",
              "        text-align: right;\n",
              "    }\n",
              "</style>\n",
              "<table border=\"1\" class=\"dataframe\">\n",
              "  <thead>\n",
              "    <tr style=\"text-align: right;\">\n",
              "      <th></th>\n",
              "      <th>Date</th>\n",
              "      <th>Open</th>\n",
              "      <th>High</th>\n",
              "      <th>Low</th>\n",
              "      <th>Close</th>\n",
              "      <th>Volume</th>\n",
              "      <th>Dividends</th>\n",
              "      <th>Stock Splits</th>\n",
              "    </tr>\n",
              "  </thead>\n",
              "  <tbody>\n",
              "    <tr>\n",
              "      <th>0</th>\n",
              "      <td>2010-06-29 00:00:00-04:00</td>\n",
              "      <td>1.266667</td>\n",
              "      <td>1.666667</td>\n",
              "      <td>1.169333</td>\n",
              "      <td>1.592667</td>\n",
              "      <td>281494500</td>\n",
              "      <td>0.0</td>\n",
              "      <td>0.0</td>\n",
              "    </tr>\n",
              "    <tr>\n",
              "      <th>1</th>\n",
              "      <td>2010-06-30 00:00:00-04:00</td>\n",
              "      <td>1.719333</td>\n",
              "      <td>2.028000</td>\n",
              "      <td>1.553333</td>\n",
              "      <td>1.588667</td>\n",
              "      <td>257806500</td>\n",
              "      <td>0.0</td>\n",
              "      <td>0.0</td>\n",
              "    </tr>\n",
              "    <tr>\n",
              "      <th>2</th>\n",
              "      <td>2010-07-01 00:00:00-04:00</td>\n",
              "      <td>1.666667</td>\n",
              "      <td>1.728000</td>\n",
              "      <td>1.351333</td>\n",
              "      <td>1.464000</td>\n",
              "      <td>123282000</td>\n",
              "      <td>0.0</td>\n",
              "      <td>0.0</td>\n",
              "    </tr>\n",
              "    <tr>\n",
              "      <th>3</th>\n",
              "      <td>2010-07-02 00:00:00-04:00</td>\n",
              "      <td>1.533333</td>\n",
              "      <td>1.540000</td>\n",
              "      <td>1.247333</td>\n",
              "      <td>1.280000</td>\n",
              "      <td>77097000</td>\n",
              "      <td>0.0</td>\n",
              "      <td>0.0</td>\n",
              "    </tr>\n",
              "    <tr>\n",
              "      <th>4</th>\n",
              "      <td>2010-07-06 00:00:00-04:00</td>\n",
              "      <td>1.333333</td>\n",
              "      <td>1.333333</td>\n",
              "      <td>1.055333</td>\n",
              "      <td>1.074000</td>\n",
              "      <td>103003500</td>\n",
              "      <td>0.0</td>\n",
              "      <td>0.0</td>\n",
              "    </tr>\n",
              "  </tbody>\n",
              "</table>\n",
              "</div>\n",
              "    <div class=\"colab-df-buttons\">\n",
              "\n",
              "  <div class=\"colab-df-container\">\n",
              "    <button class=\"colab-df-convert\" onclick=\"convertToInteractive('df-615c2e80-0ad7-4118-9640-c3d5833ea410')\"\n",
              "            title=\"Convert this dataframe to an interactive table.\"\n",
              "            style=\"display:none;\">\n",
              "\n",
              "  <svg xmlns=\"http://www.w3.org/2000/svg\" height=\"24px\" viewBox=\"0 -960 960 960\">\n",
              "    <path d=\"M120-120v-720h720v720H120Zm60-500h600v-160H180v160Zm220 220h160v-160H400v160Zm0 220h160v-160H400v160ZM180-400h160v-160H180v160Zm440 0h160v-160H620v160ZM180-180h160v-160H180v160Zm440 0h160v-160H620v160Z\"/>\n",
              "  </svg>\n",
              "    </button>\n",
              "\n",
              "  <style>\n",
              "    .colab-df-container {\n",
              "      display:flex;\n",
              "      gap: 12px;\n",
              "    }\n",
              "\n",
              "    .colab-df-convert {\n",
              "      background-color: #E8F0FE;\n",
              "      border: none;\n",
              "      border-radius: 50%;\n",
              "      cursor: pointer;\n",
              "      display: none;\n",
              "      fill: #1967D2;\n",
              "      height: 32px;\n",
              "      padding: 0 0 0 0;\n",
              "      width: 32px;\n",
              "    }\n",
              "\n",
              "    .colab-df-convert:hover {\n",
              "      background-color: #E2EBFA;\n",
              "      box-shadow: 0px 1px 2px rgba(60, 64, 67, 0.3), 0px 1px 3px 1px rgba(60, 64, 67, 0.15);\n",
              "      fill: #174EA6;\n",
              "    }\n",
              "\n",
              "    .colab-df-buttons div {\n",
              "      margin-bottom: 4px;\n",
              "    }\n",
              "\n",
              "    [theme=dark] .colab-df-convert {\n",
              "      background-color: #3B4455;\n",
              "      fill: #D2E3FC;\n",
              "    }\n",
              "\n",
              "    [theme=dark] .colab-df-convert:hover {\n",
              "      background-color: #434B5C;\n",
              "      box-shadow: 0px 1px 3px 1px rgba(0, 0, 0, 0.15);\n",
              "      filter: drop-shadow(0px 1px 2px rgba(0, 0, 0, 0.3));\n",
              "      fill: #FFFFFF;\n",
              "    }\n",
              "  </style>\n",
              "\n",
              "    <script>\n",
              "      const buttonEl =\n",
              "        document.querySelector('#df-615c2e80-0ad7-4118-9640-c3d5833ea410 button.colab-df-convert');\n",
              "      buttonEl.style.display =\n",
              "        google.colab.kernel.accessAllowed ? 'block' : 'none';\n",
              "\n",
              "      async function convertToInteractive(key) {\n",
              "        const element = document.querySelector('#df-615c2e80-0ad7-4118-9640-c3d5833ea410');\n",
              "        const dataTable =\n",
              "          await google.colab.kernel.invokeFunction('convertToInteractive',\n",
              "                                                    [key], {});\n",
              "        if (!dataTable) return;\n",
              "\n",
              "        const docLinkHtml = 'Like what you see? Visit the ' +\n",
              "          '<a target=\"_blank\" href=https://colab.research.google.com/notebooks/data_table.ipynb>data table notebook</a>'\n",
              "          + ' to learn more about interactive tables.';\n",
              "        element.innerHTML = '';\n",
              "        dataTable['output_type'] = 'display_data';\n",
              "        await google.colab.output.renderOutput(dataTable, element);\n",
              "        const docLink = document.createElement('div');\n",
              "        docLink.innerHTML = docLinkHtml;\n",
              "        element.appendChild(docLink);\n",
              "      }\n",
              "    </script>\n",
              "  </div>\n",
              "\n",
              "\n",
              "<div id=\"df-8c740366-3878-41e2-85a9-a2d7ba3d4975\">\n",
              "  <button class=\"colab-df-quickchart\" onclick=\"quickchart('df-8c740366-3878-41e2-85a9-a2d7ba3d4975')\"\n",
              "            title=\"Suggest charts.\"\n",
              "            style=\"display:none;\">\n",
              "\n",
              "<svg xmlns=\"http://www.w3.org/2000/svg\" height=\"24px\"viewBox=\"0 0 24 24\"\n",
              "     width=\"24px\">\n",
              "    <g>\n",
              "        <path d=\"M19 3H5c-1.1 0-2 .9-2 2v14c0 1.1.9 2 2 2h14c1.1 0 2-.9 2-2V5c0-1.1-.9-2-2-2zM9 17H7v-7h2v7zm4 0h-2V7h2v10zm4 0h-2v-4h2v4z\"/>\n",
              "    </g>\n",
              "</svg>\n",
              "  </button>\n",
              "\n",
              "<style>\n",
              "  .colab-df-quickchart {\n",
              "      --bg-color: #E8F0FE;\n",
              "      --fill-color: #1967D2;\n",
              "      --hover-bg-color: #E2EBFA;\n",
              "      --hover-fill-color: #174EA6;\n",
              "      --disabled-fill-color: #AAA;\n",
              "      --disabled-bg-color: #DDD;\n",
              "  }\n",
              "\n",
              "  [theme=dark] .colab-df-quickchart {\n",
              "      --bg-color: #3B4455;\n",
              "      --fill-color: #D2E3FC;\n",
              "      --hover-bg-color: #434B5C;\n",
              "      --hover-fill-color: #FFFFFF;\n",
              "      --disabled-bg-color: #3B4455;\n",
              "      --disabled-fill-color: #666;\n",
              "  }\n",
              "\n",
              "  .colab-df-quickchart {\n",
              "    background-color: var(--bg-color);\n",
              "    border: none;\n",
              "    border-radius: 50%;\n",
              "    cursor: pointer;\n",
              "    display: none;\n",
              "    fill: var(--fill-color);\n",
              "    height: 32px;\n",
              "    padding: 0;\n",
              "    width: 32px;\n",
              "  }\n",
              "\n",
              "  .colab-df-quickchart:hover {\n",
              "    background-color: var(--hover-bg-color);\n",
              "    box-shadow: 0 1px 2px rgba(60, 64, 67, 0.3), 0 1px 3px 1px rgba(60, 64, 67, 0.15);\n",
              "    fill: var(--button-hover-fill-color);\n",
              "  }\n",
              "\n",
              "  .colab-df-quickchart-complete:disabled,\n",
              "  .colab-df-quickchart-complete:disabled:hover {\n",
              "    background-color: var(--disabled-bg-color);\n",
              "    fill: var(--disabled-fill-color);\n",
              "    box-shadow: none;\n",
              "  }\n",
              "\n",
              "  .colab-df-spinner {\n",
              "    border: 2px solid var(--fill-color);\n",
              "    border-color: transparent;\n",
              "    border-bottom-color: var(--fill-color);\n",
              "    animation:\n",
              "      spin 1s steps(1) infinite;\n",
              "  }\n",
              "\n",
              "  @keyframes spin {\n",
              "    0% {\n",
              "      border-color: transparent;\n",
              "      border-bottom-color: var(--fill-color);\n",
              "      border-left-color: var(--fill-color);\n",
              "    }\n",
              "    20% {\n",
              "      border-color: transparent;\n",
              "      border-left-color: var(--fill-color);\n",
              "      border-top-color: var(--fill-color);\n",
              "    }\n",
              "    30% {\n",
              "      border-color: transparent;\n",
              "      border-left-color: var(--fill-color);\n",
              "      border-top-color: var(--fill-color);\n",
              "      border-right-color: var(--fill-color);\n",
              "    }\n",
              "    40% {\n",
              "      border-color: transparent;\n",
              "      border-right-color: var(--fill-color);\n",
              "      border-top-color: var(--fill-color);\n",
              "    }\n",
              "    60% {\n",
              "      border-color: transparent;\n",
              "      border-right-color: var(--fill-color);\n",
              "    }\n",
              "    80% {\n",
              "      border-color: transparent;\n",
              "      border-right-color: var(--fill-color);\n",
              "      border-bottom-color: var(--fill-color);\n",
              "    }\n",
              "    90% {\n",
              "      border-color: transparent;\n",
              "      border-bottom-color: var(--fill-color);\n",
              "    }\n",
              "  }\n",
              "</style>\n",
              "\n",
              "  <script>\n",
              "    async function quickchart(key) {\n",
              "      const quickchartButtonEl =\n",
              "        document.querySelector('#' + key + ' button');\n",
              "      quickchartButtonEl.disabled = true;  // To prevent multiple clicks.\n",
              "      quickchartButtonEl.classList.add('colab-df-spinner');\n",
              "      try {\n",
              "        const charts = await google.colab.kernel.invokeFunction(\n",
              "            'suggestCharts', [key], {});\n",
              "      } catch (error) {\n",
              "        console.error('Error during call to suggestCharts:', error);\n",
              "      }\n",
              "      quickchartButtonEl.classList.remove('colab-df-spinner');\n",
              "      quickchartButtonEl.classList.add('colab-df-quickchart-complete');\n",
              "    }\n",
              "    (() => {\n",
              "      let quickchartButtonEl =\n",
              "        document.querySelector('#df-8c740366-3878-41e2-85a9-a2d7ba3d4975 button');\n",
              "      quickchartButtonEl.style.display =\n",
              "        google.colab.kernel.accessAllowed ? 'block' : 'none';\n",
              "    })();\n",
              "  </script>\n",
              "</div>\n",
              "    </div>\n",
              "  </div>\n"
            ]
          },
          "metadata": {},
          "execution_count": 9
        }
      ],
      "source": [
        "tesla_data.reset_index(inplace=True)\n",
        "tesla_data.head()"
      ],
      "execution_count": 9
    },
    {
      "cell_type": "markdown",
      "metadata": {
        "id": "686ac769-bbdf-48f7-917c-a5164faa7882"
      },
      "source": [
        "## Question 2: Use Webscraping to Extract Tesla Revenue Data\n"
      ]
    },
    {
      "cell_type": "code",
      "metadata": {
        "id": "f8e0a4cb-c82b-472c-88fd-d5a8fcdf03b3"
      },
      "outputs": [],
      "source": [
        "import requests\n",
        "response = requests.get(\"https://cf-courses-data.s3.us.cloud-object-storage.appdomain.cloud/IBMDeveloperSkillsNetwork-PY0220EN-SkillsNetwork/labs/project/revenue.htm\")\n",
        "#print(response.text)"
      ],
      "execution_count": 10
    },
    {
      "cell_type": "markdown",
      "metadata": {
        "id": "4f979a7c-f8ba-4873-951a-45928939c676"
      },
      "source": [
        "Use the `requests` library to download the webpage https://cf-courses-data.s3.us.cloud-object-storage.appdomain.cloud/IBMDeveloperSkillsNetwork-PY0220EN-SkillsNetwork/labs/project/revenue.htm Save the text of the response as a variable named `html_data`.\n"
      ]
    },
    {
      "cell_type": "markdown",
      "metadata": {
        "id": "86473f05-2a24-4ed1-bc06-0bf3b290ae40"
      },
      "source": [
        "Parse the html data using `beautiful_soup`.\n"
      ]
    },
    {
      "cell_type": "code",
      "metadata": {
        "id": "f6425e57-b5b0-4e0d-aac0-ff64d3bf7810"
      },
      "outputs": [],
      "source": [
        "from bs4 import BeautifulSoup\n",
        "table_bs = BeautifulSoup(response.text, \"html.parser\")"
      ],
      "execution_count": 11
    },
    {
      "cell_type": "markdown",
      "metadata": {
        "id": "40546cbb-fec6-4d2a-8a23-6cc8e19dcaa6"
      },
      "source": [
        "Using `BeautifulSoup` or the `read_html` function extract the table with `Tesla Revenue` and store it into a dataframe named `tesla_revenue`. The dataframe should have columns `Date` and `Revenue`.\n"
      ]
    },
    {
      "cell_type": "markdown",
      "metadata": {
        "id": "e7728731-5ee9-4336-9f11-11d188686d06"
      },
      "source": [
        "<details><summary>Click here if you need help locating the table</summary>\n",
        "\n",
        "```\n",
        "    \n",
        "Below is the code to isolate the table, you will now need to loop through the rows and columns like in the previous lab\n",
        "    \n",
        "soup.find_all(\"tbody\")[1]\n",
        "    \n",
        "If you want to use the read_html function the table is located at index 1\n",
        "\n",
        "\n",
        "```\n",
        "\n",
        "</details>\n"
      ]
    },
    {
      "cell_type": "code",
      "metadata": {
        "id": "ad381675-f398-4904-8577-5860ebca1458"
      },
      "outputs": [],
      "source": [
        "table = table_bs.find('table')\n",
        "vals =[]\n",
        "for row in table.find_all('tr'):\n",
        "  cols = row.find_all('td')\n",
        "  cols\n",
        "  if(cols!=[]):\n",
        "    date = cols[0].text.strip()\n",
        "    rev1 = cols[1].text.strip()\n",
        "    rev2 = rev1.replace(\"$\",\"\")\n",
        "    rev= rev2.replace(\",\",\"\")\n",
        "    vals.append([date,rev])\n",
        "\n",
        "tesla_revenue = pd.DataFrame(vals, columns=[\"Date\",\"Revenue\"])\n"
      ],
      "execution_count": 12
    },
    {
      "cell_type": "markdown",
      "metadata": {
        "id": "33ada0b4-51a9-4c64-851e-c826919746ef"
      },
      "source": [
        "Execute the following line to remove the comma and dollar sign from the `Revenue` column.\n"
      ]
    },
    {
      "cell_type": "markdown",
      "metadata": {
        "id": "9cb48a5b-e770-4fd2-9880-e38a6d9ce8be"
      },
      "source": [
        "Execute the following lines to remove an null or empty strings in the Revenue column.\n"
      ]
    },
    {
      "cell_type": "code",
      "metadata": {
        "id": "030bfb14-39a9-4d6a-badc-c7e7c8faf373"
      },
      "outputs": [],
      "source": [
        "tesla_revenue.dropna(inplace=True)\n",
        "\n",
        "#tesla_revenue = tesla_revenue[tesla_revenue['Revenue'] != \"\"]"
      ],
      "execution_count": 13
    },
    {
      "cell_type": "markdown",
      "metadata": {
        "id": "5c0a77e2-ed09-4556-8eee-6bef58b8a7bc"
      },
      "source": [
        "Display the last 5 row of the `tesla_revenue` dataframe using the `tail` function. Take a screenshot of the results.\n"
      ]
    },
    {
      "cell_type": "code",
      "metadata": {
        "id": "b3737a56-089d-4526-89c2-948d58dc2ef8",
        "colab": {
          "base_uri": "https://localhost:8080/",
          "height": 206
        },
        "outputId": "ee8eed32-3ec5-4b24-9634-d4add4e03139"
      },
      "outputs": [
        {
          "output_type": "execute_result",
          "data": {
            "text/plain": [
              "    Date Revenue\n",
              "8   2013    2013\n",
              "9   2012     413\n",
              "10  2011     204\n",
              "11  2010     117\n",
              "12  2009     112"
            ],
            "text/html": [
              "\n",
              "  <div id=\"df-b21019e2-b92b-41b6-8270-57337df21325\" class=\"colab-df-container\">\n",
              "    <div>\n",
              "<style scoped>\n",
              "    .dataframe tbody tr th:only-of-type {\n",
              "        vertical-align: middle;\n",
              "    }\n",
              "\n",
              "    .dataframe tbody tr th {\n",
              "        vertical-align: top;\n",
              "    }\n",
              "\n",
              "    .dataframe thead th {\n",
              "        text-align: right;\n",
              "    }\n",
              "</style>\n",
              "<table border=\"1\" class=\"dataframe\">\n",
              "  <thead>\n",
              "    <tr style=\"text-align: right;\">\n",
              "      <th></th>\n",
              "      <th>Date</th>\n",
              "      <th>Revenue</th>\n",
              "    </tr>\n",
              "  </thead>\n",
              "  <tbody>\n",
              "    <tr>\n",
              "      <th>8</th>\n",
              "      <td>2013</td>\n",
              "      <td>2013</td>\n",
              "    </tr>\n",
              "    <tr>\n",
              "      <th>9</th>\n",
              "      <td>2012</td>\n",
              "      <td>413</td>\n",
              "    </tr>\n",
              "    <tr>\n",
              "      <th>10</th>\n",
              "      <td>2011</td>\n",
              "      <td>204</td>\n",
              "    </tr>\n",
              "    <tr>\n",
              "      <th>11</th>\n",
              "      <td>2010</td>\n",
              "      <td>117</td>\n",
              "    </tr>\n",
              "    <tr>\n",
              "      <th>12</th>\n",
              "      <td>2009</td>\n",
              "      <td>112</td>\n",
              "    </tr>\n",
              "  </tbody>\n",
              "</table>\n",
              "</div>\n",
              "    <div class=\"colab-df-buttons\">\n",
              "\n",
              "  <div class=\"colab-df-container\">\n",
              "    <button class=\"colab-df-convert\" onclick=\"convertToInteractive('df-b21019e2-b92b-41b6-8270-57337df21325')\"\n",
              "            title=\"Convert this dataframe to an interactive table.\"\n",
              "            style=\"display:none;\">\n",
              "\n",
              "  <svg xmlns=\"http://www.w3.org/2000/svg\" height=\"24px\" viewBox=\"0 -960 960 960\">\n",
              "    <path d=\"M120-120v-720h720v720H120Zm60-500h600v-160H180v160Zm220 220h160v-160H400v160Zm0 220h160v-160H400v160ZM180-400h160v-160H180v160Zm440 0h160v-160H620v160ZM180-180h160v-160H180v160Zm440 0h160v-160H620v160Z\"/>\n",
              "  </svg>\n",
              "    </button>\n",
              "\n",
              "  <style>\n",
              "    .colab-df-container {\n",
              "      display:flex;\n",
              "      gap: 12px;\n",
              "    }\n",
              "\n",
              "    .colab-df-convert {\n",
              "      background-color: #E8F0FE;\n",
              "      border: none;\n",
              "      border-radius: 50%;\n",
              "      cursor: pointer;\n",
              "      display: none;\n",
              "      fill: #1967D2;\n",
              "      height: 32px;\n",
              "      padding: 0 0 0 0;\n",
              "      width: 32px;\n",
              "    }\n",
              "\n",
              "    .colab-df-convert:hover {\n",
              "      background-color: #E2EBFA;\n",
              "      box-shadow: 0px 1px 2px rgba(60, 64, 67, 0.3), 0px 1px 3px 1px rgba(60, 64, 67, 0.15);\n",
              "      fill: #174EA6;\n",
              "    }\n",
              "\n",
              "    .colab-df-buttons div {\n",
              "      margin-bottom: 4px;\n",
              "    }\n",
              "\n",
              "    [theme=dark] .colab-df-convert {\n",
              "      background-color: #3B4455;\n",
              "      fill: #D2E3FC;\n",
              "    }\n",
              "\n",
              "    [theme=dark] .colab-df-convert:hover {\n",
              "      background-color: #434B5C;\n",
              "      box-shadow: 0px 1px 3px 1px rgba(0, 0, 0, 0.15);\n",
              "      filter: drop-shadow(0px 1px 2px rgba(0, 0, 0, 0.3));\n",
              "      fill: #FFFFFF;\n",
              "    }\n",
              "  </style>\n",
              "\n",
              "    <script>\n",
              "      const buttonEl =\n",
              "        document.querySelector('#df-b21019e2-b92b-41b6-8270-57337df21325 button.colab-df-convert');\n",
              "      buttonEl.style.display =\n",
              "        google.colab.kernel.accessAllowed ? 'block' : 'none';\n",
              "\n",
              "      async function convertToInteractive(key) {\n",
              "        const element = document.querySelector('#df-b21019e2-b92b-41b6-8270-57337df21325');\n",
              "        const dataTable =\n",
              "          await google.colab.kernel.invokeFunction('convertToInteractive',\n",
              "                                                    [key], {});\n",
              "        if (!dataTable) return;\n",
              "\n",
              "        const docLinkHtml = 'Like what you see? Visit the ' +\n",
              "          '<a target=\"_blank\" href=https://colab.research.google.com/notebooks/data_table.ipynb>data table notebook</a>'\n",
              "          + ' to learn more about interactive tables.';\n",
              "        element.innerHTML = '';\n",
              "        dataTable['output_type'] = 'display_data';\n",
              "        await google.colab.output.renderOutput(dataTable, element);\n",
              "        const docLink = document.createElement('div');\n",
              "        docLink.innerHTML = docLinkHtml;\n",
              "        element.appendChild(docLink);\n",
              "      }\n",
              "    </script>\n",
              "  </div>\n",
              "\n",
              "\n",
              "<div id=\"df-78823def-8b92-403e-b8b0-b337984dc4f1\">\n",
              "  <button class=\"colab-df-quickchart\" onclick=\"quickchart('df-78823def-8b92-403e-b8b0-b337984dc4f1')\"\n",
              "            title=\"Suggest charts.\"\n",
              "            style=\"display:none;\">\n",
              "\n",
              "<svg xmlns=\"http://www.w3.org/2000/svg\" height=\"24px\"viewBox=\"0 0 24 24\"\n",
              "     width=\"24px\">\n",
              "    <g>\n",
              "        <path d=\"M19 3H5c-1.1 0-2 .9-2 2v14c0 1.1.9 2 2 2h14c1.1 0 2-.9 2-2V5c0-1.1-.9-2-2-2zM9 17H7v-7h2v7zm4 0h-2V7h2v10zm4 0h-2v-4h2v4z\"/>\n",
              "    </g>\n",
              "</svg>\n",
              "  </button>\n",
              "\n",
              "<style>\n",
              "  .colab-df-quickchart {\n",
              "      --bg-color: #E8F0FE;\n",
              "      --fill-color: #1967D2;\n",
              "      --hover-bg-color: #E2EBFA;\n",
              "      --hover-fill-color: #174EA6;\n",
              "      --disabled-fill-color: #AAA;\n",
              "      --disabled-bg-color: #DDD;\n",
              "  }\n",
              "\n",
              "  [theme=dark] .colab-df-quickchart {\n",
              "      --bg-color: #3B4455;\n",
              "      --fill-color: #D2E3FC;\n",
              "      --hover-bg-color: #434B5C;\n",
              "      --hover-fill-color: #FFFFFF;\n",
              "      --disabled-bg-color: #3B4455;\n",
              "      --disabled-fill-color: #666;\n",
              "  }\n",
              "\n",
              "  .colab-df-quickchart {\n",
              "    background-color: var(--bg-color);\n",
              "    border: none;\n",
              "    border-radius: 50%;\n",
              "    cursor: pointer;\n",
              "    display: none;\n",
              "    fill: var(--fill-color);\n",
              "    height: 32px;\n",
              "    padding: 0;\n",
              "    width: 32px;\n",
              "  }\n",
              "\n",
              "  .colab-df-quickchart:hover {\n",
              "    background-color: var(--hover-bg-color);\n",
              "    box-shadow: 0 1px 2px rgba(60, 64, 67, 0.3), 0 1px 3px 1px rgba(60, 64, 67, 0.15);\n",
              "    fill: var(--button-hover-fill-color);\n",
              "  }\n",
              "\n",
              "  .colab-df-quickchart-complete:disabled,\n",
              "  .colab-df-quickchart-complete:disabled:hover {\n",
              "    background-color: var(--disabled-bg-color);\n",
              "    fill: var(--disabled-fill-color);\n",
              "    box-shadow: none;\n",
              "  }\n",
              "\n",
              "  .colab-df-spinner {\n",
              "    border: 2px solid var(--fill-color);\n",
              "    border-color: transparent;\n",
              "    border-bottom-color: var(--fill-color);\n",
              "    animation:\n",
              "      spin 1s steps(1) infinite;\n",
              "  }\n",
              "\n",
              "  @keyframes spin {\n",
              "    0% {\n",
              "      border-color: transparent;\n",
              "      border-bottom-color: var(--fill-color);\n",
              "      border-left-color: var(--fill-color);\n",
              "    }\n",
              "    20% {\n",
              "      border-color: transparent;\n",
              "      border-left-color: var(--fill-color);\n",
              "      border-top-color: var(--fill-color);\n",
              "    }\n",
              "    30% {\n",
              "      border-color: transparent;\n",
              "      border-left-color: var(--fill-color);\n",
              "      border-top-color: var(--fill-color);\n",
              "      border-right-color: var(--fill-color);\n",
              "    }\n",
              "    40% {\n",
              "      border-color: transparent;\n",
              "      border-right-color: var(--fill-color);\n",
              "      border-top-color: var(--fill-color);\n",
              "    }\n",
              "    60% {\n",
              "      border-color: transparent;\n",
              "      border-right-color: var(--fill-color);\n",
              "    }\n",
              "    80% {\n",
              "      border-color: transparent;\n",
              "      border-right-color: var(--fill-color);\n",
              "      border-bottom-color: var(--fill-color);\n",
              "    }\n",
              "    90% {\n",
              "      border-color: transparent;\n",
              "      border-bottom-color: var(--fill-color);\n",
              "    }\n",
              "  }\n",
              "</style>\n",
              "\n",
              "  <script>\n",
              "    async function quickchart(key) {\n",
              "      const quickchartButtonEl =\n",
              "        document.querySelector('#' + key + ' button');\n",
              "      quickchartButtonEl.disabled = true;  // To prevent multiple clicks.\n",
              "      quickchartButtonEl.classList.add('colab-df-spinner');\n",
              "      try {\n",
              "        const charts = await google.colab.kernel.invokeFunction(\n",
              "            'suggestCharts', [key], {});\n",
              "      } catch (error) {\n",
              "        console.error('Error during call to suggestCharts:', error);\n",
              "      }\n",
              "      quickchartButtonEl.classList.remove('colab-df-spinner');\n",
              "      quickchartButtonEl.classList.add('colab-df-quickchart-complete');\n",
              "    }\n",
              "    (() => {\n",
              "      let quickchartButtonEl =\n",
              "        document.querySelector('#df-78823def-8b92-403e-b8b0-b337984dc4f1 button');\n",
              "      quickchartButtonEl.style.display =\n",
              "        google.colab.kernel.accessAllowed ? 'block' : 'none';\n",
              "    })();\n",
              "  </script>\n",
              "</div>\n",
              "    </div>\n",
              "  </div>\n"
            ]
          },
          "metadata": {},
          "execution_count": 14
        }
      ],
      "source": [
        "tesla_revenue.tail(5)"
      ],
      "execution_count": 14
    },
    {
      "cell_type": "markdown",
      "metadata": {
        "id": "9c8acc49-d060-4cd5-a12f-4ed72707ffd3"
      },
      "source": [
        "## Question 3: Use yfinance to Extract Stock Data\n"
      ]
    },
    {
      "cell_type": "markdown",
      "metadata": {
        "id": "99301de0-70d4-46f1-a571-a1b49c7bc1bb"
      },
      "source": [
        "Using the `Ticker` function enter the ticker symbol of the stock we want to extract data on to create a ticker object. The stock is GameStop and its ticker symbol is `GME`.\n"
      ]
    },
    {
      "cell_type": "code",
      "metadata": {
        "id": "621cf9dd-9491-4a97-b795-d305c7862b3c"
      },
      "outputs": [],
      "source": [
        "gs = yf.Ticker(\"GME\")"
      ],
      "execution_count": 15
    },
    {
      "cell_type": "markdown",
      "metadata": {
        "id": "ead658b9-b109-48a7-8dab-1cc03b9d86dd"
      },
      "source": [
        "Using the ticker object and the function `history` extract stock information and save it in a dataframe named `gme_data`. Set the `period` parameter to `max` so we get information for the maximum amount of time.\n"
      ]
    },
    {
      "cell_type": "code",
      "metadata": {
        "id": "25e2c60d-fc5d-4699-b7aa-dbedeb6dab17"
      },
      "outputs": [],
      "source": [
        "gme_data = gs.history(period =\"max\")"
      ],
      "execution_count": 16
    },
    {
      "cell_type": "markdown",
      "metadata": {
        "id": "30f216c1-91a1-4ad9-a5d4-a39c01b3e11c"
      },
      "source": [
        "**Reset the index** using the `reset_index(inplace=True)` function on the gme_data DataFrame and display the first five rows of the `gme_data` dataframe using the `head` function. Take a screenshot of the results and code from the beginning of Question 3 to the results below.\n"
      ]
    },
    {
      "cell_type": "code",
      "metadata": {
        "id": "a0c0831f-5157-4052-bda0-3d731ab82bf1",
        "colab": {
          "base_uri": "https://localhost:8080/",
          "height": 206
        },
        "outputId": "1152e6e3-857d-49a8-e04c-e09c51f71235"
      },
      "outputs": [
        {
          "output_type": "execute_result",
          "data": {
            "text/plain": [
              "                       Date      Open      High       Low     Close    Volume  \\\n",
              "0 2002-02-13 00:00:00-05:00  1.620129  1.693350  1.603296  1.691667  76216000   \n",
              "1 2002-02-14 00:00:00-05:00  1.712707  1.716074  1.670626  1.683250  11021600   \n",
              "2 2002-02-15 00:00:00-05:00  1.683250  1.687458  1.658002  1.674834   8389600   \n",
              "3 2002-02-19 00:00:00-05:00  1.666417  1.666417  1.578047  1.607504   7410400   \n",
              "4 2002-02-20 00:00:00-05:00  1.615920  1.662209  1.603296  1.662209   6892800   \n",
              "\n",
              "   Dividends  Stock Splits  \n",
              "0        0.0           0.0  \n",
              "1        0.0           0.0  \n",
              "2        0.0           0.0  \n",
              "3        0.0           0.0  \n",
              "4        0.0           0.0  "
            ],
            "text/html": [
              "\n",
              "  <div id=\"df-00aabb4d-a55a-4a1b-a4dd-16adc3b07389\" class=\"colab-df-container\">\n",
              "    <div>\n",
              "<style scoped>\n",
              "    .dataframe tbody tr th:only-of-type {\n",
              "        vertical-align: middle;\n",
              "    }\n",
              "\n",
              "    .dataframe tbody tr th {\n",
              "        vertical-align: top;\n",
              "    }\n",
              "\n",
              "    .dataframe thead th {\n",
              "        text-align: right;\n",
              "    }\n",
              "</style>\n",
              "<table border=\"1\" class=\"dataframe\">\n",
              "  <thead>\n",
              "    <tr style=\"text-align: right;\">\n",
              "      <th></th>\n",
              "      <th>Date</th>\n",
              "      <th>Open</th>\n",
              "      <th>High</th>\n",
              "      <th>Low</th>\n",
              "      <th>Close</th>\n",
              "      <th>Volume</th>\n",
              "      <th>Dividends</th>\n",
              "      <th>Stock Splits</th>\n",
              "    </tr>\n",
              "  </thead>\n",
              "  <tbody>\n",
              "    <tr>\n",
              "      <th>0</th>\n",
              "      <td>2002-02-13 00:00:00-05:00</td>\n",
              "      <td>1.620129</td>\n",
              "      <td>1.693350</td>\n",
              "      <td>1.603296</td>\n",
              "      <td>1.691667</td>\n",
              "      <td>76216000</td>\n",
              "      <td>0.0</td>\n",
              "      <td>0.0</td>\n",
              "    </tr>\n",
              "    <tr>\n",
              "      <th>1</th>\n",
              "      <td>2002-02-14 00:00:00-05:00</td>\n",
              "      <td>1.712707</td>\n",
              "      <td>1.716074</td>\n",
              "      <td>1.670626</td>\n",
              "      <td>1.683250</td>\n",
              "      <td>11021600</td>\n",
              "      <td>0.0</td>\n",
              "      <td>0.0</td>\n",
              "    </tr>\n",
              "    <tr>\n",
              "      <th>2</th>\n",
              "      <td>2002-02-15 00:00:00-05:00</td>\n",
              "      <td>1.683250</td>\n",
              "      <td>1.687458</td>\n",
              "      <td>1.658002</td>\n",
              "      <td>1.674834</td>\n",
              "      <td>8389600</td>\n",
              "      <td>0.0</td>\n",
              "      <td>0.0</td>\n",
              "    </tr>\n",
              "    <tr>\n",
              "      <th>3</th>\n",
              "      <td>2002-02-19 00:00:00-05:00</td>\n",
              "      <td>1.666417</td>\n",
              "      <td>1.666417</td>\n",
              "      <td>1.578047</td>\n",
              "      <td>1.607504</td>\n",
              "      <td>7410400</td>\n",
              "      <td>0.0</td>\n",
              "      <td>0.0</td>\n",
              "    </tr>\n",
              "    <tr>\n",
              "      <th>4</th>\n",
              "      <td>2002-02-20 00:00:00-05:00</td>\n",
              "      <td>1.615920</td>\n",
              "      <td>1.662209</td>\n",
              "      <td>1.603296</td>\n",
              "      <td>1.662209</td>\n",
              "      <td>6892800</td>\n",
              "      <td>0.0</td>\n",
              "      <td>0.0</td>\n",
              "    </tr>\n",
              "  </tbody>\n",
              "</table>\n",
              "</div>\n",
              "    <div class=\"colab-df-buttons\">\n",
              "\n",
              "  <div class=\"colab-df-container\">\n",
              "    <button class=\"colab-df-convert\" onclick=\"convertToInteractive('df-00aabb4d-a55a-4a1b-a4dd-16adc3b07389')\"\n",
              "            title=\"Convert this dataframe to an interactive table.\"\n",
              "            style=\"display:none;\">\n",
              "\n",
              "  <svg xmlns=\"http://www.w3.org/2000/svg\" height=\"24px\" viewBox=\"0 -960 960 960\">\n",
              "    <path d=\"M120-120v-720h720v720H120Zm60-500h600v-160H180v160Zm220 220h160v-160H400v160Zm0 220h160v-160H400v160ZM180-400h160v-160H180v160Zm440 0h160v-160H620v160ZM180-180h160v-160H180v160Zm440 0h160v-160H620v160Z\"/>\n",
              "  </svg>\n",
              "    </button>\n",
              "\n",
              "  <style>\n",
              "    .colab-df-container {\n",
              "      display:flex;\n",
              "      gap: 12px;\n",
              "    }\n",
              "\n",
              "    .colab-df-convert {\n",
              "      background-color: #E8F0FE;\n",
              "      border: none;\n",
              "      border-radius: 50%;\n",
              "      cursor: pointer;\n",
              "      display: none;\n",
              "      fill: #1967D2;\n",
              "      height: 32px;\n",
              "      padding: 0 0 0 0;\n",
              "      width: 32px;\n",
              "    }\n",
              "\n",
              "    .colab-df-convert:hover {\n",
              "      background-color: #E2EBFA;\n",
              "      box-shadow: 0px 1px 2px rgba(60, 64, 67, 0.3), 0px 1px 3px 1px rgba(60, 64, 67, 0.15);\n",
              "      fill: #174EA6;\n",
              "    }\n",
              "\n",
              "    .colab-df-buttons div {\n",
              "      margin-bottom: 4px;\n",
              "    }\n",
              "\n",
              "    [theme=dark] .colab-df-convert {\n",
              "      background-color: #3B4455;\n",
              "      fill: #D2E3FC;\n",
              "    }\n",
              "\n",
              "    [theme=dark] .colab-df-convert:hover {\n",
              "      background-color: #434B5C;\n",
              "      box-shadow: 0px 1px 3px 1px rgba(0, 0, 0, 0.15);\n",
              "      filter: drop-shadow(0px 1px 2px rgba(0, 0, 0, 0.3));\n",
              "      fill: #FFFFFF;\n",
              "    }\n",
              "  </style>\n",
              "\n",
              "    <script>\n",
              "      const buttonEl =\n",
              "        document.querySelector('#df-00aabb4d-a55a-4a1b-a4dd-16adc3b07389 button.colab-df-convert');\n",
              "      buttonEl.style.display =\n",
              "        google.colab.kernel.accessAllowed ? 'block' : 'none';\n",
              "\n",
              "      async function convertToInteractive(key) {\n",
              "        const element = document.querySelector('#df-00aabb4d-a55a-4a1b-a4dd-16adc3b07389');\n",
              "        const dataTable =\n",
              "          await google.colab.kernel.invokeFunction('convertToInteractive',\n",
              "                                                    [key], {});\n",
              "        if (!dataTable) return;\n",
              "\n",
              "        const docLinkHtml = 'Like what you see? Visit the ' +\n",
              "          '<a target=\"_blank\" href=https://colab.research.google.com/notebooks/data_table.ipynb>data table notebook</a>'\n",
              "          + ' to learn more about interactive tables.';\n",
              "        element.innerHTML = '';\n",
              "        dataTable['output_type'] = 'display_data';\n",
              "        await google.colab.output.renderOutput(dataTable, element);\n",
              "        const docLink = document.createElement('div');\n",
              "        docLink.innerHTML = docLinkHtml;\n",
              "        element.appendChild(docLink);\n",
              "      }\n",
              "    </script>\n",
              "  </div>\n",
              "\n",
              "\n",
              "<div id=\"df-e80f0d2e-668e-4740-a236-1bc59eeda130\">\n",
              "  <button class=\"colab-df-quickchart\" onclick=\"quickchart('df-e80f0d2e-668e-4740-a236-1bc59eeda130')\"\n",
              "            title=\"Suggest charts.\"\n",
              "            style=\"display:none;\">\n",
              "\n",
              "<svg xmlns=\"http://www.w3.org/2000/svg\" height=\"24px\"viewBox=\"0 0 24 24\"\n",
              "     width=\"24px\">\n",
              "    <g>\n",
              "        <path d=\"M19 3H5c-1.1 0-2 .9-2 2v14c0 1.1.9 2 2 2h14c1.1 0 2-.9 2-2V5c0-1.1-.9-2-2-2zM9 17H7v-7h2v7zm4 0h-2V7h2v10zm4 0h-2v-4h2v4z\"/>\n",
              "    </g>\n",
              "</svg>\n",
              "  </button>\n",
              "\n",
              "<style>\n",
              "  .colab-df-quickchart {\n",
              "      --bg-color: #E8F0FE;\n",
              "      --fill-color: #1967D2;\n",
              "      --hover-bg-color: #E2EBFA;\n",
              "      --hover-fill-color: #174EA6;\n",
              "      --disabled-fill-color: #AAA;\n",
              "      --disabled-bg-color: #DDD;\n",
              "  }\n",
              "\n",
              "  [theme=dark] .colab-df-quickchart {\n",
              "      --bg-color: #3B4455;\n",
              "      --fill-color: #D2E3FC;\n",
              "      --hover-bg-color: #434B5C;\n",
              "      --hover-fill-color: #FFFFFF;\n",
              "      --disabled-bg-color: #3B4455;\n",
              "      --disabled-fill-color: #666;\n",
              "  }\n",
              "\n",
              "  .colab-df-quickchart {\n",
              "    background-color: var(--bg-color);\n",
              "    border: none;\n",
              "    border-radius: 50%;\n",
              "    cursor: pointer;\n",
              "    display: none;\n",
              "    fill: var(--fill-color);\n",
              "    height: 32px;\n",
              "    padding: 0;\n",
              "    width: 32px;\n",
              "  }\n",
              "\n",
              "  .colab-df-quickchart:hover {\n",
              "    background-color: var(--hover-bg-color);\n",
              "    box-shadow: 0 1px 2px rgba(60, 64, 67, 0.3), 0 1px 3px 1px rgba(60, 64, 67, 0.15);\n",
              "    fill: var(--button-hover-fill-color);\n",
              "  }\n",
              "\n",
              "  .colab-df-quickchart-complete:disabled,\n",
              "  .colab-df-quickchart-complete:disabled:hover {\n",
              "    background-color: var(--disabled-bg-color);\n",
              "    fill: var(--disabled-fill-color);\n",
              "    box-shadow: none;\n",
              "  }\n",
              "\n",
              "  .colab-df-spinner {\n",
              "    border: 2px solid var(--fill-color);\n",
              "    border-color: transparent;\n",
              "    border-bottom-color: var(--fill-color);\n",
              "    animation:\n",
              "      spin 1s steps(1) infinite;\n",
              "  }\n",
              "\n",
              "  @keyframes spin {\n",
              "    0% {\n",
              "      border-color: transparent;\n",
              "      border-bottom-color: var(--fill-color);\n",
              "      border-left-color: var(--fill-color);\n",
              "    }\n",
              "    20% {\n",
              "      border-color: transparent;\n",
              "      border-left-color: var(--fill-color);\n",
              "      border-top-color: var(--fill-color);\n",
              "    }\n",
              "    30% {\n",
              "      border-color: transparent;\n",
              "      border-left-color: var(--fill-color);\n",
              "      border-top-color: var(--fill-color);\n",
              "      border-right-color: var(--fill-color);\n",
              "    }\n",
              "    40% {\n",
              "      border-color: transparent;\n",
              "      border-right-color: var(--fill-color);\n",
              "      border-top-color: var(--fill-color);\n",
              "    }\n",
              "    60% {\n",
              "      border-color: transparent;\n",
              "      border-right-color: var(--fill-color);\n",
              "    }\n",
              "    80% {\n",
              "      border-color: transparent;\n",
              "      border-right-color: var(--fill-color);\n",
              "      border-bottom-color: var(--fill-color);\n",
              "    }\n",
              "    90% {\n",
              "      border-color: transparent;\n",
              "      border-bottom-color: var(--fill-color);\n",
              "    }\n",
              "  }\n",
              "</style>\n",
              "\n",
              "  <script>\n",
              "    async function quickchart(key) {\n",
              "      const quickchartButtonEl =\n",
              "        document.querySelector('#' + key + ' button');\n",
              "      quickchartButtonEl.disabled = true;  // To prevent multiple clicks.\n",
              "      quickchartButtonEl.classList.add('colab-df-spinner');\n",
              "      try {\n",
              "        const charts = await google.colab.kernel.invokeFunction(\n",
              "            'suggestCharts', [key], {});\n",
              "      } catch (error) {\n",
              "        console.error('Error during call to suggestCharts:', error);\n",
              "      }\n",
              "      quickchartButtonEl.classList.remove('colab-df-spinner');\n",
              "      quickchartButtonEl.classList.add('colab-df-quickchart-complete');\n",
              "    }\n",
              "    (() => {\n",
              "      let quickchartButtonEl =\n",
              "        document.querySelector('#df-e80f0d2e-668e-4740-a236-1bc59eeda130 button');\n",
              "      quickchartButtonEl.style.display =\n",
              "        google.colab.kernel.accessAllowed ? 'block' : 'none';\n",
              "    })();\n",
              "  </script>\n",
              "</div>\n",
              "    </div>\n",
              "  </div>\n"
            ]
          },
          "metadata": {},
          "execution_count": 17
        }
      ],
      "source": [
        "gme_data.reset_index(inplace=True)\n",
        "gme_data.head(5)"
      ],
      "execution_count": 17
    },
    {
      "cell_type": "markdown",
      "metadata": {
        "id": "cb1913be-cfe9-43bf-8e0b-bc44911784d0"
      },
      "source": [
        "## Question 4: Use Webscraping to Extract GME Revenue Data\n"
      ]
    },
    {
      "cell_type": "markdown",
      "metadata": {
        "id": "619739fd-11f7-47fa-83f8-1a6652380329"
      },
      "source": [
        "Use the `requests` library to download the webpage https://cf-courses-data.s3.us.cloud-object-storage.appdomain.cloud/IBMDeveloperSkillsNetwork-PY0220EN-SkillsNetwork/labs/project/stock.html. Save the text of the response as a variable named `html_data`.\n"
      ]
    },
    {
      "cell_type": "code",
      "metadata": {
        "id": "71bfdefd-1cab-4b6e-afce-ee674babb21b"
      },
      "outputs": [],
      "source": [
        "html_data = requests.get(\"https://cf-courses-data.s3.us.cloud-object-storage.appdomain.cloud/IBMDeveloperSkillsNetwork-PY0220EN-SkillsNetwork/labs/project/stock.html\")"
      ],
      "execution_count": 18
    },
    {
      "cell_type": "markdown",
      "metadata": {
        "id": "bc3a16c5-9ea4-41fc-ab41-0cb8b063c08c"
      },
      "source": [
        "Parse the html data using `beautiful_soup`.\n"
      ]
    },
    {
      "cell_type": "code",
      "metadata": {
        "id": "70cc663d-ad81-430e-891a-bce16c63174e"
      },
      "outputs": [],
      "source": [
        "soup = BeautifulSoup(html_data.text, \"html.parser\")"
      ],
      "execution_count": 19
    },
    {
      "cell_type": "markdown",
      "metadata": {
        "id": "328a2fcc-7874-4355-b8b7-c3719b82d362"
      },
      "source": [
        "Using `BeautifulSoup` or the `read_html` function extract the table with `GameStop Revenue` and store it into a dataframe named `gme_revenue`. The dataframe should have columns `Date` and `Revenue`. Make sure the comma and dollar sign is removed from the `Revenue` column using a method similar to what you did in Question 2.\n"
      ]
    },
    {
      "cell_type": "code",
      "metadata": {
        "id": "d146145a-95e3-46c9-a4ba-d603b46e1601",
        "colab": {
          "base_uri": "https://localhost:8080/"
        },
        "outputId": "2242d9f3-f85a-4efc-8274-97f19ac4dbba"
      },
      "outputs": [
        {
          "output_type": "stream",
          "name": "stdout",
          "text": [
            "          Date Revenue\n",
            "73  2006-01-31    1667\n",
            "74  2005-10-31     534\n",
            "75  2005-07-31     416\n",
            "76  2005-04-30     475\n",
            "77  2005-01-31     709\n"
          ]
        }
      ],
      "source": [
        "table = soup.find_all('table')\n",
        "\n",
        "vals =[]\n",
        "for row in table:\n",
        "  if(\"GameStop\" in str(row)):\n",
        "    cols = row.find_all('tr')\n",
        "\n",
        "    if(cols!=[]):\n",
        "      tds = row.find_all('td')\n",
        "\n",
        "      for td,td2 in zip(tds,tds[1::]):\n",
        "        year = td.text.strip()\n",
        "        rev = td2.text.strip()\n",
        "        if( \"$\" in rev):\n",
        "            vals.append([td.text.strip(), td2.text.strip().replace(\"$\",\"\").replace(\",\",\"\")])\n",
        "\n",
        "gme_revenue = pd.DataFrame(vals[:78], columns=[\"Date\",\"Revenue\"])\n",
        "print(gme_revenue.tail(5))\n"
      ],
      "execution_count": 24
    },
    {
      "cell_type": "markdown",
      "metadata": {
        "id": "2d08fd77-667b-453f-8409-c20882143f4d"
      },
      "source": [
        "<details><summary>Click here if you need help locating the table</summary>\n",
        "\n",
        "```\n",
        "    \n",
        "Below is the code to isolate the table, you will now need to loop through the rows and columns like in the previous lab\n",
        "    \n",
        "soup.find_all(\"tbody\")[1]\n",
        "    \n",
        "If you want to use the read_html function the table is located at index 1\n",
        "\n",
        "\n",
        "```\n",
        "\n",
        "</details>\n"
      ]
    },
    {
      "cell_type": "markdown",
      "metadata": {
        "id": "f4f098d8-0219-4d6d-9f9f-eda779596267"
      },
      "source": [
        "Display the last five rows of the `gme_revenue` dataframe using the `tail` function. Take a screenshot of the results.\n"
      ]
    },
    {
      "cell_type": "code",
      "metadata": {
        "id": "e62e8496-5400-4b60-8aa3-fa1acea52fbc",
        "colab": {
          "base_uri": "https://localhost:8080/"
        },
        "outputId": "dc31db52-6b71-4681-db14-d5c56c21dd3a"
      },
      "outputs": [
        {
          "output_type": "stream",
          "name": "stdout",
          "text": [
            "          Date Revenue\n",
            "73  2006-01-31    1667\n",
            "74  2005-10-31     534\n",
            "75  2005-07-31     416\n",
            "76  2005-04-30     475\n",
            "77  2005-01-31     709\n"
          ]
        }
      ],
      "source": [
        "df3 = gme_revenue.tail\n",
        "print(df3(5))\n",
        "\n"
      ],
      "execution_count": 21
    },
    {
      "cell_type": "markdown",
      "metadata": {
        "id": "ee0004c7-8a5f-4c9a-97d7-337210c365e7"
      },
      "source": [
        "## Question 5: Plot Tesla Stock Graph\n"
      ]
    },
    {
      "cell_type": "markdown",
      "metadata": {
        "id": "0734aea7-35fc-4d27-9152-0f0d7dee256a"
      },
      "source": [
        "Use the `make_graph` function to graph the Tesla Stock Data, also provide a title for the graph. The structure to call the `make_graph` function is `make_graph(tesla_data, tesla_revenue, 'Tesla')`. Note the graph will only show data upto June 2021.\n"
      ]
    },
    {
      "cell_type": "code",
      "metadata": {
        "id": "ea5a2730-45ee-4370-8acc-3920433c6b75"
      },
      "outputs": [],
      "source": [],
      "execution_count": 21
    },
    {
      "cell_type": "markdown",
      "metadata": {
        "id": "02c3e4af-0dbf-40ba-a0d0-3b2f82395294"
      },
      "source": [
        "## Question 6: Plot GameStop Stock Graph\n"
      ]
    },
    {
      "cell_type": "markdown",
      "metadata": {
        "id": "b6be1c62-0d1b-4a1f-864e-7371c5b68f4f"
      },
      "source": [
        "Use the `make_graph` function to graph the GameStop Stock Data, also provide a title for the graph. The structure to call the `make_graph` function is `make_graph(gme_data, gme_revenue, 'GameStop')`. Note the graph will only show data upto June 2021.\n"
      ]
    },
    {
      "cell_type": "code",
      "source": [
        "pip install nbformat==5.2.0"
      ],
      "metadata": {
        "colab": {
          "base_uri": "https://localhost:8080/"
        },
        "id": "lJJiQClsuLKc",
        "outputId": "ac8ff09a-2795-4766-b3ee-290c661d1e51"
      },
      "execution_count": 22,
      "outputs": [
        {
          "output_type": "stream",
          "name": "stdout",
          "text": [
            "Collecting nbformat==5.2.0\n",
            "  Using cached nbformat-5.2.0-py3-none-any.whl (74 kB)\n",
            "Requirement already satisfied: traitlets>=4.1 in /usr/local/lib/python3.10/dist-packages (from nbformat==5.2.0) (5.7.1)\n",
            "Requirement already satisfied: jsonschema!=2.5.0,>=2.4 in /usr/local/lib/python3.10/dist-packages (from nbformat==5.2.0) (4.19.1)\n",
            "Requirement already satisfied: jupyter-core in /usr/local/lib/python3.10/dist-packages (from nbformat==5.2.0) (5.4.0)\n",
            "Requirement already satisfied: attrs>=22.2.0 in /usr/local/lib/python3.10/dist-packages (from jsonschema!=2.5.0,>=2.4->nbformat==5.2.0) (23.1.0)\n",
            "Requirement already satisfied: jsonschema-specifications>=2023.03.6 in /usr/local/lib/python3.10/dist-packages (from jsonschema!=2.5.0,>=2.4->nbformat==5.2.0) (2023.7.1)\n",
            "Requirement already satisfied: referencing>=0.28.4 in /usr/local/lib/python3.10/dist-packages (from jsonschema!=2.5.0,>=2.4->nbformat==5.2.0) (0.30.2)\n",
            "Requirement already satisfied: rpds-py>=0.7.1 in /usr/local/lib/python3.10/dist-packages (from jsonschema!=2.5.0,>=2.4->nbformat==5.2.0) (0.10.6)\n",
            "Requirement already satisfied: platformdirs>=2.5 in /usr/local/lib/python3.10/dist-packages (from jupyter-core->nbformat==5.2.0) (3.11.0)\n",
            "Installing collected packages: nbformat\n",
            "  Attempting uninstall: nbformat\n",
            "    Found existing installation: nbformat 4.2.0\n",
            "    Uninstalling nbformat-4.2.0:\n",
            "      Successfully uninstalled nbformat-4.2.0\n",
            "Successfully installed nbformat-5.2.0\n"
          ]
        }
      ]
    },
    {
      "cell_type": "code",
      "metadata": {
        "id": "5124748d-3c56-455a-a63c-6087abaeef4f",
        "colab": {
          "base_uri": "https://localhost:8080/",
          "height": 1000
        },
        "outputId": "915192bd-6b20-4be0-eb0a-ee0f05c461fa"
      },
      "outputs": [
        {
          "output_type": "stream",
          "name": "stdout",
          "text": [
            "                          Date       Open       High        Low      Close  \\\n",
            "0    2002-02-13 00:00:00-05:00   1.620129   1.693350   1.603296   1.691667   \n",
            "1    2002-02-14 00:00:00-05:00   1.712707   1.716074   1.670626   1.683250   \n",
            "2    2002-02-15 00:00:00-05:00   1.683250   1.687458   1.658002   1.674834   \n",
            "3    2002-02-19 00:00:00-05:00   1.666417   1.666417   1.578047   1.607504   \n",
            "4    2002-02-20 00:00:00-05:00   1.615920   1.662209   1.603296   1.662209   \n",
            "...                        ...        ...        ...        ...        ...   \n",
            "4862 2021-06-08 00:00:00-04:00  73.000000  86.165001  70.250000  75.000000   \n",
            "4863 2021-06-09 00:00:00-04:00  75.779999  82.000000  72.877502  75.639999   \n",
            "4864 2021-06-10 00:00:00-04:00  70.500000  72.000000  52.750000  55.097500   \n",
            "4865 2021-06-11 00:00:00-04:00  55.587502  60.282501  51.532501  58.334999   \n",
            "4866 2021-06-14 00:00:00-04:00  59.125000  59.502499  54.799999  57.360001   \n",
            "\n",
            "        Volume  Dividends  Stock Splits  \n",
            "0     76216000        0.0           0.0  \n",
            "1     11021600        0.0           0.0  \n",
            "2      8389600        0.0           0.0  \n",
            "3      7410400        0.0           0.0  \n",
            "4      6892800        0.0           0.0  \n",
            "...        ...        ...           ...  \n",
            "4862  69756400        0.0           0.0  \n",
            "4863  53717200        0.0           0.0  \n",
            "4864  91920800        0.0           0.0  \n",
            "4865  62323200        0.0           0.0  \n",
            "4866  28530400        0.0           0.0  \n",
            "\n",
            "[4867 rows x 8 columns]\n",
            "          Date Revenue\n",
            "0         2020    6466\n",
            "1         2019    8285\n",
            "2         2018    8547\n",
            "3         2017    7965\n",
            "4         2016    9364\n",
            "..         ...     ...\n",
            "73  2006-01-31    1667\n",
            "74  2005-10-31     534\n",
            "75  2005-07-31     416\n",
            "76  2005-04-30     475\n",
            "77  2005-01-31     709\n",
            "\n",
            "[78 rows x 2 columns]\n"
          ]
        },
        {
          "output_type": "stream",
          "name": "stderr",
          "text": [
            "/usr/local/lib/python3.10/dist-packages/_plotly_utils/basevalidators.py:105: FutureWarning:\n",
            "\n",
            "The behavior of DatetimeProperties.to_pydatetime is deprecated, in a future version this will return a Series containing python datetime objects instead of an ndarray. To retain the old behavior, call `np.array` on the result\n",
            "\n",
            "/usr/local/lib/python3.10/dist-packages/_plotly_utils/basevalidators.py:105: FutureWarning:\n",
            "\n",
            "The behavior of DatetimeProperties.to_pydatetime is deprecated, in a future version this will return a Series containing python datetime objects instead of an ndarray. To retain the old behavior, call `np.array` on the result\n",
            "\n"
          ]
        },
        {
          "output_type": "display_data",
          "data": {
            "text/html": [
              "<html>\n",
              "<head><meta charset=\"utf-8\" /></head>\n",
              "<body>\n",
              "    <div>            <script src=\"https://cdnjs.cloudflare.com/ajax/libs/mathjax/2.7.5/MathJax.js?config=TeX-AMS-MML_SVG\"></script><script type=\"text/javascript\">if (window.MathJax && window.MathJax.Hub && window.MathJax.Hub.Config) {window.MathJax.Hub.Config({SVG: {font: \"STIX-Web\"}});}</script>                <script type=\"text/javascript\">window.PlotlyConfig = {MathJaxConfig: 'local'};</script>\n",
              "        <script charset=\"utf-8\" src=\"https://cdn.plot.ly/plotly-2.24.1.min.js\"></script>                <div id=\"0555be6c-61c7-45ff-9f85-7020772f5168\" class=\"plotly-graph-div\" style=\"height:900px; width:100%;\"></div>            <script type=\"text/javascript\">                                    window.PLOTLYENV=window.PLOTLYENV || {};                                    if (document.getElementById(\"0555be6c-61c7-45ff-9f85-7020772f5168\")) {                    Plotly.newPlot(                        \"0555be6c-61c7-45ff-9f85-7020772f5168\",                        [{\"name\":\"Share Price\",\"x\":[\"2002-02-13T00:00:00-05:00\",\"2002-02-14T00:00:00-05:00\",\"2002-02-15T00:00:00-05:00\",\"2002-02-19T00:00:00-05:00\",\"2002-02-20T00:00:00-05:00\",\"2002-02-21T00:00:00-05:00\",\"2002-02-22T00:00:00-05:00\",\"2002-02-25T00:00:00-05:00\",\"2002-02-26T00:00:00-05:00\",\"2002-02-27T00:00:00-05:00\",\"2002-02-28T00:00:00-05:00\",\"2002-03-01T00:00:00-05:00\",\"2002-03-04T00:00:00-05:00\",\"2002-03-05T00:00:00-05:00\",\"2002-03-06T00:00:00-05:00\",\"2002-03-07T00:00:00-05:00\",\"2002-03-08T00:00:00-05:00\",\"2002-03-11T00:00:00-05:00\",\"2002-03-12T00:00:00-05:00\",\"2002-03-13T00:00:00-05:00\",\"2002-03-14T00:00:00-05:00\",\"2002-03-15T00:00:00-05:00\",\"2002-03-18T00:00:00-05:00\",\"2002-03-19T00:00:00-05:00\",\"2002-03-20T00:00:00-05:00\",\"2002-03-21T00:00:00-05:00\",\"2002-03-22T00:00:00-05:00\",\"2002-03-25T00:00:00-05:00\",\"2002-03-26T00:00:00-05:00\",\"2002-03-27T00:00:00-05:00\",\"2002-03-28T00:00:00-05:00\",\"2002-04-01T00:00:00-05:00\",\"2002-04-02T00:00:00-05:00\",\"2002-04-03T00:00:00-05:00\",\"2002-04-04T00:00:00-05:00\",\"2002-04-05T00:00:00-05:00\",\"2002-04-08T00:00:00-04:00\",\"2002-04-09T00:00:00-04:00\",\"2002-04-10T00:00:00-04:00\",\"2002-04-11T00:00:00-04:00\",\"2002-04-12T00:00:00-04:00\",\"2002-04-15T00:00:00-04:00\",\"2002-04-16T00:00:00-04:00\",\"2002-04-17T00:00:00-04:00\",\"2002-04-18T00:00:00-04:00\",\"2002-04-19T00:00:00-04:00\",\"2002-04-22T00:00:00-04:00\",\"2002-04-23T00:00:00-04:00\",\"2002-04-24T00:00:00-04:00\",\"2002-04-25T00:00:00-04:00\",\"2002-04-26T00:00:00-04:00\",\"2002-04-29T00:00:00-04:00\",\"2002-04-30T00:00:00-04:00\",\"2002-05-01T00:00:00-04:00\",\"2002-05-02T00:00:00-04:00\",\"2002-05-03T00:00:00-04:00\",\"2002-05-06T00:00:00-04:00\",\"2002-05-07T00:00:00-04:00\",\"2002-05-08T00:00:00-04:00\",\"2002-05-09T00:00:00-04:00\",\"2002-05-10T00:00:00-04:00\",\"2002-05-13T00:00:00-04:00\",\"2002-05-14T00:00:00-04:00\",\"2002-05-15T00:00:00-04:00\",\"2002-05-16T00:00:00-04:00\",\"2002-05-17T00:00:00-04:00\",\"2002-05-20T00:00:00-04:00\",\"2002-05-21T00:00:00-04:00\",\"2002-05-22T00:00:00-04:00\",\"2002-05-23T00:00:00-04:00\",\"2002-05-24T00:00:00-04:00\",\"2002-05-28T00:00:00-04:00\",\"2002-05-29T00:00:00-04:00\",\"2002-05-30T00:00:00-04:00\",\"2002-05-31T00:00:00-04:00\",\"2002-06-03T00:00:00-04:00\",\"2002-06-04T00:00:00-04:00\",\"2002-06-05T00:00:00-04:00\",\"2002-06-06T00:00:00-04:00\",\"2002-06-07T00:00:00-04:00\",\"2002-06-10T00:00:00-04:00\",\"2002-06-11T00:00:00-04:00\",\"2002-06-12T00:00:00-04:00\",\"2002-06-13T00:00:00-04:00\",\"2002-06-14T00:00:00-04:00\",\"2002-06-17T00:00:00-04:00\",\"2002-06-18T00:00:00-04:00\",\"2002-06-19T00:00:00-04:00\",\"2002-06-20T00:00:00-04:00\",\"2002-06-21T00:00:00-04:00\",\"2002-06-24T00:00:00-04:00\",\"2002-06-25T00:00:00-04:00\",\"2002-06-26T00:00:00-04:00\",\"2002-06-27T00:00:00-04:00\",\"2002-06-28T00:00:00-04:00\",\"2002-07-01T00:00:00-04:00\",\"2002-07-02T00:00:00-04:00\",\"2002-07-03T00:00:00-04:00\",\"2002-07-05T00:00:00-04:00\",\"2002-07-08T00:00:00-04:00\",\"2002-07-09T00:00:00-04:00\",\"2002-07-10T00:00:00-04:00\",\"2002-07-11T00:00:00-04:00\",\"2002-07-12T00:00:00-04:00\",\"2002-07-15T00:00:00-04:00\",\"2002-07-16T00:00:00-04:00\",\"2002-07-17T00:00:00-04:00\",\"2002-07-18T00:00:00-04:00\",\"2002-07-19T00:00:00-04:00\",\"2002-07-22T00:00:00-04:00\",\"2002-07-23T00:00:00-04:00\",\"2002-07-24T00:00:00-04:00\",\"2002-07-25T00:00:00-04:00\",\"2002-07-26T00:00:00-04:00\",\"2002-07-29T00:00:00-04:00\",\"2002-07-30T00:00:00-04:00\",\"2002-07-31T00:00:00-04:00\",\"2002-08-01T00:00:00-04:00\",\"2002-08-02T00:00:00-04:00\",\"2002-08-05T00:00:00-04:00\",\"2002-08-06T00:00:00-04:00\",\"2002-08-07T00:00:00-04:00\",\"2002-08-08T00:00:00-04:00\",\"2002-08-09T00:00:00-04:00\",\"2002-08-12T00:00:00-04:00\",\"2002-08-13T00:00:00-04:00\",\"2002-08-14T00:00:00-04:00\",\"2002-08-15T00:00:00-04:00\",\"2002-08-16T00:00:00-04:00\",\"2002-08-19T00:00:00-04:00\",\"2002-08-20T00:00:00-04:00\",\"2002-08-21T00:00:00-04:00\",\"2002-08-22T00:00:00-04:00\",\"2002-08-23T00:00:00-04:00\",\"2002-08-26T00:00:00-04:00\",\"2002-08-27T00:00:00-04:00\",\"2002-08-28T00:00:00-04:00\",\"2002-08-29T00:00:00-04:00\",\"2002-08-30T00:00:00-04:00\",\"2002-09-03T00:00:00-04:00\",\"2002-09-04T00:00:00-04:00\",\"2002-09-05T00:00:00-04:00\",\"2002-09-06T00:00:00-04:00\",\"2002-09-09T00:00:00-04:00\",\"2002-09-10T00:00:00-04:00\",\"2002-09-11T00:00:00-04:00\",\"2002-09-12T00:00:00-04:00\",\"2002-09-13T00:00:00-04:00\",\"2002-09-16T00:00:00-04:00\",\"2002-09-17T00:00:00-04:00\",\"2002-09-18T00:00:00-04:00\",\"2002-09-19T00:00:00-04:00\",\"2002-09-20T00:00:00-04:00\",\"2002-09-23T00:00:00-04:00\",\"2002-09-24T00:00:00-04:00\",\"2002-09-25T00:00:00-04:00\",\"2002-09-26T00:00:00-04:00\",\"2002-09-27T00:00:00-04:00\",\"2002-09-30T00:00:00-04:00\",\"2002-10-01T00:00:00-04:00\",\"2002-10-02T00:00:00-04:00\",\"2002-10-03T00:00:00-04:00\",\"2002-10-04T00:00:00-04:00\",\"2002-10-07T00:00:00-04:00\",\"2002-10-08T00:00:00-04:00\",\"2002-10-09T00:00:00-04:00\",\"2002-10-10T00:00:00-04:00\",\"2002-10-11T00:00:00-04:00\",\"2002-10-14T00:00:00-04:00\",\"2002-10-15T00:00:00-04:00\",\"2002-10-16T00:00:00-04:00\",\"2002-10-17T00:00:00-04:00\",\"2002-10-18T00:00:00-04:00\",\"2002-10-21T00:00:00-04:00\",\"2002-10-22T00:00:00-04:00\",\"2002-10-23T00:00:00-04:00\",\"2002-10-24T00:00:00-04:00\",\"2002-10-25T00:00:00-04:00\",\"2002-10-28T00:00:00-05:00\",\"2002-10-29T00:00:00-05:00\",\"2002-10-30T00:00:00-05:00\",\"2002-10-31T00:00:00-05:00\",\"2002-11-01T00:00:00-05:00\",\"2002-11-04T00:00:00-05:00\",\"2002-11-05T00:00:00-05:00\",\"2002-11-06T00:00:00-05:00\",\"2002-11-07T00:00:00-05:00\",\"2002-11-08T00:00:00-05:00\",\"2002-11-11T00:00:00-05:00\",\"2002-11-12T00:00:00-05:00\",\"2002-11-13T00:00:00-05:00\",\"2002-11-14T00:00:00-05:00\",\"2002-11-15T00:00:00-05:00\",\"2002-11-18T00:00:00-05:00\",\"2002-11-19T00:00:00-05:00\",\"2002-11-20T00:00:00-05:00\",\"2002-11-21T00:00:00-05:00\",\"2002-11-22T00:00:00-05:00\",\"2002-11-25T00:00:00-05:00\",\"2002-11-26T00:00:00-05:00\",\"2002-11-27T00:00:00-05:00\",\"2002-11-29T00:00:00-05:00\",\"2002-12-02T00:00:00-05:00\",\"2002-12-03T00:00:00-05:00\",\"2002-12-04T00:00:00-05:00\",\"2002-12-05T00:00:00-05:00\",\"2002-12-06T00:00:00-05:00\",\"2002-12-09T00:00:00-05:00\",\"2002-12-10T00:00:00-05:00\",\"2002-12-11T00:00:00-05:00\",\"2002-12-12T00:00:00-05:00\",\"2002-12-13T00:00:00-05:00\",\"2002-12-16T00:00:00-05:00\",\"2002-12-17T00:00:00-05:00\",\"2002-12-18T00:00:00-05:00\",\"2002-12-19T00:00:00-05:00\",\"2002-12-20T00:00:00-05:00\",\"2002-12-23T00:00:00-05:00\",\"2002-12-24T00:00:00-05:00\",\"2002-12-26T00:00:00-05:00\",\"2002-12-27T00:00:00-05:00\",\"2002-12-30T00:00:00-05:00\",\"2002-12-31T00:00:00-05:00\",\"2003-01-02T00:00:00-05:00\",\"2003-01-03T00:00:00-05:00\",\"2003-01-06T00:00:00-05:00\",\"2003-01-07T00:00:00-05:00\",\"2003-01-08T00:00:00-05:00\",\"2003-01-09T00:00:00-05:00\",\"2003-01-10T00:00:00-05:00\",\"2003-01-13T00:00:00-05:00\",\"2003-01-14T00:00:00-05:00\",\"2003-01-15T00:00:00-05:00\",\"2003-01-16T00:00:00-05:00\",\"2003-01-17T00:00:00-05:00\",\"2003-01-21T00:00:00-05:00\",\"2003-01-22T00:00:00-05:00\",\"2003-01-23T00:00:00-05:00\",\"2003-01-24T00:00:00-05:00\",\"2003-01-27T00:00:00-05:00\",\"2003-01-28T00:00:00-05:00\",\"2003-01-29T00:00:00-05:00\",\"2003-01-30T00:00:00-05:00\",\"2003-01-31T00:00:00-05:00\",\"2003-02-03T00:00:00-05:00\",\"2003-02-04T00:00:00-05:00\",\"2003-02-05T00:00:00-05:00\",\"2003-02-06T00:00:00-05:00\",\"2003-02-07T00:00:00-05:00\",\"2003-02-10T00:00:00-05:00\",\"2003-02-11T00:00:00-05:00\",\"2003-02-12T00:00:00-05:00\",\"2003-02-13T00:00:00-05:00\",\"2003-02-14T00:00:00-05:00\",\"2003-02-18T00:00:00-05:00\",\"2003-02-19T00:00:00-05:00\",\"2003-02-20T00:00:00-05:00\",\"2003-02-21T00:00:00-05:00\",\"2003-02-24T00:00:00-05:00\",\"2003-02-25T00:00:00-05:00\",\"2003-02-26T00:00:00-05:00\",\"2003-02-27T00:00:00-05:00\",\"2003-02-28T00:00:00-05:00\",\"2003-03-03T00:00:00-05:00\",\"2003-03-04T00:00:00-05:00\",\"2003-03-05T00:00:00-05:00\",\"2003-03-06T00:00:00-05:00\",\"2003-03-07T00:00:00-05:00\",\"2003-03-10T00:00:00-05:00\",\"2003-03-11T00:00:00-05:00\",\"2003-03-12T00:00:00-05:00\",\"2003-03-13T00:00:00-05:00\",\"2003-03-14T00:00:00-05:00\",\"2003-03-17T00:00:00-05:00\",\"2003-03-18T00:00:00-05:00\",\"2003-03-19T00:00:00-05:00\",\"2003-03-20T00:00:00-05:00\",\"2003-03-21T00:00:00-05:00\",\"2003-03-24T00:00:00-05:00\",\"2003-03-25T00:00:00-05:00\",\"2003-03-26T00:00:00-05:00\",\"2003-03-27T00:00:00-05:00\",\"2003-03-28T00:00:00-05:00\",\"2003-03-31T00:00:00-05:00\",\"2003-04-01T00:00:00-05:00\",\"2003-04-02T00:00:00-05:00\",\"2003-04-03T00:00:00-05:00\",\"2003-04-04T00:00:00-05:00\",\"2003-04-07T00:00:00-04:00\",\"2003-04-08T00:00:00-04:00\",\"2003-04-09T00:00:00-04:00\",\"2003-04-10T00:00:00-04:00\",\"2003-04-11T00:00:00-04:00\",\"2003-04-14T00:00:00-04:00\",\"2003-04-15T00:00:00-04:00\",\"2003-04-16T00:00:00-04:00\",\"2003-04-17T00:00:00-04:00\",\"2003-04-21T00:00:00-04:00\",\"2003-04-22T00:00:00-04:00\",\"2003-04-23T00:00:00-04:00\",\"2003-04-24T00:00:00-04:00\",\"2003-04-25T00:00:00-04:00\",\"2003-04-28T00:00:00-04:00\",\"2003-04-29T00:00:00-04:00\",\"2003-04-30T00:00:00-04:00\",\"2003-05-01T00:00:00-04:00\",\"2003-05-02T00:00:00-04:00\",\"2003-05-05T00:00:00-04:00\",\"2003-05-06T00:00:00-04:00\",\"2003-05-07T00:00:00-04:00\",\"2003-05-08T00:00:00-04:00\",\"2003-05-09T00:00:00-04:00\",\"2003-05-12T00:00:00-04:00\",\"2003-05-13T00:00:00-04:00\",\"2003-05-14T00:00:00-04:00\",\"2003-05-15T00:00:00-04:00\",\"2003-05-16T00:00:00-04:00\",\"2003-05-19T00:00:00-04:00\",\"2003-05-20T00:00:00-04:00\",\"2003-05-21T00:00:00-04:00\",\"2003-05-22T00:00:00-04:00\",\"2003-05-23T00:00:00-04:00\",\"2003-05-27T00:00:00-04:00\",\"2003-05-28T00:00:00-04:00\",\"2003-05-29T00:00:00-04:00\",\"2003-05-30T00:00:00-04:00\",\"2003-06-02T00:00:00-04:00\",\"2003-06-03T00:00:00-04:00\",\"2003-06-04T00:00:00-04:00\",\"2003-06-05T00:00:00-04:00\",\"2003-06-06T00:00:00-04:00\",\"2003-06-09T00:00:00-04:00\",\"2003-06-10T00:00:00-04:00\",\"2003-06-11T00:00:00-04:00\",\"2003-06-12T00:00:00-04:00\",\"2003-06-13T00:00:00-04:00\",\"2003-06-16T00:00:00-04:00\",\"2003-06-17T00:00:00-04:00\",\"2003-06-18T00:00:00-04:00\",\"2003-06-19T00:00:00-04:00\",\"2003-06-20T00:00:00-04:00\",\"2003-06-23T00:00:00-04:00\",\"2003-06-24T00:00:00-04:00\",\"2003-06-25T00:00:00-04:00\",\"2003-06-26T00:00:00-04:00\",\"2003-06-27T00:00:00-04:00\",\"2003-06-30T00:00:00-04:00\",\"2003-07-01T00:00:00-04:00\",\"2003-07-02T00:00:00-04:00\",\"2003-07-03T00:00:00-04:00\",\"2003-07-07T00:00:00-04:00\",\"2003-07-08T00:00:00-04:00\",\"2003-07-09T00:00:00-04:00\",\"2003-07-10T00:00:00-04:00\",\"2003-07-11T00:00:00-04:00\",\"2003-07-14T00:00:00-04:00\",\"2003-07-15T00:00:00-04:00\",\"2003-07-16T00:00:00-04:00\",\"2003-07-17T00:00:00-04:00\",\"2003-07-18T00:00:00-04:00\",\"2003-07-21T00:00:00-04:00\",\"2003-07-22T00:00:00-04:00\",\"2003-07-23T00:00:00-04:00\",\"2003-07-24T00:00:00-04:00\",\"2003-07-25T00:00:00-04:00\",\"2003-07-28T00:00:00-04:00\",\"2003-07-29T00:00:00-04:00\",\"2003-07-30T00:00:00-04:00\",\"2003-07-31T00:00:00-04:00\",\"2003-08-01T00:00:00-04:00\",\"2003-08-04T00:00:00-04:00\",\"2003-08-05T00:00:00-04:00\",\"2003-08-06T00:00:00-04:00\",\"2003-08-07T00:00:00-04:00\",\"2003-08-08T00:00:00-04:00\",\"2003-08-11T00:00:00-04:00\",\"2003-08-12T00:00:00-04:00\",\"2003-08-13T00:00:00-04:00\",\"2003-08-14T00:00:00-04:00\",\"2003-08-15T00:00:00-04:00\",\"2003-08-18T00:00:00-04:00\",\"2003-08-19T00:00:00-04:00\",\"2003-08-20T00:00:00-04:00\",\"2003-08-21T00:00:00-04:00\",\"2003-08-22T00:00:00-04:00\",\"2003-08-25T00:00:00-04:00\",\"2003-08-26T00:00:00-04:00\",\"2003-08-27T00:00:00-04:00\",\"2003-08-28T00:00:00-04:00\",\"2003-08-29T00:00:00-04:00\",\"2003-09-02T00:00:00-04:00\",\"2003-09-03T00:00:00-04:00\",\"2003-09-04T00:00:00-04:00\",\"2003-09-05T00:00:00-04:00\",\"2003-09-08T00:00:00-04:00\",\"2003-09-09T00:00:00-04:00\",\"2003-09-10T00:00:00-04:00\",\"2003-09-11T00:00:00-04:00\",\"2003-09-12T00:00:00-04:00\",\"2003-09-15T00:00:00-04:00\",\"2003-09-16T00:00:00-04:00\",\"2003-09-17T00:00:00-04:00\",\"2003-09-18T00:00:00-04:00\",\"2003-09-19T00:00:00-04:00\",\"2003-09-22T00:00:00-04:00\",\"2003-09-23T00:00:00-04:00\",\"2003-09-24T00:00:00-04:00\",\"2003-09-25T00:00:00-04:00\",\"2003-09-26T00:00:00-04:00\",\"2003-09-29T00:00:00-04:00\",\"2003-09-30T00:00:00-04:00\",\"2003-10-01T00:00:00-04:00\",\"2003-10-02T00:00:00-04:00\",\"2003-10-03T00:00:00-04:00\",\"2003-10-06T00:00:00-04:00\",\"2003-10-07T00:00:00-04:00\",\"2003-10-08T00:00:00-04:00\",\"2003-10-09T00:00:00-04:00\",\"2003-10-10T00:00:00-04:00\",\"2003-10-13T00:00:00-04:00\",\"2003-10-14T00:00:00-04:00\",\"2003-10-15T00:00:00-04:00\",\"2003-10-16T00:00:00-04:00\",\"2003-10-17T00:00:00-04:00\",\"2003-10-20T00:00:00-04:00\",\"2003-10-21T00:00:00-04:00\",\"2003-10-22T00:00:00-04:00\",\"2003-10-23T00:00:00-04:00\",\"2003-10-24T00:00:00-04:00\",\"2003-10-27T00:00:00-05:00\",\"2003-10-28T00:00:00-05:00\",\"2003-10-29T00:00:00-05:00\",\"2003-10-30T00:00:00-05:00\",\"2003-10-31T00:00:00-05:00\",\"2003-11-03T00:00:00-05:00\",\"2003-11-04T00:00:00-05:00\",\"2003-11-05T00:00:00-05:00\",\"2003-11-06T00:00:00-05:00\",\"2003-11-07T00:00:00-05:00\",\"2003-11-10T00:00:00-05:00\",\"2003-11-11T00:00:00-05:00\",\"2003-11-12T00:00:00-05:00\",\"2003-11-13T00:00:00-05:00\",\"2003-11-14T00:00:00-05:00\",\"2003-11-17T00:00:00-05:00\",\"2003-11-18T00:00:00-05:00\",\"2003-11-19T00:00:00-05:00\",\"2003-11-20T00:00:00-05:00\",\"2003-11-21T00:00:00-05:00\",\"2003-11-24T00:00:00-05:00\",\"2003-11-25T00:00:00-05:00\",\"2003-11-26T00:00:00-05:00\",\"2003-11-28T00:00:00-05:00\",\"2003-12-01T00:00:00-05:00\",\"2003-12-02T00:00:00-05:00\",\"2003-12-03T00:00:00-05:00\",\"2003-12-04T00:00:00-05:00\",\"2003-12-05T00:00:00-05:00\",\"2003-12-08T00:00:00-05:00\",\"2003-12-09T00:00:00-05:00\",\"2003-12-10T00:00:00-05:00\",\"2003-12-11T00:00:00-05:00\",\"2003-12-12T00:00:00-05:00\",\"2003-12-15T00:00:00-05:00\",\"2003-12-16T00:00:00-05:00\",\"2003-12-17T00:00:00-05:00\",\"2003-12-18T00:00:00-05:00\",\"2003-12-19T00:00:00-05:00\",\"2003-12-22T00:00:00-05:00\",\"2003-12-23T00:00:00-05:00\",\"2003-12-24T00:00:00-05:00\",\"2003-12-26T00:00:00-05:00\",\"2003-12-29T00:00:00-05:00\",\"2003-12-30T00:00:00-05:00\",\"2003-12-31T00:00:00-05:00\",\"2004-01-02T00:00:00-05:00\",\"2004-01-05T00:00:00-05:00\",\"2004-01-06T00:00:00-05:00\",\"2004-01-07T00:00:00-05:00\",\"2004-01-08T00:00:00-05:00\",\"2004-01-09T00:00:00-05:00\",\"2004-01-12T00:00:00-05:00\",\"2004-01-13T00:00:00-05:00\",\"2004-01-14T00:00:00-05:00\",\"2004-01-15T00:00:00-05:00\",\"2004-01-16T00:00:00-05:00\",\"2004-01-20T00:00:00-05:00\",\"2004-01-21T00:00:00-05:00\",\"2004-01-22T00:00:00-05:00\",\"2004-01-23T00:00:00-05:00\",\"2004-01-26T00:00:00-05:00\",\"2004-01-27T00:00:00-05:00\",\"2004-01-28T00:00:00-05:00\",\"2004-01-29T00:00:00-05:00\",\"2004-01-30T00:00:00-05:00\",\"2004-02-02T00:00:00-05:00\",\"2004-02-03T00:00:00-05:00\",\"2004-02-04T00:00:00-05:00\",\"2004-02-05T00:00:00-05:00\",\"2004-02-06T00:00:00-05:00\",\"2004-02-09T00:00:00-05:00\",\"2004-02-10T00:00:00-05:00\",\"2004-02-11T00:00:00-05:00\",\"2004-02-12T00:00:00-05:00\",\"2004-02-13T00:00:00-05:00\",\"2004-02-17T00:00:00-05:00\",\"2004-02-18T00:00:00-05:00\",\"2004-02-19T00:00:00-05:00\",\"2004-02-20T00:00:00-05:00\",\"2004-02-23T00:00:00-05:00\",\"2004-02-24T00:00:00-05:00\",\"2004-02-25T00:00:00-05:00\",\"2004-02-26T00:00:00-05:00\",\"2004-02-27T00:00:00-05:00\",\"2004-03-01T00:00:00-05:00\",\"2004-03-02T00:00:00-05:00\",\"2004-03-03T00:00:00-05:00\",\"2004-03-04T00:00:00-05:00\",\"2004-03-05T00:00:00-05:00\",\"2004-03-08T00:00:00-05:00\",\"2004-03-09T00:00:00-05:00\",\"2004-03-10T00:00:00-05:00\",\"2004-03-11T00:00:00-05:00\",\"2004-03-12T00:00:00-05:00\",\"2004-03-15T00:00:00-05:00\",\"2004-03-16T00:00:00-05:00\",\"2004-03-17T00:00:00-05:00\",\"2004-03-18T00:00:00-05:00\",\"2004-03-19T00:00:00-05:00\",\"2004-03-22T00:00:00-05:00\",\"2004-03-23T00:00:00-05:00\",\"2004-03-24T00:00:00-05:00\",\"2004-03-25T00:00:00-05:00\",\"2004-03-26T00:00:00-05:00\",\"2004-03-29T00:00:00-05:00\",\"2004-03-30T00:00:00-05:00\",\"2004-03-31T00:00:00-05:00\",\"2004-04-01T00:00:00-05:00\",\"2004-04-02T00:00:00-05:00\",\"2004-04-05T00:00:00-04:00\",\"2004-04-06T00:00:00-04:00\",\"2004-04-07T00:00:00-04:00\",\"2004-04-08T00:00:00-04:00\",\"2004-04-12T00:00:00-04:00\",\"2004-04-13T00:00:00-04:00\",\"2004-04-14T00:00:00-04:00\",\"2004-04-15T00:00:00-04:00\",\"2004-04-16T00:00:00-04:00\",\"2004-04-19T00:00:00-04:00\",\"2004-04-20T00:00:00-04:00\",\"2004-04-21T00:00:00-04:00\",\"2004-04-22T00:00:00-04:00\",\"2004-04-23T00:00:00-04:00\",\"2004-04-26T00:00:00-04:00\",\"2004-04-27T00:00:00-04:00\",\"2004-04-28T00:00:00-04:00\",\"2004-04-29T00:00:00-04:00\",\"2004-04-30T00:00:00-04:00\",\"2004-05-03T00:00:00-04:00\",\"2004-05-04T00:00:00-04:00\",\"2004-05-05T00:00:00-04:00\",\"2004-05-06T00:00:00-04:00\",\"2004-05-07T00:00:00-04:00\",\"2004-05-10T00:00:00-04:00\",\"2004-05-11T00:00:00-04:00\",\"2004-05-12T00:00:00-04:00\",\"2004-05-13T00:00:00-04:00\",\"2004-05-14T00:00:00-04:00\",\"2004-05-17T00:00:00-04:00\",\"2004-05-18T00:00:00-04:00\",\"2004-05-19T00:00:00-04:00\",\"2004-05-20T00:00:00-04:00\",\"2004-05-21T00:00:00-04:00\",\"2004-05-24T00:00:00-04:00\",\"2004-05-25T00:00:00-04:00\",\"2004-05-26T00:00:00-04:00\",\"2004-05-27T00:00:00-04:00\",\"2004-05-28T00:00:00-04:00\",\"2004-06-01T00:00:00-04:00\",\"2004-06-02T00:00:00-04:00\",\"2004-06-03T00:00:00-04:00\",\"2004-06-04T00:00:00-04:00\",\"2004-06-07T00:00:00-04:00\",\"2004-06-08T00:00:00-04:00\",\"2004-06-09T00:00:00-04:00\",\"2004-06-10T00:00:00-04:00\",\"2004-06-14T00:00:00-04:00\",\"2004-06-15T00:00:00-04:00\",\"2004-06-16T00:00:00-04:00\",\"2004-06-17T00:00:00-04:00\",\"2004-06-18T00:00:00-04:00\",\"2004-06-21T00:00:00-04:00\",\"2004-06-22T00:00:00-04:00\",\"2004-06-23T00:00:00-04:00\",\"2004-06-24T00:00:00-04:00\",\"2004-06-25T00:00:00-04:00\",\"2004-06-28T00:00:00-04:00\",\"2004-06-29T00:00:00-04:00\",\"2004-06-30T00:00:00-04:00\",\"2004-07-01T00:00:00-04:00\",\"2004-07-02T00:00:00-04:00\",\"2004-07-06T00:00:00-04:00\",\"2004-07-07T00:00:00-04:00\",\"2004-07-08T00:00:00-04:00\",\"2004-07-09T00:00:00-04:00\",\"2004-07-12T00:00:00-04:00\",\"2004-07-13T00:00:00-04:00\",\"2004-07-14T00:00:00-04:00\",\"2004-07-15T00:00:00-04:00\",\"2004-07-16T00:00:00-04:00\",\"2004-07-19T00:00:00-04:00\",\"2004-07-20T00:00:00-04:00\",\"2004-07-21T00:00:00-04:00\",\"2004-07-22T00:00:00-04:00\",\"2004-07-23T00:00:00-04:00\",\"2004-07-26T00:00:00-04:00\",\"2004-07-27T00:00:00-04:00\",\"2004-07-28T00:00:00-04:00\",\"2004-07-29T00:00:00-04:00\",\"2004-07-30T00:00:00-04:00\",\"2004-08-02T00:00:00-04:00\",\"2004-08-03T00:00:00-04:00\",\"2004-08-04T00:00:00-04:00\",\"2004-08-05T00:00:00-04:00\",\"2004-08-06T00:00:00-04:00\",\"2004-08-09T00:00:00-04:00\",\"2004-08-10T00:00:00-04:00\",\"2004-08-11T00:00:00-04:00\",\"2004-08-12T00:00:00-04:00\",\"2004-08-13T00:00:00-04:00\",\"2004-08-16T00:00:00-04:00\",\"2004-08-17T00:00:00-04:00\",\"2004-08-18T00:00:00-04:00\",\"2004-08-19T00:00:00-04:00\",\"2004-08-20T00:00:00-04:00\",\"2004-08-23T00:00:00-04:00\",\"2004-08-24T00:00:00-04:00\",\"2004-08-25T00:00:00-04:00\",\"2004-08-26T00:00:00-04:00\",\"2004-08-27T00:00:00-04:00\",\"2004-08-30T00:00:00-04:00\",\"2004-08-31T00:00:00-04:00\",\"2004-09-01T00:00:00-04:00\",\"2004-09-02T00:00:00-04:00\",\"2004-09-03T00:00:00-04:00\",\"2004-09-07T00:00:00-04:00\",\"2004-09-08T00:00:00-04:00\",\"2004-09-09T00:00:00-04:00\",\"2004-09-10T00:00:00-04:00\",\"2004-09-13T00:00:00-04:00\",\"2004-09-14T00:00:00-04:00\",\"2004-09-15T00:00:00-04:00\",\"2004-09-16T00:00:00-04:00\",\"2004-09-17T00:00:00-04:00\",\"2004-09-20T00:00:00-04:00\",\"2004-09-21T00:00:00-04:00\",\"2004-09-22T00:00:00-04:00\",\"2004-09-23T00:00:00-04:00\",\"2004-09-24T00:00:00-04:00\",\"2004-09-27T00:00:00-04:00\",\"2004-09-28T00:00:00-04:00\",\"2004-09-29T00:00:00-04:00\",\"2004-09-30T00:00:00-04:00\",\"2004-10-01T00:00:00-04:00\",\"2004-10-04T00:00:00-04:00\",\"2004-10-05T00:00:00-04:00\",\"2004-10-06T00:00:00-04:00\",\"2004-10-07T00:00:00-04:00\",\"2004-10-08T00:00:00-04:00\",\"2004-10-11T00:00:00-04:00\",\"2004-10-12T00:00:00-04:00\",\"2004-10-13T00:00:00-04:00\",\"2004-10-14T00:00:00-04:00\",\"2004-10-15T00:00:00-04:00\",\"2004-10-18T00:00:00-04:00\",\"2004-10-19T00:00:00-04:00\",\"2004-10-20T00:00:00-04:00\",\"2004-10-21T00:00:00-04:00\",\"2004-10-22T00:00:00-04:00\",\"2004-10-25T00:00:00-04:00\",\"2004-10-26T00:00:00-04:00\",\"2004-10-27T00:00:00-04:00\",\"2004-10-28T00:00:00-04:00\",\"2004-10-29T00:00:00-04:00\",\"2004-11-01T00:00:00-05:00\",\"2004-11-02T00:00:00-05:00\",\"2004-11-03T00:00:00-05:00\",\"2004-11-04T00:00:00-05:00\",\"2004-11-05T00:00:00-05:00\",\"2004-11-08T00:00:00-05:00\",\"2004-11-09T00:00:00-05:00\",\"2004-11-10T00:00:00-05:00\",\"2004-11-11T00:00:00-05:00\",\"2004-11-12T00:00:00-05:00\",\"2004-11-15T00:00:00-05:00\",\"2004-11-16T00:00:00-05:00\",\"2004-11-17T00:00:00-05:00\",\"2004-11-18T00:00:00-05:00\",\"2004-11-19T00:00:00-05:00\",\"2004-11-22T00:00:00-05:00\",\"2004-11-23T00:00:00-05:00\",\"2004-11-24T00:00:00-05:00\",\"2004-11-26T00:00:00-05:00\",\"2004-11-29T00:00:00-05:00\",\"2004-11-30T00:00:00-05:00\",\"2004-12-01T00:00:00-05:00\",\"2004-12-02T00:00:00-05:00\",\"2004-12-03T00:00:00-05:00\",\"2004-12-06T00:00:00-05:00\",\"2004-12-07T00:00:00-05:00\",\"2004-12-08T00:00:00-05:00\",\"2004-12-09T00:00:00-05:00\",\"2004-12-10T00:00:00-05:00\",\"2004-12-13T00:00:00-05:00\",\"2004-12-14T00:00:00-05:00\",\"2004-12-15T00:00:00-05:00\",\"2004-12-16T00:00:00-05:00\",\"2004-12-17T00:00:00-05:00\",\"2004-12-20T00:00:00-05:00\",\"2004-12-21T00:00:00-05:00\",\"2004-12-22T00:00:00-05:00\",\"2004-12-23T00:00:00-05:00\",\"2004-12-27T00:00:00-05:00\",\"2004-12-28T00:00:00-05:00\",\"2004-12-29T00:00:00-05:00\",\"2004-12-30T00:00:00-05:00\",\"2004-12-31T00:00:00-05:00\",\"2005-01-03T00:00:00-05:00\",\"2005-01-04T00:00:00-05:00\",\"2005-01-05T00:00:00-05:00\",\"2005-01-06T00:00:00-05:00\",\"2005-01-07T00:00:00-05:00\",\"2005-01-10T00:00:00-05:00\",\"2005-01-11T00:00:00-05:00\",\"2005-01-12T00:00:00-05:00\",\"2005-01-13T00:00:00-05:00\",\"2005-01-14T00:00:00-05:00\",\"2005-01-18T00:00:00-05:00\",\"2005-01-19T00:00:00-05:00\",\"2005-01-20T00:00:00-05:00\",\"2005-01-21T00:00:00-05:00\",\"2005-01-24T00:00:00-05:00\",\"2005-01-25T00:00:00-05:00\",\"2005-01-26T00:00:00-05:00\",\"2005-01-27T00:00:00-05:00\",\"2005-01-28T00:00:00-05:00\",\"2005-01-31T00:00:00-05:00\",\"2005-02-01T00:00:00-05:00\",\"2005-02-02T00:00:00-05:00\",\"2005-02-03T00:00:00-05:00\",\"2005-02-04T00:00:00-05:00\",\"2005-02-07T00:00:00-05:00\",\"2005-02-08T00:00:00-05:00\",\"2005-02-09T00:00:00-05:00\",\"2005-02-10T00:00:00-05:00\",\"2005-02-11T00:00:00-05:00\",\"2005-02-14T00:00:00-05:00\",\"2005-02-15T00:00:00-05:00\",\"2005-02-16T00:00:00-05:00\",\"2005-02-17T00:00:00-05:00\",\"2005-02-18T00:00:00-05:00\",\"2005-02-22T00:00:00-05:00\",\"2005-02-23T00:00:00-05:00\",\"2005-02-24T00:00:00-05:00\",\"2005-02-25T00:00:00-05:00\",\"2005-02-28T00:00:00-05:00\",\"2005-03-01T00:00:00-05:00\",\"2005-03-02T00:00:00-05:00\",\"2005-03-03T00:00:00-05:00\",\"2005-03-04T00:00:00-05:00\",\"2005-03-07T00:00:00-05:00\",\"2005-03-08T00:00:00-05:00\",\"2005-03-09T00:00:00-05:00\",\"2005-03-10T00:00:00-05:00\",\"2005-03-11T00:00:00-05:00\",\"2005-03-14T00:00:00-05:00\",\"2005-03-15T00:00:00-05:00\",\"2005-03-16T00:00:00-05:00\",\"2005-03-17T00:00:00-05:00\",\"2005-03-18T00:00:00-05:00\",\"2005-03-21T00:00:00-05:00\",\"2005-03-22T00:00:00-05:00\",\"2005-03-23T00:00:00-05:00\",\"2005-03-24T00:00:00-05:00\",\"2005-03-28T00:00:00-05:00\",\"2005-03-29T00:00:00-05:00\",\"2005-03-30T00:00:00-05:00\",\"2005-03-31T00:00:00-05:00\",\"2005-04-01T00:00:00-05:00\",\"2005-04-04T00:00:00-04:00\",\"2005-04-05T00:00:00-04:00\",\"2005-04-06T00:00:00-04:00\",\"2005-04-07T00:00:00-04:00\",\"2005-04-08T00:00:00-04:00\",\"2005-04-11T00:00:00-04:00\",\"2005-04-12T00:00:00-04:00\",\"2005-04-13T00:00:00-04:00\",\"2005-04-14T00:00:00-04:00\",\"2005-04-15T00:00:00-04:00\",\"2005-04-18T00:00:00-04:00\",\"2005-04-19T00:00:00-04:00\",\"2005-04-20T00:00:00-04:00\",\"2005-04-21T00:00:00-04:00\",\"2005-04-22T00:00:00-04:00\",\"2005-04-25T00:00:00-04:00\",\"2005-04-26T00:00:00-04:00\",\"2005-04-27T00:00:00-04:00\",\"2005-04-28T00:00:00-04:00\",\"2005-04-29T00:00:00-04:00\",\"2005-05-02T00:00:00-04:00\",\"2005-05-03T00:00:00-04:00\",\"2005-05-04T00:00:00-04:00\",\"2005-05-05T00:00:00-04:00\",\"2005-05-06T00:00:00-04:00\",\"2005-05-09T00:00:00-04:00\",\"2005-05-10T00:00:00-04:00\",\"2005-05-11T00:00:00-04:00\",\"2005-05-12T00:00:00-04:00\",\"2005-05-13T00:00:00-04:00\",\"2005-05-16T00:00:00-04:00\",\"2005-05-17T00:00:00-04:00\",\"2005-05-18T00:00:00-04:00\",\"2005-05-19T00:00:00-04:00\",\"2005-05-20T00:00:00-04:00\",\"2005-05-23T00:00:00-04:00\",\"2005-05-24T00:00:00-04:00\",\"2005-05-25T00:00:00-04:00\",\"2005-05-26T00:00:00-04:00\",\"2005-05-27T00:00:00-04:00\",\"2005-05-31T00:00:00-04:00\",\"2005-06-01T00:00:00-04:00\",\"2005-06-02T00:00:00-04:00\",\"2005-06-03T00:00:00-04:00\",\"2005-06-06T00:00:00-04:00\",\"2005-06-07T00:00:00-04:00\",\"2005-06-08T00:00:00-04:00\",\"2005-06-09T00:00:00-04:00\",\"2005-06-10T00:00:00-04:00\",\"2005-06-13T00:00:00-04:00\",\"2005-06-14T00:00:00-04:00\",\"2005-06-15T00:00:00-04:00\",\"2005-06-16T00:00:00-04:00\",\"2005-06-17T00:00:00-04:00\",\"2005-06-20T00:00:00-04:00\",\"2005-06-21T00:00:00-04:00\",\"2005-06-22T00:00:00-04:00\",\"2005-06-23T00:00:00-04:00\",\"2005-06-24T00:00:00-04:00\",\"2005-06-27T00:00:00-04:00\",\"2005-06-28T00:00:00-04:00\",\"2005-06-29T00:00:00-04:00\",\"2005-06-30T00:00:00-04:00\",\"2005-07-01T00:00:00-04:00\",\"2005-07-05T00:00:00-04:00\",\"2005-07-06T00:00:00-04:00\",\"2005-07-07T00:00:00-04:00\",\"2005-07-08T00:00:00-04:00\",\"2005-07-11T00:00:00-04:00\",\"2005-07-12T00:00:00-04:00\",\"2005-07-13T00:00:00-04:00\",\"2005-07-14T00:00:00-04:00\",\"2005-07-15T00:00:00-04:00\",\"2005-07-18T00:00:00-04:00\",\"2005-07-19T00:00:00-04:00\",\"2005-07-20T00:00:00-04:00\",\"2005-07-21T00:00:00-04:00\",\"2005-07-22T00:00:00-04:00\",\"2005-07-25T00:00:00-04:00\",\"2005-07-26T00:00:00-04:00\",\"2005-07-27T00:00:00-04:00\",\"2005-07-28T00:00:00-04:00\",\"2005-07-29T00:00:00-04:00\",\"2005-08-01T00:00:00-04:00\",\"2005-08-02T00:00:00-04:00\",\"2005-08-03T00:00:00-04:00\",\"2005-08-04T00:00:00-04:00\",\"2005-08-05T00:00:00-04:00\",\"2005-08-08T00:00:00-04:00\",\"2005-08-09T00:00:00-04:00\",\"2005-08-10T00:00:00-04:00\",\"2005-08-11T00:00:00-04:00\",\"2005-08-12T00:00:00-04:00\",\"2005-08-15T00:00:00-04:00\",\"2005-08-16T00:00:00-04:00\",\"2005-08-17T00:00:00-04:00\",\"2005-08-18T00:00:00-04:00\",\"2005-08-19T00:00:00-04:00\",\"2005-08-22T00:00:00-04:00\",\"2005-08-23T00:00:00-04:00\",\"2005-08-24T00:00:00-04:00\",\"2005-08-25T00:00:00-04:00\",\"2005-08-26T00:00:00-04:00\",\"2005-08-29T00:00:00-04:00\",\"2005-08-30T00:00:00-04:00\",\"2005-08-31T00:00:00-04:00\",\"2005-09-01T00:00:00-04:00\",\"2005-09-02T00:00:00-04:00\",\"2005-09-06T00:00:00-04:00\",\"2005-09-07T00:00:00-04:00\",\"2005-09-08T00:00:00-04:00\",\"2005-09-09T00:00:00-04:00\",\"2005-09-12T00:00:00-04:00\",\"2005-09-13T00:00:00-04:00\",\"2005-09-14T00:00:00-04:00\",\"2005-09-15T00:00:00-04:00\",\"2005-09-16T00:00:00-04:00\",\"2005-09-19T00:00:00-04:00\",\"2005-09-20T00:00:00-04:00\",\"2005-09-21T00:00:00-04:00\",\"2005-09-22T00:00:00-04:00\",\"2005-09-23T00:00:00-04:00\",\"2005-09-26T00:00:00-04:00\",\"2005-09-27T00:00:00-04:00\",\"2005-09-28T00:00:00-04:00\",\"2005-09-29T00:00:00-04:00\",\"2005-09-30T00:00:00-04:00\",\"2005-10-03T00:00:00-04:00\",\"2005-10-04T00:00:00-04:00\",\"2005-10-05T00:00:00-04:00\",\"2005-10-06T00:00:00-04:00\",\"2005-10-07T00:00:00-04:00\",\"2005-10-10T00:00:00-04:00\",\"2005-10-11T00:00:00-04:00\",\"2005-10-12T00:00:00-04:00\",\"2005-10-13T00:00:00-04:00\",\"2005-10-14T00:00:00-04:00\",\"2005-10-17T00:00:00-04:00\",\"2005-10-18T00:00:00-04:00\",\"2005-10-19T00:00:00-04:00\",\"2005-10-20T00:00:00-04:00\",\"2005-10-21T00:00:00-04:00\",\"2005-10-24T00:00:00-04:00\",\"2005-10-25T00:00:00-04:00\",\"2005-10-26T00:00:00-04:00\",\"2005-10-27T00:00:00-04:00\",\"2005-10-28T00:00:00-04:00\",\"2005-10-31T00:00:00-05:00\",\"2005-11-01T00:00:00-05:00\",\"2005-11-02T00:00:00-05:00\",\"2005-11-03T00:00:00-05:00\",\"2005-11-04T00:00:00-05:00\",\"2005-11-07T00:00:00-05:00\",\"2005-11-08T00:00:00-05:00\",\"2005-11-09T00:00:00-05:00\",\"2005-11-10T00:00:00-05:00\",\"2005-11-11T00:00:00-05:00\",\"2005-11-14T00:00:00-05:00\",\"2005-11-15T00:00:00-05:00\",\"2005-11-16T00:00:00-05:00\",\"2005-11-17T00:00:00-05:00\",\"2005-11-18T00:00:00-05:00\",\"2005-11-21T00:00:00-05:00\",\"2005-11-22T00:00:00-05:00\",\"2005-11-23T00:00:00-05:00\",\"2005-11-25T00:00:00-05:00\",\"2005-11-28T00:00:00-05:00\",\"2005-11-29T00:00:00-05:00\",\"2005-11-30T00:00:00-05:00\",\"2005-12-01T00:00:00-05:00\",\"2005-12-02T00:00:00-05:00\",\"2005-12-05T00:00:00-05:00\",\"2005-12-06T00:00:00-05:00\",\"2005-12-07T00:00:00-05:00\",\"2005-12-08T00:00:00-05:00\",\"2005-12-09T00:00:00-05:00\",\"2005-12-12T00:00:00-05:00\",\"2005-12-13T00:00:00-05:00\",\"2005-12-14T00:00:00-05:00\",\"2005-12-15T00:00:00-05:00\",\"2005-12-16T00:00:00-05:00\",\"2005-12-19T00:00:00-05:00\",\"2005-12-20T00:00:00-05:00\",\"2005-12-21T00:00:00-05:00\",\"2005-12-22T00:00:00-05:00\",\"2005-12-23T00:00:00-05:00\",\"2005-12-27T00:00:00-05:00\",\"2005-12-28T00:00:00-05:00\",\"2005-12-29T00:00:00-05:00\",\"2005-12-30T00:00:00-05:00\",\"2006-01-03T00:00:00-05:00\",\"2006-01-04T00:00:00-05:00\",\"2006-01-05T00:00:00-05:00\",\"2006-01-06T00:00:00-05:00\",\"2006-01-09T00:00:00-05:00\",\"2006-01-10T00:00:00-05:00\",\"2006-01-11T00:00:00-05:00\",\"2006-01-12T00:00:00-05:00\",\"2006-01-13T00:00:00-05:00\",\"2006-01-17T00:00:00-05:00\",\"2006-01-18T00:00:00-05:00\",\"2006-01-19T00:00:00-05:00\",\"2006-01-20T00:00:00-05:00\",\"2006-01-23T00:00:00-05:00\",\"2006-01-24T00:00:00-05:00\",\"2006-01-25T00:00:00-05:00\",\"2006-01-26T00:00:00-05:00\",\"2006-01-27T00:00:00-05:00\",\"2006-01-30T00:00:00-05:00\",\"2006-01-31T00:00:00-05:00\",\"2006-02-01T00:00:00-05:00\",\"2006-02-02T00:00:00-05:00\",\"2006-02-03T00:00:00-05:00\",\"2006-02-06T00:00:00-05:00\",\"2006-02-07T00:00:00-05:00\",\"2006-02-08T00:00:00-05:00\",\"2006-02-09T00:00:00-05:00\",\"2006-02-10T00:00:00-05:00\",\"2006-02-13T00:00:00-05:00\",\"2006-02-14T00:00:00-05:00\",\"2006-02-15T00:00:00-05:00\",\"2006-02-16T00:00:00-05:00\",\"2006-02-17T00:00:00-05:00\",\"2006-02-21T00:00:00-05:00\",\"2006-02-22T00:00:00-05:00\",\"2006-02-23T00:00:00-05:00\",\"2006-02-24T00:00:00-05:00\",\"2006-02-27T00:00:00-05:00\",\"2006-02-28T00:00:00-05:00\",\"2006-03-01T00:00:00-05:00\",\"2006-03-02T00:00:00-05:00\",\"2006-03-03T00:00:00-05:00\",\"2006-03-06T00:00:00-05:00\",\"2006-03-07T00:00:00-05:00\",\"2006-03-08T00:00:00-05:00\",\"2006-03-09T00:00:00-05:00\",\"2006-03-10T00:00:00-05:00\",\"2006-03-13T00:00:00-05:00\",\"2006-03-14T00:00:00-05:00\",\"2006-03-15T00:00:00-05:00\",\"2006-03-16T00:00:00-05:00\",\"2006-03-17T00:00:00-05:00\",\"2006-03-20T00:00:00-05:00\",\"2006-03-21T00:00:00-05:00\",\"2006-03-22T00:00:00-05:00\",\"2006-03-23T00:00:00-05:00\",\"2006-03-24T00:00:00-05:00\",\"2006-03-27T00:00:00-05:00\",\"2006-03-28T00:00:00-05:00\",\"2006-03-29T00:00:00-05:00\",\"2006-03-30T00:00:00-05:00\",\"2006-03-31T00:00:00-05:00\",\"2006-04-03T00:00:00-04:00\",\"2006-04-04T00:00:00-04:00\",\"2006-04-05T00:00:00-04:00\",\"2006-04-06T00:00:00-04:00\",\"2006-04-07T00:00:00-04:00\",\"2006-04-10T00:00:00-04:00\",\"2006-04-11T00:00:00-04:00\",\"2006-04-12T00:00:00-04:00\",\"2006-04-13T00:00:00-04:00\",\"2006-04-17T00:00:00-04:00\",\"2006-04-18T00:00:00-04:00\",\"2006-04-19T00:00:00-04:00\",\"2006-04-20T00:00:00-04:00\",\"2006-04-21T00:00:00-04:00\",\"2006-04-24T00:00:00-04:00\",\"2006-04-25T00:00:00-04:00\",\"2006-04-26T00:00:00-04:00\",\"2006-04-27T00:00:00-04:00\",\"2006-04-28T00:00:00-04:00\",\"2006-05-01T00:00:00-04:00\",\"2006-05-02T00:00:00-04:00\",\"2006-05-03T00:00:00-04:00\",\"2006-05-04T00:00:00-04:00\",\"2006-05-05T00:00:00-04:00\",\"2006-05-08T00:00:00-04:00\",\"2006-05-09T00:00:00-04:00\",\"2006-05-10T00:00:00-04:00\",\"2006-05-11T00:00:00-04:00\",\"2006-05-12T00:00:00-04:00\",\"2006-05-15T00:00:00-04:00\",\"2006-05-16T00:00:00-04:00\",\"2006-05-17T00:00:00-04:00\",\"2006-05-18T00:00:00-04:00\",\"2006-05-19T00:00:00-04:00\",\"2006-05-22T00:00:00-04:00\",\"2006-05-23T00:00:00-04:00\",\"2006-05-24T00:00:00-04:00\",\"2006-05-25T00:00:00-04:00\",\"2006-05-26T00:00:00-04:00\",\"2006-05-30T00:00:00-04:00\",\"2006-05-31T00:00:00-04:00\",\"2006-06-01T00:00:00-04:00\",\"2006-06-02T00:00:00-04:00\",\"2006-06-05T00:00:00-04:00\",\"2006-06-06T00:00:00-04:00\",\"2006-06-07T00:00:00-04:00\",\"2006-06-08T00:00:00-04:00\",\"2006-06-09T00:00:00-04:00\",\"2006-06-12T00:00:00-04:00\",\"2006-06-13T00:00:00-04:00\",\"2006-06-14T00:00:00-04:00\",\"2006-06-15T00:00:00-04:00\",\"2006-06-16T00:00:00-04:00\",\"2006-06-19T00:00:00-04:00\",\"2006-06-20T00:00:00-04:00\",\"2006-06-21T00:00:00-04:00\",\"2006-06-22T00:00:00-04:00\",\"2006-06-23T00:00:00-04:00\",\"2006-06-26T00:00:00-04:00\",\"2006-06-27T00:00:00-04:00\",\"2006-06-28T00:00:00-04:00\",\"2006-06-29T00:00:00-04:00\",\"2006-06-30T00:00:00-04:00\",\"2006-07-03T00:00:00-04:00\",\"2006-07-05T00:00:00-04:00\",\"2006-07-06T00:00:00-04:00\",\"2006-07-07T00:00:00-04:00\",\"2006-07-10T00:00:00-04:00\",\"2006-07-11T00:00:00-04:00\",\"2006-07-12T00:00:00-04:00\",\"2006-07-13T00:00:00-04:00\",\"2006-07-14T00:00:00-04:00\",\"2006-07-17T00:00:00-04:00\",\"2006-07-18T00:00:00-04:00\",\"2006-07-19T00:00:00-04:00\",\"2006-07-20T00:00:00-04:00\",\"2006-07-21T00:00:00-04:00\",\"2006-07-24T00:00:00-04:00\",\"2006-07-25T00:00:00-04:00\",\"2006-07-26T00:00:00-04:00\",\"2006-07-27T00:00:00-04:00\",\"2006-07-28T00:00:00-04:00\",\"2006-07-31T00:00:00-04:00\",\"2006-08-01T00:00:00-04:00\",\"2006-08-02T00:00:00-04:00\",\"2006-08-03T00:00:00-04:00\",\"2006-08-04T00:00:00-04:00\",\"2006-08-07T00:00:00-04:00\",\"2006-08-08T00:00:00-04:00\",\"2006-08-09T00:00:00-04:00\",\"2006-08-10T00:00:00-04:00\",\"2006-08-11T00:00:00-04:00\",\"2006-08-14T00:00:00-04:00\",\"2006-08-15T00:00:00-04:00\",\"2006-08-16T00:00:00-04:00\",\"2006-08-17T00:00:00-04:00\",\"2006-08-18T00:00:00-04:00\",\"2006-08-21T00:00:00-04:00\",\"2006-08-22T00:00:00-04:00\",\"2006-08-23T00:00:00-04:00\",\"2006-08-24T00:00:00-04:00\",\"2006-08-25T00:00:00-04:00\",\"2006-08-28T00:00:00-04:00\",\"2006-08-29T00:00:00-04:00\",\"2006-08-30T00:00:00-04:00\",\"2006-08-31T00:00:00-04:00\",\"2006-09-01T00:00:00-04:00\",\"2006-09-05T00:00:00-04:00\",\"2006-09-06T00:00:00-04:00\",\"2006-09-07T00:00:00-04:00\",\"2006-09-08T00:00:00-04:00\",\"2006-09-11T00:00:00-04:00\",\"2006-09-12T00:00:00-04:00\",\"2006-09-13T00:00:00-04:00\",\"2006-09-14T00:00:00-04:00\",\"2006-09-15T00:00:00-04:00\",\"2006-09-18T00:00:00-04:00\",\"2006-09-19T00:00:00-04:00\",\"2006-09-20T00:00:00-04:00\",\"2006-09-21T00:00:00-04:00\",\"2006-09-22T00:00:00-04:00\",\"2006-09-25T00:00:00-04:00\",\"2006-09-26T00:00:00-04:00\",\"2006-09-27T00:00:00-04:00\",\"2006-09-28T00:00:00-04:00\",\"2006-09-29T00:00:00-04:00\",\"2006-10-02T00:00:00-04:00\",\"2006-10-03T00:00:00-04:00\",\"2006-10-04T00:00:00-04:00\",\"2006-10-05T00:00:00-04:00\",\"2006-10-06T00:00:00-04:00\",\"2006-10-09T00:00:00-04:00\",\"2006-10-10T00:00:00-04:00\",\"2006-10-11T00:00:00-04:00\",\"2006-10-12T00:00:00-04:00\",\"2006-10-13T00:00:00-04:00\",\"2006-10-16T00:00:00-04:00\",\"2006-10-17T00:00:00-04:00\",\"2006-10-18T00:00:00-04:00\",\"2006-10-19T00:00:00-04:00\",\"2006-10-20T00:00:00-04:00\",\"2006-10-23T00:00:00-04:00\",\"2006-10-24T00:00:00-04:00\",\"2006-10-25T00:00:00-04:00\",\"2006-10-26T00:00:00-04:00\",\"2006-10-27T00:00:00-04:00\",\"2006-10-30T00:00:00-05:00\",\"2006-10-31T00:00:00-05:00\",\"2006-11-01T00:00:00-05:00\",\"2006-11-02T00:00:00-05:00\",\"2006-11-03T00:00:00-05:00\",\"2006-11-06T00:00:00-05:00\",\"2006-11-07T00:00:00-05:00\",\"2006-11-08T00:00:00-05:00\",\"2006-11-09T00:00:00-05:00\",\"2006-11-10T00:00:00-05:00\",\"2006-11-13T00:00:00-05:00\",\"2006-11-14T00:00:00-05:00\",\"2006-11-15T00:00:00-05:00\",\"2006-11-16T00:00:00-05:00\",\"2006-11-17T00:00:00-05:00\",\"2006-11-20T00:00:00-05:00\",\"2006-11-21T00:00:00-05:00\",\"2006-11-22T00:00:00-05:00\",\"2006-11-24T00:00:00-05:00\",\"2006-11-27T00:00:00-05:00\",\"2006-11-28T00:00:00-05:00\",\"2006-11-29T00:00:00-05:00\",\"2006-11-30T00:00:00-05:00\",\"2006-12-01T00:00:00-05:00\",\"2006-12-04T00:00:00-05:00\",\"2006-12-05T00:00:00-05:00\",\"2006-12-06T00:00:00-05:00\",\"2006-12-07T00:00:00-05:00\",\"2006-12-08T00:00:00-05:00\",\"2006-12-11T00:00:00-05:00\",\"2006-12-12T00:00:00-05:00\",\"2006-12-13T00:00:00-05:00\",\"2006-12-14T00:00:00-05:00\",\"2006-12-15T00:00:00-05:00\",\"2006-12-18T00:00:00-05:00\",\"2006-12-19T00:00:00-05:00\",\"2006-12-20T00:00:00-05:00\",\"2006-12-21T00:00:00-05:00\",\"2006-12-22T00:00:00-05:00\",\"2006-12-26T00:00:00-05:00\",\"2006-12-27T00:00:00-05:00\",\"2006-12-28T00:00:00-05:00\",\"2006-12-29T00:00:00-05:00\",\"2007-01-03T00:00:00-05:00\",\"2007-01-04T00:00:00-05:00\",\"2007-01-05T00:00:00-05:00\",\"2007-01-08T00:00:00-05:00\",\"2007-01-09T00:00:00-05:00\",\"2007-01-10T00:00:00-05:00\",\"2007-01-11T00:00:00-05:00\",\"2007-01-12T00:00:00-05:00\",\"2007-01-16T00:00:00-05:00\",\"2007-01-17T00:00:00-05:00\",\"2007-01-18T00:00:00-05:00\",\"2007-01-19T00:00:00-05:00\",\"2007-01-22T00:00:00-05:00\",\"2007-01-23T00:00:00-05:00\",\"2007-01-24T00:00:00-05:00\",\"2007-01-25T00:00:00-05:00\",\"2007-01-26T00:00:00-05:00\",\"2007-01-29T00:00:00-05:00\",\"2007-01-30T00:00:00-05:00\",\"2007-01-31T00:00:00-05:00\",\"2007-02-01T00:00:00-05:00\",\"2007-02-02T00:00:00-05:00\",\"2007-02-05T00:00:00-05:00\",\"2007-02-06T00:00:00-05:00\",\"2007-02-07T00:00:00-05:00\",\"2007-02-08T00:00:00-05:00\",\"2007-02-09T00:00:00-05:00\",\"2007-02-12T00:00:00-05:00\",\"2007-02-13T00:00:00-05:00\",\"2007-02-14T00:00:00-05:00\",\"2007-02-15T00:00:00-05:00\",\"2007-02-16T00:00:00-05:00\",\"2007-02-20T00:00:00-05:00\",\"2007-02-21T00:00:00-05:00\",\"2007-02-22T00:00:00-05:00\",\"2007-02-23T00:00:00-05:00\",\"2007-02-26T00:00:00-05:00\",\"2007-02-27T00:00:00-05:00\",\"2007-02-28T00:00:00-05:00\",\"2007-03-01T00:00:00-05:00\",\"2007-03-02T00:00:00-05:00\",\"2007-03-05T00:00:00-05:00\",\"2007-03-06T00:00:00-05:00\",\"2007-03-07T00:00:00-05:00\",\"2007-03-08T00:00:00-05:00\",\"2007-03-09T00:00:00-05:00\",\"2007-03-12T00:00:00-04:00\",\"2007-03-13T00:00:00-04:00\",\"2007-03-14T00:00:00-04:00\",\"2007-03-15T00:00:00-04:00\",\"2007-03-16T00:00:00-04:00\",\"2007-03-19T00:00:00-04:00\",\"2007-03-20T00:00:00-04:00\",\"2007-03-21T00:00:00-04:00\",\"2007-03-22T00:00:00-04:00\",\"2007-03-23T00:00:00-04:00\",\"2007-03-26T00:00:00-04:00\",\"2007-03-27T00:00:00-04:00\",\"2007-03-28T00:00:00-04:00\",\"2007-03-29T00:00:00-04:00\",\"2007-03-30T00:00:00-04:00\",\"2007-04-02T00:00:00-04:00\",\"2007-04-03T00:00:00-04:00\",\"2007-04-04T00:00:00-04:00\",\"2007-04-05T00:00:00-04:00\",\"2007-04-09T00:00:00-04:00\",\"2007-04-10T00:00:00-04:00\",\"2007-04-11T00:00:00-04:00\",\"2007-04-12T00:00:00-04:00\",\"2007-04-13T00:00:00-04:00\",\"2007-04-16T00:00:00-04:00\",\"2007-04-17T00:00:00-04:00\",\"2007-04-18T00:00:00-04:00\",\"2007-04-19T00:00:00-04:00\",\"2007-04-20T00:00:00-04:00\",\"2007-04-23T00:00:00-04:00\",\"2007-04-24T00:00:00-04:00\",\"2007-04-25T00:00:00-04:00\",\"2007-04-26T00:00:00-04:00\",\"2007-04-27T00:00:00-04:00\",\"2007-04-30T00:00:00-04:00\",\"2007-05-01T00:00:00-04:00\",\"2007-05-02T00:00:00-04:00\",\"2007-05-03T00:00:00-04:00\",\"2007-05-04T00:00:00-04:00\",\"2007-05-07T00:00:00-04:00\",\"2007-05-08T00:00:00-04:00\",\"2007-05-09T00:00:00-04:00\",\"2007-05-10T00:00:00-04:00\",\"2007-05-11T00:00:00-04:00\",\"2007-05-14T00:00:00-04:00\",\"2007-05-15T00:00:00-04:00\",\"2007-05-16T00:00:00-04:00\",\"2007-05-17T00:00:00-04:00\",\"2007-05-18T00:00:00-04:00\",\"2007-05-21T00:00:00-04:00\",\"2007-05-22T00:00:00-04:00\",\"2007-05-23T00:00:00-04:00\",\"2007-05-24T00:00:00-04:00\",\"2007-05-25T00:00:00-04:00\",\"2007-05-29T00:00:00-04:00\",\"2007-05-30T00:00:00-04:00\",\"2007-05-31T00:00:00-04:00\",\"2007-06-01T00:00:00-04:00\",\"2007-06-04T00:00:00-04:00\",\"2007-06-05T00:00:00-04:00\",\"2007-06-06T00:00:00-04:00\",\"2007-06-07T00:00:00-04:00\",\"2007-06-08T00:00:00-04:00\",\"2007-06-11T00:00:00-04:00\",\"2007-06-12T00:00:00-04:00\",\"2007-06-13T00:00:00-04:00\",\"2007-06-14T00:00:00-04:00\",\"2007-06-15T00:00:00-04:00\",\"2007-06-18T00:00:00-04:00\",\"2007-06-19T00:00:00-04:00\",\"2007-06-20T00:00:00-04:00\",\"2007-06-21T00:00:00-04:00\",\"2007-06-22T00:00:00-04:00\",\"2007-06-25T00:00:00-04:00\",\"2007-06-26T00:00:00-04:00\",\"2007-06-27T00:00:00-04:00\",\"2007-06-28T00:00:00-04:00\",\"2007-06-29T00:00:00-04:00\",\"2007-07-02T00:00:00-04:00\",\"2007-07-03T00:00:00-04:00\",\"2007-07-05T00:00:00-04:00\",\"2007-07-06T00:00:00-04:00\",\"2007-07-09T00:00:00-04:00\",\"2007-07-10T00:00:00-04:00\",\"2007-07-11T00:00:00-04:00\",\"2007-07-12T00:00:00-04:00\",\"2007-07-13T00:00:00-04:00\",\"2007-07-16T00:00:00-04:00\",\"2007-07-17T00:00:00-04:00\",\"2007-07-18T00:00:00-04:00\",\"2007-07-19T00:00:00-04:00\",\"2007-07-20T00:00:00-04:00\",\"2007-07-23T00:00:00-04:00\",\"2007-07-24T00:00:00-04:00\",\"2007-07-25T00:00:00-04:00\",\"2007-07-26T00:00:00-04:00\",\"2007-07-27T00:00:00-04:00\",\"2007-07-30T00:00:00-04:00\",\"2007-07-31T00:00:00-04:00\",\"2007-08-01T00:00:00-04:00\",\"2007-08-02T00:00:00-04:00\",\"2007-08-03T00:00:00-04:00\",\"2007-08-06T00:00:00-04:00\",\"2007-08-07T00:00:00-04:00\",\"2007-08-08T00:00:00-04:00\",\"2007-08-09T00:00:00-04:00\",\"2007-08-10T00:00:00-04:00\",\"2007-08-13T00:00:00-04:00\",\"2007-08-14T00:00:00-04:00\",\"2007-08-15T00:00:00-04:00\",\"2007-08-16T00:00:00-04:00\",\"2007-08-17T00:00:00-04:00\",\"2007-08-20T00:00:00-04:00\",\"2007-08-21T00:00:00-04:00\",\"2007-08-22T00:00:00-04:00\",\"2007-08-23T00:00:00-04:00\",\"2007-08-24T00:00:00-04:00\",\"2007-08-27T00:00:00-04:00\",\"2007-08-28T00:00:00-04:00\",\"2007-08-29T00:00:00-04:00\",\"2007-08-30T00:00:00-04:00\",\"2007-08-31T00:00:00-04:00\",\"2007-09-04T00:00:00-04:00\",\"2007-09-05T00:00:00-04:00\",\"2007-09-06T00:00:00-04:00\",\"2007-09-07T00:00:00-04:00\",\"2007-09-10T00:00:00-04:00\",\"2007-09-11T00:00:00-04:00\",\"2007-09-12T00:00:00-04:00\",\"2007-09-13T00:00:00-04:00\",\"2007-09-14T00:00:00-04:00\",\"2007-09-17T00:00:00-04:00\",\"2007-09-18T00:00:00-04:00\",\"2007-09-19T00:00:00-04:00\",\"2007-09-20T00:00:00-04:00\",\"2007-09-21T00:00:00-04:00\",\"2007-09-24T00:00:00-04:00\",\"2007-09-25T00:00:00-04:00\",\"2007-09-26T00:00:00-04:00\",\"2007-09-27T00:00:00-04:00\",\"2007-09-28T00:00:00-04:00\",\"2007-10-01T00:00:00-04:00\",\"2007-10-02T00:00:00-04:00\",\"2007-10-03T00:00:00-04:00\",\"2007-10-04T00:00:00-04:00\",\"2007-10-05T00:00:00-04:00\",\"2007-10-08T00:00:00-04:00\",\"2007-10-09T00:00:00-04:00\",\"2007-10-10T00:00:00-04:00\",\"2007-10-11T00:00:00-04:00\",\"2007-10-12T00:00:00-04:00\",\"2007-10-15T00:00:00-04:00\",\"2007-10-16T00:00:00-04:00\",\"2007-10-17T00:00:00-04:00\",\"2007-10-18T00:00:00-04:00\",\"2007-10-19T00:00:00-04:00\",\"2007-10-22T00:00:00-04:00\",\"2007-10-23T00:00:00-04:00\",\"2007-10-24T00:00:00-04:00\",\"2007-10-25T00:00:00-04:00\",\"2007-10-26T00:00:00-04:00\",\"2007-10-29T00:00:00-04:00\",\"2007-10-30T00:00:00-04:00\",\"2007-10-31T00:00:00-04:00\",\"2007-11-01T00:00:00-04:00\",\"2007-11-02T00:00:00-04:00\",\"2007-11-05T00:00:00-05:00\",\"2007-11-06T00:00:00-05:00\",\"2007-11-07T00:00:00-05:00\",\"2007-11-08T00:00:00-05:00\",\"2007-11-09T00:00:00-05:00\",\"2007-11-12T00:00:00-05:00\",\"2007-11-13T00:00:00-05:00\",\"2007-11-14T00:00:00-05:00\",\"2007-11-15T00:00:00-05:00\",\"2007-11-16T00:00:00-05:00\",\"2007-11-19T00:00:00-05:00\",\"2007-11-20T00:00:00-05:00\",\"2007-11-21T00:00:00-05:00\",\"2007-11-23T00:00:00-05:00\",\"2007-11-26T00:00:00-05:00\",\"2007-11-27T00:00:00-05:00\",\"2007-11-28T00:00:00-05:00\",\"2007-11-29T00:00:00-05:00\",\"2007-11-30T00:00:00-05:00\",\"2007-12-03T00:00:00-05:00\",\"2007-12-04T00:00:00-05:00\",\"2007-12-05T00:00:00-05:00\",\"2007-12-06T00:00:00-05:00\",\"2007-12-07T00:00:00-05:00\",\"2007-12-10T00:00:00-05:00\",\"2007-12-11T00:00:00-05:00\",\"2007-12-12T00:00:00-05:00\",\"2007-12-13T00:00:00-05:00\",\"2007-12-14T00:00:00-05:00\",\"2007-12-17T00:00:00-05:00\",\"2007-12-18T00:00:00-05:00\",\"2007-12-19T00:00:00-05:00\",\"2007-12-20T00:00:00-05:00\",\"2007-12-21T00:00:00-05:00\",\"2007-12-24T00:00:00-05:00\",\"2007-12-26T00:00:00-05:00\",\"2007-12-27T00:00:00-05:00\",\"2007-12-28T00:00:00-05:00\",\"2007-12-31T00:00:00-05:00\",\"2008-01-02T00:00:00-05:00\",\"2008-01-03T00:00:00-05:00\",\"2008-01-04T00:00:00-05:00\",\"2008-01-07T00:00:00-05:00\",\"2008-01-08T00:00:00-05:00\",\"2008-01-09T00:00:00-05:00\",\"2008-01-10T00:00:00-05:00\",\"2008-01-11T00:00:00-05:00\",\"2008-01-14T00:00:00-05:00\",\"2008-01-15T00:00:00-05:00\",\"2008-01-16T00:00:00-05:00\",\"2008-01-17T00:00:00-05:00\",\"2008-01-18T00:00:00-05:00\",\"2008-01-22T00:00:00-05:00\",\"2008-01-23T00:00:00-05:00\",\"2008-01-24T00:00:00-05:00\",\"2008-01-25T00:00:00-05:00\",\"2008-01-28T00:00:00-05:00\",\"2008-01-29T00:00:00-05:00\",\"2008-01-30T00:00:00-05:00\",\"2008-01-31T00:00:00-05:00\",\"2008-02-01T00:00:00-05:00\",\"2008-02-04T00:00:00-05:00\",\"2008-02-05T00:00:00-05:00\",\"2008-02-06T00:00:00-05:00\",\"2008-02-07T00:00:00-05:00\",\"2008-02-08T00:00:00-05:00\",\"2008-02-11T00:00:00-05:00\",\"2008-02-12T00:00:00-05:00\",\"2008-02-13T00:00:00-05:00\",\"2008-02-14T00:00:00-05:00\",\"2008-02-15T00:00:00-05:00\",\"2008-02-19T00:00:00-05:00\",\"2008-02-20T00:00:00-05:00\",\"2008-02-21T00:00:00-05:00\",\"2008-02-22T00:00:00-05:00\",\"2008-02-25T00:00:00-05:00\",\"2008-02-26T00:00:00-05:00\",\"2008-02-27T00:00:00-05:00\",\"2008-02-28T00:00:00-05:00\",\"2008-02-29T00:00:00-05:00\",\"2008-03-03T00:00:00-05:00\",\"2008-03-04T00:00:00-05:00\",\"2008-03-05T00:00:00-05:00\",\"2008-03-06T00:00:00-05:00\",\"2008-03-07T00:00:00-05:00\",\"2008-03-10T00:00:00-04:00\",\"2008-03-11T00:00:00-04:00\",\"2008-03-12T00:00:00-04:00\",\"2008-03-13T00:00:00-04:00\",\"2008-03-14T00:00:00-04:00\",\"2008-03-17T00:00:00-04:00\",\"2008-03-18T00:00:00-04:00\",\"2008-03-19T00:00:00-04:00\",\"2008-03-20T00:00:00-04:00\",\"2008-03-24T00:00:00-04:00\",\"2008-03-25T00:00:00-04:00\",\"2008-03-26T00:00:00-04:00\",\"2008-03-27T00:00:00-04:00\",\"2008-03-28T00:00:00-04:00\",\"2008-03-31T00:00:00-04:00\",\"2008-04-01T00:00:00-04:00\",\"2008-04-02T00:00:00-04:00\",\"2008-04-03T00:00:00-04:00\",\"2008-04-04T00:00:00-04:00\",\"2008-04-07T00:00:00-04:00\",\"2008-04-08T00:00:00-04:00\",\"2008-04-09T00:00:00-04:00\",\"2008-04-10T00:00:00-04:00\",\"2008-04-11T00:00:00-04:00\",\"2008-04-14T00:00:00-04:00\",\"2008-04-15T00:00:00-04:00\",\"2008-04-16T00:00:00-04:00\",\"2008-04-17T00:00:00-04:00\",\"2008-04-18T00:00:00-04:00\",\"2008-04-21T00:00:00-04:00\",\"2008-04-22T00:00:00-04:00\",\"2008-04-23T00:00:00-04:00\",\"2008-04-24T00:00:00-04:00\",\"2008-04-25T00:00:00-04:00\",\"2008-04-28T00:00:00-04:00\",\"2008-04-29T00:00:00-04:00\",\"2008-04-30T00:00:00-04:00\",\"2008-05-01T00:00:00-04:00\",\"2008-05-02T00:00:00-04:00\",\"2008-05-05T00:00:00-04:00\",\"2008-05-06T00:00:00-04:00\",\"2008-05-07T00:00:00-04:00\",\"2008-05-08T00:00:00-04:00\",\"2008-05-09T00:00:00-04:00\",\"2008-05-12T00:00:00-04:00\",\"2008-05-13T00:00:00-04:00\",\"2008-05-14T00:00:00-04:00\",\"2008-05-15T00:00:00-04:00\",\"2008-05-16T00:00:00-04:00\",\"2008-05-19T00:00:00-04:00\",\"2008-05-20T00:00:00-04:00\",\"2008-05-21T00:00:00-04:00\",\"2008-05-22T00:00:00-04:00\",\"2008-05-23T00:00:00-04:00\",\"2008-05-27T00:00:00-04:00\",\"2008-05-28T00:00:00-04:00\",\"2008-05-29T00:00:00-04:00\",\"2008-05-30T00:00:00-04:00\",\"2008-06-02T00:00:00-04:00\",\"2008-06-03T00:00:00-04:00\",\"2008-06-04T00:00:00-04:00\",\"2008-06-05T00:00:00-04:00\",\"2008-06-06T00:00:00-04:00\",\"2008-06-09T00:00:00-04:00\",\"2008-06-10T00:00:00-04:00\",\"2008-06-11T00:00:00-04:00\",\"2008-06-12T00:00:00-04:00\",\"2008-06-13T00:00:00-04:00\",\"2008-06-16T00:00:00-04:00\",\"2008-06-17T00:00:00-04:00\",\"2008-06-18T00:00:00-04:00\",\"2008-06-19T00:00:00-04:00\",\"2008-06-20T00:00:00-04:00\",\"2008-06-23T00:00:00-04:00\",\"2008-06-24T00:00:00-04:00\",\"2008-06-25T00:00:00-04:00\",\"2008-06-26T00:00:00-04:00\",\"2008-06-27T00:00:00-04:00\",\"2008-06-30T00:00:00-04:00\",\"2008-07-01T00:00:00-04:00\",\"2008-07-02T00:00:00-04:00\",\"2008-07-03T00:00:00-04:00\",\"2008-07-07T00:00:00-04:00\",\"2008-07-08T00:00:00-04:00\",\"2008-07-09T00:00:00-04:00\",\"2008-07-10T00:00:00-04:00\",\"2008-07-11T00:00:00-04:00\",\"2008-07-14T00:00:00-04:00\",\"2008-07-15T00:00:00-04:00\",\"2008-07-16T00:00:00-04:00\",\"2008-07-17T00:00:00-04:00\",\"2008-07-18T00:00:00-04:00\",\"2008-07-21T00:00:00-04:00\",\"2008-07-22T00:00:00-04:00\",\"2008-07-23T00:00:00-04:00\",\"2008-07-24T00:00:00-04:00\",\"2008-07-25T00:00:00-04:00\",\"2008-07-28T00:00:00-04:00\",\"2008-07-29T00:00:00-04:00\",\"2008-07-30T00:00:00-04:00\",\"2008-07-31T00:00:00-04:00\",\"2008-08-01T00:00:00-04:00\",\"2008-08-04T00:00:00-04:00\",\"2008-08-05T00:00:00-04:00\",\"2008-08-06T00:00:00-04:00\",\"2008-08-07T00:00:00-04:00\",\"2008-08-08T00:00:00-04:00\",\"2008-08-11T00:00:00-04:00\",\"2008-08-12T00:00:00-04:00\",\"2008-08-13T00:00:00-04:00\",\"2008-08-14T00:00:00-04:00\",\"2008-08-15T00:00:00-04:00\",\"2008-08-18T00:00:00-04:00\",\"2008-08-19T00:00:00-04:00\",\"2008-08-20T00:00:00-04:00\",\"2008-08-21T00:00:00-04:00\",\"2008-08-22T00:00:00-04:00\",\"2008-08-25T00:00:00-04:00\",\"2008-08-26T00:00:00-04:00\",\"2008-08-27T00:00:00-04:00\",\"2008-08-28T00:00:00-04:00\",\"2008-08-29T00:00:00-04:00\",\"2008-09-02T00:00:00-04:00\",\"2008-09-03T00:00:00-04:00\",\"2008-09-04T00:00:00-04:00\",\"2008-09-05T00:00:00-04:00\",\"2008-09-08T00:00:00-04:00\",\"2008-09-09T00:00:00-04:00\",\"2008-09-10T00:00:00-04:00\",\"2008-09-11T00:00:00-04:00\",\"2008-09-12T00:00:00-04:00\",\"2008-09-15T00:00:00-04:00\",\"2008-09-16T00:00:00-04:00\",\"2008-09-17T00:00:00-04:00\",\"2008-09-18T00:00:00-04:00\",\"2008-09-19T00:00:00-04:00\",\"2008-09-22T00:00:00-04:00\",\"2008-09-23T00:00:00-04:00\",\"2008-09-24T00:00:00-04:00\",\"2008-09-25T00:00:00-04:00\",\"2008-09-26T00:00:00-04:00\",\"2008-09-29T00:00:00-04:00\",\"2008-09-30T00:00:00-04:00\",\"2008-10-01T00:00:00-04:00\",\"2008-10-02T00:00:00-04:00\",\"2008-10-03T00:00:00-04:00\",\"2008-10-06T00:00:00-04:00\",\"2008-10-07T00:00:00-04:00\",\"2008-10-08T00:00:00-04:00\",\"2008-10-09T00:00:00-04:00\",\"2008-10-10T00:00:00-04:00\",\"2008-10-13T00:00:00-04:00\",\"2008-10-14T00:00:00-04:00\",\"2008-10-15T00:00:00-04:00\",\"2008-10-16T00:00:00-04:00\",\"2008-10-17T00:00:00-04:00\",\"2008-10-20T00:00:00-04:00\",\"2008-10-21T00:00:00-04:00\",\"2008-10-22T00:00:00-04:00\",\"2008-10-23T00:00:00-04:00\",\"2008-10-24T00:00:00-04:00\",\"2008-10-27T00:00:00-04:00\",\"2008-10-28T00:00:00-04:00\",\"2008-10-29T00:00:00-04:00\",\"2008-10-30T00:00:00-04:00\",\"2008-10-31T00:00:00-04:00\",\"2008-11-03T00:00:00-05:00\",\"2008-11-04T00:00:00-05:00\",\"2008-11-05T00:00:00-05:00\",\"2008-11-06T00:00:00-05:00\",\"2008-11-07T00:00:00-05:00\",\"2008-11-10T00:00:00-05:00\",\"2008-11-11T00:00:00-05:00\",\"2008-11-12T00:00:00-05:00\",\"2008-11-13T00:00:00-05:00\",\"2008-11-14T00:00:00-05:00\",\"2008-11-17T00:00:00-05:00\",\"2008-11-18T00:00:00-05:00\",\"2008-11-19T00:00:00-05:00\",\"2008-11-20T00:00:00-05:00\",\"2008-11-21T00:00:00-05:00\",\"2008-11-24T00:00:00-05:00\",\"2008-11-25T00:00:00-05:00\",\"2008-11-26T00:00:00-05:00\",\"2008-11-28T00:00:00-05:00\",\"2008-12-01T00:00:00-05:00\",\"2008-12-02T00:00:00-05:00\",\"2008-12-03T00:00:00-05:00\",\"2008-12-04T00:00:00-05:00\",\"2008-12-05T00:00:00-05:00\",\"2008-12-08T00:00:00-05:00\",\"2008-12-09T00:00:00-05:00\",\"2008-12-10T00:00:00-05:00\",\"2008-12-11T00:00:00-05:00\",\"2008-12-12T00:00:00-05:00\",\"2008-12-15T00:00:00-05:00\",\"2008-12-16T00:00:00-05:00\",\"2008-12-17T00:00:00-05:00\",\"2008-12-18T00:00:00-05:00\",\"2008-12-19T00:00:00-05:00\",\"2008-12-22T00:00:00-05:00\",\"2008-12-23T00:00:00-05:00\",\"2008-12-24T00:00:00-05:00\",\"2008-12-26T00:00:00-05:00\",\"2008-12-29T00:00:00-05:00\",\"2008-12-30T00:00:00-05:00\",\"2008-12-31T00:00:00-05:00\",\"2009-01-02T00:00:00-05:00\",\"2009-01-05T00:00:00-05:00\",\"2009-01-06T00:00:00-05:00\",\"2009-01-07T00:00:00-05:00\",\"2009-01-08T00:00:00-05:00\",\"2009-01-09T00:00:00-05:00\",\"2009-01-12T00:00:00-05:00\",\"2009-01-13T00:00:00-05:00\",\"2009-01-14T00:00:00-05:00\",\"2009-01-15T00:00:00-05:00\",\"2009-01-16T00:00:00-05:00\",\"2009-01-20T00:00:00-05:00\",\"2009-01-21T00:00:00-05:00\",\"2009-01-22T00:00:00-05:00\",\"2009-01-23T00:00:00-05:00\",\"2009-01-26T00:00:00-05:00\",\"2009-01-27T00:00:00-05:00\",\"2009-01-28T00:00:00-05:00\",\"2009-01-29T00:00:00-05:00\",\"2009-01-30T00:00:00-05:00\",\"2009-02-02T00:00:00-05:00\",\"2009-02-03T00:00:00-05:00\",\"2009-02-04T00:00:00-05:00\",\"2009-02-05T00:00:00-05:00\",\"2009-02-06T00:00:00-05:00\",\"2009-02-09T00:00:00-05:00\",\"2009-02-10T00:00:00-05:00\",\"2009-02-11T00:00:00-05:00\",\"2009-02-12T00:00:00-05:00\",\"2009-02-13T00:00:00-05:00\",\"2009-02-17T00:00:00-05:00\",\"2009-02-18T00:00:00-05:00\",\"2009-02-19T00:00:00-05:00\",\"2009-02-20T00:00:00-05:00\",\"2009-02-23T00:00:00-05:00\",\"2009-02-24T00:00:00-05:00\",\"2009-02-25T00:00:00-05:00\",\"2009-02-26T00:00:00-05:00\",\"2009-02-27T00:00:00-05:00\",\"2009-03-02T00:00:00-05:00\",\"2009-03-03T00:00:00-05:00\",\"2009-03-04T00:00:00-05:00\",\"2009-03-05T00:00:00-05:00\",\"2009-03-06T00:00:00-05:00\",\"2009-03-09T00:00:00-04:00\",\"2009-03-10T00:00:00-04:00\",\"2009-03-11T00:00:00-04:00\",\"2009-03-12T00:00:00-04:00\",\"2009-03-13T00:00:00-04:00\",\"2009-03-16T00:00:00-04:00\",\"2009-03-17T00:00:00-04:00\",\"2009-03-18T00:00:00-04:00\",\"2009-03-19T00:00:00-04:00\",\"2009-03-20T00:00:00-04:00\",\"2009-03-23T00:00:00-04:00\",\"2009-03-24T00:00:00-04:00\",\"2009-03-25T00:00:00-04:00\",\"2009-03-26T00:00:00-04:00\",\"2009-03-27T00:00:00-04:00\",\"2009-03-30T00:00:00-04:00\",\"2009-03-31T00:00:00-04:00\",\"2009-04-01T00:00:00-04:00\",\"2009-04-02T00:00:00-04:00\",\"2009-04-03T00:00:00-04:00\",\"2009-04-06T00:00:00-04:00\",\"2009-04-07T00:00:00-04:00\",\"2009-04-08T00:00:00-04:00\",\"2009-04-09T00:00:00-04:00\",\"2009-04-13T00:00:00-04:00\",\"2009-04-14T00:00:00-04:00\",\"2009-04-15T00:00:00-04:00\",\"2009-04-16T00:00:00-04:00\",\"2009-04-17T00:00:00-04:00\",\"2009-04-20T00:00:00-04:00\",\"2009-04-21T00:00:00-04:00\",\"2009-04-22T00:00:00-04:00\",\"2009-04-23T00:00:00-04:00\",\"2009-04-24T00:00:00-04:00\",\"2009-04-27T00:00:00-04:00\",\"2009-04-28T00:00:00-04:00\",\"2009-04-29T00:00:00-04:00\",\"2009-04-30T00:00:00-04:00\",\"2009-05-01T00:00:00-04:00\",\"2009-05-04T00:00:00-04:00\",\"2009-05-05T00:00:00-04:00\",\"2009-05-06T00:00:00-04:00\",\"2009-05-07T00:00:00-04:00\",\"2009-05-08T00:00:00-04:00\",\"2009-05-11T00:00:00-04:00\",\"2009-05-12T00:00:00-04:00\",\"2009-05-13T00:00:00-04:00\",\"2009-05-14T00:00:00-04:00\",\"2009-05-15T00:00:00-04:00\",\"2009-05-18T00:00:00-04:00\",\"2009-05-19T00:00:00-04:00\",\"2009-05-20T00:00:00-04:00\",\"2009-05-21T00:00:00-04:00\",\"2009-05-22T00:00:00-04:00\",\"2009-05-26T00:00:00-04:00\",\"2009-05-27T00:00:00-04:00\",\"2009-05-28T00:00:00-04:00\",\"2009-05-29T00:00:00-04:00\",\"2009-06-01T00:00:00-04:00\",\"2009-06-02T00:00:00-04:00\",\"2009-06-03T00:00:00-04:00\",\"2009-06-04T00:00:00-04:00\",\"2009-06-05T00:00:00-04:00\",\"2009-06-08T00:00:00-04:00\",\"2009-06-09T00:00:00-04:00\",\"2009-06-10T00:00:00-04:00\",\"2009-06-11T00:00:00-04:00\",\"2009-06-12T00:00:00-04:00\",\"2009-06-15T00:00:00-04:00\",\"2009-06-16T00:00:00-04:00\",\"2009-06-17T00:00:00-04:00\",\"2009-06-18T00:00:00-04:00\",\"2009-06-19T00:00:00-04:00\",\"2009-06-22T00:00:00-04:00\",\"2009-06-23T00:00:00-04:00\",\"2009-06-24T00:00:00-04:00\",\"2009-06-25T00:00:00-04:00\",\"2009-06-26T00:00:00-04:00\",\"2009-06-29T00:00:00-04:00\",\"2009-06-30T00:00:00-04:00\",\"2009-07-01T00:00:00-04:00\",\"2009-07-02T00:00:00-04:00\",\"2009-07-06T00:00:00-04:00\",\"2009-07-07T00:00:00-04:00\",\"2009-07-08T00:00:00-04:00\",\"2009-07-09T00:00:00-04:00\",\"2009-07-10T00:00:00-04:00\",\"2009-07-13T00:00:00-04:00\",\"2009-07-14T00:00:00-04:00\",\"2009-07-15T00:00:00-04:00\",\"2009-07-16T00:00:00-04:00\",\"2009-07-17T00:00:00-04:00\",\"2009-07-20T00:00:00-04:00\",\"2009-07-21T00:00:00-04:00\",\"2009-07-22T00:00:00-04:00\",\"2009-07-23T00:00:00-04:00\",\"2009-07-24T00:00:00-04:00\",\"2009-07-27T00:00:00-04:00\",\"2009-07-28T00:00:00-04:00\",\"2009-07-29T00:00:00-04:00\",\"2009-07-30T00:00:00-04:00\",\"2009-07-31T00:00:00-04:00\",\"2009-08-03T00:00:00-04:00\",\"2009-08-04T00:00:00-04:00\",\"2009-08-05T00:00:00-04:00\",\"2009-08-06T00:00:00-04:00\",\"2009-08-07T00:00:00-04:00\",\"2009-08-10T00:00:00-04:00\",\"2009-08-11T00:00:00-04:00\",\"2009-08-12T00:00:00-04:00\",\"2009-08-13T00:00:00-04:00\",\"2009-08-14T00:00:00-04:00\",\"2009-08-17T00:00:00-04:00\",\"2009-08-18T00:00:00-04:00\",\"2009-08-19T00:00:00-04:00\",\"2009-08-20T00:00:00-04:00\",\"2009-08-21T00:00:00-04:00\",\"2009-08-24T00:00:00-04:00\",\"2009-08-25T00:00:00-04:00\",\"2009-08-26T00:00:00-04:00\",\"2009-08-27T00:00:00-04:00\",\"2009-08-28T00:00:00-04:00\",\"2009-08-31T00:00:00-04:00\",\"2009-09-01T00:00:00-04:00\",\"2009-09-02T00:00:00-04:00\",\"2009-09-03T00:00:00-04:00\",\"2009-09-04T00:00:00-04:00\",\"2009-09-08T00:00:00-04:00\",\"2009-09-09T00:00:00-04:00\",\"2009-09-10T00:00:00-04:00\",\"2009-09-11T00:00:00-04:00\",\"2009-09-14T00:00:00-04:00\",\"2009-09-15T00:00:00-04:00\",\"2009-09-16T00:00:00-04:00\",\"2009-09-17T00:00:00-04:00\",\"2009-09-18T00:00:00-04:00\",\"2009-09-21T00:00:00-04:00\",\"2009-09-22T00:00:00-04:00\",\"2009-09-23T00:00:00-04:00\",\"2009-09-24T00:00:00-04:00\",\"2009-09-25T00:00:00-04:00\",\"2009-09-28T00:00:00-04:00\",\"2009-09-29T00:00:00-04:00\",\"2009-09-30T00:00:00-04:00\",\"2009-10-01T00:00:00-04:00\",\"2009-10-02T00:00:00-04:00\",\"2009-10-05T00:00:00-04:00\",\"2009-10-06T00:00:00-04:00\",\"2009-10-07T00:00:00-04:00\",\"2009-10-08T00:00:00-04:00\",\"2009-10-09T00:00:00-04:00\",\"2009-10-12T00:00:00-04:00\",\"2009-10-13T00:00:00-04:00\",\"2009-10-14T00:00:00-04:00\",\"2009-10-15T00:00:00-04:00\",\"2009-10-16T00:00:00-04:00\",\"2009-10-19T00:00:00-04:00\",\"2009-10-20T00:00:00-04:00\",\"2009-10-21T00:00:00-04:00\",\"2009-10-22T00:00:00-04:00\",\"2009-10-23T00:00:00-04:00\",\"2009-10-26T00:00:00-04:00\",\"2009-10-27T00:00:00-04:00\",\"2009-10-28T00:00:00-04:00\",\"2009-10-29T00:00:00-04:00\",\"2009-10-30T00:00:00-04:00\",\"2009-11-02T00:00:00-05:00\",\"2009-11-03T00:00:00-05:00\",\"2009-11-04T00:00:00-05:00\",\"2009-11-05T00:00:00-05:00\",\"2009-11-06T00:00:00-05:00\",\"2009-11-09T00:00:00-05:00\",\"2009-11-10T00:00:00-05:00\",\"2009-11-11T00:00:00-05:00\",\"2009-11-12T00:00:00-05:00\",\"2009-11-13T00:00:00-05:00\",\"2009-11-16T00:00:00-05:00\",\"2009-11-17T00:00:00-05:00\",\"2009-11-18T00:00:00-05:00\",\"2009-11-19T00:00:00-05:00\",\"2009-11-20T00:00:00-05:00\",\"2009-11-23T00:00:00-05:00\",\"2009-11-24T00:00:00-05:00\",\"2009-11-25T00:00:00-05:00\",\"2009-11-27T00:00:00-05:00\",\"2009-11-30T00:00:00-05:00\",\"2009-12-01T00:00:00-05:00\",\"2009-12-02T00:00:00-05:00\",\"2009-12-03T00:00:00-05:00\",\"2009-12-04T00:00:00-05:00\",\"2009-12-07T00:00:00-05:00\",\"2009-12-08T00:00:00-05:00\",\"2009-12-09T00:00:00-05:00\",\"2009-12-10T00:00:00-05:00\",\"2009-12-11T00:00:00-05:00\",\"2009-12-14T00:00:00-05:00\",\"2009-12-15T00:00:00-05:00\",\"2009-12-16T00:00:00-05:00\",\"2009-12-17T00:00:00-05:00\",\"2009-12-18T00:00:00-05:00\",\"2009-12-21T00:00:00-05:00\",\"2009-12-22T00:00:00-05:00\",\"2009-12-23T00:00:00-05:00\",\"2009-12-24T00:00:00-05:00\",\"2009-12-28T00:00:00-05:00\",\"2009-12-29T00:00:00-05:00\",\"2009-12-30T00:00:00-05:00\",\"2009-12-31T00:00:00-05:00\",\"2010-01-04T00:00:00-05:00\",\"2010-01-05T00:00:00-05:00\",\"2010-01-06T00:00:00-05:00\",\"2010-01-07T00:00:00-05:00\",\"2010-01-08T00:00:00-05:00\",\"2010-01-11T00:00:00-05:00\",\"2010-01-12T00:00:00-05:00\",\"2010-01-13T00:00:00-05:00\",\"2010-01-14T00:00:00-05:00\",\"2010-01-15T00:00:00-05:00\",\"2010-01-19T00:00:00-05:00\",\"2010-01-20T00:00:00-05:00\",\"2010-01-21T00:00:00-05:00\",\"2010-01-22T00:00:00-05:00\",\"2010-01-25T00:00:00-05:00\",\"2010-01-26T00:00:00-05:00\",\"2010-01-27T00:00:00-05:00\",\"2010-01-28T00:00:00-05:00\",\"2010-01-29T00:00:00-05:00\",\"2010-02-01T00:00:00-05:00\",\"2010-02-02T00:00:00-05:00\",\"2010-02-03T00:00:00-05:00\",\"2010-02-04T00:00:00-05:00\",\"2010-02-05T00:00:00-05:00\",\"2010-02-08T00:00:00-05:00\",\"2010-02-09T00:00:00-05:00\",\"2010-02-10T00:00:00-05:00\",\"2010-02-11T00:00:00-05:00\",\"2010-02-12T00:00:00-05:00\",\"2010-02-16T00:00:00-05:00\",\"2010-02-17T00:00:00-05:00\",\"2010-02-18T00:00:00-05:00\",\"2010-02-19T00:00:00-05:00\",\"2010-02-22T00:00:00-05:00\",\"2010-02-23T00:00:00-05:00\",\"2010-02-24T00:00:00-05:00\",\"2010-02-25T00:00:00-05:00\",\"2010-02-26T00:00:00-05:00\",\"2010-03-01T00:00:00-05:00\",\"2010-03-02T00:00:00-05:00\",\"2010-03-03T00:00:00-05:00\",\"2010-03-04T00:00:00-05:00\",\"2010-03-05T00:00:00-05:00\",\"2010-03-08T00:00:00-05:00\",\"2010-03-09T00:00:00-05:00\",\"2010-03-10T00:00:00-05:00\",\"2010-03-11T00:00:00-05:00\",\"2010-03-12T00:00:00-05:00\",\"2010-03-15T00:00:00-04:00\",\"2010-03-16T00:00:00-04:00\",\"2010-03-17T00:00:00-04:00\",\"2010-03-18T00:00:00-04:00\",\"2010-03-19T00:00:00-04:00\",\"2010-03-22T00:00:00-04:00\",\"2010-03-23T00:00:00-04:00\",\"2010-03-24T00:00:00-04:00\",\"2010-03-25T00:00:00-04:00\",\"2010-03-26T00:00:00-04:00\",\"2010-03-29T00:00:00-04:00\",\"2010-03-30T00:00:00-04:00\",\"2010-03-31T00:00:00-04:00\",\"2010-04-01T00:00:00-04:00\",\"2010-04-05T00:00:00-04:00\",\"2010-04-06T00:00:00-04:00\",\"2010-04-07T00:00:00-04:00\",\"2010-04-08T00:00:00-04:00\",\"2010-04-09T00:00:00-04:00\",\"2010-04-12T00:00:00-04:00\",\"2010-04-13T00:00:00-04:00\",\"2010-04-14T00:00:00-04:00\",\"2010-04-15T00:00:00-04:00\",\"2010-04-16T00:00:00-04:00\",\"2010-04-19T00:00:00-04:00\",\"2010-04-20T00:00:00-04:00\",\"2010-04-21T00:00:00-04:00\",\"2010-04-22T00:00:00-04:00\",\"2010-04-23T00:00:00-04:00\",\"2010-04-26T00:00:00-04:00\",\"2010-04-27T00:00:00-04:00\",\"2010-04-28T00:00:00-04:00\",\"2010-04-29T00:00:00-04:00\",\"2010-04-30T00:00:00-04:00\",\"2010-05-03T00:00:00-04:00\",\"2010-05-04T00:00:00-04:00\",\"2010-05-05T00:00:00-04:00\",\"2010-05-06T00:00:00-04:00\",\"2010-05-07T00:00:00-04:00\",\"2010-05-10T00:00:00-04:00\",\"2010-05-11T00:00:00-04:00\",\"2010-05-12T00:00:00-04:00\",\"2010-05-13T00:00:00-04:00\",\"2010-05-14T00:00:00-04:00\",\"2010-05-17T00:00:00-04:00\",\"2010-05-18T00:00:00-04:00\",\"2010-05-19T00:00:00-04:00\",\"2010-05-20T00:00:00-04:00\",\"2010-05-21T00:00:00-04:00\",\"2010-05-24T00:00:00-04:00\",\"2010-05-25T00:00:00-04:00\",\"2010-05-26T00:00:00-04:00\",\"2010-05-27T00:00:00-04:00\",\"2010-05-28T00:00:00-04:00\",\"2010-06-01T00:00:00-04:00\",\"2010-06-02T00:00:00-04:00\",\"2010-06-03T00:00:00-04:00\",\"2010-06-04T00:00:00-04:00\",\"2010-06-07T00:00:00-04:00\",\"2010-06-08T00:00:00-04:00\",\"2010-06-09T00:00:00-04:00\",\"2010-06-10T00:00:00-04:00\",\"2010-06-11T00:00:00-04:00\",\"2010-06-14T00:00:00-04:00\",\"2010-06-15T00:00:00-04:00\",\"2010-06-16T00:00:00-04:00\",\"2010-06-17T00:00:00-04:00\",\"2010-06-18T00:00:00-04:00\",\"2010-06-21T00:00:00-04:00\",\"2010-06-22T00:00:00-04:00\",\"2010-06-23T00:00:00-04:00\",\"2010-06-24T00:00:00-04:00\",\"2010-06-25T00:00:00-04:00\",\"2010-06-28T00:00:00-04:00\",\"2010-06-29T00:00:00-04:00\",\"2010-06-30T00:00:00-04:00\",\"2010-07-01T00:00:00-04:00\",\"2010-07-02T00:00:00-04:00\",\"2010-07-06T00:00:00-04:00\",\"2010-07-07T00:00:00-04:00\",\"2010-07-08T00:00:00-04:00\",\"2010-07-09T00:00:00-04:00\",\"2010-07-12T00:00:00-04:00\",\"2010-07-13T00:00:00-04:00\",\"2010-07-14T00:00:00-04:00\",\"2010-07-15T00:00:00-04:00\",\"2010-07-16T00:00:00-04:00\",\"2010-07-19T00:00:00-04:00\",\"2010-07-20T00:00:00-04:00\",\"2010-07-21T00:00:00-04:00\",\"2010-07-22T00:00:00-04:00\",\"2010-07-23T00:00:00-04:00\",\"2010-07-26T00:00:00-04:00\",\"2010-07-27T00:00:00-04:00\",\"2010-07-28T00:00:00-04:00\",\"2010-07-29T00:00:00-04:00\",\"2010-07-30T00:00:00-04:00\",\"2010-08-02T00:00:00-04:00\",\"2010-08-03T00:00:00-04:00\",\"2010-08-04T00:00:00-04:00\",\"2010-08-05T00:00:00-04:00\",\"2010-08-06T00:00:00-04:00\",\"2010-08-09T00:00:00-04:00\",\"2010-08-10T00:00:00-04:00\",\"2010-08-11T00:00:00-04:00\",\"2010-08-12T00:00:00-04:00\",\"2010-08-13T00:00:00-04:00\",\"2010-08-16T00:00:00-04:00\",\"2010-08-17T00:00:00-04:00\",\"2010-08-18T00:00:00-04:00\",\"2010-08-19T00:00:00-04:00\",\"2010-08-20T00:00:00-04:00\",\"2010-08-23T00:00:00-04:00\",\"2010-08-24T00:00:00-04:00\",\"2010-08-25T00:00:00-04:00\",\"2010-08-26T00:00:00-04:00\",\"2010-08-27T00:00:00-04:00\",\"2010-08-30T00:00:00-04:00\",\"2010-08-31T00:00:00-04:00\",\"2010-09-01T00:00:00-04:00\",\"2010-09-02T00:00:00-04:00\",\"2010-09-03T00:00:00-04:00\",\"2010-09-07T00:00:00-04:00\",\"2010-09-08T00:00:00-04:00\",\"2010-09-09T00:00:00-04:00\",\"2010-09-10T00:00:00-04:00\",\"2010-09-13T00:00:00-04:00\",\"2010-09-14T00:00:00-04:00\",\"2010-09-15T00:00:00-04:00\",\"2010-09-16T00:00:00-04:00\",\"2010-09-17T00:00:00-04:00\",\"2010-09-20T00:00:00-04:00\",\"2010-09-21T00:00:00-04:00\",\"2010-09-22T00:00:00-04:00\",\"2010-09-23T00:00:00-04:00\",\"2010-09-24T00:00:00-04:00\",\"2010-09-27T00:00:00-04:00\",\"2010-09-28T00:00:00-04:00\",\"2010-09-29T00:00:00-04:00\",\"2010-09-30T00:00:00-04:00\",\"2010-10-01T00:00:00-04:00\",\"2010-10-04T00:00:00-04:00\",\"2010-10-05T00:00:00-04:00\",\"2010-10-06T00:00:00-04:00\",\"2010-10-07T00:00:00-04:00\",\"2010-10-08T00:00:00-04:00\",\"2010-10-11T00:00:00-04:00\",\"2010-10-12T00:00:00-04:00\",\"2010-10-13T00:00:00-04:00\",\"2010-10-14T00:00:00-04:00\",\"2010-10-15T00:00:00-04:00\",\"2010-10-18T00:00:00-04:00\",\"2010-10-19T00:00:00-04:00\",\"2010-10-20T00:00:00-04:00\",\"2010-10-21T00:00:00-04:00\",\"2010-10-22T00:00:00-04:00\",\"2010-10-25T00:00:00-04:00\",\"2010-10-26T00:00:00-04:00\",\"2010-10-27T00:00:00-04:00\",\"2010-10-28T00:00:00-04:00\",\"2010-10-29T00:00:00-04:00\",\"2010-11-01T00:00:00-04:00\",\"2010-11-02T00:00:00-04:00\",\"2010-11-03T00:00:00-04:00\",\"2010-11-04T00:00:00-04:00\",\"2010-11-05T00:00:00-04:00\",\"2010-11-08T00:00:00-05:00\",\"2010-11-09T00:00:00-05:00\",\"2010-11-10T00:00:00-05:00\",\"2010-11-11T00:00:00-05:00\",\"2010-11-12T00:00:00-05:00\",\"2010-11-15T00:00:00-05:00\",\"2010-11-16T00:00:00-05:00\",\"2010-11-17T00:00:00-05:00\",\"2010-11-18T00:00:00-05:00\",\"2010-11-19T00:00:00-05:00\",\"2010-11-22T00:00:00-05:00\",\"2010-11-23T00:00:00-05:00\",\"2010-11-24T00:00:00-05:00\",\"2010-11-26T00:00:00-05:00\",\"2010-11-29T00:00:00-05:00\",\"2010-11-30T00:00:00-05:00\",\"2010-12-01T00:00:00-05:00\",\"2010-12-02T00:00:00-05:00\",\"2010-12-03T00:00:00-05:00\",\"2010-12-06T00:00:00-05:00\",\"2010-12-07T00:00:00-05:00\",\"2010-12-08T00:00:00-05:00\",\"2010-12-09T00:00:00-05:00\",\"2010-12-10T00:00:00-05:00\",\"2010-12-13T00:00:00-05:00\",\"2010-12-14T00:00:00-05:00\",\"2010-12-15T00:00:00-05:00\",\"2010-12-16T00:00:00-05:00\",\"2010-12-17T00:00:00-05:00\",\"2010-12-20T00:00:00-05:00\",\"2010-12-21T00:00:00-05:00\",\"2010-12-22T00:00:00-05:00\",\"2010-12-23T00:00:00-05:00\",\"2010-12-27T00:00:00-05:00\",\"2010-12-28T00:00:00-05:00\",\"2010-12-29T00:00:00-05:00\",\"2010-12-30T00:00:00-05:00\",\"2010-12-31T00:00:00-05:00\",\"2011-01-03T00:00:00-05:00\",\"2011-01-04T00:00:00-05:00\",\"2011-01-05T00:00:00-05:00\",\"2011-01-06T00:00:00-05:00\",\"2011-01-07T00:00:00-05:00\",\"2011-01-10T00:00:00-05:00\",\"2011-01-11T00:00:00-05:00\",\"2011-01-12T00:00:00-05:00\",\"2011-01-13T00:00:00-05:00\",\"2011-01-14T00:00:00-05:00\",\"2011-01-18T00:00:00-05:00\",\"2011-01-19T00:00:00-05:00\",\"2011-01-20T00:00:00-05:00\",\"2011-01-21T00:00:00-05:00\",\"2011-01-24T00:00:00-05:00\",\"2011-01-25T00:00:00-05:00\",\"2011-01-26T00:00:00-05:00\",\"2011-01-27T00:00:00-05:00\",\"2011-01-28T00:00:00-05:00\",\"2011-01-31T00:00:00-05:00\",\"2011-02-01T00:00:00-05:00\",\"2011-02-02T00:00:00-05:00\",\"2011-02-03T00:00:00-05:00\",\"2011-02-04T00:00:00-05:00\",\"2011-02-07T00:00:00-05:00\",\"2011-02-08T00:00:00-05:00\",\"2011-02-09T00:00:00-05:00\",\"2011-02-10T00:00:00-05:00\",\"2011-02-11T00:00:00-05:00\",\"2011-02-14T00:00:00-05:00\",\"2011-02-15T00:00:00-05:00\",\"2011-02-16T00:00:00-05:00\",\"2011-02-17T00:00:00-05:00\",\"2011-02-18T00:00:00-05:00\",\"2011-02-22T00:00:00-05:00\",\"2011-02-23T00:00:00-05:00\",\"2011-02-24T00:00:00-05:00\",\"2011-02-25T00:00:00-05:00\",\"2011-02-28T00:00:00-05:00\",\"2011-03-01T00:00:00-05:00\",\"2011-03-02T00:00:00-05:00\",\"2011-03-03T00:00:00-05:00\",\"2011-03-04T00:00:00-05:00\",\"2011-03-07T00:00:00-05:00\",\"2011-03-08T00:00:00-05:00\",\"2011-03-09T00:00:00-05:00\",\"2011-03-10T00:00:00-05:00\",\"2011-03-11T00:00:00-05:00\",\"2011-03-14T00:00:00-04:00\",\"2011-03-15T00:00:00-04:00\",\"2011-03-16T00:00:00-04:00\",\"2011-03-17T00:00:00-04:00\",\"2011-03-18T00:00:00-04:00\",\"2011-03-21T00:00:00-04:00\",\"2011-03-22T00:00:00-04:00\",\"2011-03-23T00:00:00-04:00\",\"2011-03-24T00:00:00-04:00\",\"2011-03-25T00:00:00-04:00\",\"2011-03-28T00:00:00-04:00\",\"2011-03-29T00:00:00-04:00\",\"2011-03-30T00:00:00-04:00\",\"2011-03-31T00:00:00-04:00\",\"2011-04-01T00:00:00-04:00\",\"2011-04-04T00:00:00-04:00\",\"2011-04-05T00:00:00-04:00\",\"2011-04-06T00:00:00-04:00\",\"2011-04-07T00:00:00-04:00\",\"2011-04-08T00:00:00-04:00\",\"2011-04-11T00:00:00-04:00\",\"2011-04-12T00:00:00-04:00\",\"2011-04-13T00:00:00-04:00\",\"2011-04-14T00:00:00-04:00\",\"2011-04-15T00:00:00-04:00\",\"2011-04-18T00:00:00-04:00\",\"2011-04-19T00:00:00-04:00\",\"2011-04-20T00:00:00-04:00\",\"2011-04-21T00:00:00-04:00\",\"2011-04-25T00:00:00-04:00\",\"2011-04-26T00:00:00-04:00\",\"2011-04-27T00:00:00-04:00\",\"2011-04-28T00:00:00-04:00\",\"2011-04-29T00:00:00-04:00\",\"2011-05-02T00:00:00-04:00\",\"2011-05-03T00:00:00-04:00\",\"2011-05-04T00:00:00-04:00\",\"2011-05-05T00:00:00-04:00\",\"2011-05-06T00:00:00-04:00\",\"2011-05-09T00:00:00-04:00\",\"2011-05-10T00:00:00-04:00\",\"2011-05-11T00:00:00-04:00\",\"2011-05-12T00:00:00-04:00\",\"2011-05-13T00:00:00-04:00\",\"2011-05-16T00:00:00-04:00\",\"2011-05-17T00:00:00-04:00\",\"2011-05-18T00:00:00-04:00\",\"2011-05-19T00:00:00-04:00\",\"2011-05-20T00:00:00-04:00\",\"2011-05-23T00:00:00-04:00\",\"2011-05-24T00:00:00-04:00\",\"2011-05-25T00:00:00-04:00\",\"2011-05-26T00:00:00-04:00\",\"2011-05-27T00:00:00-04:00\",\"2011-05-31T00:00:00-04:00\",\"2011-06-01T00:00:00-04:00\",\"2011-06-02T00:00:00-04:00\",\"2011-06-03T00:00:00-04:00\",\"2011-06-06T00:00:00-04:00\",\"2011-06-07T00:00:00-04:00\",\"2011-06-08T00:00:00-04:00\",\"2011-06-09T00:00:00-04:00\",\"2011-06-10T00:00:00-04:00\",\"2011-06-13T00:00:00-04:00\",\"2011-06-14T00:00:00-04:00\",\"2011-06-15T00:00:00-04:00\",\"2011-06-16T00:00:00-04:00\",\"2011-06-17T00:00:00-04:00\",\"2011-06-20T00:00:00-04:00\",\"2011-06-21T00:00:00-04:00\",\"2011-06-22T00:00:00-04:00\",\"2011-06-23T00:00:00-04:00\",\"2011-06-24T00:00:00-04:00\",\"2011-06-27T00:00:00-04:00\",\"2011-06-28T00:00:00-04:00\",\"2011-06-29T00:00:00-04:00\",\"2011-06-30T00:00:00-04:00\",\"2011-07-01T00:00:00-04:00\",\"2011-07-05T00:00:00-04:00\",\"2011-07-06T00:00:00-04:00\",\"2011-07-07T00:00:00-04:00\",\"2011-07-08T00:00:00-04:00\",\"2011-07-11T00:00:00-04:00\",\"2011-07-12T00:00:00-04:00\",\"2011-07-13T00:00:00-04:00\",\"2011-07-14T00:00:00-04:00\",\"2011-07-15T00:00:00-04:00\",\"2011-07-18T00:00:00-04:00\",\"2011-07-19T00:00:00-04:00\",\"2011-07-20T00:00:00-04:00\",\"2011-07-21T00:00:00-04:00\",\"2011-07-22T00:00:00-04:00\",\"2011-07-25T00:00:00-04:00\",\"2011-07-26T00:00:00-04:00\",\"2011-07-27T00:00:00-04:00\",\"2011-07-28T00:00:00-04:00\",\"2011-07-29T00:00:00-04:00\",\"2011-08-01T00:00:00-04:00\",\"2011-08-02T00:00:00-04:00\",\"2011-08-03T00:00:00-04:00\",\"2011-08-04T00:00:00-04:00\",\"2011-08-05T00:00:00-04:00\",\"2011-08-08T00:00:00-04:00\",\"2011-08-09T00:00:00-04:00\",\"2011-08-10T00:00:00-04:00\",\"2011-08-11T00:00:00-04:00\",\"2011-08-12T00:00:00-04:00\",\"2011-08-15T00:00:00-04:00\",\"2011-08-16T00:00:00-04:00\",\"2011-08-17T00:00:00-04:00\",\"2011-08-18T00:00:00-04:00\",\"2011-08-19T00:00:00-04:00\",\"2011-08-22T00:00:00-04:00\",\"2011-08-23T00:00:00-04:00\",\"2011-08-24T00:00:00-04:00\",\"2011-08-25T00:00:00-04:00\",\"2011-08-26T00:00:00-04:00\",\"2011-08-29T00:00:00-04:00\",\"2011-08-30T00:00:00-04:00\",\"2011-08-31T00:00:00-04:00\",\"2011-09-01T00:00:00-04:00\",\"2011-09-02T00:00:00-04:00\",\"2011-09-06T00:00:00-04:00\",\"2011-09-07T00:00:00-04:00\",\"2011-09-08T00:00:00-04:00\",\"2011-09-09T00:00:00-04:00\",\"2011-09-12T00:00:00-04:00\",\"2011-09-13T00:00:00-04:00\",\"2011-09-14T00:00:00-04:00\",\"2011-09-15T00:00:00-04:00\",\"2011-09-16T00:00:00-04:00\",\"2011-09-19T00:00:00-04:00\",\"2011-09-20T00:00:00-04:00\",\"2011-09-21T00:00:00-04:00\",\"2011-09-22T00:00:00-04:00\",\"2011-09-23T00:00:00-04:00\",\"2011-09-26T00:00:00-04:00\",\"2011-09-27T00:00:00-04:00\",\"2011-09-28T00:00:00-04:00\",\"2011-09-29T00:00:00-04:00\",\"2011-09-30T00:00:00-04:00\",\"2011-10-03T00:00:00-04:00\",\"2011-10-04T00:00:00-04:00\",\"2011-10-05T00:00:00-04:00\",\"2011-10-06T00:00:00-04:00\",\"2011-10-07T00:00:00-04:00\",\"2011-10-10T00:00:00-04:00\",\"2011-10-11T00:00:00-04:00\",\"2011-10-12T00:00:00-04:00\",\"2011-10-13T00:00:00-04:00\",\"2011-10-14T00:00:00-04:00\",\"2011-10-17T00:00:00-04:00\",\"2011-10-18T00:00:00-04:00\",\"2011-10-19T00:00:00-04:00\",\"2011-10-20T00:00:00-04:00\",\"2011-10-21T00:00:00-04:00\",\"2011-10-24T00:00:00-04:00\",\"2011-10-25T00:00:00-04:00\",\"2011-10-26T00:00:00-04:00\",\"2011-10-27T00:00:00-04:00\",\"2011-10-28T00:00:00-04:00\",\"2011-10-31T00:00:00-04:00\",\"2011-11-01T00:00:00-04:00\",\"2011-11-02T00:00:00-04:00\",\"2011-11-03T00:00:00-04:00\",\"2011-11-04T00:00:00-04:00\",\"2011-11-07T00:00:00-05:00\",\"2011-11-08T00:00:00-05:00\",\"2011-11-09T00:00:00-05:00\",\"2011-11-10T00:00:00-05:00\",\"2011-11-11T00:00:00-05:00\",\"2011-11-14T00:00:00-05:00\",\"2011-11-15T00:00:00-05:00\",\"2011-11-16T00:00:00-05:00\",\"2011-11-17T00:00:00-05:00\",\"2011-11-18T00:00:00-05:00\",\"2011-11-21T00:00:00-05:00\",\"2011-11-22T00:00:00-05:00\",\"2011-11-23T00:00:00-05:00\",\"2011-11-25T00:00:00-05:00\",\"2011-11-28T00:00:00-05:00\",\"2011-11-29T00:00:00-05:00\",\"2011-11-30T00:00:00-05:00\",\"2011-12-01T00:00:00-05:00\",\"2011-12-02T00:00:00-05:00\",\"2011-12-05T00:00:00-05:00\",\"2011-12-06T00:00:00-05:00\",\"2011-12-07T00:00:00-05:00\",\"2011-12-08T00:00:00-05:00\",\"2011-12-09T00:00:00-05:00\",\"2011-12-12T00:00:00-05:00\",\"2011-12-13T00:00:00-05:00\",\"2011-12-14T00:00:00-05:00\",\"2011-12-15T00:00:00-05:00\",\"2011-12-16T00:00:00-05:00\",\"2011-12-19T00:00:00-05:00\",\"2011-12-20T00:00:00-05:00\",\"2011-12-21T00:00:00-05:00\",\"2011-12-22T00:00:00-05:00\",\"2011-12-23T00:00:00-05:00\",\"2011-12-27T00:00:00-05:00\",\"2011-12-28T00:00:00-05:00\",\"2011-12-29T00:00:00-05:00\",\"2011-12-30T00:00:00-05:00\",\"2012-01-03T00:00:00-05:00\",\"2012-01-04T00:00:00-05:00\",\"2012-01-05T00:00:00-05:00\",\"2012-01-06T00:00:00-05:00\",\"2012-01-09T00:00:00-05:00\",\"2012-01-10T00:00:00-05:00\",\"2012-01-11T00:00:00-05:00\",\"2012-01-12T00:00:00-05:00\",\"2012-01-13T00:00:00-05:00\",\"2012-01-17T00:00:00-05:00\",\"2012-01-18T00:00:00-05:00\",\"2012-01-19T00:00:00-05:00\",\"2012-01-20T00:00:00-05:00\",\"2012-01-23T00:00:00-05:00\",\"2012-01-24T00:00:00-05:00\",\"2012-01-25T00:00:00-05:00\",\"2012-01-26T00:00:00-05:00\",\"2012-01-27T00:00:00-05:00\",\"2012-01-30T00:00:00-05:00\",\"2012-01-31T00:00:00-05:00\",\"2012-02-01T00:00:00-05:00\",\"2012-02-02T00:00:00-05:00\",\"2012-02-03T00:00:00-05:00\",\"2012-02-06T00:00:00-05:00\",\"2012-02-07T00:00:00-05:00\",\"2012-02-08T00:00:00-05:00\",\"2012-02-09T00:00:00-05:00\",\"2012-02-10T00:00:00-05:00\",\"2012-02-13T00:00:00-05:00\",\"2012-02-14T00:00:00-05:00\",\"2012-02-15T00:00:00-05:00\",\"2012-02-16T00:00:00-05:00\",\"2012-02-17T00:00:00-05:00\",\"2012-02-21T00:00:00-05:00\",\"2012-02-22T00:00:00-05:00\",\"2012-02-23T00:00:00-05:00\",\"2012-02-24T00:00:00-05:00\",\"2012-02-27T00:00:00-05:00\",\"2012-02-28T00:00:00-05:00\",\"2012-02-29T00:00:00-05:00\",\"2012-03-01T00:00:00-05:00\",\"2012-03-02T00:00:00-05:00\",\"2012-03-05T00:00:00-05:00\",\"2012-03-06T00:00:00-05:00\",\"2012-03-07T00:00:00-05:00\",\"2012-03-08T00:00:00-05:00\",\"2012-03-09T00:00:00-05:00\",\"2012-03-12T00:00:00-04:00\",\"2012-03-13T00:00:00-04:00\",\"2012-03-14T00:00:00-04:00\",\"2012-03-15T00:00:00-04:00\",\"2012-03-16T00:00:00-04:00\",\"2012-03-19T00:00:00-04:00\",\"2012-03-20T00:00:00-04:00\",\"2012-03-21T00:00:00-04:00\",\"2012-03-22T00:00:00-04:00\",\"2012-03-23T00:00:00-04:00\",\"2012-03-26T00:00:00-04:00\",\"2012-03-27T00:00:00-04:00\",\"2012-03-28T00:00:00-04:00\",\"2012-03-29T00:00:00-04:00\",\"2012-03-30T00:00:00-04:00\",\"2012-04-02T00:00:00-04:00\",\"2012-04-03T00:00:00-04:00\",\"2012-04-04T00:00:00-04:00\",\"2012-04-05T00:00:00-04:00\",\"2012-04-09T00:00:00-04:00\",\"2012-04-10T00:00:00-04:00\",\"2012-04-11T00:00:00-04:00\",\"2012-04-12T00:00:00-04:00\",\"2012-04-13T00:00:00-04:00\",\"2012-04-16T00:00:00-04:00\",\"2012-04-17T00:00:00-04:00\",\"2012-04-18T00:00:00-04:00\",\"2012-04-19T00:00:00-04:00\",\"2012-04-20T00:00:00-04:00\",\"2012-04-23T00:00:00-04:00\",\"2012-04-24T00:00:00-04:00\",\"2012-04-25T00:00:00-04:00\",\"2012-04-26T00:00:00-04:00\",\"2012-04-27T00:00:00-04:00\",\"2012-04-30T00:00:00-04:00\",\"2012-05-01T00:00:00-04:00\",\"2012-05-02T00:00:00-04:00\",\"2012-05-03T00:00:00-04:00\",\"2012-05-04T00:00:00-04:00\",\"2012-05-07T00:00:00-04:00\",\"2012-05-08T00:00:00-04:00\",\"2012-05-09T00:00:00-04:00\",\"2012-05-10T00:00:00-04:00\",\"2012-05-11T00:00:00-04:00\",\"2012-05-14T00:00:00-04:00\",\"2012-05-15T00:00:00-04:00\",\"2012-05-16T00:00:00-04:00\",\"2012-05-17T00:00:00-04:00\",\"2012-05-18T00:00:00-04:00\",\"2012-05-21T00:00:00-04:00\",\"2012-05-22T00:00:00-04:00\",\"2012-05-23T00:00:00-04:00\",\"2012-05-24T00:00:00-04:00\",\"2012-05-25T00:00:00-04:00\",\"2012-05-29T00:00:00-04:00\",\"2012-05-30T00:00:00-04:00\",\"2012-05-31T00:00:00-04:00\",\"2012-06-01T00:00:00-04:00\",\"2012-06-04T00:00:00-04:00\",\"2012-06-05T00:00:00-04:00\",\"2012-06-06T00:00:00-04:00\",\"2012-06-07T00:00:00-04:00\",\"2012-06-08T00:00:00-04:00\",\"2012-06-11T00:00:00-04:00\",\"2012-06-12T00:00:00-04:00\",\"2012-06-13T00:00:00-04:00\",\"2012-06-14T00:00:00-04:00\",\"2012-06-15T00:00:00-04:00\",\"2012-06-18T00:00:00-04:00\",\"2012-06-19T00:00:00-04:00\",\"2012-06-20T00:00:00-04:00\",\"2012-06-21T00:00:00-04:00\",\"2012-06-22T00:00:00-04:00\",\"2012-06-25T00:00:00-04:00\",\"2012-06-26T00:00:00-04:00\",\"2012-06-27T00:00:00-04:00\",\"2012-06-28T00:00:00-04:00\",\"2012-06-29T00:00:00-04:00\",\"2012-07-02T00:00:00-04:00\",\"2012-07-03T00:00:00-04:00\",\"2012-07-05T00:00:00-04:00\",\"2012-07-06T00:00:00-04:00\",\"2012-07-09T00:00:00-04:00\",\"2012-07-10T00:00:00-04:00\",\"2012-07-11T00:00:00-04:00\",\"2012-07-12T00:00:00-04:00\",\"2012-07-13T00:00:00-04:00\",\"2012-07-16T00:00:00-04:00\",\"2012-07-17T00:00:00-04:00\",\"2012-07-18T00:00:00-04:00\",\"2012-07-19T00:00:00-04:00\",\"2012-07-20T00:00:00-04:00\",\"2012-07-23T00:00:00-04:00\",\"2012-07-24T00:00:00-04:00\",\"2012-07-25T00:00:00-04:00\",\"2012-07-26T00:00:00-04:00\",\"2012-07-27T00:00:00-04:00\",\"2012-07-30T00:00:00-04:00\",\"2012-07-31T00:00:00-04:00\",\"2012-08-01T00:00:00-04:00\",\"2012-08-02T00:00:00-04:00\",\"2012-08-03T00:00:00-04:00\",\"2012-08-06T00:00:00-04:00\",\"2012-08-07T00:00:00-04:00\",\"2012-08-08T00:00:00-04:00\",\"2012-08-09T00:00:00-04:00\",\"2012-08-10T00:00:00-04:00\",\"2012-08-13T00:00:00-04:00\",\"2012-08-14T00:00:00-04:00\",\"2012-08-15T00:00:00-04:00\",\"2012-08-16T00:00:00-04:00\",\"2012-08-17T00:00:00-04:00\",\"2012-08-20T00:00:00-04:00\",\"2012-08-21T00:00:00-04:00\",\"2012-08-22T00:00:00-04:00\",\"2012-08-23T00:00:00-04:00\",\"2012-08-24T00:00:00-04:00\",\"2012-08-27T00:00:00-04:00\",\"2012-08-28T00:00:00-04:00\",\"2012-08-29T00:00:00-04:00\",\"2012-08-30T00:00:00-04:00\",\"2012-08-31T00:00:00-04:00\",\"2012-09-04T00:00:00-04:00\",\"2012-09-05T00:00:00-04:00\",\"2012-09-06T00:00:00-04:00\",\"2012-09-07T00:00:00-04:00\",\"2012-09-10T00:00:00-04:00\",\"2012-09-11T00:00:00-04:00\",\"2012-09-12T00:00:00-04:00\",\"2012-09-13T00:00:00-04:00\",\"2012-09-14T00:00:00-04:00\",\"2012-09-17T00:00:00-04:00\",\"2012-09-18T00:00:00-04:00\",\"2012-09-19T00:00:00-04:00\",\"2012-09-20T00:00:00-04:00\",\"2012-09-21T00:00:00-04:00\",\"2012-09-24T00:00:00-04:00\",\"2012-09-25T00:00:00-04:00\",\"2012-09-26T00:00:00-04:00\",\"2012-09-27T00:00:00-04:00\",\"2012-09-28T00:00:00-04:00\",\"2012-10-01T00:00:00-04:00\",\"2012-10-02T00:00:00-04:00\",\"2012-10-03T00:00:00-04:00\",\"2012-10-04T00:00:00-04:00\",\"2012-10-05T00:00:00-04:00\",\"2012-10-08T00:00:00-04:00\",\"2012-10-09T00:00:00-04:00\",\"2012-10-10T00:00:00-04:00\",\"2012-10-11T00:00:00-04:00\",\"2012-10-12T00:00:00-04:00\",\"2012-10-15T00:00:00-04:00\",\"2012-10-16T00:00:00-04:00\",\"2012-10-17T00:00:00-04:00\",\"2012-10-18T00:00:00-04:00\",\"2012-10-19T00:00:00-04:00\",\"2012-10-22T00:00:00-04:00\",\"2012-10-23T00:00:00-04:00\",\"2012-10-24T00:00:00-04:00\",\"2012-10-25T00:00:00-04:00\",\"2012-10-26T00:00:00-04:00\",\"2012-10-31T00:00:00-04:00\",\"2012-11-01T00:00:00-04:00\",\"2012-11-02T00:00:00-04:00\",\"2012-11-05T00:00:00-05:00\",\"2012-11-06T00:00:00-05:00\",\"2012-11-07T00:00:00-05:00\",\"2012-11-08T00:00:00-05:00\",\"2012-11-09T00:00:00-05:00\",\"2012-11-12T00:00:00-05:00\",\"2012-11-13T00:00:00-05:00\",\"2012-11-14T00:00:00-05:00\",\"2012-11-15T00:00:00-05:00\",\"2012-11-16T00:00:00-05:00\",\"2012-11-19T00:00:00-05:00\",\"2012-11-20T00:00:00-05:00\",\"2012-11-21T00:00:00-05:00\",\"2012-11-23T00:00:00-05:00\",\"2012-11-26T00:00:00-05:00\",\"2012-11-27T00:00:00-05:00\",\"2012-11-28T00:00:00-05:00\",\"2012-11-29T00:00:00-05:00\",\"2012-11-30T00:00:00-05:00\",\"2012-12-03T00:00:00-05:00\",\"2012-12-04T00:00:00-05:00\",\"2012-12-05T00:00:00-05:00\",\"2012-12-06T00:00:00-05:00\",\"2012-12-07T00:00:00-05:00\",\"2012-12-10T00:00:00-05:00\",\"2012-12-11T00:00:00-05:00\",\"2012-12-12T00:00:00-05:00\",\"2012-12-13T00:00:00-05:00\",\"2012-12-14T00:00:00-05:00\",\"2012-12-17T00:00:00-05:00\",\"2012-12-18T00:00:00-05:00\",\"2012-12-19T00:00:00-05:00\",\"2012-12-20T00:00:00-05:00\",\"2012-12-21T00:00:00-05:00\",\"2012-12-24T00:00:00-05:00\",\"2012-12-26T00:00:00-05:00\",\"2012-12-27T00:00:00-05:00\",\"2012-12-28T00:00:00-05:00\",\"2012-12-31T00:00:00-05:00\",\"2013-01-02T00:00:00-05:00\",\"2013-01-03T00:00:00-05:00\",\"2013-01-04T00:00:00-05:00\",\"2013-01-07T00:00:00-05:00\",\"2013-01-08T00:00:00-05:00\",\"2013-01-09T00:00:00-05:00\",\"2013-01-10T00:00:00-05:00\",\"2013-01-11T00:00:00-05:00\",\"2013-01-14T00:00:00-05:00\",\"2013-01-15T00:00:00-05:00\",\"2013-01-16T00:00:00-05:00\",\"2013-01-17T00:00:00-05:00\",\"2013-01-18T00:00:00-05:00\",\"2013-01-22T00:00:00-05:00\",\"2013-01-23T00:00:00-05:00\",\"2013-01-24T00:00:00-05:00\",\"2013-01-25T00:00:00-05:00\",\"2013-01-28T00:00:00-05:00\",\"2013-01-29T00:00:00-05:00\",\"2013-01-30T00:00:00-05:00\",\"2013-01-31T00:00:00-05:00\",\"2013-02-01T00:00:00-05:00\",\"2013-02-04T00:00:00-05:00\",\"2013-02-05T00:00:00-05:00\",\"2013-02-06T00:00:00-05:00\",\"2013-02-07T00:00:00-05:00\",\"2013-02-08T00:00:00-05:00\",\"2013-02-11T00:00:00-05:00\",\"2013-02-12T00:00:00-05:00\",\"2013-02-13T00:00:00-05:00\",\"2013-02-14T00:00:00-05:00\",\"2013-02-15T00:00:00-05:00\",\"2013-02-19T00:00:00-05:00\",\"2013-02-20T00:00:00-05:00\",\"2013-02-21T00:00:00-05:00\",\"2013-02-22T00:00:00-05:00\",\"2013-02-25T00:00:00-05:00\",\"2013-02-26T00:00:00-05:00\",\"2013-02-27T00:00:00-05:00\",\"2013-02-28T00:00:00-05:00\",\"2013-03-01T00:00:00-05:00\",\"2013-03-04T00:00:00-05:00\",\"2013-03-05T00:00:00-05:00\",\"2013-03-06T00:00:00-05:00\",\"2013-03-07T00:00:00-05:00\",\"2013-03-08T00:00:00-05:00\",\"2013-03-11T00:00:00-04:00\",\"2013-03-12T00:00:00-04:00\",\"2013-03-13T00:00:00-04:00\",\"2013-03-14T00:00:00-04:00\",\"2013-03-15T00:00:00-04:00\",\"2013-03-18T00:00:00-04:00\",\"2013-03-19T00:00:00-04:00\",\"2013-03-20T00:00:00-04:00\",\"2013-03-21T00:00:00-04:00\",\"2013-03-22T00:00:00-04:00\",\"2013-03-25T00:00:00-04:00\",\"2013-03-26T00:00:00-04:00\",\"2013-03-27T00:00:00-04:00\",\"2013-03-28T00:00:00-04:00\",\"2013-04-01T00:00:00-04:00\",\"2013-04-02T00:00:00-04:00\",\"2013-04-03T00:00:00-04:00\",\"2013-04-04T00:00:00-04:00\",\"2013-04-05T00:00:00-04:00\",\"2013-04-08T00:00:00-04:00\",\"2013-04-09T00:00:00-04:00\",\"2013-04-10T00:00:00-04:00\",\"2013-04-11T00:00:00-04:00\",\"2013-04-12T00:00:00-04:00\",\"2013-04-15T00:00:00-04:00\",\"2013-04-16T00:00:00-04:00\",\"2013-04-17T00:00:00-04:00\",\"2013-04-18T00:00:00-04:00\",\"2013-04-19T00:00:00-04:00\",\"2013-04-22T00:00:00-04:00\",\"2013-04-23T00:00:00-04:00\",\"2013-04-24T00:00:00-04:00\",\"2013-04-25T00:00:00-04:00\",\"2013-04-26T00:00:00-04:00\",\"2013-04-29T00:00:00-04:00\",\"2013-04-30T00:00:00-04:00\",\"2013-05-01T00:00:00-04:00\",\"2013-05-02T00:00:00-04:00\",\"2013-05-03T00:00:00-04:00\",\"2013-05-06T00:00:00-04:00\",\"2013-05-07T00:00:00-04:00\",\"2013-05-08T00:00:00-04:00\",\"2013-05-09T00:00:00-04:00\",\"2013-05-10T00:00:00-04:00\",\"2013-05-13T00:00:00-04:00\",\"2013-05-14T00:00:00-04:00\",\"2013-05-15T00:00:00-04:00\",\"2013-05-16T00:00:00-04:00\",\"2013-05-17T00:00:00-04:00\",\"2013-05-20T00:00:00-04:00\",\"2013-05-21T00:00:00-04:00\",\"2013-05-22T00:00:00-04:00\",\"2013-05-23T00:00:00-04:00\",\"2013-05-24T00:00:00-04:00\",\"2013-05-28T00:00:00-04:00\",\"2013-05-29T00:00:00-04:00\",\"2013-05-30T00:00:00-04:00\",\"2013-05-31T00:00:00-04:00\",\"2013-06-03T00:00:00-04:00\",\"2013-06-04T00:00:00-04:00\",\"2013-06-05T00:00:00-04:00\",\"2013-06-06T00:00:00-04:00\",\"2013-06-07T00:00:00-04:00\",\"2013-06-10T00:00:00-04:00\",\"2013-06-11T00:00:00-04:00\",\"2013-06-12T00:00:00-04:00\",\"2013-06-13T00:00:00-04:00\",\"2013-06-14T00:00:00-04:00\",\"2013-06-17T00:00:00-04:00\",\"2013-06-18T00:00:00-04:00\",\"2013-06-19T00:00:00-04:00\",\"2013-06-20T00:00:00-04:00\",\"2013-06-21T00:00:00-04:00\",\"2013-06-24T00:00:00-04:00\",\"2013-06-25T00:00:00-04:00\",\"2013-06-26T00:00:00-04:00\",\"2013-06-27T00:00:00-04:00\",\"2013-06-28T00:00:00-04:00\",\"2013-07-01T00:00:00-04:00\",\"2013-07-02T00:00:00-04:00\",\"2013-07-03T00:00:00-04:00\",\"2013-07-05T00:00:00-04:00\",\"2013-07-08T00:00:00-04:00\",\"2013-07-09T00:00:00-04:00\",\"2013-07-10T00:00:00-04:00\",\"2013-07-11T00:00:00-04:00\",\"2013-07-12T00:00:00-04:00\",\"2013-07-15T00:00:00-04:00\",\"2013-07-16T00:00:00-04:00\",\"2013-07-17T00:00:00-04:00\",\"2013-07-18T00:00:00-04:00\",\"2013-07-19T00:00:00-04:00\",\"2013-07-22T00:00:00-04:00\",\"2013-07-23T00:00:00-04:00\",\"2013-07-24T00:00:00-04:00\",\"2013-07-25T00:00:00-04:00\",\"2013-07-26T00:00:00-04:00\",\"2013-07-29T00:00:00-04:00\",\"2013-07-30T00:00:00-04:00\",\"2013-07-31T00:00:00-04:00\",\"2013-08-01T00:00:00-04:00\",\"2013-08-02T00:00:00-04:00\",\"2013-08-05T00:00:00-04:00\",\"2013-08-06T00:00:00-04:00\",\"2013-08-07T00:00:00-04:00\",\"2013-08-08T00:00:00-04:00\",\"2013-08-09T00:00:00-04:00\",\"2013-08-12T00:00:00-04:00\",\"2013-08-13T00:00:00-04:00\",\"2013-08-14T00:00:00-04:00\",\"2013-08-15T00:00:00-04:00\",\"2013-08-16T00:00:00-04:00\",\"2013-08-19T00:00:00-04:00\",\"2013-08-20T00:00:00-04:00\",\"2013-08-21T00:00:00-04:00\",\"2013-08-22T00:00:00-04:00\",\"2013-08-23T00:00:00-04:00\",\"2013-08-26T00:00:00-04:00\",\"2013-08-27T00:00:00-04:00\",\"2013-08-28T00:00:00-04:00\",\"2013-08-29T00:00:00-04:00\",\"2013-08-30T00:00:00-04:00\",\"2013-09-03T00:00:00-04:00\",\"2013-09-04T00:00:00-04:00\",\"2013-09-05T00:00:00-04:00\",\"2013-09-06T00:00:00-04:00\",\"2013-09-09T00:00:00-04:00\",\"2013-09-10T00:00:00-04:00\",\"2013-09-11T00:00:00-04:00\",\"2013-09-12T00:00:00-04:00\",\"2013-09-13T00:00:00-04:00\",\"2013-09-16T00:00:00-04:00\",\"2013-09-17T00:00:00-04:00\",\"2013-09-18T00:00:00-04:00\",\"2013-09-19T00:00:00-04:00\",\"2013-09-20T00:00:00-04:00\",\"2013-09-23T00:00:00-04:00\",\"2013-09-24T00:00:00-04:00\",\"2013-09-25T00:00:00-04:00\",\"2013-09-26T00:00:00-04:00\",\"2013-09-27T00:00:00-04:00\",\"2013-09-30T00:00:00-04:00\",\"2013-10-01T00:00:00-04:00\",\"2013-10-02T00:00:00-04:00\",\"2013-10-03T00:00:00-04:00\",\"2013-10-04T00:00:00-04:00\",\"2013-10-07T00:00:00-04:00\",\"2013-10-08T00:00:00-04:00\",\"2013-10-09T00:00:00-04:00\",\"2013-10-10T00:00:00-04:00\",\"2013-10-11T00:00:00-04:00\",\"2013-10-14T00:00:00-04:00\",\"2013-10-15T00:00:00-04:00\",\"2013-10-16T00:00:00-04:00\",\"2013-10-17T00:00:00-04:00\",\"2013-10-18T00:00:00-04:00\",\"2013-10-21T00:00:00-04:00\",\"2013-10-22T00:00:00-04:00\",\"2013-10-23T00:00:00-04:00\",\"2013-10-24T00:00:00-04:00\",\"2013-10-25T00:00:00-04:00\",\"2013-10-28T00:00:00-04:00\",\"2013-10-29T00:00:00-04:00\",\"2013-10-30T00:00:00-04:00\",\"2013-10-31T00:00:00-04:00\",\"2013-11-01T00:00:00-04:00\",\"2013-11-04T00:00:00-05:00\",\"2013-11-05T00:00:00-05:00\",\"2013-11-06T00:00:00-05:00\",\"2013-11-07T00:00:00-05:00\",\"2013-11-08T00:00:00-05:00\",\"2013-11-11T00:00:00-05:00\",\"2013-11-12T00:00:00-05:00\",\"2013-11-13T00:00:00-05:00\",\"2013-11-14T00:00:00-05:00\",\"2013-11-15T00:00:00-05:00\",\"2013-11-18T00:00:00-05:00\",\"2013-11-19T00:00:00-05:00\",\"2013-11-20T00:00:00-05:00\",\"2013-11-21T00:00:00-05:00\",\"2013-11-22T00:00:00-05:00\",\"2013-11-25T00:00:00-05:00\",\"2013-11-26T00:00:00-05:00\",\"2013-11-27T00:00:00-05:00\",\"2013-11-29T00:00:00-05:00\",\"2013-12-02T00:00:00-05:00\",\"2013-12-03T00:00:00-05:00\",\"2013-12-04T00:00:00-05:00\",\"2013-12-05T00:00:00-05:00\",\"2013-12-06T00:00:00-05:00\",\"2013-12-09T00:00:00-05:00\",\"2013-12-10T00:00:00-05:00\",\"2013-12-11T00:00:00-05:00\",\"2013-12-12T00:00:00-05:00\",\"2013-12-13T00:00:00-05:00\",\"2013-12-16T00:00:00-05:00\",\"2013-12-17T00:00:00-05:00\",\"2013-12-18T00:00:00-05:00\",\"2013-12-19T00:00:00-05:00\",\"2013-12-20T00:00:00-05:00\",\"2013-12-23T00:00:00-05:00\",\"2013-12-24T00:00:00-05:00\",\"2013-12-26T00:00:00-05:00\",\"2013-12-27T00:00:00-05:00\",\"2013-12-30T00:00:00-05:00\",\"2013-12-31T00:00:00-05:00\",\"2014-01-02T00:00:00-05:00\",\"2014-01-03T00:00:00-05:00\",\"2014-01-06T00:00:00-05:00\",\"2014-01-07T00:00:00-05:00\",\"2014-01-08T00:00:00-05:00\",\"2014-01-09T00:00:00-05:00\",\"2014-01-10T00:00:00-05:00\",\"2014-01-13T00:00:00-05:00\",\"2014-01-14T00:00:00-05:00\",\"2014-01-15T00:00:00-05:00\",\"2014-01-16T00:00:00-05:00\",\"2014-01-17T00:00:00-05:00\",\"2014-01-21T00:00:00-05:00\",\"2014-01-22T00:00:00-05:00\",\"2014-01-23T00:00:00-05:00\",\"2014-01-24T00:00:00-05:00\",\"2014-01-27T00:00:00-05:00\",\"2014-01-28T00:00:00-05:00\",\"2014-01-29T00:00:00-05:00\",\"2014-01-30T00:00:00-05:00\",\"2014-01-31T00:00:00-05:00\",\"2014-02-03T00:00:00-05:00\",\"2014-02-04T00:00:00-05:00\",\"2014-02-05T00:00:00-05:00\",\"2014-02-06T00:00:00-05:00\",\"2014-02-07T00:00:00-05:00\",\"2014-02-10T00:00:00-05:00\",\"2014-02-11T00:00:00-05:00\",\"2014-02-12T00:00:00-05:00\",\"2014-02-13T00:00:00-05:00\",\"2014-02-14T00:00:00-05:00\",\"2014-02-18T00:00:00-05:00\",\"2014-02-19T00:00:00-05:00\",\"2014-02-20T00:00:00-05:00\",\"2014-02-21T00:00:00-05:00\",\"2014-02-24T00:00:00-05:00\",\"2014-02-25T00:00:00-05:00\",\"2014-02-26T00:00:00-05:00\",\"2014-02-27T00:00:00-05:00\",\"2014-02-28T00:00:00-05:00\",\"2014-03-03T00:00:00-05:00\",\"2014-03-04T00:00:00-05:00\",\"2014-03-05T00:00:00-05:00\",\"2014-03-06T00:00:00-05:00\",\"2014-03-07T00:00:00-05:00\",\"2014-03-10T00:00:00-04:00\",\"2014-03-11T00:00:00-04:00\",\"2014-03-12T00:00:00-04:00\",\"2014-03-13T00:00:00-04:00\",\"2014-03-14T00:00:00-04:00\",\"2014-03-17T00:00:00-04:00\",\"2014-03-18T00:00:00-04:00\",\"2014-03-19T00:00:00-04:00\",\"2014-03-20T00:00:00-04:00\",\"2014-03-21T00:00:00-04:00\",\"2014-03-24T00:00:00-04:00\",\"2014-03-25T00:00:00-04:00\",\"2014-03-26T00:00:00-04:00\",\"2014-03-27T00:00:00-04:00\",\"2014-03-28T00:00:00-04:00\",\"2014-03-31T00:00:00-04:00\",\"2014-04-01T00:00:00-04:00\",\"2014-04-02T00:00:00-04:00\",\"2014-04-03T00:00:00-04:00\",\"2014-04-04T00:00:00-04:00\",\"2014-04-07T00:00:00-04:00\",\"2014-04-08T00:00:00-04:00\",\"2014-04-09T00:00:00-04:00\",\"2014-04-10T00:00:00-04:00\",\"2014-04-11T00:00:00-04:00\",\"2014-04-14T00:00:00-04:00\",\"2014-04-15T00:00:00-04:00\",\"2014-04-16T00:00:00-04:00\",\"2014-04-17T00:00:00-04:00\",\"2014-04-21T00:00:00-04:00\",\"2014-04-22T00:00:00-04:00\",\"2014-04-23T00:00:00-04:00\",\"2014-04-24T00:00:00-04:00\",\"2014-04-25T00:00:00-04:00\",\"2014-04-28T00:00:00-04:00\",\"2014-04-29T00:00:00-04:00\",\"2014-04-30T00:00:00-04:00\",\"2014-05-01T00:00:00-04:00\",\"2014-05-02T00:00:00-04:00\",\"2014-05-05T00:00:00-04:00\",\"2014-05-06T00:00:00-04:00\",\"2014-05-07T00:00:00-04:00\",\"2014-05-08T00:00:00-04:00\",\"2014-05-09T00:00:00-04:00\",\"2014-05-12T00:00:00-04:00\",\"2014-05-13T00:00:00-04:00\",\"2014-05-14T00:00:00-04:00\",\"2014-05-15T00:00:00-04:00\",\"2014-05-16T00:00:00-04:00\",\"2014-05-19T00:00:00-04:00\",\"2014-05-20T00:00:00-04:00\",\"2014-05-21T00:00:00-04:00\",\"2014-05-22T00:00:00-04:00\",\"2014-05-23T00:00:00-04:00\",\"2014-05-27T00:00:00-04:00\",\"2014-05-28T00:00:00-04:00\",\"2014-05-29T00:00:00-04:00\",\"2014-05-30T00:00:00-04:00\",\"2014-06-02T00:00:00-04:00\",\"2014-06-03T00:00:00-04:00\",\"2014-06-04T00:00:00-04:00\",\"2014-06-05T00:00:00-04:00\",\"2014-06-06T00:00:00-04:00\",\"2014-06-09T00:00:00-04:00\",\"2014-06-10T00:00:00-04:00\",\"2014-06-11T00:00:00-04:00\",\"2014-06-12T00:00:00-04:00\",\"2014-06-13T00:00:00-04:00\",\"2014-06-16T00:00:00-04:00\",\"2014-06-17T00:00:00-04:00\",\"2014-06-18T00:00:00-04:00\",\"2014-06-19T00:00:00-04:00\",\"2014-06-20T00:00:00-04:00\",\"2014-06-23T00:00:00-04:00\",\"2014-06-24T00:00:00-04:00\",\"2014-06-25T00:00:00-04:00\",\"2014-06-26T00:00:00-04:00\",\"2014-06-27T00:00:00-04:00\",\"2014-06-30T00:00:00-04:00\",\"2014-07-01T00:00:00-04:00\",\"2014-07-02T00:00:00-04:00\",\"2014-07-03T00:00:00-04:00\",\"2014-07-07T00:00:00-04:00\",\"2014-07-08T00:00:00-04:00\",\"2014-07-09T00:00:00-04:00\",\"2014-07-10T00:00:00-04:00\",\"2014-07-11T00:00:00-04:00\",\"2014-07-14T00:00:00-04:00\",\"2014-07-15T00:00:00-04:00\",\"2014-07-16T00:00:00-04:00\",\"2014-07-17T00:00:00-04:00\",\"2014-07-18T00:00:00-04:00\",\"2014-07-21T00:00:00-04:00\",\"2014-07-22T00:00:00-04:00\",\"2014-07-23T00:00:00-04:00\",\"2014-07-24T00:00:00-04:00\",\"2014-07-25T00:00:00-04:00\",\"2014-07-28T00:00:00-04:00\",\"2014-07-29T00:00:00-04:00\",\"2014-07-30T00:00:00-04:00\",\"2014-07-31T00:00:00-04:00\",\"2014-08-01T00:00:00-04:00\",\"2014-08-04T00:00:00-04:00\",\"2014-08-05T00:00:00-04:00\",\"2014-08-06T00:00:00-04:00\",\"2014-08-07T00:00:00-04:00\",\"2014-08-08T00:00:00-04:00\",\"2014-08-11T00:00:00-04:00\",\"2014-08-12T00:00:00-04:00\",\"2014-08-13T00:00:00-04:00\",\"2014-08-14T00:00:00-04:00\",\"2014-08-15T00:00:00-04:00\",\"2014-08-18T00:00:00-04:00\",\"2014-08-19T00:00:00-04:00\",\"2014-08-20T00:00:00-04:00\",\"2014-08-21T00:00:00-04:00\",\"2014-08-22T00:00:00-04:00\",\"2014-08-25T00:00:00-04:00\",\"2014-08-26T00:00:00-04:00\",\"2014-08-27T00:00:00-04:00\",\"2014-08-28T00:00:00-04:00\",\"2014-08-29T00:00:00-04:00\",\"2014-09-02T00:00:00-04:00\",\"2014-09-03T00:00:00-04:00\",\"2014-09-04T00:00:00-04:00\",\"2014-09-05T00:00:00-04:00\",\"2014-09-08T00:00:00-04:00\",\"2014-09-09T00:00:00-04:00\",\"2014-09-10T00:00:00-04:00\",\"2014-09-11T00:00:00-04:00\",\"2014-09-12T00:00:00-04:00\",\"2014-09-15T00:00:00-04:00\",\"2014-09-16T00:00:00-04:00\",\"2014-09-17T00:00:00-04:00\",\"2014-09-18T00:00:00-04:00\",\"2014-09-19T00:00:00-04:00\",\"2014-09-22T00:00:00-04:00\",\"2014-09-23T00:00:00-04:00\",\"2014-09-24T00:00:00-04:00\",\"2014-09-25T00:00:00-04:00\",\"2014-09-26T00:00:00-04:00\",\"2014-09-29T00:00:00-04:00\",\"2014-09-30T00:00:00-04:00\",\"2014-10-01T00:00:00-04:00\",\"2014-10-02T00:00:00-04:00\",\"2014-10-03T00:00:00-04:00\",\"2014-10-06T00:00:00-04:00\",\"2014-10-07T00:00:00-04:00\",\"2014-10-08T00:00:00-04:00\",\"2014-10-09T00:00:00-04:00\",\"2014-10-10T00:00:00-04:00\",\"2014-10-13T00:00:00-04:00\",\"2014-10-14T00:00:00-04:00\",\"2014-10-15T00:00:00-04:00\",\"2014-10-16T00:00:00-04:00\",\"2014-10-17T00:00:00-04:00\",\"2014-10-20T00:00:00-04:00\",\"2014-10-21T00:00:00-04:00\",\"2014-10-22T00:00:00-04:00\",\"2014-10-23T00:00:00-04:00\",\"2014-10-24T00:00:00-04:00\",\"2014-10-27T00:00:00-04:00\",\"2014-10-28T00:00:00-04:00\",\"2014-10-29T00:00:00-04:00\",\"2014-10-30T00:00:00-04:00\",\"2014-10-31T00:00:00-04:00\",\"2014-11-03T00:00:00-05:00\",\"2014-11-04T00:00:00-05:00\",\"2014-11-05T00:00:00-05:00\",\"2014-11-06T00:00:00-05:00\",\"2014-11-07T00:00:00-05:00\",\"2014-11-10T00:00:00-05:00\",\"2014-11-11T00:00:00-05:00\",\"2014-11-12T00:00:00-05:00\",\"2014-11-13T00:00:00-05:00\",\"2014-11-14T00:00:00-05:00\",\"2014-11-17T00:00:00-05:00\",\"2014-11-18T00:00:00-05:00\",\"2014-11-19T00:00:00-05:00\",\"2014-11-20T00:00:00-05:00\",\"2014-11-21T00:00:00-05:00\",\"2014-11-24T00:00:00-05:00\",\"2014-11-25T00:00:00-05:00\",\"2014-11-26T00:00:00-05:00\",\"2014-11-28T00:00:00-05:00\",\"2014-12-01T00:00:00-05:00\",\"2014-12-02T00:00:00-05:00\",\"2014-12-03T00:00:00-05:00\",\"2014-12-04T00:00:00-05:00\",\"2014-12-05T00:00:00-05:00\",\"2014-12-08T00:00:00-05:00\",\"2014-12-09T00:00:00-05:00\",\"2014-12-10T00:00:00-05:00\",\"2014-12-11T00:00:00-05:00\",\"2014-12-12T00:00:00-05:00\",\"2014-12-15T00:00:00-05:00\",\"2014-12-16T00:00:00-05:00\",\"2014-12-17T00:00:00-05:00\",\"2014-12-18T00:00:00-05:00\",\"2014-12-19T00:00:00-05:00\",\"2014-12-22T00:00:00-05:00\",\"2014-12-23T00:00:00-05:00\",\"2014-12-24T00:00:00-05:00\",\"2014-12-26T00:00:00-05:00\",\"2014-12-29T00:00:00-05:00\",\"2014-12-30T00:00:00-05:00\",\"2014-12-31T00:00:00-05:00\",\"2015-01-02T00:00:00-05:00\",\"2015-01-05T00:00:00-05:00\",\"2015-01-06T00:00:00-05:00\",\"2015-01-07T00:00:00-05:00\",\"2015-01-08T00:00:00-05:00\",\"2015-01-09T00:00:00-05:00\",\"2015-01-12T00:00:00-05:00\",\"2015-01-13T00:00:00-05:00\",\"2015-01-14T00:00:00-05:00\",\"2015-01-15T00:00:00-05:00\",\"2015-01-16T00:00:00-05:00\",\"2015-01-20T00:00:00-05:00\",\"2015-01-21T00:00:00-05:00\",\"2015-01-22T00:00:00-05:00\",\"2015-01-23T00:00:00-05:00\",\"2015-01-26T00:00:00-05:00\",\"2015-01-27T00:00:00-05:00\",\"2015-01-28T00:00:00-05:00\",\"2015-01-29T00:00:00-05:00\",\"2015-01-30T00:00:00-05:00\",\"2015-02-02T00:00:00-05:00\",\"2015-02-03T00:00:00-05:00\",\"2015-02-04T00:00:00-05:00\",\"2015-02-05T00:00:00-05:00\",\"2015-02-06T00:00:00-05:00\",\"2015-02-09T00:00:00-05:00\",\"2015-02-10T00:00:00-05:00\",\"2015-02-11T00:00:00-05:00\",\"2015-02-12T00:00:00-05:00\",\"2015-02-13T00:00:00-05:00\",\"2015-02-17T00:00:00-05:00\",\"2015-02-18T00:00:00-05:00\",\"2015-02-19T00:00:00-05:00\",\"2015-02-20T00:00:00-05:00\",\"2015-02-23T00:00:00-05:00\",\"2015-02-24T00:00:00-05:00\",\"2015-02-25T00:00:00-05:00\",\"2015-02-26T00:00:00-05:00\",\"2015-02-27T00:00:00-05:00\",\"2015-03-02T00:00:00-05:00\",\"2015-03-03T00:00:00-05:00\",\"2015-03-04T00:00:00-05:00\",\"2015-03-05T00:00:00-05:00\",\"2015-03-06T00:00:00-05:00\",\"2015-03-09T00:00:00-04:00\",\"2015-03-10T00:00:00-04:00\",\"2015-03-11T00:00:00-04:00\",\"2015-03-12T00:00:00-04:00\",\"2015-03-13T00:00:00-04:00\",\"2015-03-16T00:00:00-04:00\",\"2015-03-17T00:00:00-04:00\",\"2015-03-18T00:00:00-04:00\",\"2015-03-19T00:00:00-04:00\",\"2015-03-20T00:00:00-04:00\",\"2015-03-23T00:00:00-04:00\",\"2015-03-24T00:00:00-04:00\",\"2015-03-25T00:00:00-04:00\",\"2015-03-26T00:00:00-04:00\",\"2015-03-27T00:00:00-04:00\",\"2015-03-30T00:00:00-04:00\",\"2015-03-31T00:00:00-04:00\",\"2015-04-01T00:00:00-04:00\",\"2015-04-02T00:00:00-04:00\",\"2015-04-06T00:00:00-04:00\",\"2015-04-07T00:00:00-04:00\",\"2015-04-08T00:00:00-04:00\",\"2015-04-09T00:00:00-04:00\",\"2015-04-10T00:00:00-04:00\",\"2015-04-13T00:00:00-04:00\",\"2015-04-14T00:00:00-04:00\",\"2015-04-15T00:00:00-04:00\",\"2015-04-16T00:00:00-04:00\",\"2015-04-17T00:00:00-04:00\",\"2015-04-20T00:00:00-04:00\",\"2015-04-21T00:00:00-04:00\",\"2015-04-22T00:00:00-04:00\",\"2015-04-23T00:00:00-04:00\",\"2015-04-24T00:00:00-04:00\",\"2015-04-27T00:00:00-04:00\",\"2015-04-28T00:00:00-04:00\",\"2015-04-29T00:00:00-04:00\",\"2015-04-30T00:00:00-04:00\",\"2015-05-01T00:00:00-04:00\",\"2015-05-04T00:00:00-04:00\",\"2015-05-05T00:00:00-04:00\",\"2015-05-06T00:00:00-04:00\",\"2015-05-07T00:00:00-04:00\",\"2015-05-08T00:00:00-04:00\",\"2015-05-11T00:00:00-04:00\",\"2015-05-12T00:00:00-04:00\",\"2015-05-13T00:00:00-04:00\",\"2015-05-14T00:00:00-04:00\",\"2015-05-15T00:00:00-04:00\",\"2015-05-18T00:00:00-04:00\",\"2015-05-19T00:00:00-04:00\",\"2015-05-20T00:00:00-04:00\",\"2015-05-21T00:00:00-04:00\",\"2015-05-22T00:00:00-04:00\",\"2015-05-26T00:00:00-04:00\",\"2015-05-27T00:00:00-04:00\",\"2015-05-28T00:00:00-04:00\",\"2015-05-29T00:00:00-04:00\",\"2015-06-01T00:00:00-04:00\",\"2015-06-02T00:00:00-04:00\",\"2015-06-03T00:00:00-04:00\",\"2015-06-04T00:00:00-04:00\",\"2015-06-05T00:00:00-04:00\",\"2015-06-08T00:00:00-04:00\",\"2015-06-09T00:00:00-04:00\",\"2015-06-10T00:00:00-04:00\",\"2015-06-11T00:00:00-04:00\",\"2015-06-12T00:00:00-04:00\",\"2015-06-15T00:00:00-04:00\",\"2015-06-16T00:00:00-04:00\",\"2015-06-17T00:00:00-04:00\",\"2015-06-18T00:00:00-04:00\",\"2015-06-19T00:00:00-04:00\",\"2015-06-22T00:00:00-04:00\",\"2015-06-23T00:00:00-04:00\",\"2015-06-24T00:00:00-04:00\",\"2015-06-25T00:00:00-04:00\",\"2015-06-26T00:00:00-04:00\",\"2015-06-29T00:00:00-04:00\",\"2015-06-30T00:00:00-04:00\",\"2015-07-01T00:00:00-04:00\",\"2015-07-02T00:00:00-04:00\",\"2015-07-06T00:00:00-04:00\",\"2015-07-07T00:00:00-04:00\",\"2015-07-08T00:00:00-04:00\",\"2015-07-09T00:00:00-04:00\",\"2015-07-10T00:00:00-04:00\",\"2015-07-13T00:00:00-04:00\",\"2015-07-14T00:00:00-04:00\",\"2015-07-15T00:00:00-04:00\",\"2015-07-16T00:00:00-04:00\",\"2015-07-17T00:00:00-04:00\",\"2015-07-20T00:00:00-04:00\",\"2015-07-21T00:00:00-04:00\",\"2015-07-22T00:00:00-04:00\",\"2015-07-23T00:00:00-04:00\",\"2015-07-24T00:00:00-04:00\",\"2015-07-27T00:00:00-04:00\",\"2015-07-28T00:00:00-04:00\",\"2015-07-29T00:00:00-04:00\",\"2015-07-30T00:00:00-04:00\",\"2015-07-31T00:00:00-04:00\",\"2015-08-03T00:00:00-04:00\",\"2015-08-04T00:00:00-04:00\",\"2015-08-05T00:00:00-04:00\",\"2015-08-06T00:00:00-04:00\",\"2015-08-07T00:00:00-04:00\",\"2015-08-10T00:00:00-04:00\",\"2015-08-11T00:00:00-04:00\",\"2015-08-12T00:00:00-04:00\",\"2015-08-13T00:00:00-04:00\",\"2015-08-14T00:00:00-04:00\",\"2015-08-17T00:00:00-04:00\",\"2015-08-18T00:00:00-04:00\",\"2015-08-19T00:00:00-04:00\",\"2015-08-20T00:00:00-04:00\",\"2015-08-21T00:00:00-04:00\",\"2015-08-24T00:00:00-04:00\",\"2015-08-25T00:00:00-04:00\",\"2015-08-26T00:00:00-04:00\",\"2015-08-27T00:00:00-04:00\",\"2015-08-28T00:00:00-04:00\",\"2015-08-31T00:00:00-04:00\",\"2015-09-01T00:00:00-04:00\",\"2015-09-02T00:00:00-04:00\",\"2015-09-03T00:00:00-04:00\",\"2015-09-04T00:00:00-04:00\",\"2015-09-08T00:00:00-04:00\",\"2015-09-09T00:00:00-04:00\",\"2015-09-10T00:00:00-04:00\",\"2015-09-11T00:00:00-04:00\",\"2015-09-14T00:00:00-04:00\",\"2015-09-15T00:00:00-04:00\",\"2015-09-16T00:00:00-04:00\",\"2015-09-17T00:00:00-04:00\",\"2015-09-18T00:00:00-04:00\",\"2015-09-21T00:00:00-04:00\",\"2015-09-22T00:00:00-04:00\",\"2015-09-23T00:00:00-04:00\",\"2015-09-24T00:00:00-04:00\",\"2015-09-25T00:00:00-04:00\",\"2015-09-28T00:00:00-04:00\",\"2015-09-29T00:00:00-04:00\",\"2015-09-30T00:00:00-04:00\",\"2015-10-01T00:00:00-04:00\",\"2015-10-02T00:00:00-04:00\",\"2015-10-05T00:00:00-04:00\",\"2015-10-06T00:00:00-04:00\",\"2015-10-07T00:00:00-04:00\",\"2015-10-08T00:00:00-04:00\",\"2015-10-09T00:00:00-04:00\",\"2015-10-12T00:00:00-04:00\",\"2015-10-13T00:00:00-04:00\",\"2015-10-14T00:00:00-04:00\",\"2015-10-15T00:00:00-04:00\",\"2015-10-16T00:00:00-04:00\",\"2015-10-19T00:00:00-04:00\",\"2015-10-20T00:00:00-04:00\",\"2015-10-21T00:00:00-04:00\",\"2015-10-22T00:00:00-04:00\",\"2015-10-23T00:00:00-04:00\",\"2015-10-26T00:00:00-04:00\",\"2015-10-27T00:00:00-04:00\",\"2015-10-28T00:00:00-04:00\",\"2015-10-29T00:00:00-04:00\",\"2015-10-30T00:00:00-04:00\",\"2015-11-02T00:00:00-05:00\",\"2015-11-03T00:00:00-05:00\",\"2015-11-04T00:00:00-05:00\",\"2015-11-05T00:00:00-05:00\",\"2015-11-06T00:00:00-05:00\",\"2015-11-09T00:00:00-05:00\",\"2015-11-10T00:00:00-05:00\",\"2015-11-11T00:00:00-05:00\",\"2015-11-12T00:00:00-05:00\",\"2015-11-13T00:00:00-05:00\",\"2015-11-16T00:00:00-05:00\",\"2015-11-17T00:00:00-05:00\",\"2015-11-18T00:00:00-05:00\",\"2015-11-19T00:00:00-05:00\",\"2015-11-20T00:00:00-05:00\",\"2015-11-23T00:00:00-05:00\",\"2015-11-24T00:00:00-05:00\",\"2015-11-25T00:00:00-05:00\",\"2015-11-27T00:00:00-05:00\",\"2015-11-30T00:00:00-05:00\",\"2015-12-01T00:00:00-05:00\",\"2015-12-02T00:00:00-05:00\",\"2015-12-03T00:00:00-05:00\",\"2015-12-04T00:00:00-05:00\",\"2015-12-07T00:00:00-05:00\",\"2015-12-08T00:00:00-05:00\",\"2015-12-09T00:00:00-05:00\",\"2015-12-10T00:00:00-05:00\",\"2015-12-11T00:00:00-05:00\",\"2015-12-14T00:00:00-05:00\",\"2015-12-15T00:00:00-05:00\",\"2015-12-16T00:00:00-05:00\",\"2015-12-17T00:00:00-05:00\",\"2015-12-18T00:00:00-05:00\",\"2015-12-21T00:00:00-05:00\",\"2015-12-22T00:00:00-05:00\",\"2015-12-23T00:00:00-05:00\",\"2015-12-24T00:00:00-05:00\",\"2015-12-28T00:00:00-05:00\",\"2015-12-29T00:00:00-05:00\",\"2015-12-30T00:00:00-05:00\",\"2015-12-31T00:00:00-05:00\",\"2016-01-04T00:00:00-05:00\",\"2016-01-05T00:00:00-05:00\",\"2016-01-06T00:00:00-05:00\",\"2016-01-07T00:00:00-05:00\",\"2016-01-08T00:00:00-05:00\",\"2016-01-11T00:00:00-05:00\",\"2016-01-12T00:00:00-05:00\",\"2016-01-13T00:00:00-05:00\",\"2016-01-14T00:00:00-05:00\",\"2016-01-15T00:00:00-05:00\",\"2016-01-19T00:00:00-05:00\",\"2016-01-20T00:00:00-05:00\",\"2016-01-21T00:00:00-05:00\",\"2016-01-22T00:00:00-05:00\",\"2016-01-25T00:00:00-05:00\",\"2016-01-26T00:00:00-05:00\",\"2016-01-27T00:00:00-05:00\",\"2016-01-28T00:00:00-05:00\",\"2016-01-29T00:00:00-05:00\",\"2016-02-01T00:00:00-05:00\",\"2016-02-02T00:00:00-05:00\",\"2016-02-03T00:00:00-05:00\",\"2016-02-04T00:00:00-05:00\",\"2016-02-05T00:00:00-05:00\",\"2016-02-08T00:00:00-05:00\",\"2016-02-09T00:00:00-05:00\",\"2016-02-10T00:00:00-05:00\",\"2016-02-11T00:00:00-05:00\",\"2016-02-12T00:00:00-05:00\",\"2016-02-16T00:00:00-05:00\",\"2016-02-17T00:00:00-05:00\",\"2016-02-18T00:00:00-05:00\",\"2016-02-19T00:00:00-05:00\",\"2016-02-22T00:00:00-05:00\",\"2016-02-23T00:00:00-05:00\",\"2016-02-24T00:00:00-05:00\",\"2016-02-25T00:00:00-05:00\",\"2016-02-26T00:00:00-05:00\",\"2016-02-29T00:00:00-05:00\",\"2016-03-01T00:00:00-05:00\",\"2016-03-02T00:00:00-05:00\",\"2016-03-03T00:00:00-05:00\",\"2016-03-04T00:00:00-05:00\",\"2016-03-07T00:00:00-05:00\",\"2016-03-08T00:00:00-05:00\",\"2016-03-09T00:00:00-05:00\",\"2016-03-10T00:00:00-05:00\",\"2016-03-11T00:00:00-05:00\",\"2016-03-14T00:00:00-04:00\",\"2016-03-15T00:00:00-04:00\",\"2016-03-16T00:00:00-04:00\",\"2016-03-17T00:00:00-04:00\",\"2016-03-18T00:00:00-04:00\",\"2016-03-21T00:00:00-04:00\",\"2016-03-22T00:00:00-04:00\",\"2016-03-23T00:00:00-04:00\",\"2016-03-24T00:00:00-04:00\",\"2016-03-28T00:00:00-04:00\",\"2016-03-29T00:00:00-04:00\",\"2016-03-30T00:00:00-04:00\",\"2016-03-31T00:00:00-04:00\",\"2016-04-01T00:00:00-04:00\",\"2016-04-04T00:00:00-04:00\",\"2016-04-05T00:00:00-04:00\",\"2016-04-06T00:00:00-04:00\",\"2016-04-07T00:00:00-04:00\",\"2016-04-08T00:00:00-04:00\",\"2016-04-11T00:00:00-04:00\",\"2016-04-12T00:00:00-04:00\",\"2016-04-13T00:00:00-04:00\",\"2016-04-14T00:00:00-04:00\",\"2016-04-15T00:00:00-04:00\",\"2016-04-18T00:00:00-04:00\",\"2016-04-19T00:00:00-04:00\",\"2016-04-20T00:00:00-04:00\",\"2016-04-21T00:00:00-04:00\",\"2016-04-22T00:00:00-04:00\",\"2016-04-25T00:00:00-04:00\",\"2016-04-26T00:00:00-04:00\",\"2016-04-27T00:00:00-04:00\",\"2016-04-28T00:00:00-04:00\",\"2016-04-29T00:00:00-04:00\",\"2016-05-02T00:00:00-04:00\",\"2016-05-03T00:00:00-04:00\",\"2016-05-04T00:00:00-04:00\",\"2016-05-05T00:00:00-04:00\",\"2016-05-06T00:00:00-04:00\",\"2016-05-09T00:00:00-04:00\",\"2016-05-10T00:00:00-04:00\",\"2016-05-11T00:00:00-04:00\",\"2016-05-12T00:00:00-04:00\",\"2016-05-13T00:00:00-04:00\",\"2016-05-16T00:00:00-04:00\",\"2016-05-17T00:00:00-04:00\",\"2016-05-18T00:00:00-04:00\",\"2016-05-19T00:00:00-04:00\",\"2016-05-20T00:00:00-04:00\",\"2016-05-23T00:00:00-04:00\",\"2016-05-24T00:00:00-04:00\",\"2016-05-25T00:00:00-04:00\",\"2016-05-26T00:00:00-04:00\",\"2016-05-27T00:00:00-04:00\",\"2016-05-31T00:00:00-04:00\",\"2016-06-01T00:00:00-04:00\",\"2016-06-02T00:00:00-04:00\",\"2016-06-03T00:00:00-04:00\",\"2016-06-06T00:00:00-04:00\",\"2016-06-07T00:00:00-04:00\",\"2016-06-08T00:00:00-04:00\",\"2016-06-09T00:00:00-04:00\",\"2016-06-10T00:00:00-04:00\",\"2016-06-13T00:00:00-04:00\",\"2016-06-14T00:00:00-04:00\",\"2016-06-15T00:00:00-04:00\",\"2016-06-16T00:00:00-04:00\",\"2016-06-17T00:00:00-04:00\",\"2016-06-20T00:00:00-04:00\",\"2016-06-21T00:00:00-04:00\",\"2016-06-22T00:00:00-04:00\",\"2016-06-23T00:00:00-04:00\",\"2016-06-24T00:00:00-04:00\",\"2016-06-27T00:00:00-04:00\",\"2016-06-28T00:00:00-04:00\",\"2016-06-29T00:00:00-04:00\",\"2016-06-30T00:00:00-04:00\",\"2016-07-01T00:00:00-04:00\",\"2016-07-05T00:00:00-04:00\",\"2016-07-06T00:00:00-04:00\",\"2016-07-07T00:00:00-04:00\",\"2016-07-08T00:00:00-04:00\",\"2016-07-11T00:00:00-04:00\",\"2016-07-12T00:00:00-04:00\",\"2016-07-13T00:00:00-04:00\",\"2016-07-14T00:00:00-04:00\",\"2016-07-15T00:00:00-04:00\",\"2016-07-18T00:00:00-04:00\",\"2016-07-19T00:00:00-04:00\",\"2016-07-20T00:00:00-04:00\",\"2016-07-21T00:00:00-04:00\",\"2016-07-22T00:00:00-04:00\",\"2016-07-25T00:00:00-04:00\",\"2016-07-26T00:00:00-04:00\",\"2016-07-27T00:00:00-04:00\",\"2016-07-28T00:00:00-04:00\",\"2016-07-29T00:00:00-04:00\",\"2016-08-01T00:00:00-04:00\",\"2016-08-02T00:00:00-04:00\",\"2016-08-03T00:00:00-04:00\",\"2016-08-04T00:00:00-04:00\",\"2016-08-05T00:00:00-04:00\",\"2016-08-08T00:00:00-04:00\",\"2016-08-09T00:00:00-04:00\",\"2016-08-10T00:00:00-04:00\",\"2016-08-11T00:00:00-04:00\",\"2016-08-12T00:00:00-04:00\",\"2016-08-15T00:00:00-04:00\",\"2016-08-16T00:00:00-04:00\",\"2016-08-17T00:00:00-04:00\",\"2016-08-18T00:00:00-04:00\",\"2016-08-19T00:00:00-04:00\",\"2016-08-22T00:00:00-04:00\",\"2016-08-23T00:00:00-04:00\",\"2016-08-24T00:00:00-04:00\",\"2016-08-25T00:00:00-04:00\",\"2016-08-26T00:00:00-04:00\",\"2016-08-29T00:00:00-04:00\",\"2016-08-30T00:00:00-04:00\",\"2016-08-31T00:00:00-04:00\",\"2016-09-01T00:00:00-04:00\",\"2016-09-02T00:00:00-04:00\",\"2016-09-06T00:00:00-04:00\",\"2016-09-07T00:00:00-04:00\",\"2016-09-08T00:00:00-04:00\",\"2016-09-09T00:00:00-04:00\",\"2016-09-12T00:00:00-04:00\",\"2016-09-13T00:00:00-04:00\",\"2016-09-14T00:00:00-04:00\",\"2016-09-15T00:00:00-04:00\",\"2016-09-16T00:00:00-04:00\",\"2016-09-19T00:00:00-04:00\",\"2016-09-20T00:00:00-04:00\",\"2016-09-21T00:00:00-04:00\",\"2016-09-22T00:00:00-04:00\",\"2016-09-23T00:00:00-04:00\",\"2016-09-26T00:00:00-04:00\",\"2016-09-27T00:00:00-04:00\",\"2016-09-28T00:00:00-04:00\",\"2016-09-29T00:00:00-04:00\",\"2016-09-30T00:00:00-04:00\",\"2016-10-03T00:00:00-04:00\",\"2016-10-04T00:00:00-04:00\",\"2016-10-05T00:00:00-04:00\",\"2016-10-06T00:00:00-04:00\",\"2016-10-07T00:00:00-04:00\",\"2016-10-10T00:00:00-04:00\",\"2016-10-11T00:00:00-04:00\",\"2016-10-12T00:00:00-04:00\",\"2016-10-13T00:00:00-04:00\",\"2016-10-14T00:00:00-04:00\",\"2016-10-17T00:00:00-04:00\",\"2016-10-18T00:00:00-04:00\",\"2016-10-19T00:00:00-04:00\",\"2016-10-20T00:00:00-04:00\",\"2016-10-21T00:00:00-04:00\",\"2016-10-24T00:00:00-04:00\",\"2016-10-25T00:00:00-04:00\",\"2016-10-26T00:00:00-04:00\",\"2016-10-27T00:00:00-04:00\",\"2016-10-28T00:00:00-04:00\",\"2016-10-31T00:00:00-04:00\",\"2016-11-01T00:00:00-04:00\",\"2016-11-02T00:00:00-04:00\",\"2016-11-03T00:00:00-04:00\",\"2016-11-04T00:00:00-04:00\",\"2016-11-07T00:00:00-05:00\",\"2016-11-08T00:00:00-05:00\",\"2016-11-09T00:00:00-05:00\",\"2016-11-10T00:00:00-05:00\",\"2016-11-11T00:00:00-05:00\",\"2016-11-14T00:00:00-05:00\",\"2016-11-15T00:00:00-05:00\",\"2016-11-16T00:00:00-05:00\",\"2016-11-17T00:00:00-05:00\",\"2016-11-18T00:00:00-05:00\",\"2016-11-21T00:00:00-05:00\",\"2016-11-22T00:00:00-05:00\",\"2016-11-23T00:00:00-05:00\",\"2016-11-25T00:00:00-05:00\",\"2016-11-28T00:00:00-05:00\",\"2016-11-29T00:00:00-05:00\",\"2016-11-30T00:00:00-05:00\",\"2016-12-01T00:00:00-05:00\",\"2016-12-02T00:00:00-05:00\",\"2016-12-05T00:00:00-05:00\",\"2016-12-06T00:00:00-05:00\",\"2016-12-07T00:00:00-05:00\",\"2016-12-08T00:00:00-05:00\",\"2016-12-09T00:00:00-05:00\",\"2016-12-12T00:00:00-05:00\",\"2016-12-13T00:00:00-05:00\",\"2016-12-14T00:00:00-05:00\",\"2016-12-15T00:00:00-05:00\",\"2016-12-16T00:00:00-05:00\",\"2016-12-19T00:00:00-05:00\",\"2016-12-20T00:00:00-05:00\",\"2016-12-21T00:00:00-05:00\",\"2016-12-22T00:00:00-05:00\",\"2016-12-23T00:00:00-05:00\",\"2016-12-27T00:00:00-05:00\",\"2016-12-28T00:00:00-05:00\",\"2016-12-29T00:00:00-05:00\",\"2016-12-30T00:00:00-05:00\",\"2017-01-03T00:00:00-05:00\",\"2017-01-04T00:00:00-05:00\",\"2017-01-05T00:00:00-05:00\",\"2017-01-06T00:00:00-05:00\",\"2017-01-09T00:00:00-05:00\",\"2017-01-10T00:00:00-05:00\",\"2017-01-11T00:00:00-05:00\",\"2017-01-12T00:00:00-05:00\",\"2017-01-13T00:00:00-05:00\",\"2017-01-17T00:00:00-05:00\",\"2017-01-18T00:00:00-05:00\",\"2017-01-19T00:00:00-05:00\",\"2017-01-20T00:00:00-05:00\",\"2017-01-23T00:00:00-05:00\",\"2017-01-24T00:00:00-05:00\",\"2017-01-25T00:00:00-05:00\",\"2017-01-26T00:00:00-05:00\",\"2017-01-27T00:00:00-05:00\",\"2017-01-30T00:00:00-05:00\",\"2017-01-31T00:00:00-05:00\",\"2017-02-01T00:00:00-05:00\",\"2017-02-02T00:00:00-05:00\",\"2017-02-03T00:00:00-05:00\",\"2017-02-06T00:00:00-05:00\",\"2017-02-07T00:00:00-05:00\",\"2017-02-08T00:00:00-05:00\",\"2017-02-09T00:00:00-05:00\",\"2017-02-10T00:00:00-05:00\",\"2017-02-13T00:00:00-05:00\",\"2017-02-14T00:00:00-05:00\",\"2017-02-15T00:00:00-05:00\",\"2017-02-16T00:00:00-05:00\",\"2017-02-17T00:00:00-05:00\",\"2017-02-21T00:00:00-05:00\",\"2017-02-22T00:00:00-05:00\",\"2017-02-23T00:00:00-05:00\",\"2017-02-24T00:00:00-05:00\",\"2017-02-27T00:00:00-05:00\",\"2017-02-28T00:00:00-05:00\",\"2017-03-01T00:00:00-05:00\",\"2017-03-02T00:00:00-05:00\",\"2017-03-03T00:00:00-05:00\",\"2017-03-06T00:00:00-05:00\",\"2017-03-07T00:00:00-05:00\",\"2017-03-08T00:00:00-05:00\",\"2017-03-09T00:00:00-05:00\",\"2017-03-10T00:00:00-05:00\",\"2017-03-13T00:00:00-04:00\",\"2017-03-14T00:00:00-04:00\",\"2017-03-15T00:00:00-04:00\",\"2017-03-16T00:00:00-04:00\",\"2017-03-17T00:00:00-04:00\",\"2017-03-20T00:00:00-04:00\",\"2017-03-21T00:00:00-04:00\",\"2017-03-22T00:00:00-04:00\",\"2017-03-23T00:00:00-04:00\",\"2017-03-24T00:00:00-04:00\",\"2017-03-27T00:00:00-04:00\",\"2017-03-28T00:00:00-04:00\",\"2017-03-29T00:00:00-04:00\",\"2017-03-30T00:00:00-04:00\",\"2017-03-31T00:00:00-04:00\",\"2017-04-03T00:00:00-04:00\",\"2017-04-04T00:00:00-04:00\",\"2017-04-05T00:00:00-04:00\",\"2017-04-06T00:00:00-04:00\",\"2017-04-07T00:00:00-04:00\",\"2017-04-10T00:00:00-04:00\",\"2017-04-11T00:00:00-04:00\",\"2017-04-12T00:00:00-04:00\",\"2017-04-13T00:00:00-04:00\",\"2017-04-17T00:00:00-04:00\",\"2017-04-18T00:00:00-04:00\",\"2017-04-19T00:00:00-04:00\",\"2017-04-20T00:00:00-04:00\",\"2017-04-21T00:00:00-04:00\",\"2017-04-24T00:00:00-04:00\",\"2017-04-25T00:00:00-04:00\",\"2017-04-26T00:00:00-04:00\",\"2017-04-27T00:00:00-04:00\",\"2017-04-28T00:00:00-04:00\",\"2017-05-01T00:00:00-04:00\",\"2017-05-02T00:00:00-04:00\",\"2017-05-03T00:00:00-04:00\",\"2017-05-04T00:00:00-04:00\",\"2017-05-05T00:00:00-04:00\",\"2017-05-08T00:00:00-04:00\",\"2017-05-09T00:00:00-04:00\",\"2017-05-10T00:00:00-04:00\",\"2017-05-11T00:00:00-04:00\",\"2017-05-12T00:00:00-04:00\",\"2017-05-15T00:00:00-04:00\",\"2017-05-16T00:00:00-04:00\",\"2017-05-17T00:00:00-04:00\",\"2017-05-18T00:00:00-04:00\",\"2017-05-19T00:00:00-04:00\",\"2017-05-22T00:00:00-04:00\",\"2017-05-23T00:00:00-04:00\",\"2017-05-24T00:00:00-04:00\",\"2017-05-25T00:00:00-04:00\",\"2017-05-26T00:00:00-04:00\",\"2017-05-30T00:00:00-04:00\",\"2017-05-31T00:00:00-04:00\",\"2017-06-01T00:00:00-04:00\",\"2017-06-02T00:00:00-04:00\",\"2017-06-05T00:00:00-04:00\",\"2017-06-06T00:00:00-04:00\",\"2017-06-07T00:00:00-04:00\",\"2017-06-08T00:00:00-04:00\",\"2017-06-09T00:00:00-04:00\",\"2017-06-12T00:00:00-04:00\",\"2017-06-13T00:00:00-04:00\",\"2017-06-14T00:00:00-04:00\",\"2017-06-15T00:00:00-04:00\",\"2017-06-16T00:00:00-04:00\",\"2017-06-19T00:00:00-04:00\",\"2017-06-20T00:00:00-04:00\",\"2017-06-21T00:00:00-04:00\",\"2017-06-22T00:00:00-04:00\",\"2017-06-23T00:00:00-04:00\",\"2017-06-26T00:00:00-04:00\",\"2017-06-27T00:00:00-04:00\",\"2017-06-28T00:00:00-04:00\",\"2017-06-29T00:00:00-04:00\",\"2017-06-30T00:00:00-04:00\",\"2017-07-03T00:00:00-04:00\",\"2017-07-05T00:00:00-04:00\",\"2017-07-06T00:00:00-04:00\",\"2017-07-07T00:00:00-04:00\",\"2017-07-10T00:00:00-04:00\",\"2017-07-11T00:00:00-04:00\",\"2017-07-12T00:00:00-04:00\",\"2017-07-13T00:00:00-04:00\",\"2017-07-14T00:00:00-04:00\",\"2017-07-17T00:00:00-04:00\",\"2017-07-18T00:00:00-04:00\",\"2017-07-19T00:00:00-04:00\",\"2017-07-20T00:00:00-04:00\",\"2017-07-21T00:00:00-04:00\",\"2017-07-24T00:00:00-04:00\",\"2017-07-25T00:00:00-04:00\",\"2017-07-26T00:00:00-04:00\",\"2017-07-27T00:00:00-04:00\",\"2017-07-28T00:00:00-04:00\",\"2017-07-31T00:00:00-04:00\",\"2017-08-01T00:00:00-04:00\",\"2017-08-02T00:00:00-04:00\",\"2017-08-03T00:00:00-04:00\",\"2017-08-04T00:00:00-04:00\",\"2017-08-07T00:00:00-04:00\",\"2017-08-08T00:00:00-04:00\",\"2017-08-09T00:00:00-04:00\",\"2017-08-10T00:00:00-04:00\",\"2017-08-11T00:00:00-04:00\",\"2017-08-14T00:00:00-04:00\",\"2017-08-15T00:00:00-04:00\",\"2017-08-16T00:00:00-04:00\",\"2017-08-17T00:00:00-04:00\",\"2017-08-18T00:00:00-04:00\",\"2017-08-21T00:00:00-04:00\",\"2017-08-22T00:00:00-04:00\",\"2017-08-23T00:00:00-04:00\",\"2017-08-24T00:00:00-04:00\",\"2017-08-25T00:00:00-04:00\",\"2017-08-28T00:00:00-04:00\",\"2017-08-29T00:00:00-04:00\",\"2017-08-30T00:00:00-04:00\",\"2017-08-31T00:00:00-04:00\",\"2017-09-01T00:00:00-04:00\",\"2017-09-05T00:00:00-04:00\",\"2017-09-06T00:00:00-04:00\",\"2017-09-07T00:00:00-04:00\",\"2017-09-08T00:00:00-04:00\",\"2017-09-11T00:00:00-04:00\",\"2017-09-12T00:00:00-04:00\",\"2017-09-13T00:00:00-04:00\",\"2017-09-14T00:00:00-04:00\",\"2017-09-15T00:00:00-04:00\",\"2017-09-18T00:00:00-04:00\",\"2017-09-19T00:00:00-04:00\",\"2017-09-20T00:00:00-04:00\",\"2017-09-21T00:00:00-04:00\",\"2017-09-22T00:00:00-04:00\",\"2017-09-25T00:00:00-04:00\",\"2017-09-26T00:00:00-04:00\",\"2017-09-27T00:00:00-04:00\",\"2017-09-28T00:00:00-04:00\",\"2017-09-29T00:00:00-04:00\",\"2017-10-02T00:00:00-04:00\",\"2017-10-03T00:00:00-04:00\",\"2017-10-04T00:00:00-04:00\",\"2017-10-05T00:00:00-04:00\",\"2017-10-06T00:00:00-04:00\",\"2017-10-09T00:00:00-04:00\",\"2017-10-10T00:00:00-04:00\",\"2017-10-11T00:00:00-04:00\",\"2017-10-12T00:00:00-04:00\",\"2017-10-13T00:00:00-04:00\",\"2017-10-16T00:00:00-04:00\",\"2017-10-17T00:00:00-04:00\",\"2017-10-18T00:00:00-04:00\",\"2017-10-19T00:00:00-04:00\",\"2017-10-20T00:00:00-04:00\",\"2017-10-23T00:00:00-04:00\",\"2017-10-24T00:00:00-04:00\",\"2017-10-25T00:00:00-04:00\",\"2017-10-26T00:00:00-04:00\",\"2017-10-27T00:00:00-04:00\",\"2017-10-30T00:00:00-04:00\",\"2017-10-31T00:00:00-04:00\",\"2017-11-01T00:00:00-04:00\",\"2017-11-02T00:00:00-04:00\",\"2017-11-03T00:00:00-04:00\",\"2017-11-06T00:00:00-05:00\",\"2017-11-07T00:00:00-05:00\",\"2017-11-08T00:00:00-05:00\",\"2017-11-09T00:00:00-05:00\",\"2017-11-10T00:00:00-05:00\",\"2017-11-13T00:00:00-05:00\",\"2017-11-14T00:00:00-05:00\",\"2017-11-15T00:00:00-05:00\",\"2017-11-16T00:00:00-05:00\",\"2017-11-17T00:00:00-05:00\",\"2017-11-20T00:00:00-05:00\",\"2017-11-21T00:00:00-05:00\",\"2017-11-22T00:00:00-05:00\",\"2017-11-24T00:00:00-05:00\",\"2017-11-27T00:00:00-05:00\",\"2017-11-28T00:00:00-05:00\",\"2017-11-29T00:00:00-05:00\",\"2017-11-30T00:00:00-05:00\",\"2017-12-01T00:00:00-05:00\",\"2017-12-04T00:00:00-05:00\",\"2017-12-05T00:00:00-05:00\",\"2017-12-06T00:00:00-05:00\",\"2017-12-07T00:00:00-05:00\",\"2017-12-08T00:00:00-05:00\",\"2017-12-11T00:00:00-05:00\",\"2017-12-12T00:00:00-05:00\",\"2017-12-13T00:00:00-05:00\",\"2017-12-14T00:00:00-05:00\",\"2017-12-15T00:00:00-05:00\",\"2017-12-18T00:00:00-05:00\",\"2017-12-19T00:00:00-05:00\",\"2017-12-20T00:00:00-05:00\",\"2017-12-21T00:00:00-05:00\",\"2017-12-22T00:00:00-05:00\",\"2017-12-26T00:00:00-05:00\",\"2017-12-27T00:00:00-05:00\",\"2017-12-28T00:00:00-05:00\",\"2017-12-29T00:00:00-05:00\",\"2018-01-02T00:00:00-05:00\",\"2018-01-03T00:00:00-05:00\",\"2018-01-04T00:00:00-05:00\",\"2018-01-05T00:00:00-05:00\",\"2018-01-08T00:00:00-05:00\",\"2018-01-09T00:00:00-05:00\",\"2018-01-10T00:00:00-05:00\",\"2018-01-11T00:00:00-05:00\",\"2018-01-12T00:00:00-05:00\",\"2018-01-16T00:00:00-05:00\",\"2018-01-17T00:00:00-05:00\",\"2018-01-18T00:00:00-05:00\",\"2018-01-19T00:00:00-05:00\",\"2018-01-22T00:00:00-05:00\",\"2018-01-23T00:00:00-05:00\",\"2018-01-24T00:00:00-05:00\",\"2018-01-25T00:00:00-05:00\",\"2018-01-26T00:00:00-05:00\",\"2018-01-29T00:00:00-05:00\",\"2018-01-30T00:00:00-05:00\",\"2018-01-31T00:00:00-05:00\",\"2018-02-01T00:00:00-05:00\",\"2018-02-02T00:00:00-05:00\",\"2018-02-05T00:00:00-05:00\",\"2018-02-06T00:00:00-05:00\",\"2018-02-07T00:00:00-05:00\",\"2018-02-08T00:00:00-05:00\",\"2018-02-09T00:00:00-05:00\",\"2018-02-12T00:00:00-05:00\",\"2018-02-13T00:00:00-05:00\",\"2018-02-14T00:00:00-05:00\",\"2018-02-15T00:00:00-05:00\",\"2018-02-16T00:00:00-05:00\",\"2018-02-20T00:00:00-05:00\",\"2018-02-21T00:00:00-05:00\",\"2018-02-22T00:00:00-05:00\",\"2018-02-23T00:00:00-05:00\",\"2018-02-26T00:00:00-05:00\",\"2018-02-27T00:00:00-05:00\",\"2018-02-28T00:00:00-05:00\",\"2018-03-01T00:00:00-05:00\",\"2018-03-02T00:00:00-05:00\",\"2018-03-05T00:00:00-05:00\",\"2018-03-06T00:00:00-05:00\",\"2018-03-07T00:00:00-05:00\",\"2018-03-08T00:00:00-05:00\",\"2018-03-09T00:00:00-05:00\",\"2018-03-12T00:00:00-04:00\",\"2018-03-13T00:00:00-04:00\",\"2018-03-14T00:00:00-04:00\",\"2018-03-15T00:00:00-04:00\",\"2018-03-16T00:00:00-04:00\",\"2018-03-19T00:00:00-04:00\",\"2018-03-20T00:00:00-04:00\",\"2018-03-21T00:00:00-04:00\",\"2018-03-22T00:00:00-04:00\",\"2018-03-23T00:00:00-04:00\",\"2018-03-26T00:00:00-04:00\",\"2018-03-27T00:00:00-04:00\",\"2018-03-28T00:00:00-04:00\",\"2018-03-29T00:00:00-04:00\",\"2018-04-02T00:00:00-04:00\",\"2018-04-03T00:00:00-04:00\",\"2018-04-04T00:00:00-04:00\",\"2018-04-05T00:00:00-04:00\",\"2018-04-06T00:00:00-04:00\",\"2018-04-09T00:00:00-04:00\",\"2018-04-10T00:00:00-04:00\",\"2018-04-11T00:00:00-04:00\",\"2018-04-12T00:00:00-04:00\",\"2018-04-13T00:00:00-04:00\",\"2018-04-16T00:00:00-04:00\",\"2018-04-17T00:00:00-04:00\",\"2018-04-18T00:00:00-04:00\",\"2018-04-19T00:00:00-04:00\",\"2018-04-20T00:00:00-04:00\",\"2018-04-23T00:00:00-04:00\",\"2018-04-24T00:00:00-04:00\",\"2018-04-25T00:00:00-04:00\",\"2018-04-26T00:00:00-04:00\",\"2018-04-27T00:00:00-04:00\",\"2018-04-30T00:00:00-04:00\",\"2018-05-01T00:00:00-04:00\",\"2018-05-02T00:00:00-04:00\",\"2018-05-03T00:00:00-04:00\",\"2018-05-04T00:00:00-04:00\",\"2018-05-07T00:00:00-04:00\",\"2018-05-08T00:00:00-04:00\",\"2018-05-09T00:00:00-04:00\",\"2018-05-10T00:00:00-04:00\",\"2018-05-11T00:00:00-04:00\",\"2018-05-14T00:00:00-04:00\",\"2018-05-15T00:00:00-04:00\",\"2018-05-16T00:00:00-04:00\",\"2018-05-17T00:00:00-04:00\",\"2018-05-18T00:00:00-04:00\",\"2018-05-21T00:00:00-04:00\",\"2018-05-22T00:00:00-04:00\",\"2018-05-23T00:00:00-04:00\",\"2018-05-24T00:00:00-04:00\",\"2018-05-25T00:00:00-04:00\",\"2018-05-29T00:00:00-04:00\",\"2018-05-30T00:00:00-04:00\",\"2018-05-31T00:00:00-04:00\",\"2018-06-01T00:00:00-04:00\",\"2018-06-04T00:00:00-04:00\",\"2018-06-05T00:00:00-04:00\",\"2018-06-06T00:00:00-04:00\",\"2018-06-07T00:00:00-04:00\",\"2018-06-08T00:00:00-04:00\",\"2018-06-11T00:00:00-04:00\",\"2018-06-12T00:00:00-04:00\",\"2018-06-13T00:00:00-04:00\",\"2018-06-14T00:00:00-04:00\",\"2018-06-15T00:00:00-04:00\",\"2018-06-18T00:00:00-04:00\",\"2018-06-19T00:00:00-04:00\",\"2018-06-20T00:00:00-04:00\",\"2018-06-21T00:00:00-04:00\",\"2018-06-22T00:00:00-04:00\",\"2018-06-25T00:00:00-04:00\",\"2018-06-26T00:00:00-04:00\",\"2018-06-27T00:00:00-04:00\",\"2018-06-28T00:00:00-04:00\",\"2018-06-29T00:00:00-04:00\",\"2018-07-02T00:00:00-04:00\",\"2018-07-03T00:00:00-04:00\",\"2018-07-05T00:00:00-04:00\",\"2018-07-06T00:00:00-04:00\",\"2018-07-09T00:00:00-04:00\",\"2018-07-10T00:00:00-04:00\",\"2018-07-11T00:00:00-04:00\",\"2018-07-12T00:00:00-04:00\",\"2018-07-13T00:00:00-04:00\",\"2018-07-16T00:00:00-04:00\",\"2018-07-17T00:00:00-04:00\",\"2018-07-18T00:00:00-04:00\",\"2018-07-19T00:00:00-04:00\",\"2018-07-20T00:00:00-04:00\",\"2018-07-23T00:00:00-04:00\",\"2018-07-24T00:00:00-04:00\",\"2018-07-25T00:00:00-04:00\",\"2018-07-26T00:00:00-04:00\",\"2018-07-27T00:00:00-04:00\",\"2018-07-30T00:00:00-04:00\",\"2018-07-31T00:00:00-04:00\",\"2018-08-01T00:00:00-04:00\",\"2018-08-02T00:00:00-04:00\",\"2018-08-03T00:00:00-04:00\",\"2018-08-06T00:00:00-04:00\",\"2018-08-07T00:00:00-04:00\",\"2018-08-08T00:00:00-04:00\",\"2018-08-09T00:00:00-04:00\",\"2018-08-10T00:00:00-04:00\",\"2018-08-13T00:00:00-04:00\",\"2018-08-14T00:00:00-04:00\",\"2018-08-15T00:00:00-04:00\",\"2018-08-16T00:00:00-04:00\",\"2018-08-17T00:00:00-04:00\",\"2018-08-20T00:00:00-04:00\",\"2018-08-21T00:00:00-04:00\",\"2018-08-22T00:00:00-04:00\",\"2018-08-23T00:00:00-04:00\",\"2018-08-24T00:00:00-04:00\",\"2018-08-27T00:00:00-04:00\",\"2018-08-28T00:00:00-04:00\",\"2018-08-29T00:00:00-04:00\",\"2018-08-30T00:00:00-04:00\",\"2018-08-31T00:00:00-04:00\",\"2018-09-04T00:00:00-04:00\",\"2018-09-05T00:00:00-04:00\",\"2018-09-06T00:00:00-04:00\",\"2018-09-07T00:00:00-04:00\",\"2018-09-10T00:00:00-04:00\",\"2018-09-11T00:00:00-04:00\",\"2018-09-12T00:00:00-04:00\",\"2018-09-13T00:00:00-04:00\",\"2018-09-14T00:00:00-04:00\",\"2018-09-17T00:00:00-04:00\",\"2018-09-18T00:00:00-04:00\",\"2018-09-19T00:00:00-04:00\",\"2018-09-20T00:00:00-04:00\",\"2018-09-21T00:00:00-04:00\",\"2018-09-24T00:00:00-04:00\",\"2018-09-25T00:00:00-04:00\",\"2018-09-26T00:00:00-04:00\",\"2018-09-27T00:00:00-04:00\",\"2018-09-28T00:00:00-04:00\",\"2018-10-01T00:00:00-04:00\",\"2018-10-02T00:00:00-04:00\",\"2018-10-03T00:00:00-04:00\",\"2018-10-04T00:00:00-04:00\",\"2018-10-05T00:00:00-04:00\",\"2018-10-08T00:00:00-04:00\",\"2018-10-09T00:00:00-04:00\",\"2018-10-10T00:00:00-04:00\",\"2018-10-11T00:00:00-04:00\",\"2018-10-12T00:00:00-04:00\",\"2018-10-15T00:00:00-04:00\",\"2018-10-16T00:00:00-04:00\",\"2018-10-17T00:00:00-04:00\",\"2018-10-18T00:00:00-04:00\",\"2018-10-19T00:00:00-04:00\",\"2018-10-22T00:00:00-04:00\",\"2018-10-23T00:00:00-04:00\",\"2018-10-24T00:00:00-04:00\",\"2018-10-25T00:00:00-04:00\",\"2018-10-26T00:00:00-04:00\",\"2018-10-29T00:00:00-04:00\",\"2018-10-30T00:00:00-04:00\",\"2018-10-31T00:00:00-04:00\",\"2018-11-01T00:00:00-04:00\",\"2018-11-02T00:00:00-04:00\",\"2018-11-05T00:00:00-05:00\",\"2018-11-06T00:00:00-05:00\",\"2018-11-07T00:00:00-05:00\",\"2018-11-08T00:00:00-05:00\",\"2018-11-09T00:00:00-05:00\",\"2018-11-12T00:00:00-05:00\",\"2018-11-13T00:00:00-05:00\",\"2018-11-14T00:00:00-05:00\",\"2018-11-15T00:00:00-05:00\",\"2018-11-16T00:00:00-05:00\",\"2018-11-19T00:00:00-05:00\",\"2018-11-20T00:00:00-05:00\",\"2018-11-21T00:00:00-05:00\",\"2018-11-23T00:00:00-05:00\",\"2018-11-26T00:00:00-05:00\",\"2018-11-27T00:00:00-05:00\",\"2018-11-28T00:00:00-05:00\",\"2018-11-29T00:00:00-05:00\",\"2018-11-30T00:00:00-05:00\",\"2018-12-03T00:00:00-05:00\",\"2018-12-04T00:00:00-05:00\",\"2018-12-06T00:00:00-05:00\",\"2018-12-07T00:00:00-05:00\",\"2018-12-10T00:00:00-05:00\",\"2018-12-11T00:00:00-05:00\",\"2018-12-12T00:00:00-05:00\",\"2018-12-13T00:00:00-05:00\",\"2018-12-14T00:00:00-05:00\",\"2018-12-17T00:00:00-05:00\",\"2018-12-18T00:00:00-05:00\",\"2018-12-19T00:00:00-05:00\",\"2018-12-20T00:00:00-05:00\",\"2018-12-21T00:00:00-05:00\",\"2018-12-24T00:00:00-05:00\",\"2018-12-26T00:00:00-05:00\",\"2018-12-27T00:00:00-05:00\",\"2018-12-28T00:00:00-05:00\",\"2018-12-31T00:00:00-05:00\",\"2019-01-02T00:00:00-05:00\",\"2019-01-03T00:00:00-05:00\",\"2019-01-04T00:00:00-05:00\",\"2019-01-07T00:00:00-05:00\",\"2019-01-08T00:00:00-05:00\",\"2019-01-09T00:00:00-05:00\",\"2019-01-10T00:00:00-05:00\",\"2019-01-11T00:00:00-05:00\",\"2019-01-14T00:00:00-05:00\",\"2019-01-15T00:00:00-05:00\",\"2019-01-16T00:00:00-05:00\",\"2019-01-17T00:00:00-05:00\",\"2019-01-18T00:00:00-05:00\",\"2019-01-22T00:00:00-05:00\",\"2019-01-23T00:00:00-05:00\",\"2019-01-24T00:00:00-05:00\",\"2019-01-25T00:00:00-05:00\",\"2019-01-28T00:00:00-05:00\",\"2019-01-29T00:00:00-05:00\",\"2019-01-30T00:00:00-05:00\",\"2019-01-31T00:00:00-05:00\",\"2019-02-01T00:00:00-05:00\",\"2019-02-04T00:00:00-05:00\",\"2019-02-05T00:00:00-05:00\",\"2019-02-06T00:00:00-05:00\",\"2019-02-07T00:00:00-05:00\",\"2019-02-08T00:00:00-05:00\",\"2019-02-11T00:00:00-05:00\",\"2019-02-12T00:00:00-05:00\",\"2019-02-13T00:00:00-05:00\",\"2019-02-14T00:00:00-05:00\",\"2019-02-15T00:00:00-05:00\",\"2019-02-19T00:00:00-05:00\",\"2019-02-20T00:00:00-05:00\",\"2019-02-21T00:00:00-05:00\",\"2019-02-22T00:00:00-05:00\",\"2019-02-25T00:00:00-05:00\",\"2019-02-26T00:00:00-05:00\",\"2019-02-27T00:00:00-05:00\",\"2019-02-28T00:00:00-05:00\",\"2019-03-01T00:00:00-05:00\",\"2019-03-04T00:00:00-05:00\",\"2019-03-05T00:00:00-05:00\",\"2019-03-06T00:00:00-05:00\",\"2019-03-07T00:00:00-05:00\",\"2019-03-08T00:00:00-05:00\",\"2019-03-11T00:00:00-04:00\",\"2019-03-12T00:00:00-04:00\",\"2019-03-13T00:00:00-04:00\",\"2019-03-14T00:00:00-04:00\",\"2019-03-15T00:00:00-04:00\",\"2019-03-18T00:00:00-04:00\",\"2019-03-19T00:00:00-04:00\",\"2019-03-20T00:00:00-04:00\",\"2019-03-21T00:00:00-04:00\",\"2019-03-22T00:00:00-04:00\",\"2019-03-25T00:00:00-04:00\",\"2019-03-26T00:00:00-04:00\",\"2019-03-27T00:00:00-04:00\",\"2019-03-28T00:00:00-04:00\",\"2019-03-29T00:00:00-04:00\",\"2019-04-01T00:00:00-04:00\",\"2019-04-02T00:00:00-04:00\",\"2019-04-03T00:00:00-04:00\",\"2019-04-04T00:00:00-04:00\",\"2019-04-05T00:00:00-04:00\",\"2019-04-08T00:00:00-04:00\",\"2019-04-09T00:00:00-04:00\",\"2019-04-10T00:00:00-04:00\",\"2019-04-11T00:00:00-04:00\",\"2019-04-12T00:00:00-04:00\",\"2019-04-15T00:00:00-04:00\",\"2019-04-16T00:00:00-04:00\",\"2019-04-17T00:00:00-04:00\",\"2019-04-18T00:00:00-04:00\",\"2019-04-22T00:00:00-04:00\",\"2019-04-23T00:00:00-04:00\",\"2019-04-24T00:00:00-04:00\",\"2019-04-25T00:00:00-04:00\",\"2019-04-26T00:00:00-04:00\",\"2019-04-29T00:00:00-04:00\",\"2019-04-30T00:00:00-04:00\",\"2019-05-01T00:00:00-04:00\",\"2019-05-02T00:00:00-04:00\",\"2019-05-03T00:00:00-04:00\",\"2019-05-06T00:00:00-04:00\",\"2019-05-07T00:00:00-04:00\",\"2019-05-08T00:00:00-04:00\",\"2019-05-09T00:00:00-04:00\",\"2019-05-10T00:00:00-04:00\",\"2019-05-13T00:00:00-04:00\",\"2019-05-14T00:00:00-04:00\",\"2019-05-15T00:00:00-04:00\",\"2019-05-16T00:00:00-04:00\",\"2019-05-17T00:00:00-04:00\",\"2019-05-20T00:00:00-04:00\",\"2019-05-21T00:00:00-04:00\",\"2019-05-22T00:00:00-04:00\",\"2019-05-23T00:00:00-04:00\",\"2019-05-24T00:00:00-04:00\",\"2019-05-28T00:00:00-04:00\",\"2019-05-29T00:00:00-04:00\",\"2019-05-30T00:00:00-04:00\",\"2019-05-31T00:00:00-04:00\",\"2019-06-03T00:00:00-04:00\",\"2019-06-04T00:00:00-04:00\",\"2019-06-05T00:00:00-04:00\",\"2019-06-06T00:00:00-04:00\",\"2019-06-07T00:00:00-04:00\",\"2019-06-10T00:00:00-04:00\",\"2019-06-11T00:00:00-04:00\",\"2019-06-12T00:00:00-04:00\",\"2019-06-13T00:00:00-04:00\",\"2019-06-14T00:00:00-04:00\",\"2019-06-17T00:00:00-04:00\",\"2019-06-18T00:00:00-04:00\",\"2019-06-19T00:00:00-04:00\",\"2019-06-20T00:00:00-04:00\",\"2019-06-21T00:00:00-04:00\",\"2019-06-24T00:00:00-04:00\",\"2019-06-25T00:00:00-04:00\",\"2019-06-26T00:00:00-04:00\",\"2019-06-27T00:00:00-04:00\",\"2019-06-28T00:00:00-04:00\",\"2019-07-01T00:00:00-04:00\",\"2019-07-02T00:00:00-04:00\",\"2019-07-03T00:00:00-04:00\",\"2019-07-05T00:00:00-04:00\",\"2019-07-08T00:00:00-04:00\",\"2019-07-09T00:00:00-04:00\",\"2019-07-10T00:00:00-04:00\",\"2019-07-11T00:00:00-04:00\",\"2019-07-12T00:00:00-04:00\",\"2019-07-15T00:00:00-04:00\",\"2019-07-16T00:00:00-04:00\",\"2019-07-17T00:00:00-04:00\",\"2019-07-18T00:00:00-04:00\",\"2019-07-19T00:00:00-04:00\",\"2019-07-22T00:00:00-04:00\",\"2019-07-23T00:00:00-04:00\",\"2019-07-24T00:00:00-04:00\",\"2019-07-25T00:00:00-04:00\",\"2019-07-26T00:00:00-04:00\",\"2019-07-29T00:00:00-04:00\",\"2019-07-30T00:00:00-04:00\",\"2019-07-31T00:00:00-04:00\",\"2019-08-01T00:00:00-04:00\",\"2019-08-02T00:00:00-04:00\",\"2019-08-05T00:00:00-04:00\",\"2019-08-06T00:00:00-04:00\",\"2019-08-07T00:00:00-04:00\",\"2019-08-08T00:00:00-04:00\",\"2019-08-09T00:00:00-04:00\",\"2019-08-12T00:00:00-04:00\",\"2019-08-13T00:00:00-04:00\",\"2019-08-14T00:00:00-04:00\",\"2019-08-15T00:00:00-04:00\",\"2019-08-16T00:00:00-04:00\",\"2019-08-19T00:00:00-04:00\",\"2019-08-20T00:00:00-04:00\",\"2019-08-21T00:00:00-04:00\",\"2019-08-22T00:00:00-04:00\",\"2019-08-23T00:00:00-04:00\",\"2019-08-26T00:00:00-04:00\",\"2019-08-27T00:00:00-04:00\",\"2019-08-28T00:00:00-04:00\",\"2019-08-29T00:00:00-04:00\",\"2019-08-30T00:00:00-04:00\",\"2019-09-03T00:00:00-04:00\",\"2019-09-04T00:00:00-04:00\",\"2019-09-05T00:00:00-04:00\",\"2019-09-06T00:00:00-04:00\",\"2019-09-09T00:00:00-04:00\",\"2019-09-10T00:00:00-04:00\",\"2019-09-11T00:00:00-04:00\",\"2019-09-12T00:00:00-04:00\",\"2019-09-13T00:00:00-04:00\",\"2019-09-16T00:00:00-04:00\",\"2019-09-17T00:00:00-04:00\",\"2019-09-18T00:00:00-04:00\",\"2019-09-19T00:00:00-04:00\",\"2019-09-20T00:00:00-04:00\",\"2019-09-23T00:00:00-04:00\",\"2019-09-24T00:00:00-04:00\",\"2019-09-25T00:00:00-04:00\",\"2019-09-26T00:00:00-04:00\",\"2019-09-27T00:00:00-04:00\",\"2019-09-30T00:00:00-04:00\",\"2019-10-01T00:00:00-04:00\",\"2019-10-02T00:00:00-04:00\",\"2019-10-03T00:00:00-04:00\",\"2019-10-04T00:00:00-04:00\",\"2019-10-07T00:00:00-04:00\",\"2019-10-08T00:00:00-04:00\",\"2019-10-09T00:00:00-04:00\",\"2019-10-10T00:00:00-04:00\",\"2019-10-11T00:00:00-04:00\",\"2019-10-14T00:00:00-04:00\",\"2019-10-15T00:00:00-04:00\",\"2019-10-16T00:00:00-04:00\",\"2019-10-17T00:00:00-04:00\",\"2019-10-18T00:00:00-04:00\",\"2019-10-21T00:00:00-04:00\",\"2019-10-22T00:00:00-04:00\",\"2019-10-23T00:00:00-04:00\",\"2019-10-24T00:00:00-04:00\",\"2019-10-25T00:00:00-04:00\",\"2019-10-28T00:00:00-04:00\",\"2019-10-29T00:00:00-04:00\",\"2019-10-30T00:00:00-04:00\",\"2019-10-31T00:00:00-04:00\",\"2019-11-01T00:00:00-04:00\",\"2019-11-04T00:00:00-05:00\",\"2019-11-05T00:00:00-05:00\",\"2019-11-06T00:00:00-05:00\",\"2019-11-07T00:00:00-05:00\",\"2019-11-08T00:00:00-05:00\",\"2019-11-11T00:00:00-05:00\",\"2019-11-12T00:00:00-05:00\",\"2019-11-13T00:00:00-05:00\",\"2019-11-14T00:00:00-05:00\",\"2019-11-15T00:00:00-05:00\",\"2019-11-18T00:00:00-05:00\",\"2019-11-19T00:00:00-05:00\",\"2019-11-20T00:00:00-05:00\",\"2019-11-21T00:00:00-05:00\",\"2019-11-22T00:00:00-05:00\",\"2019-11-25T00:00:00-05:00\",\"2019-11-26T00:00:00-05:00\",\"2019-11-27T00:00:00-05:00\",\"2019-11-29T00:00:00-05:00\",\"2019-12-02T00:00:00-05:00\",\"2019-12-03T00:00:00-05:00\",\"2019-12-04T00:00:00-05:00\",\"2019-12-05T00:00:00-05:00\",\"2019-12-06T00:00:00-05:00\",\"2019-12-09T00:00:00-05:00\",\"2019-12-10T00:00:00-05:00\",\"2019-12-11T00:00:00-05:00\",\"2019-12-12T00:00:00-05:00\",\"2019-12-13T00:00:00-05:00\",\"2019-12-16T00:00:00-05:00\",\"2019-12-17T00:00:00-05:00\",\"2019-12-18T00:00:00-05:00\",\"2019-12-19T00:00:00-05:00\",\"2019-12-20T00:00:00-05:00\",\"2019-12-23T00:00:00-05:00\",\"2019-12-24T00:00:00-05:00\",\"2019-12-26T00:00:00-05:00\",\"2019-12-27T00:00:00-05:00\",\"2019-12-30T00:00:00-05:00\",\"2019-12-31T00:00:00-05:00\",\"2020-01-02T00:00:00-05:00\",\"2020-01-03T00:00:00-05:00\",\"2020-01-06T00:00:00-05:00\",\"2020-01-07T00:00:00-05:00\",\"2020-01-08T00:00:00-05:00\",\"2020-01-09T00:00:00-05:00\",\"2020-01-10T00:00:00-05:00\",\"2020-01-13T00:00:00-05:00\",\"2020-01-14T00:00:00-05:00\",\"2020-01-15T00:00:00-05:00\",\"2020-01-16T00:00:00-05:00\",\"2020-01-17T00:00:00-05:00\",\"2020-01-21T00:00:00-05:00\",\"2020-01-22T00:00:00-05:00\",\"2020-01-23T00:00:00-05:00\",\"2020-01-24T00:00:00-05:00\",\"2020-01-27T00:00:00-05:00\",\"2020-01-28T00:00:00-05:00\",\"2020-01-29T00:00:00-05:00\",\"2020-01-30T00:00:00-05:00\",\"2020-01-31T00:00:00-05:00\",\"2020-02-03T00:00:00-05:00\",\"2020-02-04T00:00:00-05:00\",\"2020-02-05T00:00:00-05:00\",\"2020-02-06T00:00:00-05:00\",\"2020-02-07T00:00:00-05:00\",\"2020-02-10T00:00:00-05:00\",\"2020-02-11T00:00:00-05:00\",\"2020-02-12T00:00:00-05:00\",\"2020-02-13T00:00:00-05:00\",\"2020-02-14T00:00:00-05:00\",\"2020-02-18T00:00:00-05:00\",\"2020-02-19T00:00:00-05:00\",\"2020-02-20T00:00:00-05:00\",\"2020-02-21T00:00:00-05:00\",\"2020-02-24T00:00:00-05:00\",\"2020-02-25T00:00:00-05:00\",\"2020-02-26T00:00:00-05:00\",\"2020-02-27T00:00:00-05:00\",\"2020-02-28T00:00:00-05:00\",\"2020-03-02T00:00:00-05:00\",\"2020-03-03T00:00:00-05:00\",\"2020-03-04T00:00:00-05:00\",\"2020-03-05T00:00:00-05:00\",\"2020-03-06T00:00:00-05:00\",\"2020-03-09T00:00:00-04:00\",\"2020-03-10T00:00:00-04:00\",\"2020-03-11T00:00:00-04:00\",\"2020-03-12T00:00:00-04:00\",\"2020-03-13T00:00:00-04:00\",\"2020-03-16T00:00:00-04:00\",\"2020-03-17T00:00:00-04:00\",\"2020-03-18T00:00:00-04:00\",\"2020-03-19T00:00:00-04:00\",\"2020-03-20T00:00:00-04:00\",\"2020-03-23T00:00:00-04:00\",\"2020-03-24T00:00:00-04:00\",\"2020-03-25T00:00:00-04:00\",\"2020-03-26T00:00:00-04:00\",\"2020-03-27T00:00:00-04:00\",\"2020-03-30T00:00:00-04:00\",\"2020-03-31T00:00:00-04:00\",\"2020-04-01T00:00:00-04:00\",\"2020-04-02T00:00:00-04:00\",\"2020-04-03T00:00:00-04:00\",\"2020-04-06T00:00:00-04:00\",\"2020-04-07T00:00:00-04:00\",\"2020-04-08T00:00:00-04:00\",\"2020-04-09T00:00:00-04:00\",\"2020-04-13T00:00:00-04:00\",\"2020-04-14T00:00:00-04:00\",\"2020-04-15T00:00:00-04:00\",\"2020-04-16T00:00:00-04:00\",\"2020-04-17T00:00:00-04:00\",\"2020-04-20T00:00:00-04:00\",\"2020-04-21T00:00:00-04:00\",\"2020-04-22T00:00:00-04:00\",\"2020-04-23T00:00:00-04:00\",\"2020-04-24T00:00:00-04:00\",\"2020-04-27T00:00:00-04:00\",\"2020-04-28T00:00:00-04:00\",\"2020-04-29T00:00:00-04:00\",\"2020-04-30T00:00:00-04:00\",\"2020-05-01T00:00:00-04:00\",\"2020-05-04T00:00:00-04:00\",\"2020-05-05T00:00:00-04:00\",\"2020-05-06T00:00:00-04:00\",\"2020-05-07T00:00:00-04:00\",\"2020-05-08T00:00:00-04:00\",\"2020-05-11T00:00:00-04:00\",\"2020-05-12T00:00:00-04:00\",\"2020-05-13T00:00:00-04:00\",\"2020-05-14T00:00:00-04:00\",\"2020-05-15T00:00:00-04:00\",\"2020-05-18T00:00:00-04:00\",\"2020-05-19T00:00:00-04:00\",\"2020-05-20T00:00:00-04:00\",\"2020-05-21T00:00:00-04:00\",\"2020-05-22T00:00:00-04:00\",\"2020-05-26T00:00:00-04:00\",\"2020-05-27T00:00:00-04:00\",\"2020-05-28T00:00:00-04:00\",\"2020-05-29T00:00:00-04:00\",\"2020-06-01T00:00:00-04:00\",\"2020-06-02T00:00:00-04:00\",\"2020-06-03T00:00:00-04:00\",\"2020-06-04T00:00:00-04:00\",\"2020-06-05T00:00:00-04:00\",\"2020-06-08T00:00:00-04:00\",\"2020-06-09T00:00:00-04:00\",\"2020-06-10T00:00:00-04:00\",\"2020-06-11T00:00:00-04:00\",\"2020-06-12T00:00:00-04:00\",\"2020-06-15T00:00:00-04:00\",\"2020-06-16T00:00:00-04:00\",\"2020-06-17T00:00:00-04:00\",\"2020-06-18T00:00:00-04:00\",\"2020-06-19T00:00:00-04:00\",\"2020-06-22T00:00:00-04:00\",\"2020-06-23T00:00:00-04:00\",\"2020-06-24T00:00:00-04:00\",\"2020-06-25T00:00:00-04:00\",\"2020-06-26T00:00:00-04:00\",\"2020-06-29T00:00:00-04:00\",\"2020-06-30T00:00:00-04:00\",\"2020-07-01T00:00:00-04:00\",\"2020-07-02T00:00:00-04:00\",\"2020-07-06T00:00:00-04:00\",\"2020-07-07T00:00:00-04:00\",\"2020-07-08T00:00:00-04:00\",\"2020-07-09T00:00:00-04:00\",\"2020-07-10T00:00:00-04:00\",\"2020-07-13T00:00:00-04:00\",\"2020-07-14T00:00:00-04:00\",\"2020-07-15T00:00:00-04:00\",\"2020-07-16T00:00:00-04:00\",\"2020-07-17T00:00:00-04:00\",\"2020-07-20T00:00:00-04:00\",\"2020-07-21T00:00:00-04:00\",\"2020-07-22T00:00:00-04:00\",\"2020-07-23T00:00:00-04:00\",\"2020-07-24T00:00:00-04:00\",\"2020-07-27T00:00:00-04:00\",\"2020-07-28T00:00:00-04:00\",\"2020-07-29T00:00:00-04:00\",\"2020-07-30T00:00:00-04:00\",\"2020-07-31T00:00:00-04:00\",\"2020-08-03T00:00:00-04:00\",\"2020-08-04T00:00:00-04:00\",\"2020-08-05T00:00:00-04:00\",\"2020-08-06T00:00:00-04:00\",\"2020-08-07T00:00:00-04:00\",\"2020-08-10T00:00:00-04:00\",\"2020-08-11T00:00:00-04:00\",\"2020-08-12T00:00:00-04:00\",\"2020-08-13T00:00:00-04:00\",\"2020-08-14T00:00:00-04:00\",\"2020-08-17T00:00:00-04:00\",\"2020-08-18T00:00:00-04:00\",\"2020-08-19T00:00:00-04:00\",\"2020-08-20T00:00:00-04:00\",\"2020-08-21T00:00:00-04:00\",\"2020-08-24T00:00:00-04:00\",\"2020-08-25T00:00:00-04:00\",\"2020-08-26T00:00:00-04:00\",\"2020-08-27T00:00:00-04:00\",\"2020-08-28T00:00:00-04:00\",\"2020-08-31T00:00:00-04:00\",\"2020-09-01T00:00:00-04:00\",\"2020-09-02T00:00:00-04:00\",\"2020-09-03T00:00:00-04:00\",\"2020-09-04T00:00:00-04:00\",\"2020-09-08T00:00:00-04:00\",\"2020-09-09T00:00:00-04:00\",\"2020-09-10T00:00:00-04:00\",\"2020-09-11T00:00:00-04:00\",\"2020-09-14T00:00:00-04:00\",\"2020-09-15T00:00:00-04:00\",\"2020-09-16T00:00:00-04:00\",\"2020-09-17T00:00:00-04:00\",\"2020-09-18T00:00:00-04:00\",\"2020-09-21T00:00:00-04:00\",\"2020-09-22T00:00:00-04:00\",\"2020-09-23T00:00:00-04:00\",\"2020-09-24T00:00:00-04:00\",\"2020-09-25T00:00:00-04:00\",\"2020-09-28T00:00:00-04:00\",\"2020-09-29T00:00:00-04:00\",\"2020-09-30T00:00:00-04:00\",\"2020-10-01T00:00:00-04:00\",\"2020-10-02T00:00:00-04:00\",\"2020-10-05T00:00:00-04:00\",\"2020-10-06T00:00:00-04:00\",\"2020-10-07T00:00:00-04:00\",\"2020-10-08T00:00:00-04:00\",\"2020-10-09T00:00:00-04:00\",\"2020-10-12T00:00:00-04:00\",\"2020-10-13T00:00:00-04:00\",\"2020-10-14T00:00:00-04:00\",\"2020-10-15T00:00:00-04:00\",\"2020-10-16T00:00:00-04:00\",\"2020-10-19T00:00:00-04:00\",\"2020-10-20T00:00:00-04:00\",\"2020-10-21T00:00:00-04:00\",\"2020-10-22T00:00:00-04:00\",\"2020-10-23T00:00:00-04:00\",\"2020-10-26T00:00:00-04:00\",\"2020-10-27T00:00:00-04:00\",\"2020-10-28T00:00:00-04:00\",\"2020-10-29T00:00:00-04:00\",\"2020-10-30T00:00:00-04:00\",\"2020-11-02T00:00:00-05:00\",\"2020-11-03T00:00:00-05:00\",\"2020-11-04T00:00:00-05:00\",\"2020-11-05T00:00:00-05:00\",\"2020-11-06T00:00:00-05:00\",\"2020-11-09T00:00:00-05:00\",\"2020-11-10T00:00:00-05:00\",\"2020-11-11T00:00:00-05:00\",\"2020-11-12T00:00:00-05:00\",\"2020-11-13T00:00:00-05:00\",\"2020-11-16T00:00:00-05:00\",\"2020-11-17T00:00:00-05:00\",\"2020-11-18T00:00:00-05:00\",\"2020-11-19T00:00:00-05:00\",\"2020-11-20T00:00:00-05:00\",\"2020-11-23T00:00:00-05:00\",\"2020-11-24T00:00:00-05:00\",\"2020-11-25T00:00:00-05:00\",\"2020-11-27T00:00:00-05:00\",\"2020-11-30T00:00:00-05:00\",\"2020-12-01T00:00:00-05:00\",\"2020-12-02T00:00:00-05:00\",\"2020-12-03T00:00:00-05:00\",\"2020-12-04T00:00:00-05:00\",\"2020-12-07T00:00:00-05:00\",\"2020-12-08T00:00:00-05:00\",\"2020-12-09T00:00:00-05:00\",\"2020-12-10T00:00:00-05:00\",\"2020-12-11T00:00:00-05:00\",\"2020-12-14T00:00:00-05:00\",\"2020-12-15T00:00:00-05:00\",\"2020-12-16T00:00:00-05:00\",\"2020-12-17T00:00:00-05:00\",\"2020-12-18T00:00:00-05:00\",\"2020-12-21T00:00:00-05:00\",\"2020-12-22T00:00:00-05:00\",\"2020-12-23T00:00:00-05:00\",\"2020-12-24T00:00:00-05:00\",\"2020-12-28T00:00:00-05:00\",\"2020-12-29T00:00:00-05:00\",\"2020-12-30T00:00:00-05:00\",\"2020-12-31T00:00:00-05:00\",\"2021-01-04T00:00:00-05:00\",\"2021-01-05T00:00:00-05:00\",\"2021-01-06T00:00:00-05:00\",\"2021-01-07T00:00:00-05:00\",\"2021-01-08T00:00:00-05:00\",\"2021-01-11T00:00:00-05:00\",\"2021-01-12T00:00:00-05:00\",\"2021-01-13T00:00:00-05:00\",\"2021-01-14T00:00:00-05:00\",\"2021-01-15T00:00:00-05:00\",\"2021-01-19T00:00:00-05:00\",\"2021-01-20T00:00:00-05:00\",\"2021-01-21T00:00:00-05:00\",\"2021-01-22T00:00:00-05:00\",\"2021-01-25T00:00:00-05:00\",\"2021-01-26T00:00:00-05:00\",\"2021-01-27T00:00:00-05:00\",\"2021-01-28T00:00:00-05:00\",\"2021-01-29T00:00:00-05:00\",\"2021-02-01T00:00:00-05:00\",\"2021-02-02T00:00:00-05:00\",\"2021-02-03T00:00:00-05:00\",\"2021-02-04T00:00:00-05:00\",\"2021-02-05T00:00:00-05:00\",\"2021-02-08T00:00:00-05:00\",\"2021-02-09T00:00:00-05:00\",\"2021-02-10T00:00:00-05:00\",\"2021-02-11T00:00:00-05:00\",\"2021-02-12T00:00:00-05:00\",\"2021-02-16T00:00:00-05:00\",\"2021-02-17T00:00:00-05:00\",\"2021-02-18T00:00:00-05:00\",\"2021-02-19T00:00:00-05:00\",\"2021-02-22T00:00:00-05:00\",\"2021-02-23T00:00:00-05:00\",\"2021-02-24T00:00:00-05:00\",\"2021-02-25T00:00:00-05:00\",\"2021-02-26T00:00:00-05:00\",\"2021-03-01T00:00:00-05:00\",\"2021-03-02T00:00:00-05:00\",\"2021-03-03T00:00:00-05:00\",\"2021-03-04T00:00:00-05:00\",\"2021-03-05T00:00:00-05:00\",\"2021-03-08T00:00:00-05:00\",\"2021-03-09T00:00:00-05:00\",\"2021-03-10T00:00:00-05:00\",\"2021-03-11T00:00:00-05:00\",\"2021-03-12T00:00:00-05:00\",\"2021-03-15T00:00:00-04:00\",\"2021-03-16T00:00:00-04:00\",\"2021-03-17T00:00:00-04:00\",\"2021-03-18T00:00:00-04:00\",\"2021-03-19T00:00:00-04:00\",\"2021-03-22T00:00:00-04:00\",\"2021-03-23T00:00:00-04:00\",\"2021-03-24T00:00:00-04:00\",\"2021-03-25T00:00:00-04:00\",\"2021-03-26T00:00:00-04:00\",\"2021-03-29T00:00:00-04:00\",\"2021-03-30T00:00:00-04:00\",\"2021-03-31T00:00:00-04:00\",\"2021-04-01T00:00:00-04:00\",\"2021-04-05T00:00:00-04:00\",\"2021-04-06T00:00:00-04:00\",\"2021-04-07T00:00:00-04:00\",\"2021-04-08T00:00:00-04:00\",\"2021-04-09T00:00:00-04:00\",\"2021-04-12T00:00:00-04:00\",\"2021-04-13T00:00:00-04:00\",\"2021-04-14T00:00:00-04:00\",\"2021-04-15T00:00:00-04:00\",\"2021-04-16T00:00:00-04:00\",\"2021-04-19T00:00:00-04:00\",\"2021-04-20T00:00:00-04:00\",\"2021-04-21T00:00:00-04:00\",\"2021-04-22T00:00:00-04:00\",\"2021-04-23T00:00:00-04:00\",\"2021-04-26T00:00:00-04:00\",\"2021-04-27T00:00:00-04:00\",\"2021-04-28T00:00:00-04:00\",\"2021-04-29T00:00:00-04:00\",\"2021-04-30T00:00:00-04:00\",\"2021-05-03T00:00:00-04:00\",\"2021-05-04T00:00:00-04:00\",\"2021-05-05T00:00:00-04:00\",\"2021-05-06T00:00:00-04:00\",\"2021-05-07T00:00:00-04:00\",\"2021-05-10T00:00:00-04:00\",\"2021-05-11T00:00:00-04:00\",\"2021-05-12T00:00:00-04:00\",\"2021-05-13T00:00:00-04:00\",\"2021-05-14T00:00:00-04:00\",\"2021-05-17T00:00:00-04:00\",\"2021-05-18T00:00:00-04:00\",\"2021-05-19T00:00:00-04:00\",\"2021-05-20T00:00:00-04:00\",\"2021-05-21T00:00:00-04:00\",\"2021-05-24T00:00:00-04:00\",\"2021-05-25T00:00:00-04:00\",\"2021-05-26T00:00:00-04:00\",\"2021-05-27T00:00:00-04:00\",\"2021-05-28T00:00:00-04:00\",\"2021-06-01T00:00:00-04:00\",\"2021-06-02T00:00:00-04:00\",\"2021-06-03T00:00:00-04:00\",\"2021-06-04T00:00:00-04:00\",\"2021-06-07T00:00:00-04:00\",\"2021-06-08T00:00:00-04:00\",\"2021-06-09T00:00:00-04:00\",\"2021-06-10T00:00:00-04:00\",\"2021-06-11T00:00:00-04:00\",\"2021-06-14T00:00:00-04:00\"],\"y\":[1.691666841506958,1.6832503080368042,1.6748340129852295,1.6075036525726318,1.662209391593933,1.6580018997192383,1.6285449266433716,1.6411688327789307,1.6411688327789307,1.611712098121643,1.6075036525726318,1.6302281618118286,1.6580018997192383,1.6201285123825073,1.6285449266433716,1.7185983657836914,1.7589958906173706,1.781720519065857,1.784245491027832,1.7690956592559814,1.7674126625061035,1.7127069234848022,1.62433660030365,1.5738390684127808,1.516608476638794,1.5780473947525024,1.62433660030365,1.6596847772598267,1.6815667152404785,1.7337477207183838,1.7000830173492432,1.6032955646514893,1.5687892436981201,1.5654230117797852,1.5948798656463623,1.5561646223068237,1.540173888206482,1.5948798656463623,1.592354416847229,1.5570063591003418,1.5359655618667603,1.5620566606521606,1.5990875959396362,1.6672593355178833,1.6672593355178833,1.7059743404388428,1.6832503080368042,1.6453770399093628,1.633594036102295,1.6327526569366455,1.6201285123825073,1.590671420097351,1.6032955646514893,1.7253319025039673,1.7531046867370605,1.7505801916122437,1.8305352926254272,1.8094937801361084,1.8852403163909912,1.9231133460998535,1.8566251993179321,1.8094937801361084,1.7505801916122437,1.6706256866455078,1.7337477207183838,1.786769986152649,1.7993940114974976,1.7253319025039673,1.788453221321106,1.8860814571380615,1.9744523763656616,2.037574529647827,1.9862357378005981,1.9576201438903809,2.035891056060791,1.9567784070968628,1.9719280004501343,1.9567784070968628,1.9567784070968628,1.9315294027328491,1.8936569690704346,1.9146974086761475,1.8852403163909912,1.9323712587356567,1.8944984674453735,1.937421202659607,1.895340085029602,1.9357374906539917,1.8431590795516968,1.7674126625061035,1.7270152568817139,1.6815667152404785,1.5948798656463623,1.6832503080368042,1.766571044921875,1.6613678932189941,1.5788886547088623,1.5570063591003418,1.5999294519424438,1.6672593355178833,1.6411688327789307,1.6159204244613647,1.5511151552200317,1.4888348579406738,1.405513882637024,1.3625911474227905,1.3541752099990845,1.3499668836593628,1.3280845880508423,1.3297674655914307,1.3466002941131592,1.4804189205169678,1.429079532623291,1.4762108325958252,1.540173888206482,1.5107172727584839,1.4728442430496216,1.404672384262085,1.2708537578582764,1.291894555091858,1.3289260864257812,1.337342381477356,1.2540212869644165,1.2834784984588623,1.3676409721374512,1.3760572671890259,1.4560117721557617,1.5233417749404907,1.593196153640747,1.6790425777435303,1.760679841041565,1.8052856922149658,1.7253319025039673,1.662209391593933,1.7387980222702026,1.7345894575119019,1.7589958906173706,1.8036028146743774,1.7505801916122437,1.6832503080368042,1.5654230117797852,1.614236831665039,1.650427222251892,1.6874587535858154,1.7169151306152344,1.7505801916122437,1.7169151306152344,1.6495853662490845,1.7009243965148926,1.7185983657836914,1.691666841506958,1.7068159580230713,1.6874587535858154,1.6748340129852295,1.634436011314392,1.6537930965423584,1.7379558086395264,1.7909784317016602,1.7211235761642456,1.6832503080368042,1.6664179563522339,1.611712098121643,1.6251782178878784,1.5654230117797852,1.590671420097351,1.4703190326690674,1.5410155057907104,1.562897801399231,1.5772054195404053,1.6487436294555664,1.6411688327789307,1.6647344827651978,1.7127069234848022,1.754788875579834,1.6133956909179688,1.6782008409500122,1.7169151306152344,1.7127069234848022,1.5612149238586426,1.5149253606796265,1.5149253606796265,1.5065090656280518,1.4837853908538818,1.5216584205627441,1.5780473947525024,1.5654230117797852,1.5544813871383667,1.4332877397537231,1.4644277095794678,1.5485903024673462,1.5990875959396362,1.5990875959396362,1.6975579261779785,1.7034491300582886,1.6075036525726318,1.6201285123825073,1.6361193656921387,1.5570063591003418,1.5620566606521606,1.5570063591003418,1.5713139772415161,1.5654230117797852,1.590671420097351,1.6041380167007446,1.5822556018829346,1.6201285123825073,1.6176035404205322,1.5275497436523438,1.5250247716903687,1.4484367370605469,1.5233417749404907,1.3297674655914307,1.3466002941131592,1.2540212869644165,1.1210441589355469,0.7843946218490601,0.7970191240310669,0.7911278009414673,0.770086944103241,0.7742951512336731,0.7869195342063904,0.8189011216163635,0.8247926831245422,0.8180596828460693,0.8306839466094971,0.8315256237983704,0.8500415086746216,0.8542494773864746,0.892122745513916,0.8736067414283752,0.8879145383834839,0.8332089781761169,0.8029102683067322,0.8037518262863159,0.8037518262863159,0.812168300151825,0.8332089781761169,0.8205844163894653,0.7919692397117615,0.7574626803398132,0.7566210031509399,0.7574626803398132,0.7465217113494873,0.7153812050819397,0.6951823234558105,0.7145397663116455,0.694340705871582,0.6733001470565796,0.6665669083595276,0.6497345566749573,0.6387935280799866,0.6733001470565796,0.6665669083595276,0.6926574110984802,0.8584575653076172,0.8752900958061218,0.8576161861419678,0.892122745513916,0.8710821866989136,0.8677154779434204,0.8550910353660583,0.8635076284408569,0.8837063312530518,0.9072719216346741,0.8752900958061218,0.8837063312530518,0.9089552164077759,0.9190546870231628,0.892122745513916,0.9022223353385925,0.925787627696991,0.971235454082489,1.0183666944503784,1.0225746631622314,1.0183666944503784,1.0208913087844849,0.9931178689002991,1.0200495719909668,0.990592896938324,1.0015336275100708,1.0099501609802246,1.0099501609802246,1.0133168697357178,1.0099501609802246,1.0107920169830322,1.025099515914917,1.008266806602478,1.0840132236480713,1.0899044275283813,1.0772801637649536,1.0570813417434692,1.0377237796783447,1.045298457145691,1.0730723142623901,1.0562394857406616,1.0629725456237793,1.0419321060180664,1.0604479312896729,1.0688637495040894,1.0941126346588135,1.0436153411865234,1.0166829824447632,1.0335158109664917,1.0671806335449219,1.0057421922683716,0.9594528675079346,0.947670042514801,1.0074255466461182,0.9880680441856384,1.117678165435791,1.0983208417892456,1.118519902229309,1.1538679599761963,1.09663724899292,1.1235694885253906,1.0932711362838745,1.0941126346588135,1.046140193939209,1.0166829824447632,1.0394070148468018,0.9720770716667175,0.9889096021652222,1.0141584873199463,1.0495065450668335,1.0495065450668335,1.0545562505722046,1.0638139247894287,1.0621310472488403,1.0604479312896729,1.0814886093139648,1.0856963396072388,1.0730723142623901,1.0730723142623901,1.0730723142623901,1.069705605506897,1.0730723142623901,1.1101034879684448,1.1681758165359497,1.1673343181610107,1.1395606994628906,1.1429271697998047,1.1025289297103882,1.1260945796966553,1.110945463180542,1.0890628099441528,1.0562394857406616,1.0873795747756958,1.1101034879684448,1.1446101665496826,1.1193615198135376,1.1589179039001465,1.2279309034347534,1.2498135566711426,1.203524112701416,1.1824835538864136,1.211940050125122,1.188374638557434,1.1462935209274292,1.1361937522888184,1.14040207862854,1.110945463180542,1.154709815979004,1.1159945726394653,1.1319856643676758,1.1361937522888184,1.1866916418075562,1.1993156671524048,1.1908998489379883,1.1446101665496826,1.138719081878662,1.1572346687316895,1.1277775764465332,1.1025289297103882,1.1058955192565918,1.070547103881836,1.0654975175857544,1.0730723142623901,1.0814886093139648,1.1025289297103882,1.110945463180542,1.0941126346588135,1.205207109451294,1.243080496788025,1.316301941871643,1.3701658248901367,1.388681411743164,1.3423924446105957,1.3802653551101685,1.388681411743164,1.3996224403381348,1.4560117721557617,1.495568037033081,1.5132420063018799,1.5149253606796265,1.501459002494812,1.4896764755249023,1.4509615898132324,1.4299209117889404,1.4147716760635376,1.447595477104187,1.4181386232376099,1.4534865617752075,1.4433872699737549,1.4433872699737549,1.4122470617294312,1.4433872699737549,1.3785820007324219,1.3466002941131592,1.3676409721374512,1.3718490600585938,1.3381839990615845,1.3676409721374512,1.3954143524169922,1.4038307666778564,1.451803207397461,1.451803207397461,1.437495470046997,1.4728442430496216,1.4661108255386353,1.5511151552200317,1.586463212966919,1.592354416847229,1.575522541999817,1.5359655618667603,1.5191336870193481,1.5157670974731445,1.4770519733428955,1.4316045045852661,1.3524914979934692,1.4038307666778564,1.4602198600769043,1.4307624101638794,1.4307624101638794,1.4156135320663452,1.314618468284607,1.3356592655181885,1.405513882637024,1.4223464727401733,1.4139302968978882,1.401305913925171,1.4223464727401733,1.4534865617752075,1.405513882637024,1.360907793045044,1.3466002941131592,1.2750622034072876,1.2969443798065186,1.3651156425476074,1.360907793045044,1.386156439781189,1.3575412034988403,1.3600660562515259,1.3592249155044556,1.3457586765289307,1.2834784984588623,1.2876865863800049,1.250655174255371,1.2371890544891357,1.2346643209457397,1.203524112701416,1.2169902324676514,1.2876865863800049,1.2742204666137695,1.2127817869186401,1.2573881149291992,1.2371890544891357,1.2750622034072876,1.295261025428772,1.2658040523529053,1.3238766193389893,1.2615962028503418,1.267487645149231,1.2961026430130005,1.3070437908172607,1.2969443798065186,1.2733790874481201,1.3516501188278198,1.5149253606796265,1.4349709749221802,1.562897801399231,1.5124003887176514,1.5115582942962646,1.4997761249542236,1.4795773029327393,1.4644277095794678,1.4728442430496216,1.4644277095794678,1.4694775342941284,1.4484367370605469,1.4299209117889404,1.4425451755523682,1.4349709749221802,1.3928892612457275,1.388681411743164,1.3970980644226074,1.3760572671890259,1.3710074424743652,1.3735322952270508,1.388681411743164,1.4661108255386353,1.4139302968978882,1.447595477104187,1.4728442430496216,1.4728442430496216,1.4459120035171509,1.5410155057907104,1.5191336870193481,1.5199745893478394,1.5149253606796265,1.4989345073699951,1.5679476261138916,1.5696309804916382,1.5553233623504639,1.5696309804916382,1.5620566606521606,1.5275497436523438,1.539332628250122,1.5157670974731445,1.5233417749404907,1.498092770576477,1.492201566696167,1.4366543292999268,1.4189800024032593,1.5065090656280518,1.4795773029327393,1.445070505142212,1.4198217391967773,1.408038854598999,1.4366543292999268,1.389522910118103,1.4307624101638794,1.4299209117889404,1.451803207397461,1.4711610078811646,1.5258663892745972,1.5115582942962646,1.516608476638794,1.5090343952178955,1.5452239513397217,1.5536402463912964,1.5485903024673462,1.5418576002120972,1.5502735376358032,1.5527985095977783,1.5107172727584839,1.5073504447937012,1.539332628250122,1.5334409475326538,1.5376489162445068,1.5140836238861084,1.5561646223068237,1.5603728294372559,1.5275497436523438,1.5283912420272827,1.5384907722473145,1.5140836238861084,1.4938851594924927,1.482101559638977,1.495568037033081,1.5300747156143188,1.5216584205627441,1.5191336870193481,1.4812604188919067,1.447595477104187,1.4728442430496216,1.4593782424926758,1.451803207397461,1.4366543292999268,1.3912065029144287,1.3255594968795776,1.3045188188552856,1.2902114391326904,1.2961026430130005,1.295261025428772,1.2961026430130005,1.3213515281677246,1.3238766193389893,1.314618468284607,1.3062020540237427,1.3095686435699463,1.2876865863800049,1.312093734741211,1.3423924446105957,1.3423924446105957,1.3524914979934692,1.3314509391784668,1.2969443798065186,1.2961026430130005,1.3280845880508423,1.3053605556488037,1.2649627923965454,1.2624377012252808,1.223723292350769,1.248971939086914,1.2397136688232422,1.2708537578582764,1.2632794380187988,1.2540212869644165,1.2809535264968872,1.2456049919128418,1.250655174255371,1.2413972616195679,1.2270896434783936,1.2371890544891357,1.2456049919128418,1.2624377012252808,1.2742204666137695,1.2750622034072876,1.2700124979019165,1.2666457891464233,1.2456049919128418,1.2775870561599731,1.3062020540237427,1.291894555091858,1.225406289100647,1.2262479066848755,1.2868449687957764,1.2716957330703735,1.295261025428772,1.2961026430130005,1.319668173789978,1.2876865863800049,1.2792702913284302,1.2582294940948486,1.2624377012252808,1.25149667263031,1.2700124979019165,1.2658040523529053,1.2548632621765137,1.2624377012252808,1.3297674655914307,1.3508083820343018,1.4088802337646484,1.4433872699737549,1.4307624101638794,1.408038854598999,1.427396297454834,1.4307624101638794,1.4198217391967773,1.4299209117889404,1.44002103805542,1.4105634689331055,1.4257128238677979,1.4560117721557617,1.4526450634002686,1.4585365056991577,1.4341293573379517,1.4526450634002686,1.4509615898132324,1.4585365056991577,1.4686359167099,1.475368618965149,1.49640953540802,1.5780473947525024,1.5233417749404907,1.5570063591003418,1.5317580699920654,1.5023010969161987,1.5359655618667603,1.5081920623779297,1.49640953540802,1.5292329788208008,1.5578482151031494,1.592354416847229,1.6790425777435303,1.70260751247406,1.6739925146102905,1.592354416847229,1.575522541999817,1.6091877222061157,1.6159204244613647,1.586463212966919,1.5527985095977783,1.6066621541976929,1.6075036525726318,1.593196153640747,1.610870599746704,1.6394857168197632,1.6218117475509644,1.6159204244613647,1.6369608640670776,1.6840920448303223,1.6748340129852295,1.6487436294555664,1.6672593355178833,1.6882996559143066,1.6798838376998901,1.7084989547729492,1.8120193481445312,1.9231133460998535,1.8507335186004639,1.8010776042938232,1.8002357482910156,1.9778192043304443,1.9483623504638672,1.8776655197143555,1.851575255393982,1.8431590795516968,1.728698492050171,1.6655761003494263,1.7337477207183838,1.8078110218048096,1.8263269662857056,1.7968699932098389,1.774986982345581,1.7758290767669678,1.772462248802185,1.7674126625061035,1.7707792520523071,1.7758290767669678,1.8027609586715698,1.8027609586715698,1.822118878364563,1.8094937801361084,1.786769986152649,1.7892954349517822,1.8069692850112915,1.7800371646881104,1.7690956592559814,1.784245491027832,1.8456839323043823,1.8061277866363525,1.7943446636199951,1.8726155757904053,1.879348874092102,1.8902899026870728,1.881873607635498,1.8120193481445312,1.7926616668701172,1.7909784317016602,1.7800371646881104,1.6453770399093628,1.6327526569366455,1.611712098121643,1.602454662322998,1.5974045991897583,1.6032955646514893,1.626019835472107,1.6293866634368896,1.6133956909179688,1.6075036525726318,1.5721555948257446,1.5729972124099731,1.6091877222061157,1.6192866563796997,1.5822556018829346,1.6066621541976929,1.6218117475509644,1.6866170167922974,1.650427222251892,1.654634952545166,1.6411688327789307,1.6411688327789307,1.6091877222061157,1.592354416847229,1.611712098121643,1.6201285123825073,1.6571599245071411,1.6580018997192383,1.6630512475967407,1.6436939239501953,1.5746806859970093,1.58562171459198,1.5654230117797852,1.6184446811676025,1.633594036102295,1.7059743404388428,1.7068159580230713,1.7127069234848022,1.7413227558135986,1.7514221668243408,1.7278567552566528,1.7051323652267456,1.7084989547729492,1.7076579332351685,1.654634952545166,1.783403754234314,1.7505801916122437,1.7699381113052368,1.7690956592559814,1.7345894575119019,1.6411688327789307,1.8473669290542603,1.8978644609451294,1.9710863828659058,1.8995474576950073,1.9121726751327515,1.8650411367416382,1.832218050956726,1.8330600261688232,1.8608331680297852,1.8456839323043823,1.8507335186004639,1.8330600261688232,1.8103358745574951,1.8473669290542603,1.8111780881881714,1.7598381042480469,1.8187519311904907,1.995492935180664,2.0283169746398926,1.9710863828659058,2.0131676197052,1.9904440641403198,2.050199031829834,2.068714141845703,2.0594568252563477,2.064506769180298,2.071239709854126,2.1579267978668213,2.1461446285247803,2.116687059402466,2.1713926792144775,2.1739182472229004,2.167185068130493,2.1596100330352783,2.165501356124878,2.1713926792144775,2.1453025341033936,2.160451889038086,2.2050578594207764,2.286696195602417,2.35823392868042,2.35823392868042,2.4019975662231445,2.5038352012634277,2.4062066078186035,2.480269193649292,2.513934373855591,2.454179286956787,2.5282421112060547,2.5332915782928467,2.6157712936401367,2.7378060817718506,2.695725440979004,2.6258702278137207,2.7176074981689453,2.758005380630493,2.7436981201171875,2.725182294845581,2.821126937866211,2.7765209674835205,2.7832539081573486,2.7260241508483887,2.697408676147461,2.7352819442749023,2.7352819442749023,2.7016167640686035,2.6578521728515625,2.728548288345337,2.732757568359375,2.7529561519622803,2.7613725662231445,2.784937858581543,2.830386161804199,2.88004207611084,2.9591546058654785,2.985244035720825,3.0046021938323975,2.986086845397949,2.9768285751342773,2.961679220199585,2.944005250930786,2.944005250930786,2.9692542552948,2.9473717212677,2.898557186126709,2.876674175262451,2.8657338619232178,2.942322015762329,2.975144863128662,2.8909828662872314,2.870783805847168,2.9204397201538086,2.887615442276001,2.8169193267822266,2.7100331783294678,2.710874557495117,2.7689473628997803,2.772312879562378,2.7352819442749023,2.642703056335449,2.655327320098877,2.5307669639587402,2.478585958480835,2.721815586090088,2.7756800651550293,2.882566452026367,2.9355885982513428,2.903606414794922,2.8993983268737793,2.8623669147491455,2.840485095977783,2.804295063018799,2.840485095977783,2.819444179534912,2.8472182750701904,3.006284713745117,3.049208402633667,3.0306918621063232,3.041633129119873,3.0601494312286377,3.0500495433807373,3.088764190673828,3.0163841247558594,3.031534194946289,3.028167247772217,2.9717788696289062,2.7874627113342285,2.811027765274048,2.8446929454803467,2.8017702102661133,2.7537975311279297,2.764738082885742,2.7016167640686035,2.6485941410064697,2.606513500213623,2.6494362354278564,2.6940419673919678,2.6090376377105713,2.583789110183716,2.629236936569214,2.600621461868286,2.5879974365234375,2.580422878265381,2.604829788208008,2.655327320098877,2.763896942138672,2.858159065246582,2.86489200592041,2.8690998554229736,2.9212806224823,3.002077102661133,2.8514256477355957,2.780729293823242,2.901923179626465,2.986086845397949,2.996185541152954,3.050891637802124,3.1131718158721924,3.0618326663970947,3.1308460235595703,3.0626752376556396,3.1106467247009277,3.095496654510498,3.0222761631011963,3.03910756111145,2.991136074066162,2.9835612773895264,3.006284713745117,3.052574396133423,3.181342840194702,3.078665256500244,2.984403133392334,3.0752978324890137,2.9608378410339355,2.944845676422119,2.8312270641326904,2.828701972961426,2.9625208377838135,2.9355885982513428,2.945688486099243,2.890141010284424,2.9162309169769287,2.85731840133667,2.874150276184082,2.7697882652282715,2.770629644393921,2.660377025604248,2.6544861793518066,2.5980966091156006,2.562748908996582,2.5913639068603516,2.5703229904174805,2.5778985023498535,2.5980966091156006,2.6528024673461914,2.673001289367676,2.678051471710205,2.7192914485931396,2.8152363300323486,3.140103816986084,3.2419393062591553,3.2259488105773926,3.257089853286743,3.297487258911133,3.2436234951019287,3.2267913818359375,3.2208991050720215,3.203225612640381,3.2562479972839355,3.2082760334014893,3.2065911293029785,3.2065911293029785,3.224266290664673,3.2587733268737793,3.2941205501556396,3.3286280632019043,3.3925909996032715,3.550816059112549,3.5398762226104736,3.5827975273132324,3.6274032592773438,3.5255675315856934,3.5137858390808105,3.40521502494812,3.406898260116577,3.382491111755371,3.4111058712005615,3.4195234775543213,3.509577751159668,3.4632880687713623,3.4094231128692627,3.4540305137634277,3.363133430480957,3.370708465576172,3.3866994380950928,3.3690247535705566,3.448978900909424,3.391749382019043,3.4506638050079346,3.4329888820648193,3.3614516258239746,3.2612979412078857,3.2192161083221436,3.265505313873291,3.292437791824341,3.403532028198242,3.3488268852233887,3.374917507171631,3.4590795040130615,3.4843287467956543,3.787313938140869,3.824345350265503,3.802462577819824,3.9396471977233887,3.9455389976501465,3.9009323120117188,3.9556384086608887,3.9556384086608887,3.9674205780029297,3.9101898670196533,4.043168067932129,4.096189498901367,4.123122692108154,4.121438503265381,4.095348358154297,3.9539554119110107,3.9648945331573486,3.9438560009002686,3.92197322845459,3.9371225833892822,3.961529493331909,3.9994025230407715,3.954796552658081,3.935438632965088,3.9388060569763184,3.9876201152801514,3.985095262527466,3.9724714756011963,4.006134510040283,4.041484355926514,4.037276744842529,3.990985870361328,4.0583176612854,3.995194435119629,4.0027689933776855,3.9059832096099854,3.779738664627075,3.6989433765411377,3.6560192108154297,3.7283990383148193,3.753648281097412,3.819295644760132,3.784787893295288,3.646761655807495,3.639188528060913,3.539033889770508,3.6585447788238525,3.667801856994629,3.549973964691162,3.613938570022583,3.6972594261169434,3.6551778316497803,3.4481379985809326,3.5078938007354736,3.4717047214508057,3.446455240249634,3.4843287467956543,3.374917507171631,3.3252615928649902,3.39848256111145,3.4717047214508057,3.318527936935425,3.1914432048797607,3.087080717086792,3.23352313041687,3.0980224609375,3.1704013347625732,3.1249547004699707,3.095496654510498,3.125795602798462,3.295804262161255,3.534825325012207,3.3471436500549316,3.268872022628784,3.3000121116638184,3.204909324645996,3.1148550510406494,3.1409449577331543,3.106438159942627,3.31095290184021,3.2772889137268066,3.1704013347625732,3.3193695545196533,3.4439306259155273,3.271397113800049,3.187235116958618,3.289072036743164,3.3892247676849365,3.438880205154419,3.4380393028259277,3.553342342376709,3.5020017623901367,3.406057834625244,3.6114137172698975,3.737656831741333,3.7283990383148193,3.7620644569396973,3.7326080799102783,3.685476303100586,3.75028133392334,3.909348964691162,3.880734443664551,3.8975658416748047,3.9556384086608887,3.8049874305725098,3.73934006690979,3.624879837036133,3.6703274250030518,3.6728525161743164,3.554183006286621,3.523042917251587,3.5827975273132324,3.628246545791626,3.669485569000244,3.6762187480926514,3.6408703327178955,3.7182998657226562,3.6745355129241943,3.677060127258301,3.7662723064422607,3.8378114700317383,3.97920298576355,4.035593032836914,3.9707884788513184,4.010343074798584,4.052425384521484,4.037276744842529,4.070940971374512,4.111340045928955,3.966578960418701,4.038118362426758,4.060840606689453,3.9733123779296875,3.9253392219543457,3.8950417041778564,3.880734443664551,3.982570171356201,4.038118362426758,4.059158802032471,4.006977558135986,4.044008731842041,4.03895902633667,4.128170967102051,4.230849742889404,4.352886199951172,4.356251239776611,4.30491304397583,4.290605068206787,4.315012454986572,4.313329219818115,4.384026050567627,4.283871173858643,4.181193828582764,4.339419364929199,4.346153259277344,4.283031463623047,4.297338485717773,4.215699672698975,4.233374118804932,4.504378318786621,4.482496738433838,4.463978290557861,4.48333740234375,4.375609397888184,4.400857925415039,4.400857925415039,4.469030380249023,4.43789005279541,4.399173259735107,4.354569435119629,4.305753707885742,4.460613250732422,4.657553195953369,4.767806529998779,4.629779815673828,4.5784406661987305,4.645771026611328,4.717308044433594,4.6777520179748535,4.735825061798096,4.776222229003906,4.836819648742676,4.814096450805664,4.863753318786621,4.816619396209717,4.746766567230225,4.736666202545166,4.796422481536865,4.763599395751953,4.6676530838012695,4.633145809173584,4.642404556274414,4.670178413391113,4.6499786376953125,4.630622386932373,4.688694000244141,4.6954264640808105,4.6381964683532715,4.620522499084473,4.663444519042969,4.670178413391113,4.586856842041016,4.742557048797607,4.766965389251709,4.883110046386719,4.8511271476745605,4.855334758758545,4.844393730163574,4.784638404846191,4.715625286102295,4.633145809173584,4.622206211090088,4.692902565002441,4.516159534454346,4.397491455078125,4.467346668243408,4.4387311935424805,4.4968037605285645,4.531309604644775,4.5363593101501465,4.460613250732422,4.4387311935424805,4.520368576049805,4.481653690338135,4.505219459533691,4.463978290557861,4.512792587280273,4.538042068481445,4.522051811218262,4.52289342880249,4.53720235824585,4.655869483947754,4.570866107940674,4.530468463897705,4.492595195770264,4.388232707977295,4.408431529998779,4.390758037567139,4.3166961669921875,4.303229808807373,4.358776569366455,4.359617710113525,4.524576663970947,4.56160831451416,4.614630699157715,4.538042068481445,4.48333740234375,4.5582427978515625,4.498486518859863,4.5801239013671875,4.6541876792907715,4.650819301605225,4.598639011383057,4.600325107574463,4.708049774169922,5.245007514953613,5.487396240234375,5.457096576690674,5.482346057891846,5.542943954467773,5.586707592010498,5.551360130310059,5.608590126037598,5.57155704498291,5.733150959014893,5.780282020568848,5.707901954650879,5.687703609466553,5.694436550140381,5.71463680267334,5.642253875732422,5.559776306152344,5.7314677238464355,5.882958889007568,5.748300552368164,5.692753314971924,5.7281012535095215,5.657403945922852,5.583339691162109,5.638888359069824,5.689385890960693,5.6540374755859375,5.596806526184082,5.606907367706299,5.632155418395996,5.638888359069824,5.541259288787842,5.494129180908203,5.551360130310059,5.768498420715332,5.933457374572754,5.992371082305908,5.990687847137451,6.24485969543457,6.34248685836792,6.034451484680176,5.926724433898926,6.024351596832275,6.063068389892578,6.130395889282227,6.224658489227295,6.34248685836792,6.4401164054870605,6.419916152954102,6.295356273651123,6.130395889282227,6.273472309112549,6.212876319885254,6.120298862457275,6.231392860412598,6.271790504455566,6.600024223327637,6.763302803039551,6.741416931152344,6.667355537414551,6.741416931152344,6.743102550506592,6.7296342849731445,6.6505231857299805,6.7969651222229,6.7195353507995605,6.581508159637451,6.766667366027832,6.808745861053467,6.987170219421387,6.993905544281006,7.280058860778809,7.091533660888672,7.027571678161621,7.140347003936768,7.069650650024414,7.081434726715088,7.004003524780273,7.086483478546143,7.014102458953857,7.057868957519531,6.916475772857666,7.004003524780273,7.071333408355713,6.911427021026611,6.800332069396973,6.854196071624756,6.791914939880371,6.749835014343262,6.987170219421387,6.657256126403809,6.833995819091797,7.19757604598999,7.413035869598389,6.892910480499268,6.712803363800049,6.849146366119385,6.744784355163574,6.655572414398193,6.561309337615967,6.716170310974121,7.015787601470947,7.231244087219238,7.308671474456787,7.987022399902344,8.320305824279785,8.199111938476562,7.813648223876953,8.355655670166016,8.21931266784668,8.439815521240234,8.606459617614746,8.36070442199707,8.424667358398438,8.114951133728027,8.21594524383545,8.446551322937012,8.475167274475098,8.38426685333252,8.729337692260742,8.651908874511719,8.788249969482422,8.990240097045898,9.172029495239258,9.305006980895996,9.454817771911621,9.599576950073242,9.894145011901855,9.559179306030273,9.485114097595215,9.45145034790039,9.695520401000977,9.528879165649414,9.195597648620605,9.547394752502441,9.535613059997559,9.882364273071289,9.926127433776855,9.602943420410156,9.661856651306152,9.766220092773438,9.783050537109375,9.8486967086792,9.828498840332031,9.550762176513672,9.554126739501953,10.107917785644531,9.784734725952148,9.528879165649414,9.66858959197998,9.808298110961914,9.678690910339355,9.968208312988281,9.737602233886719,9.515414237976074,9.59115982055664,9.878998756408691,9.496898651123047,9.392537117004395,8.884195327758789,8.752901077270508,9.1619291305542,9.067669868469238,9.414420127868652,9.257877349853516,8.919544219970703,8.586260795593262,8.301790237426758,8.44150161743164,8.665369987487793,8.944793701171875,9.387492179870605,9.402634620666504,9.670273780822754,9.695520401000977,9.629874229431152,9.746018409729004,10.04058837890625,10.230795860290527,10.099501609802246,9.783050537109375,9.867212295532227,9.687103271484375,9.798200607299805,9.788102149963379,10.261093139648438,10.262778282165527,10.452983856201172,10.343573570251465,10.654973983764648,10.584278106689453,10.469815254211426,10.486649513244629,10.454667091369629,10.15000057220459,10.118019104003906,9.601259231567383,9.513731002807617,9.443034172058105,9.276392936706543,8.798346519470215,8.77309799194336,9.04073715209961,8.552596092224121,8.636757850646973,8.369121551513672,8.301790237426758,8.495365142822266,8.76131820678711,8.823596954345703,8.348922729492188,8.508831024169922,8.36070442199707,8.261392593383789,8.678838729858398,8.84043025970459,8.752901077270508,8.308525085449219,8.295058250427246,8.276542663574219,8.456650733947754,8.456650733947754,8.264758110046387,7.965140342712402,7.702556133270264,8.017321586608887,7.887712001800537,7.699186325073242,7.74126672744751,7.788403034210205,7.753049850463867,7.929789066314697,7.980291843414307,7.584726333618164,7.1302490234375,7.194211006164551,7.338971138000488,7.613338947296143,7.298574924468994,7.184113502502441,7.29352331161499,7.8893938064575195,7.785032272338867,7.939892292022705,8.256341934204102,7.911276817321777,8.17218017578125,7.9079108238220215,8.446551322937012,9.087869644165039,9.064301490783691,8.917861938476562,9.089550018310547,8.73438549041748,8.704087257385254,9.37065601348877,9.37065601348877,9.49353313446045,9.496898651123047,9.436301231384277,9.316791534423828,9.037371635437012,9.2898588180542,9.180447578430176,9.239357948303223,9.400952339172363,9.537298202514648,9.601259231567383,9.533930778503418,9.353822708129883,9.232627868652344,9.293224334716797,9.421152114868164,9.456497192382812,9.278077125549316,9.195597648620605,9.264610290527344,9.491847038269043,9.087869644165039,8.879146575927734,9.072718620300293,8.78320026397705,8.594676971435547,8.623290061950684,9.106383323669434,9.190545082092285,9.252825736999512,9.333623886108398,9.067669868469238,8.786566734313965,8.682206153869629,8.557644844055176,8.22268009185791,8.310208320617676,8.332088470458984,8.465068817138672,8.279911041259766,8.348922729492188,8.274856567382812,8.151981353759766,7.975240230560303,8.005537986755371,7.574627876281738,7.714336395263672,7.512345790863037,7.155496120452881,7.22451114654541,7.492146015167236,8.069501876831055,7.887712001800537,7.852364540100098,8.069501876831055,7.645323753356934,7.699186325073242,7.6419572830200195,7.746318817138672,7.327188014984131,7.209360122680664,6.800332069396973,6.859242916107178,6.8020124435424805,6.52764368057251,6.625274181365967,6.852511405944824,6.6286396980285645,6.551208972930908,6.611806392669678,6.778449535369873,6.936675071716309,7.195896148681641,7.29352331161499,7.616707801818848,7.246392726898193,7.312038421630859,7.445018291473389,7.163913726806641,6.992221832275391,6.830631732940674,6.985487461090088,6.904694080352783,6.818846225738525,6.704386234283447,6.63705587387085,7.221142768859863,7.2009429931640625,6.972021102905273,7.443332672119141,7.7042365074157715,7.599874496459961,7.441648006439209,7.47868013381958,7.273325443267822,7.4365997314453125,7.413035869598389,7.325505256652832,7.3187713623046875,7.433234214782715,7.281740665435791,7.256493091583252,7.2548065185546875,7.421450614929199,7.384418964385986,7.638591289520264,7.389467716217041,7.394518852233887,7.344021320343018,7.453433990478516,7.330554485321045,7.19757604598999,7.1874799728393555,6.936675071716309,6.5478434562683105,6.7464680671691895,6.329022407531738,6.478830337524414,6.345852851867676,6.106832981109619,5.8812761306762695,5.824047088623047,6.066433906555176,6.086633682250977,5.756714820861816,5.758399963378906,6.066433906555176,6.027717590332031,5.9385085105896,5.741567611694336,5.175994873046875,5.0850982666015625,4.896576404571533,4.898258209228516,5.642253875732422,5.110348224639893,4.6676530838012695,5.186093807220459,5.359468460083008,5.586707592010498,5.127180576324463,4.7518157958984375,4.556558132171631,4.331002712249756,4.24347448348999,4.866277694702148,4.953805446624756,4.953805446624756,4.610421180725098,4.539725303649902,4.671019554138184,4.255255699157715,4.007818222045898,4.2249579429626465,4.120596885681152,3.940488338470459,3.7098841667175293,4.179510116577148,3.918607473373413,3.829394817352295,3.738499164581299,3.4607629776000977,2.945688486099243,3.0264840126037598,3.401848793029785,3.479278087615967,3.703150510787964,3.6779022216796875,3.257089853286743,3.1998589038848877,3.172926425933838,3.396799325942993,3.5802741050720215,4.208126544952393,3.9101898670196533,4.0549492835998535,3.844543695449829,4.06168270111084,3.891674041748047,4.324270248413086,4.320903778076172,4.105447292327881,4.1407952308654785,3.8950417041778564,3.733449697494507,3.923656463623047,3.8950417041778564,3.6947338581085205,3.726716995239258,3.645920515060425,3.9034583568573,4.011185646057129,3.9590046405792236,3.805828809738159,4.305753707885742,4.398332595825195,4.287237644195557,4.147529125213623,3.9438560009002686,4.011185646057129,4.154262542724609,3.8798916339874268,4.112180233001709,4.095348358154297,4.344468116760254,4.470712661743164,4.4387311935424805,4.736666202545166,4.430314540863037,4.171093940734863,4.285555362701416,4.312487602233887,4.374767303466797,4.563291072845459,4.714784622192383,4.615471839904785,4.527942657470703,4.4622955322265625,4.543092727661133,4.418532371520996,4.21149206161499,4.186243057250977,4.482496738433838,4.490912437438965,4.413482189178467,4.605372905731201,4.76528263092041,4.544775009155273,4.531309604644775,4.391600131988525,4.373084545135498,4.595272541046143,3.9489047527313232,3.7671139240264893,3.854642152786255,4.24347448348999,4.251890182495117,4.275454998016357,4.319220066070557,4.108813285827637,4.199708938598633,4.179510116577148,4.278822422027588,4.182878017425537,4.4808125495910645,4.553191661834717,4.517842769622803,4.411798477172852,4.684485912322998,4.556558132171631,4.71646785736084,4.746766567230225,5.066583156585693,5.01271915435791,4.817462921142578,4.923507213592529,5.106982231140137,5.457096576690674,5.435214996337891,5.300555229187012,5.369569778442383,4.99925422668457,4.852811336517334,4.780430316925049,5.016085147857666,5.026186466217041,5.133913993835449,5.270256996154785,5.130546569824219,4.994204521179199,5.064899921417236,5.0766825675964355,4.938657283782959,4.938657283782959,4.896576404571533,4.630622386932373,4.529626846313477,4.398332595825195,4.487545967102051,4.418532371520996,4.319220066070557,4.371400833129883,4.455564498901367,4.423582077026367,4.346153259277344,4.455564498901367,3.7671139240264893,3.795728921890259,3.9320733547210693,3.704833507537842,3.9606878757476807,4.199708938598633,4.342785358428955,4.09366512298584,4.068416118621826,4.115547180175781,4.021284103393555,4.095348358154297,4.208126544952393,4.199708938598633,4.142479419708252,4.059999942779541,3.9842543601989746,3.8697926998138428,3.9118738174438477,3.8378114700317383,3.8630588054656982,3.6964170932769775,3.6795847415924072,3.6745355129241943,3.738499164581299,3.7317652702331543,3.7317652702331543,3.704833507537842,3.7805798053741455,3.5466086864471436,3.5415585041046143,3.4439306259155273,3.524726152420044,3.4826455116271973,3.440563678741455,3.5398762226104736,3.6408703327178955,3.6425535678863525,3.7283990383148193,3.6964170932769775,3.7603814601898193,3.858008861541748,3.975836753845215,4.022968769073486,4.06505012512207,3.9606878757476807,3.8378114700317383,3.6812679767608643,3.615622043609619,3.6846349239349365,3.8479111194610596,4.11049747467041,4.06505012512207,4.127329349517822,4.235058307647705,4.066731929779053,4.157628059387207,4.315853595733643,4.431997776031494,4.45051383972168,4.223275661468506,4.1306962966918945,4.238423824310303,3.940488338470459,3.893357515335083,3.797412395477295,3.775531053543091,3.797412395477295,3.874842405319214,3.950589656829834,4.006134510040283,3.9253392219543457,3.9489047527313232,4.031384468078613,4.049900531768799,4.196344375610352,4.216541767120361,4.21149206161499,4.157628059387207,4.307438373565674,4.265356540679932,4.346153259277344,4.342785358428955,4.509427547454834,4.423582077026367,4.416848659515381,4.487545967102051,4.415164947509766,4.38318395614624,4.411798477172852,4.509427547454834,4.455564498901367,4.379817962646484,4.322586536407471,4.381499290466309,4.4808125495910645,4.416848659515381,4.607057094573975,4.538042068481445,4.521210670471191,4.602005958557129,4.74003267288208,4.686169147491455,4.6676530838012695,4.74003267288208,4.317537307739258,4.265356540679932,4.248524188995361,4.1694111824035645,4.053267478942871,4.1407952308654785,4.078516006469727,4.132379055023193,4.088615417480469,4.071782112121582,4.036434650421143,3.996035575866699,4.071782112121582,4.145845413208008,4.2922892570495605,4.238423824310303,4.112180233001709,4.144163131713867,3.9876201152801514,4.107131004333496,4.034750938415527,4.0549492835998535,4.123962879180908,4.290605068206787,4.319220066070557,4.255255699157715,4.3091206550598145,4.261990070343018,4.108813285827637,4.012868881225586,3.6812679767608643,3.5937399864196777,3.5903732776641846,3.6913678646087646,3.5937399864196777,3.5045273303985596,3.56512451171875,3.6560192108154297,3.75028133392334,3.755331039428711,3.7772135734558105,3.812561273574829,3.7839462757110596,3.807512044906616,3.7401816844940186,3.704833507537842,3.704833507537842,3.7435495853424072,3.7317652702331543,3.7317652702331543,3.6930530071258545,3.854642152786255,3.9590046405792236,4.044850826263428,3.4439306259155273,3.415315866470337,3.4203641414642334,3.4961109161376953,3.4994778633117676,3.4506638050079346,3.4506638050079346,3.5028443336486816,3.4523470401763916,3.437196731567383,3.371551275253296,3.354717493057251,3.305903196334839,3.3564016819000244,3.342935562133789,3.3277862071990967,3.354717493057251,3.40521502494812,3.4523470401763916,3.383333683013916,3.391749382019043,3.3143198490142822,3.167876958847046,3.2267913818359375,3.2587733268737793,3.2267913818359375,3.196492910385132,3.245307207107544,3.268872022628784,3.250356435775757,3.2116410732269287,3.1762940883636475,3.174610137939453,2.9473717212677,2.895190954208374,2.944005250930786,2.944005250930786,3.0046021938323975,2.994502544403076,3.0433168411254883,3.1089627742767334,3.0399491786956787,3.076981544494629,3.257089853286743,3.23352313041687,3.265505313873291,3.26718807220459,3.342935562133789,3.5617575645446777,3.553342342376709,3.6358208656311035,3.736815929412842,3.6543357372283936,3.6661200523376465,3.703150510787964,3.664436101913452,3.6728525161743164,3.6880016326904297,3.7704806327819824,3.810878276824951,3.788996934890747,3.817612409591675,3.891674041748047,3.92197322845459,3.950589656829834,3.982570171356201,4.031384468078613,4.11049747467041,4.176145076751709,4.258622646331787,4.275454998016357,4.231692314147949,4.2131757736206055,4.2451581954956055,4.285555362701416,4.1306962966918945,4.160995006561279,4.206441879272461,4.091982364654541,4.231692314147949,4.164361000061035,4.125645637512207,3.9017744064331055,3.800779104232788,3.92197322845459,3.861375570297241,3.8950417041778564,3.817612409591675,3.6779022216796875,3.708200454711914,3.603839159011841,3.5802741050720215,3.4708619117736816,3.5853233337402344,3.5819568634033203,3.6880016326904297,3.645920515060425,3.8681092262268066,3.836127281188965,3.6795847415924072,3.7250330448150635,3.817612409591675,3.664436101913452,3.5583908557891846,3.53314208984375,3.53314208984375,3.573539972305298,3.645920515060425,3.6829512119293213,3.4860105514526367,3.305903196334839,3.2587733268737793,3.23352313041687,3.174610137939453,3.169560670852661,3.179659843444824,3.0921313762664795,3.115696430206299,3.156094789505005,3.0837152004241943,3.162827968597412,3.209958076477051,3.0752978324890137,3.0971806049346924,3.156094789505005,3.172926425933838,3.203225612640381,3.252039670944214,3.2840211391448975,3.2840211391448975,3.285705089569092,3.1897597312927246,3.265505313873291,3.3328359127044678,3.309269905090332,3.3648171424865723,3.4506638050079346,3.5163094997406006,3.415315866470337,3.3681840896606445,3.3227357864379883,3.374917507171631,3.553342342376709,3.4775960445404053,3.5785908699035645,3.5567073822021484,3.529776096343994,3.528093099594116,3.4557135105133057,3.342935562133789,3.3176863193511963,3.2941205501556396,3.3378844261169434,3.369868040084839,3.494426965713501,3.2082760334014893,3.166193962097168,3.1005470752716064,3.087080717086792,3.1005470752716064,3.087080717086792,3.085397481918335,3.0079689025878906,3.018068790435791,3.076981544494629,3.1140127182006836,3.1998589038848877,3.156094789505005,3.125795602798462,3.093813896179199,3.0719311237335205,3.1392619609832764,3.1325297355651855,3.129162073135376,3.265505313873291,3.2604563236236572,3.292437791824341,3.2789714336395264,3.2823376655578613,3.289072036743164,3.3530349731445312,3.3362009525299072,3.346301555633545,3.3160037994384766,3.3176863193511963,3.3665006160736084,3.347985029220581,3.406898260116577,3.401848793029785,3.3530349731445312,3.379966974258423,3.4287822246551514,3.3328359127044678,3.2402570247650146,3.167876958847046,3.0837152004241943,3.0752978324890137,3.1005470752716064,3.1914432048797607,3.204909324645996,3.2200582027435303,3.236889362335205,3.265505313873291,3.262139320373535,3.26718807220459,3.307586193084717,3.250356435775757,3.295804262161255,3.2907540798187256,3.3580851554870605,3.3648171424865723,3.4557135105133057,3.39848256111145,3.390066146850586,3.5516581535339355,3.506209373474121,3.487694025039673,3.509577751159668,3.534825325012207,3.4338302612304688,3.3866994380950928,3.430464744567871,3.401848793029785,3.4254138469696045,3.4506638050079346,3.3866994380950928,3.3530349731445312,3.4119486808776855,3.5600743293762207,3.5903732776641846,3.576906442642212,3.60888934135437,3.5886893272399902,3.6425535678863525,3.7435495853424072,3.689685344696045,3.6593856811523438,3.6290876865386963,3.6543357372283936,3.6476032733917236,3.5785908699035645,3.6425535678863525,3.652653932571411,3.7401816844940186,3.7452311515808105,3.790680170059204,3.788996934890747,3.8630588054656982,3.851278066635132,3.8563265800476074,3.787313938140869,3.6846349239349365,3.4725451469421387,3.4961109161376953,3.4843287467956543,3.39848256111145,3.479278087615967,3.4674954414367676,3.4287822246551514,3.4287822246551514,3.4439306259155273,3.536508560180664,3.517991781234741,3.549973964691162,3.54492449760437,3.5415585041046143,3.5466086864471436,3.531459093093872,3.5466086864471436,3.4590795040130615,3.3362009525299072,3.2823376655578613,3.374917507171631,3.390066146850586,3.369868040084839,3.3160037994384766,3.4287822246551514,3.4136319160461426,3.344618558883667,3.3732340335845947,3.4119486808776855,3.385016441345215,3.3580851554870605,3.3126370906829834,3.3126370906829834,3.2840211391448975,3.3412513732910156,3.3580851554870605,3.3193695545196533,3.3160037994384766,3.388383388519287,3.374917507171631,3.3176863193511963,3.3362009525299072,3.3261024951934814,3.295804262161255,3.3277862071990967,3.3362009525299072,3.4557135105133057,3.457396984100342,3.531459093093872,3.528093099594116,3.566807508468628,3.538191318511963,3.553342342376709,3.657703399658203,3.6560192108154297,3.698101282119751,3.757014751434326,3.8091957569122314,3.790680170059204,3.858008861541748,3.7990949153900146,3.969104528427124,4.022968769073486,4.044850826263428,4.007818222045898,3.997720718383789,4.006134510040283,4.2687225341796875,4.277139663696289,4.443781852722168,4.400016784667969,4.470712661743164,4.435364723205566,4.467346668243408,4.458930969238281,4.425264835357666,4.413482189178467,4.410115718841553,4.322586536407471,4.339419364929199,4.352886199951172,4.322586536407471,4.354569435119629,4.285555362701416,4.288920879364014,4.339419364929199,4.342785358428955,4.364668846130371,4.497644901275635,4.45724630355835,4.435364723205566,4.490912437438965,4.598639011383057,4.692902565002441,4.655869483947754,4.649138450622559,4.671019554138184,4.671019554138184,4.748449325561523,4.709733486175537,4.6238884925842285,4.588540077209473,4.49932861328125,4.4723968505859375,4.4067487716674805,4.421899318695068,4.460613250732422,4.420215129852295,4.418532371520996,4.448831558227539,4.3966498374938965,4.410115718841553,4.45051383972168,4.511110305786133,4.630622386932373,4.467346668243408,4.420215129852295,4.3966498374938965,4.3411030769348145,4.435364723205566,4.374767303466797,4.489229202270508,4.532992362976074,4.612105846405029,4.5969557762146,4.581806182861328,4.519526958465576,4.36803674697876,4.176145076751709,4.078516006469727,4.011185646057129,3.9707884788513184,3.9421727657318115,3.990985870361328,3.918607473373413,3.9253392219543457,3.950589656829834,3.9775195121765137,3.9994025230407715,3.9556384086608887,3.965738296508789,3.969104528427124,3.889991283416748,3.8563265800476074,3.846226692199707,3.6829512119293213,3.7250330448150635,3.4607629776000977,3.595423460006714,3.457396984100342,3.60888934135437,3.487694025039673,3.526409864425659,3.6004714965820312,3.4439306259155273,3.607205629348755,3.6307711601257324,3.6375038623809814,3.800779104232788,3.930389404296875,3.787313938140869,3.834444284439087,3.88830828666687,3.9320733547210693,4.028017044067383,3.8782098293304443,3.7283990383148193,3.839493751525879,3.908506393432617,3.8563265800476074,3.893357515335083,3.908506393432617,3.900092363357544,4.024652004241943,4.147529125213623,4.189609050750732,4.078516006469727,4.036434650421143,3.9455389976501465,3.805828809738159,3.788996934890747,3.974153757095337,4.019601345062256,3.9590046405792236,4.038118362426758,3.88830828666687,3.866426467895508,4.004452705383301,4.017918109893799,4.049900531768799,4.095348358154297,4.137428283691406,4.194660186767578,4.317537307739258,4.2451581954956055,4.235058307647705,4.080198287963867,4.20475959777832,4.186243057250977,4.218225002288818,4.214859962463379,4.305753707885742,4.3091206550598145,4.214859962463379,4.361301898956299,4.410115718841553,4.304071426391602,4.214859962463379,4.2249579429626465,4.347836494445801,4.324270248413086,4.283871173858643,4.315853595733643,4.194660186767578,4.1407952308654785,4.236741542816162,4.147529125213623,3.965738296508789,3.790680170059204,3.6913678646087646,3.7805798053741455,3.824345350265503,3.775531053543091,3.7216663360595703,3.6206717491149902,3.763747215270996,3.829394817352295,3.891674041748047,3.9320733547210693,3.908506393432617,3.985935926437378,3.928706407546997,3.9876201152801514,3.9674205780029297,4.073466777801514,4.159311771392822,4.051584720611572,3.9539554119110107,3.9893035888671875,3.928706407546997,3.8159279823303223,3.950589656829834,3.962371587753296,4.004452705383301,4.0263352394104,4.0263352394104,4.051584720611572,4.098714828491211,4.06168270111084,4.004452705383301,4.06168270111084,4.251890182495117,4.186243057250977,4.038118362426758,4.078516006469727,4.103764057159424,4.0701003074646,3.9573211669921875,3.9101898670196533,4.043168067932129,4.181193828582764,4.132379055023193,4.167728424072266,4.166044235229492,4.208126544952393,4.157628059387207,4.09366512298584,3.996035575866699,3.9320733547210693,3.923656463623047,3.916923999786377,3.97920298576355,3.940488338470459,3.994352102279663,4.122280597686768,4.053267478942871,3.851278066635132,3.861375570297241,3.8681092262268066,3.839493751525879,3.903881311416626,3.927603244781494,3.947934865951538,3.8920209407806396,3.9462404251098633,3.8513543605804443,3.8971047401428223,3.953016757965088,3.8598270416259766,4.039433002471924,4.044516086578369,4.093653678894043,4.030961036682129,4.0495991706848145,4.1021246910095215,4.0495991706848145,4.027571201324463,4.030961036682129,3.9818227291107178,4.034348487854004,3.9919891357421875,4.058071136474609,4.068235397338867,4.1800665855407715,3.9242141246795654,4.002155780792236,4.032654285430908,4.025877475738525,3.980128526687622,3.8276336193084717,3.7005534172058105,3.8056061267852783,3.7344422340393066,3.7191922664642334,3.681915044784546,3.7022485733032227,3.629389762878418,3.603973388671875,3.6531100273132324,3.597195863723755,3.676832437515259,3.7530791759490967,3.776801824569702,3.776801824569702,3.792051076889038,3.790356397628784,3.775106906890869,3.8259389400482178,3.8259389400482178,3.8428831100463867,3.8564372062683105,3.8733813762664795,3.8581326007843018,3.8089935779571533,3.6988587379455566,3.5734753608703613,3.5768632888793945,3.5429747104644775,3.5700857639312744,3.444699764251709,3.5378918647766113,3.493839979171753,3.5311145782470703,3.138015031814575,3.231206178665161,3.215956687927246,3.2261252403259277,3.2329013347625732,3.2738888263702393,3.3336634635925293,3.3661112785339355,3.357571601867676,3.27559757232666,3.279012441635132,3.279012441635132,3.3370795249938965,3.304629325866699,3.2106990814208984,3.2499802112579346,3.1218931674957275,3.171419382095337,3.092860221862793,3.029670000076294,3.045041561126709,3.1116456985473633,3.137263298034668,3.097984552383423,2.998929977416992,3.0211308002471924,2.9357409477233887,2.9852676391601562,3.0433337688446045,3.041625738143921,3.135556936264038,3.0706584453582764,3.137263298034668,3.120184898376465,3.09627628326416,2.992098331451416,2.9972219467163086,2.939155101776123,2.92037034034729,2.8742594718933105,2.8298563957214355,2.858888864517212,2.886213779449463,2.869135618209839,2.7837440967559814,2.7564198970794678,2.686399459838867,2.693230152130127,2.727386951446533,2.7564198970794678,2.7359261512756348,2.7359261512756348,2.744464635848999,2.689815044403076,2.7154321670532227,2.734217882156372,2.8708443641662598,2.8571810722351074,2.8742594718933105,3.029670000076294,3.055288076400757,2.9511115550994873,2.9118316173553467,3.0706584453582764,3.171419382095337,3.328538656234741,3.328538656234741,3.208991765975952,3.2277777194976807,3.187971353530884,3.1412417888641357,3.1395113468170166,3.2208549976348877,3.316044330596924,3.3021984100341797,3.5323832035064697,3.5566136837005615,3.6448798179626465,3.748722791671753,3.7366085052490234,3.767759084701538,3.819681406021118,3.8733339309692383,4.006598472595215,3.8577568531036377,3.8819875717163086,3.9512152671813965,3.9356396198272705,3.859487533569336,3.8300654888153076,3.61372709274292,3.655264139175415,3.620650053024292,3.634495258331299,3.676032304763794,3.6916086673736572,3.6864161491394043,3.871602773666382,3.9944846630096436,4.0239057540893555,4.151978492736816,3.97371506690979,3.956407308578491,3.940830707550049,3.9425618648529053,3.9719839096069336,3.9702541828155518,4.056789398193359,4.001405715942383,4.015251159667969,3.9979445934295654,4.029097557067871,4.105249404907227,3.980637311935425,3.9512152671813965,4.084480285644531,4.12082576751709,4.105249404907227,4.13986349105835,4.04986572265625,3.897562265396118,3.826603412628174,3.996215343475342,4.025636196136475,4.063711643218994,4.240242958068848,4.421969413757324,4.486006259918213,4.5811944007873535,4.686769008636475,4.685036659240723,4.685036659240723,4.660581588745117,4.61865758895874,4.578479290008545,4.585467338562012,4.512099266052246,4.520833492279053,4.536555290222168,4.653593063354492,4.768885135650635,4.793342590332031,4.840506553649902,4.8614678382873535,4.823037624359131,4.805570125579834,4.807316303253174,4.842254161834717,4.812557220458984,4.564504623413086,4.466681480407715,4.468428611755371,4.347896575927734,4.30946683883667,4.285009860992432,4.382833957672119,4.48240327835083,4.255312919616699,4.332174301147461,4.323440074920654,4.050931453704834,3.9496161937713623,3.9810585975646973,4.061413764953613,4.019489765167236,4.045691967010498,4.029970169067383,4.10333776473999,4.066654682159424,4.073641777038574,4.0439453125,4.099844932556152,4.141768932342529,4.15399694442749,4.195920467376709,4.129541397094727,4.052679061889648,4.31295919418335,4.410782814025879,4.683289527893066,4.402048587799072,4.438731670379639,4.552277088165283,4.5767340660095215,4.515594005584717,4.547036647796631,4.498124599456787,4.431745529174805,4.45445442199707,4.42475700378418,4.319947242736816,4.335668563842773,4.298985004425049,4.330428123474121,4.4090352058410645,4.377592086791992,4.247774600982666,4.157697677612305,4.291930675506592,4.311359405517578,4.334320068359375,4.3572821617126465,4.461488723754883,4.500345706939697,4.530371189117432,4.48798131942749,4.495047569274902,4.5427350997924805,4.457955837249756,4.495047569274902,4.457955837249756,4.532137393951416,4.482683181762695,4.655773639678955,4.671669960021973,4.940135478973389,5.256290435791016,5.341069221496582,5.34283447265625,5.2792510986328125,5.291615009307861,5.344603061676025,5.277485370635986,5.282783031463623,5.595407009124756,5.655457019805908,5.54241943359375,5.704912185668945,5.787926197052002,5.77202844619751,5.78085994720459,5.743767738342285,5.862106800079346,6.0457940101623535,6.047561168670654,6.114675998687744,6.1058454513549805,6.164129734039307,6.135869979858398,6.413169860839844,6.561532497406006,6.568596363067627,6.586259841918945,6.5597662925720215,6.550936698913574,6.778778553009033,6.759348392486572,6.824700355529785,6.886517524719238,6.720492362976074,7.02251672744751,6.845895290374756,6.496181488037109,6.402571201324463,6.36018180847168,5.6713547706604,5.602470397949219,5.620132923126221,5.916860103607178,5.905284404754639,6.126108646392822,6.320220947265625,6.2080278396606445,6.165287017822266,6.544607162475586,6.23117733001709,6.717348575592041,6.516114234924316,6.683512210845947,6.94707727432251,6.856255531311035,6.8491315841674805,6.861598968505859,7.290781021118164,7.2622880935668945,7.105573654174805,7.134068012237549,7.191054344177246,7.278316497802734,7.484893798828125,7.51694917678833,7.509825229644775,7.547223091125488,7.655857563018799,7.591746807098389,7.60243034362793,7.554345607757568,7.586402416229248,7.6879096031188965,7.743117809295654,7.807226657867432,7.743117809295654,7.769829273223877,7.7395548820495605,7.661198616027832,7.554345607757568,7.700375556945801,7.908735275268555,8.156270980834961,8.083257675170898,8.353948593139648,8.73682689666748,8.900665283203125,8.973679542541504,8.95587158203125,8.724364280700684,8.526689529418945,8.635319709777832,8.720799446105957,8.81162166595459,8.768884658813477,8.67093563079834,8.492853164672852,8.47326374053955,8.494633674621582,8.590799331665039,8.480385780334473,9.244369506835938,9.192724227905273,9.328067779541016,8.792034149169922,8.886419296264648,9.071758270263672,8.991175651550293,8.948198318481445,8.889106750488281,9.16845703125,8.883733749389648,8.971480369567871,9.014456748962402,8.874781608581543,8.855081558227539,9.392297744750977,9.333200454711914,9.422738075256348,9.200689315795898,9.283063888549805,8.851499557495117,8.919548034667969,9.141596794128418,9.09682846069336,9.030572891235352,8.890894889831543,8.890894889831543,9.170247077941895,9.010873794555664,8.921337127685547,9.078922271728516,8.8783597946167,8.831801414489746,8.9571533203125,9.292016983032227,9.232919692993164,9.272316932678223,9.186363220214844,9.25083065032959,9.43169116973877,9.648367881774902,9.786253929138184,9.805951118469238,9.754020690917969,9.813114166259766,9.82744026184082,9.743274688720703,9.929509162902832,9.888326644897461,9.816697120666504,9.857881546020508,9.902649879455566,10.128279685974121,10.036952018737793,9.637622833251953,9.934880256652832,9.916974067687988,10.199907302856445,10.312722206115723,10.284069061279297,10.122906684875488,9.85609245300293,9.524808883666992,9.390504837036133,8.738685607910156,8.92850112915039,8.756592750549316,8.641987800598145,8.554240226745605,8.640196800231934,8.459197998046875,8.275497436523438,8.243078231811523,8.12781810760498,8.118813514709473,8.208860397338867,8.243078231811523,8.142224311828613,8.214264869689941,8.516827583312988,8.664510726928711,8.821194648742676,8.992289543151855,8.98148250579834,8.869820594787598,9.09854507446289,9.17958927154541,9.069727897644043,8.831999778747559,8.873422622680664,8.871621131896973,8.941859245300293,8.868020057678223,8.675315856933594,7.949520111083984,8.167438507080078,8.09900188446045,8.1980562210083,8.162035942077637,6.539355278015137,6.658218860626221,6.798695087432861,6.780684471130371,6.881540298461914,7.068841934204102,6.888743877410889,6.577175140380859,6.721253395080566,6.492528915405273,6.316032886505127,6.359256744384766,6.316032886505127,6.092711925506592,6.114323139190674,6.260202407836914,6.366460800170898,6.3934760093688965,6.559165000915527,6.438499927520752,6.57537317276001,6.458311080932617,6.413285732269287,6.508736610412598,6.411485195159912,6.418690204620361,6.404281139373779,6.492528915405273,6.928366661071777,6.856325626373291,6.708646774291992,6.71945333480835,6.697839260101318,6.72665548324585,6.978793621063232,6.967987060546875,6.937370300292969,6.935568332672119,6.931967735290527,6.933769702911377,6.7430315017700195,7.08090877532959,7.220784664154053,6.973731994628906,6.832040786743164,6.982813835144043,6.8701887130737305,6.922869682312012,6.864740371704102,7.066375255584717,6.781179428100586,7.378824234008789,7.466019153594971,7.734868049621582,7.87837553024292,8.063660621643066,7.782095432281494,7.905622482299805,7.945586204528809,7.843860149383545,7.485998630523682,7.360660552978516,7.478732109069824,7.529596328735352,7.400623321533203,7.533229351043701,7.442403316497803,7.678554534912109,7.249847888946533,7.304344177246094,7.1517558097839355,7.327960014343262,7.329774856567383,7.208066463470459,7.131771564483643,7.251664638519287,6.930135726928711,6.84112548828125,6.5105133056640625,6.543210506439209,6.641304969787598,6.688534736633301,6.875638008117676,6.623137950897217,6.515960693359375,6.579540252685547,6.717599391937256,6.617689609527588,6.710332870483398,6.699433326721191,6.980998516082764,6.773913383483887,6.941034317016602,6.9337687492370605,6.875638008117676,6.699716091156006,6.701550006866455,6.8279924392700195,6.723538875579834,6.831658840179443,6.692386627197266,6.833491802215576,6.915954113006592,6.652070999145508,6.778515338897705,6.912289142608643,7.3832478523254395,7.330104827880859,7.322775363922119,7.3502631187438965,7.403407573699951,7.37408447265625,7.368587970733643,7.434558391571045,7.394242763519287,7.416235446929932,7.421732425689697,7.489533424377441,7.65263032913208,7.6214776039123535,7.63063907623291,7.65812873840332,7.6562957763671875,7.557339668273926,7.6562957763671875,7.51702356338501,7.612313747406006,7.559172630310059,7.848711967468262,7.852375507354736,8.079608917236328,8.195058822631836,8.447944641113281,8.370979309082031,8.444281578063965,7.95866060256958,7.905519008636475,7.691113471984863,7.553674697875977,7.6398024559021,7.573831558227539,7.604983329772949,7.489533424377441,7.458383083343506,7.63063907623291,7.500528812408447,7.575662612915039,7.665459156036377,7.264134883880615,7.449219703674316,7.491368293762207,7.573831558227539,7.419898986816406,7.861539363861084,7.7717437744140625,7.8377156257629395,7.878032207489014,7.911016464233398,7.792829990386963,8.079061508178711,8.038435935974121,8.2064790725708,8.354209899902344,8.176932334899902,7.970109462738037,7.966414928436279,8.117840766906738,8.053206443786621,8.034744262695312,8.282190322875977,8.12891960144043,8.167701721191406,8.010735511779785,8.010735511779785,7.826070785522461,7.971954822540283,7.766979217529297,7.763283729553223,7.766979217529297,7.60816764831543,7.456742286682129,7.549075126647949,7.47151517868042,7.3053178787231445,7.203752040863037,7.320091247558594,7.072640895843506,7.074487209320068,6.869510650634766,6.869510650634766,7.1021857261657715,7.244378089904785,7.360719203948975,7.508448600769043,7.517680644989014,7.497369289398193,7.619246006011963,7.761437892913818,7.72081184387207,7.576773166656494,7.669105529785156,7.770671367645264,7.896241664886475,7.887010097503662,7.890703201293945,7.947950839996338,8.260030746459961,8.067980766296387,7.892550468444824,7.848228931427002,8.016276359558105,8.21017074584961,8.199090957641602,8.143694877624512,8.12891960144043,8.053206443786621,8.10122013092041,7.04437780380249,7.02577018737793,6.9587883949279785,6.921576499938965,7.035076141357422,6.66666841506958,6.612709999084473,6.811797142028809,6.89738655090332,6.962510108947754,6.547586917877197,6.61829137802124,6.201508522033691,6.309425354003906,6.009862899780273,6.127082347869873,5.939158916473389,6.082427501678467,6.158711910247803,6.4192023277282715,6.3484978675842285,6.4433913230896,6.212673187255859,6.261048316955566,6.261048316955566,6.294541358947754,6.288957595825195,6.288957595825195,6.460136890411377,6.268490791320801,6.195926189422607,6.268490791320801,6.0042805671691895,6.283376216888428,6.097313404083252,6.737372398376465,6.4117608070373535,6.763420104980469,6.7113237380981445,6.854593276977539,6.90669059753418,6.9587883949279785,7.1001973152160645,7.122524261474609,6.997860908508301,6.748537063598633,6.558751106262207,6.852732181549072,6.977394104003906,6.8155198097229,6.8285441398620605,6.839707851409912,6.9178547859191895,7.077869415283203,6.98111629486084,6.930879592895508,6.949484348297119,6.951345920562744,6.977394104003906,6.982975959777832,6.975534915924072,6.949484348297119,6.910412311553955,6.936460971832275,6.889944553375244,6.878780841827393,7.195088863372803,7.196949481964111,7.448136329650879,7.442553997039795,7.472323894500732,7.596987247467041,7.563495635986328,7.345800876617432,7.383014678955078,7.642134666442871,7.715363025665283,7.681564807891846,7.720995903015137,7.659032344818115,7.683442115783691,7.762303829193115,7.681564807891846,7.475019931793213,7.283498287200928,7.202757358551025,7.076953411102295,7.127650737762451,7.093851566314697,7.172715187072754,7.204634666442871,7.131405830383301,7.26847505569458,7.50881814956665,7.585803031921387,7.58955717086792,7.585803031921387,7.6778082847595215,7.687198638916016,7.4468560218811035,7.570780277252197,7.525717258453369,7.555759429931641,7.570780277252197,7.644010543823242,7.563271999359131,7.583924293518066,7.384892463684082,7.236556529998779,7.354849338531494,7.533227920532227,7.5144524574279785,7.347338676452637,7.418689727783203,7.546370983123779,7.465630531311035,7.332317352294922,7.360483169555664,7.354849338531494,7.521962642669678,7.555759429931641,7.568903923034668,7.536982536315918,7.655277252197266,7.660909175872803,7.544493675231934,7.411179065704346,7.683442115783691,8.150983810424805,8.162248611450195,8.256133079528809,8.20919132232666,8.265521049499512,8.288053512573242,8.149856567382812,8.121459007263184,8.111992835998535,8.140388488769531,8.132818222045898,8.049521446228027,8.047626495361328,8.146069526672363,8.176359176635742,8.157429695129395,8.308878898620605,8.397854804992676,8.433821678161621,8.265335083007812,8.337276458740234,8.096848487854004,8.132818222045898,8.35241985321045,8.246404647827148,8.390280723571777,8.714003562927246,8.659104347229004,8.878704071044922,8.89006233215332,8.96389389038086,8.846521377563477,8.787834167480469,8.941177368164062,8.835163116455078,8.865453720092773,8.88627815246582,8.935497283935547,8.88627815246582,8.611777305603027,8.579591751098633,8.572022438049316,8.683714866638184,8.738614082336426,8.679927825927734,8.509550094604492,8.626917839050293,8.782155990600586,8.585270881652832,8.55119514465332,8.672354698181152,8.655317306518555,8.636385917663574,8.727254867553711,8.980932235717773,8.88817024230957,8.895743370056152,8.7935152053833,8.562554359436035,8.486828804016113,8.132818222045898,8.308878898620605,8.587164878845215,8.746185302734375,8.043840408325195,8.041949272155762,7.795842170715332,7.915109634399414,7.896178245544434,7.877084255218506,7.9802021980285645,7.9802021980285645,8.087138175964355,8.169249534606934,8.24372386932373,8.211260795593262,8.39840316772461,8.327746391296387,8.07186222076416,7.966833114624023,7.89617919921875,7.8446197509765625,7.867534637451172,7.829342842102051,7.695671081542969,7.720495223999023,7.869444847106934,7.737684726715088,7.9248223304748535,8.111964225769043,8.276187896728516,8.295283317565918,8.39840316772461,8.480515480041504,8.390763282775879,8.31056022644043,8.22081184387207,8.38885498046875,8.490060806274414,8.539710998535156,8.612276077270508,8.791779518127441,8.971282005310059,8.660017013549805,8.53016185760498,8.449962615966797,8.698209762573242,8.728763580322266,8.797506332397461,8.818514823913574,8.927361488342285,8.946455955505371,8.963644027709961,8.940728187561035,8.688661575317383,8.772683143615723,8.512978553771973,8.503429412841797,7.09987735748291,7.273650169372559,7.096057415008545,7.2201828956604,7.34430456161499,7.497071743011475,7.1819891929626465,7.239276885986328,6.996759414672852,6.876453876495361,6.689314842224121,6.695103168487549,6.534960746765137,6.324653148651123,6.424983024597168,6.3806071281433105,6.509877681732178,6.259052276611328,6.176086902618408,5.788272380828857,5.840367794036865,5.892462253570557,5.8963212966918945,5.604978084564209,5.549025058746338,5.54709529876709,5.518153667449951,5.54709529876709,5.473776817321777,5.493071556091309,5.485353946685791,5.494999885559082,5.4101057052612305,5.462200164794922,5.550954341888428,5.473776817321777,5.489211559295654,5.473776817321777,5.668647766113281,5.37923526763916,5.197869777679443,4.93546724319458,4.947043418884277,4.921962738037109,4.860220909118652,4.879514217376709,4.9528326988220215,4.835136413574219,5.028079986572266,5.045444965362549,4.960550308227539,5.057021141052246,5.172785758972168,5.001068592071533,5.049304008483887,5.211374759674072,5.176645755767822,5.38116455078125,5.232598304748535,5.141915798187256,5.145774841308594,5.205586910247803,5.402388572692871,5.545166015625,5.641636371612549,5.439046859741211,5.635848522186279,5.680225849151611,5.767048358917236,5.780555725097656,5.892462253570557,5.9464850425720215,5.969639778137207,6.037169456481934,6.311147212982178,6.094531059265137,5.998907089233398,5.877913475036621,6.106240272521973,5.940362930297852,6.000858306884766,6.178445816040039,6.006712913513184,6.227232933044434,6.119899749755859,6.016470909118652,6.020374298095703,5.889623165130615,5.926702499389648,5.907186985015869,5.872059345245361,6.149172306060791,6.19796085357666,6.192105293273926,6.115997791290283,6.035985946655273,5.911089897155762,5.872059345245361,5.682765007019043,5.754969596862793,5.831078052520752,5.872059345245361,6.141366004943848,6.1764936447143555,6.20381498336792,6.285777568817139,6.332612991333008,6.4184794425964355,6.305293560028076,6.40091609954834,6.40091609954834,6.50239372253418,6.514103412628174,6.420431137084961,6.40091609954834,6.3150506019592285,6.108191013336182,5.998907089233398,5.87596321105957,5.872059345245361,5.891574859619141,5.955974578857422,5.6983771324157715,5.678861141204834,5.606655597686768,5.6632490158081055,5.553966045379639,5.470050811767578,5.571528434753418,5.557868480682373,5.555916786193848,5.600801944732666,5.80180549621582,5.850593566894531,5.6203155517578125,5.678861141204834,5.649588584899902,5.637879848480225,5.58713960647583,5.628658771514893,5.626680850982666,5.581209659576416,5.391412258148193,5.24511194229126,5.146258354187012,5.086947441101074,5.16602897644043,5.12648868560791,5.169983386993408,5.219409465789795,5.108694553375244,5.140327453613281,5.205570697784424,5.009842872619629,5.041475296020508,5.150212287902832,5.221386909484863,5.2549967765808105,5.349895000457764,5.199638843536377,5.233249664306641,5.205570697784424,5.411183834075928,5.624704837799072,5.682039260864258,5.703786373138428,5.658315658569336,5.533760070800781,5.968711853027344,5.968711853027344,6.152576923370361,6.130829334259033,6.091289043426514,6.105127334594727,6.178278923034668,6.192117691040039,6.162461757659912,6.118967533111572,6.000344276428223,5.780891418457031,5.859973907470703,5.863927841186523,5.939055919647217,5.889628887176514,5.857996940612793,5.960803508758545,6.150600433349609,6.198049068450928,6.273176670074463,6.162461757659912,6.093265533447266,6.162461757659912,6.271200180053711,6.2197957038879395,6.344350337982178,6.269222736358643,6.358190059661865,5.682039260864258,5.727510929107666,5.632613182067871,5.612842082977295,5.54166841506958,5.612842082977295,5.608887672424316,5.63493013381958,5.564818859100342,5.4446282386779785,5.41658353805542,5.40656852722168,5.414581298828125,5.458651065826416,5.426599979400635,5.5888566970825195,5.552800178527832,5.63493013381958,5.662974834442139,5.64694881439209,5.536774635314941,5.494706630706787,5.5067267417907715,5.436615467071533,5.526758193969727,5.564818859100342,5.4346113204956055,5.448635101318359,5.344468593597412,5.344468593597412,5.374516487121582,5.218268871307373,5.232292175292969,5.102085113525391,5.084056854248047,4.947841167449951,4.971878528594971,5.007936000823975,5.029971599578857,5.009939193725586,5.035980224609375,4.95785665512085,4.9618635177612305,4.8056159019470215,4.7875871658325195,4.8176350593566895,4.719479084014893,4.192643642425537,4.17261266708374,4.152580261230469,4.25474214553833,4.188637733459473,4.312834739685059,4.3809428215026855,4.471085071563721,4.6052985191345215,4.5371904373168945,4.619320392608643,4.699446678161621,4.699446678161621,4.699446678161621,4.829654216766357,5.220273017883301,5.172196865081787,5.0379838943481445,4.9790239334106445,5.019685745239258,5.009520530700684,4.934296607971191,4.985123634338379,5.060347557067871,5.2738213539123535,5.27992057800293,5.290086269378662,5.371409893035889,5.365309715270996,5.1396379470825195,5.15183687210083,5.168100357055664,5.265688419342041,5.310417652130127,5.365309715270996,5.09490966796875,5.1660685539245605,5.27585506439209,5.137604713439941,5.15183687210083,5.135571479797363,5.157936096191406,5.2697553634643555,5.082711696624756,4.985123634338379,4.9790239334106445,5.009520530700684,5.003422260284424,5.025785446166992,4.621201992034912,4.7452192306518555,4.775716304779053,4.7391204833984375,4.794013500213623,4.865171432495117,4.852972507476807,4.913965225219727,4.924130916595459,4.942429065704346,4.915998935699463,4.9790239334106445,4.940395355224609,4.956660747528076,5.02985143661499,5.017653465270996,5.0074872970581055,5.0400166511535645,5.162001609802246,5.216894626617432,5.157936096191406,5.233160495758057,5.241292476654053,5.168100357055664,5.198597431182861,5.330748081207275,5.3388800621032715,5.196564674377441,5.342947006225586,5.391740322113037,4.968859672546387,4.976990699768066,5.0786452293396,5.1396379470825195,5.064414024353027,5.015620231628418,5.082711696624756,5.082711696624756,5.19832181930542,4.9939398765563965,5.070324897766113,5.093034267425537,5.008391857147217,5.086841106414795,4.929941177368164,4.956779479980469,4.973294734954834,4.946457386016846,4.273442268371582,4.304409027099609,4.4840168952941895,4.53149938583374,4.636787414550781,4.65536642074585,4.5418219566345215,4.537693500518799,4.492274761199951,4.508790493011475,4.471630096435547,4.517047882080078,4.5645318031311035,4.556273460388184,4.620271682739258,4.725559711456299,4.715237140655518,4.702849864959717,4.7874932289123535,4.7874932289123535,4.793686866760254,4.830847263336182,4.882458686828613,4.768913745880127,4.68427038192749,4.702849864959717,4.839104652404785,4.948521614074707,4.865942478179932,4.954715251922607,5.033164978027344,5.055873870849609,5.150839805603027,5.026971817016602,4.960908889770508,5.029035568237305,5.05174446105957,4.921683311462402,4.909296989440918,5.000133037567139,4.9650373458862305,4.678077220916748,4.688399314880371,4.876266002655029,4.587240219116211,4.659496784210205,4.5707244873046875,4.702849864959717,4.680141448974609,4.720034599304199,4.598254680633545,4.627649784088135,4.486972808837891,4.6213507652282715,4.558360576629639,4.615051746368408,4.541563510894775,4.455477237701416,4.323199272155762,4.3672919273376465,4.333697319030762,4.295903205871582,4.312701225280762,4.335797309875488,4.436580181121826,4.489071846008301,4.516368389129639,4.537365436553955,4.537365436553955,4.5352654457092285,4.516368389129639,4.434480667114258,4.390388488769531,4.386188983917236,4.400886058807373,4.4071855545043945,4.442879676818848,4.413484573364258,4.468075752258301,4.428182125091553,4.482773780822754,4.430281162261963,4.363093376159668,4.3672919273376465,4.463876247406006,4.417684078216553,4.556262016296387,4.514268398284912,4.55416202545166,4.484872341156006,4.489071846008301,4.547863006591797,4.604554176330566,4.654945373535156,4.606653690338135,4.636048316955566,4.507968902587891,4.568859100341797,4.587756156921387,4.39458703994751,4.491171360015869,4.430281162261963,4.455477237701416,4.405086040496826,4.543663501739502,4.510068893432617,4.57305908203125,4.073339939117432,4.020848274230957,3.936861515045166,3.945260524749756,3.8843700885772705,3.920064687728882,3.976755142211914,4.060741901397705,4.037182331085205,4.101434707641602,4.112143039703369,4.182820796966553,4.287766456604004,4.300616264343262,4.345593452453613,4.319891929626465,4.32417631149292,4.304900169372559,4.259922981262207,4.285624027252197,4.377718925476074,4.422696113586426,4.465531349182129,4.452680587768555,4.424838066101074,4.384144306182861,4.3284592628479,4.337026596069336,4.394853591918945,4.287766456604004,4.315608501434326,4.332742691040039,4.195672035217285,4.176395893096924,4.221372127532959,4.157120227813721,4.210663795471191,4.294191360473633,4.294191360473633,4.3113250732421875,4.343451976776123,4.27491569519043,4.199955463409424,4.178537368774414,4.142127990722656,4.02004861831665,4.002914905548096,3.9836390018463135,3.9643633365631104,3.876551628112793,3.8187246322631836,3.6645195484161377,3.6837949752807617,3.760897636413574,3.51888108253479,3.469620943069458,3.4674792289733887,3.426786184310913,3.4653377532958984,3.4931800365448,3.5210227966308594,3.5831332206726074,3.7202048301696777,3.7309136390686035,3.8915443420410156,4.073592185974121,4.1806793212890625,4.095492839813232,4.0998616218566895,4.2374701499938965,4.209074974060059,4.152284145355225,4.069281578063965,4.193784236907959,4.165389060974121,4.174126625061035,4.078019142150879,4.014675140380859,4.005938529968262,4.07583475112915,4.016859531402588,3.9862802028656006,4.029965400695801,3.995016574859619,4.0430707931518555,3.9862802028656006,3.9688057899475098,3.9207518100738525,3.988464593887329,3.975358724594116,4.0015692710876465,4.080203533172607,4.200337886810303,4.270234107971191,4.2986297607421875,4.359788417816162,3.87925124168396,3.748195171356201,3.822460174560547,3.9010934829711914,3.960068464279175,3.833381175994873,3.8006176948547363,3.7088782787323,3.6782987117767334,3.7263524532318115,3.7460110187530518,3.728536605834961,3.671745538711548,3.638981819152832,3.5450589656829834,3.4183712005615234,3.525400161743164,3.5974810123443604,3.457688331604004,3.5319530963897705,3.4511353969573975,3.4030816555023193,3.5428740978240967,3.5843753814697266,3.582190990447998,3.464240789413452,3.4271082878112793,3.411818742752075,3.4882678985595703,3.5122947692871094,3.40089750289917,3.4271082878112793,3.4882678985595703,3.564343214035034,3.5911927223205566,3.593430280685425,3.566580295562744,3.499455451965332,3.546442747116089,3.4793176651000977,3.4927427768707275,3.4591803550720215,3.4256176948547363,3.450230121612549,3.3137426376342773,3.2376673221588135,3.136979818344116,3.0944671630859375,3.020629405975342,3.1414546966552734,3.105654716491699,3.166067361831665,2.8237292766571045,2.8684792518615723,2.910991907119751,2.984829902648926,3.03405499458313,3.004967212677002,3.0161545276641846,3.0609045028686523,3.0967047214508057,3.0497171878814697,3.0452418327331543,3.0899922847747803,3.11907958984375,3.056429624557495,3.0251047611236572,2.881904125213623,2.9535045623779297,3.0004920959472656,3.0116794109344482,3.0586671829223633,3.101179838180542,3.054192304611206,3.098942279815674,3.009442090988159,2.8707168102264404,2.908754348754883,2.8841421604156494,2.861766815185547,2.893091917037964,2.915466785430908,2.8438668251037598,2.9669294357299805,3.022867202758789,3.0318171977996826,3.0474796295166016,2.7879292964935303,2.8595292568206787,2.834916830062866,2.846104145050049,2.850579261779785,2.834916830062866,2.9199419021606445,3.002729654312134,2.9535045623779297,3.069854736328125,3.1862049102783203,3.2667551040649414,3.226480007171631,3.24214243888855,3.2510926723480225,3.2832586765289307,3.228116512298584,3.062689781188965,2.9524056911468506,3.2074382305145264,3.4923393726348877,3.6187071800231934,3.6095168590545654,3.568160057067871,3.5658624172210693,3.47166109085083,3.439495086669922,3.3544843196868896,3.418816566467285,3.3475911617279053,3.253389835357666,3.228116512298584,3.361377000808716,3.480851650238037,3.5543746948242188,3.4142212867736816,3.37746000289917,3.4670660495758057,3.5107202529907227,3.4969348907470703,3.349888801574707,3.349888801574707,3.428007125854492,3.464768648147583,3.421114206314087,3.395840644836426,3.333805799484253,3.402733564376831,3.4073286056518555,3.37746000289917,3.3108296394348145,3.384352684020996,3.359079122543335,3.411924123764038,3.4142212867736816,3.473958730697632,3.5038273334503174,3.4946370124816895,3.5199105739593506,3.4946370124816895,3.561267375946045,3.54288649559021,3.4969348907470703,3.5222082138061523,3.6416831016540527,3.788728713989258,3.901310443878174,3.8507637977600098,3.80251407623291,3.3797576427459717,3.2235212326049805,3.244199514389038,3.1201295852661133,3.0489044189453125,3.228116512298584,3.735884428024292,3.708313226699829,3.7060155868530273,3.676146984100342,3.7129085063934326,3.8277878761291504,3.9150965213775635,3.857656717300415,3.904672622680664,3.8788137435913086,3.9023218154907227,3.876462936401367,3.8835155963897705,3.6484358310699463,3.7659759521484375,3.664891481399536,3.6554882526397705,3.5896661281585693,3.5920166969299316,3.495634078979492,3.507388114929199,3.483880043029785,3.4509689807891846,3.5214927196502686,3.4697751998901367,3.4862308502197266,3.4462673664093018,3.4791786670684814,3.4979848861694336,3.594367742538452,3.6014199256896973,3.540299415588379,3.4627230167388916,3.5544040203094482,3.5896661281585693,3.542649984359741,3.394549608230591,3.2229416370391846,3.4157071113586426,3.448618173599243,3.4321627616882324,3.6084723472595215,3.669593095779419,3.52384352684021,3.5144405364990234,3.5026862621307373,3.493283271789551,3.441565990447998,3.2629053592681885,3.2629053592681885,3.0466320514678955,3.0865957736968994,3.0066685676574707,3.0630874633789062,2.886777639389038,3.2229416370391846,3.173574924468994,3.4274609088897705,3.46037220954895,3.528545379638672,3.4392151832580566,3.2111878395080566,3.260554552078247,3.173574924468994,3.1876800060272217,3.2158892154693604,3.1989636421203613,3.131260633468628,3.1989636421203613,3.092573404312134,3.0853195190429688,3.0587217807769775,3.0780653953552246,3.0417962074279785,3.0055267810821533,2.8918824195861816,2.8217616081237793,2.998272657394409,2.945077657699585,2.969257116317749,3.0514678955078125,3.160276174545288,3.136096715927124,3.684973955154419,3.7430050373077393,3.822798013687134,3.863903045654297,3.85906720161438,3.8324697017669678,3.7816925048828125,3.7550947666168213,3.7913644313812256,3.8131260871887207,3.851813554763794,3.692228078842163,3.7430050373077393,3.8203799724578857,3.84455943107605,3.7478411197662354,2.727461099624634,2.7081172466278076,2.741968870162964,2.7177891731262207,2.749222755432129,2.8507771492004395,2.783074378967285,2.773402452468872,2.744386911392212,2.732296943664551,2.792746067047119,2.773402452468872,2.739550828933716,2.763730525970459,2.7081172466278076,2.7081172466278076,2.6670119762420654,2.749222755432129,2.792746067047119,2.8145077228546143,2.8217616081237793,2.8290154933929443,2.8411052227020264,2.797581911087036,2.8048360347747803,2.795164108276367,2.8024179935455322,2.6525044441223145,2.722625255584717,2.773402452468872,2.799999952316284,2.737499952316284,2.765000104904175,2.7674999237060547,2.740000009536743,2.625,2.637500047683716,2.612499952316284,2.5350000858306885,2.5875000953674316,2.572499990463257,2.547499895095825,2.5399999618530273,2.5924999713897705,2.5250000953674316,2.4075000286102295,2.507499933242798,2.4649999141693115,2.484999895095825,2.4549999237060547,2.492500066757202,2.440000057220459,2.3299999237060547,2.234999895095825,2.2699999809265137,2.234999895095825,2.192500114440918,2.1624999046325684,2.2225000858306885,2.252500057220459,2.237499952316284,2.2225000858306885,2.190000057220459,2.1624999046325684,2.127500057220459,2.192500114440918,2.242500066757202,2.2125000953674316,2.192500114440918,2.172499895095825,2.130000114440918,2.119999885559082,2.065000057220459,2.132499933242798,2.172499895095825,2.1675000190734863,2.1524999141693115,2.015000104904175,2.0325000286102295,1.975000023841858,1.9249999523162842,1.9550000429153442,1.934999942779541,1.8925000429153442,1.899999976158142,1.8949999809265137,1.8674999475479126,1.9550000429153442,1.2599999904632568,1.2825000286102295,1.2549999952316284,1.3600000143051147,1.4299999475479126,1.375,1.4249999523162842,1.4075000286102295,1.4249999523162842,1.4325000047683716,1.4075000286102295,1.3825000524520874,1.3550000190734863,1.3424999713897705,1.3624999523162842,1.3674999475479126,1.3849999904632568,1.3674999475479126,1.340000033378601,1.3450000286102295,1.3274999856948853,1.3799999952316284,1.3624999523162842,1.3274999856948853,1.2949999570846558,1.2100000381469727,1.2274999618530273,1.1875,1.1575000286102295,1.0950000286102295,1.0499999523162842,1.0800000429153442,1.034999966621399,1.0225000381469727,1.0199999809265137,0.9950000047683716,1.002500057220459,1.0299999713897705,1.0075000524520874,1.0049999952316284,0.9599999785423279,0.9449999928474426,0.9275000095367432,0.9524999856948853,0.9524999856948853,0.9725000262260437,0.8974999785423279,0.8774999976158142,0.8675000071525574,0.8299999833106995,0.8025000095367432,0.8299999833106995,0.8450000286102295,0.8550000190734863,0.8849999904632568,0.9674999713897705,0.9125000238418579,0.9549999833106995,0.925000011920929,0.9700000286102295,1.0575000047683716,0.9925000071525574,0.9524999856948853,0.9950000047683716,1.0575000047683716,1.0774999856948853,1.190000057220459,1.2725000381469727,1.1475000381469727,1.1449999809265137,1.1024999618530273,1.087499976158142,1.0824999809265137,1.149999976158142,1.1100000143051147,1.1749999523162842,1.2549999952316284,1.252500057220459,1.2999999523162842,1.3200000524520874,1.3350000381469727,1.3799999952316284,1.3949999809265137,1.3300000429153442,1.3550000190734863,1.3875000476837158,1.372499942779541,1.3075000047683716,1.247499942779541,1.2625000476837158,1.3424999713897705,1.3949999809265137,1.402500033378601,1.4700000286102295,1.5075000524520874,1.4850000143051147,1.4824999570846558,1.597499966621399,1.6074999570846558,1.6050000190734863,1.587499976158142,1.5475000143051147,1.4524999856948853,1.4325000047683716,1.3600000143051147,1.4600000381469727,1.462499976158142,1.4774999618530273,1.5225000381469727,1.5549999475479126,1.5225000381469727,1.5049999952316284,1.4800000190734863,1.4850000143051147,1.4950000047683716,1.4700000286102295,1.4049999713897705,1.375,1.3650000095367432,1.375,1.4149999618530273,1.5075000524520874,1.524999976158142,1.587499976158142,1.5850000381469727,1.5425000190734863,1.5299999713897705,1.6074999570846558,1.600000023841858,1.6699999570846558,1.5824999809265137,1.627500057220459,1.3825000524520874,1.3949999809265137,1.3624999523162842,1.375,1.5149999856948853,1.5399999618530273,1.5149999856948853,1.497499942779541,1.402500033378601,1.3600000143051147,1.350000023841858,1.475000023841858,1.5325000286102295,1.5199999809265137,1.5774999856948853,1.4700000286102295,1.462499976158142,1.3799999952316284,1.4299999475479126,1.3875000476837158,1.3574999570846558,1.3574999570846558,1.1775000095367432,1.152500033378601,1.1549999713897705,1.1875,1.1475000381469727,1.1399999856948853,1.1549999713897705,1.0800000429153442,1.0700000524520874,1.0525000095367432,1.0325000286102295,0.9825000166893005,0.9599999785423279,0.987500011920929,1.0175000429153442,1.0449999570846558,1.034999966621399,0.9524999856948853,0.9850000143051147,1.0049999952316284,1.0475000143051147,1.027500033378601,1.0049999952316284,1.0149999856948853,1.037500023841858,1.034999966621399,1.0099999904632568,0.925000011920929,0.8899999856948853,0.8475000262260437,0.8675000071525574,0.8999999761581421,0.9574999809265137,0.9075000286102295,0.9424999952316284,0.9900000095367432,0.9800000190734863,0.925000011920929,1.0575000047683716,1.034999966621399,0.9950000047683716,1.1475000381469727,1.0924999713897705,1.0575000047683716,0.9424999952316284,1.0475000143051147,0.9399999976158142,0.9524999856948853,1.0399999618530273,1.0425000190734863,1.1024999618530273,1.0549999475479126,0.9125000238418579,0.875,0.8125,0.7124999761581421,0.699999988079071,0.7724999785423279,0.8174999952316284,0.8525000214576721,0.9725000262260437,1.184999942779541,1.4874999523162842,1.3174999952316284,1.2575000524520874,1.2200000286102295,1.402500033378601,1.1950000524520874,1.222499966621399,1.1749999523162842,1.1924999952316284,1.4550000429153442,1.409999966621399,1.5099999904632568,1.4325000047683716,1.5125000476837158,1.3700000047683716,1.347499966621399,1.2324999570846558,1.2174999713897705,1.2450000047683716,1.190000057220459,1.1349999904632568,1.0525000095367432,1.0325000286102295,1.0549999475479126,1.1449999809265137,1.1100000143051147,1.1074999570846558,1.1100000143051147,1.0449999570846558,1.1050000190734863,1.1725000143051147,1.0824999809265137,1.0149999856948853,1.0325000286102295,1.0449999570846558,1.1100000143051147,1.1174999475479126,1.034999966621399,1.252500057220459,1.2400000095367432,1.2675000429153442,1.0924999713897705,1.1799999475479126,1.1725000143051147,1.159999966621399,1.190000057220459,1.2374999523162842,1.2200000286102295,1.2174999713897705,1.2074999809265137,1.1024999618530273,1.1150000095367432,1.087499976158142,1.0950000286102295,1.0850000381469727,1.1100000143051147,1.0724999904632568,1.059999942779541,1.0225000381469727,1.065000057220459,1.0525000095367432,1.0850000381469727,1.065000057220459,1.0199999809265137,1.0475000143051147,1.0425000190734863,0.9900000095367432,0.9624999761581421,1.002500057220459,1.027500033378601,1.027500033378601,1.0075000524520874,1.002500057220459,0.9850000143051147,1.0149999856948853,1.024999976158142,1.002500057220459,1.037500023841858,1.1074999570846558,1.1575000286102295,1.1074999570846558,1.0399999618530273,1.0824999809265137,1.087499976158142,1.1299999952316284,1.159999966621399,1.1875,1.1575000286102295,1.2024999856948853,1.1799999475479126,1.152500033378601,1.2575000524520874,1.2174999713897705,1.2450000047683716,1.277500033378601,1.3125,1.347499966621399,1.6699999570846558,1.912500023841858,1.9275000095367432,1.9550000429153442,1.912500023841858,1.9249999523162842,1.837499976158142,1.5575000047683716,1.5225000381469727,1.7274999618530273,1.7725000381469727,2.1700000762939453,2.299999952316284,2.367500066757202,2.1875,2.640000104904175,2.509999990463257,2.2850000858306885,2.505000114440918,2.5225000381469727,2.5875000953674316,2.549999952316284,2.442500114440918,2.3475000858306885,2.365000009536743,2.2825000286102295,2.3399999141693115,3.372499942779541,3.005000114440918,2.950000047683716,2.9700000286102295,3.0625,3.4574999809265137,3.327500104904175,3.4774999618530273,3.4649999141693115,3.5250000953674316,3.7274999618530273,3.75,3.362499952316284,3.172499895095825,2.9549999237060547,2.932499885559082,2.617500066757202,2.6875,2.8924999237060547,2.7274999618530273,2.862499952316284,2.9649999141693115,2.872499942779541,2.7750000953674316,2.9375,2.7825000286102295,2.752500057220459,3.015000104904175,2.9075000286102295,2.8924999237060547,3.115000009536743,3.177500009536743,3.4749999046325684,3.4175000190734863,3.6875,4.019999980926514,4.139999866485596,3.950000047683716,4.144999980926514,4.03000020980835,4.224999904632568,4.087500095367432,4.235000133514404,3.4149999618530273,3.5299999713897705,3.327500104904175,3.180000066757202,3.4625000953674316,3.4625000953674316,3.7074999809265137,3.9075000286102295,3.882499933242798,4.864999771118164,5.142499923706055,5.037499904632568,5.247499942779541,4.84499979019165,4.815000057220459,4.710000038146973,4.3125,4.34250020980835,4.590000152587891,4.519999980926514,4.422500133514404,4.985000133514404,4.987500190734863,7.849999904632568,9.977499961853027,8.875,9.84000015258789,9.779999732971191,10.757499694824219,16.252500534057617,19.197500228881836,36.994998931884766,86.87750244140625,48.400001525878906,81.25,56.25,22.5,23.102500915527344,13.375,15.942500114440918,15.0,12.577500343322754,12.800000190734863,12.774999618530273,13.100000381469727,12.3774995803833,11.484999656677246,10.172499656677246,10.147500038146973,11.5,11.242500305175781,22.927499771118164,27.1825008392334,25.434999465942383,30.100000381469727,29.545000076293945,31.045000076293945,33.087501525878906,34.435001373291016,48.625,61.724998474121094,66.25,65.0,66.125,55.03499984741211,52.04249954223633,52.45249938964844,50.4375,50.067501068115234,48.622501373291016,45.4375,30.084999084472656,45.9375,45.25,45.32500076293945,48.6150016784668,47.45500183105469,47.86249923706055,46.73749923706055,46.125,44.49250030517578,42.564998626708984,39.59000015258789,35.272499084472656,35.247501373291016,41.63249969482422,39.11000061035156,38.67250061035156,41.092498779296875,39.63249969482422,39.627498626708984,37.79249954223633,37.79499816894531,42.23249816894531,44.442501068115234,44.64500045776367,44.04750061035156,43.397499084472656,40.54999923706055,40.182498931884766,39.869998931884766,40.252498626708984,40.27750015258789,35.80500030517578,36.72999954223633,36.1974983215332,41.125,39.97999954223633,45.150001525878906,45.16749954223633,42.20750045776367,42.622501373291016,44.1974983215332,45.002498626708984,52.35749816894531,60.63999938964844,63.532501220703125,55.5,62.255001068115234,70.55999755859375,64.54499816894531,62.09000015258789,70.00250244140625,75.0,75.63999938964844,55.09749984741211,58.334999084472656,57.36000061035156],\"type\":\"scatter\",\"xaxis\":\"x\",\"yaxis\":\"y\"},{\"name\":\"Volume\",\"x\":[\"2020-01-01T00:00:00\",\"2019-01-01T00:00:00\",\"2018-01-01T00:00:00\",\"2017-01-01T00:00:00\",\"2016-01-01T00:00:00\",\"2015-01-01T00:00:00\",\"2014-01-01T00:00:00\",\"2013-01-01T00:00:00\",\"2012-01-01T00:00:00\",\"2011-01-01T00:00:00\",\"2010-01-01T00:00:00\",\"2009-01-01T00:00:00\",\"2008-01-01T00:00:00\",\"2007-01-01T00:00:00\",\"2006-01-01T00:00:00\",\"2005-01-01T00:00:00\",\"2020-04-30T00:00:00\",\"2020-01-31T00:00:00\",\"2019-10-31T00:00:00\",\"2019-07-31T00:00:00\",\"2019-04-30T00:00:00\",\"2019-01-31T00:00:00\",\"2018-10-31T00:00:00\",\"2018-07-31T00:00:00\",\"2018-04-30T00:00:00\",\"2018-01-31T00:00:00\",\"2017-10-31T00:00:00\",\"2017-07-31T00:00:00\",\"2017-04-30T00:00:00\",\"2017-01-31T00:00:00\",\"2016-10-31T00:00:00\",\"2016-07-31T00:00:00\",\"2016-04-30T00:00:00\",\"2016-01-31T00:00:00\",\"2015-10-31T00:00:00\",\"2015-07-31T00:00:00\",\"2015-04-30T00:00:00\",\"2015-01-31T00:00:00\",\"2014-10-31T00:00:00\",\"2014-07-31T00:00:00\",\"2014-04-30T00:00:00\",\"2014-01-31T00:00:00\",\"2013-10-31T00:00:00\",\"2013-07-31T00:00:00\",\"2013-04-30T00:00:00\",\"2013-01-31T00:00:00\",\"2012-10-31T00:00:00\",\"2012-07-31T00:00:00\",\"2012-04-30T00:00:00\",\"2012-01-31T00:00:00\",\"2011-10-31T00:00:00\",\"2011-07-31T00:00:00\",\"2011-04-30T00:00:00\",\"2011-01-31T00:00:00\",\"2010-10-31T00:00:00\",\"2010-07-31T00:00:00\",\"2010-04-30T00:00:00\",\"2010-01-31T00:00:00\",\"2009-10-31T00:00:00\",\"2009-07-31T00:00:00\",\"2009-04-30T00:00:00\",\"2009-01-31T00:00:00\",\"2008-10-31T00:00:00\",\"2008-07-31T00:00:00\",\"2008-04-30T00:00:00\",\"2008-01-31T00:00:00\",\"2007-10-31T00:00:00\",\"2007-07-31T00:00:00\",\"2007-04-30T00:00:00\",\"2007-01-31T00:00:00\",\"2006-10-31T00:00:00\",\"2006-07-31T00:00:00\",\"2006-04-30T00:00:00\",\"2006-01-31T00:00:00\",\"2005-10-31T00:00:00\",\"2005-07-31T00:00:00\",\"2005-04-30T00:00:00\",\"2005-01-31T00:00:00\"],\"y\":[6466.0,8285.0,8547.0,7965.0,9364.0,9296.0,9040.0,8887.0,9551.0,9474.0,9078.0,8806.0,7094.0,5319.0,3092.0,1843.0,1021.0,2194.0,1439.0,1286.0,1548.0,3063.0,1935.0,1501.0,1786.0,2825.0,1989.0,1688.0,2046.0,2403.0,1959.0,1632.0,1972.0,3525.0,2016.0,1762.0,2061.0,3476.0,2092.0,1731.0,1996.0,3684.0,2107.0,1384.0,1865.0,3562.0,1773.0,1550.0,2002.0,3579.0,1947.0,1744.0,2281.0,3693.0,1899.0,1799.0,2083.0,3524.0,1835.0,1739.0,1981.0,3492.0,1696.0,1804.0,1814.0,2866.0,1611.0,1338.0,1279.0,2304.0,1012.0,963.0,1040.0,1667.0,534.0,416.0,475.0,709.0],\"type\":\"scatter\",\"xaxis\":\"x2\",\"yaxis\":\"y2\"}],                        {\"template\":{\"data\":{\"histogram2dcontour\":[{\"type\":\"histogram2dcontour\",\"colorbar\":{\"outlinewidth\":0,\"ticks\":\"\"},\"colorscale\":[[0.0,\"#0d0887\"],[0.1111111111111111,\"#46039f\"],[0.2222222222222222,\"#7201a8\"],[0.3333333333333333,\"#9c179e\"],[0.4444444444444444,\"#bd3786\"],[0.5555555555555556,\"#d8576b\"],[0.6666666666666666,\"#ed7953\"],[0.7777777777777778,\"#fb9f3a\"],[0.8888888888888888,\"#fdca26\"],[1.0,\"#f0f921\"]]}],\"choropleth\":[{\"type\":\"choropleth\",\"colorbar\":{\"outlinewidth\":0,\"ticks\":\"\"}}],\"histogram2d\":[{\"type\":\"histogram2d\",\"colorbar\":{\"outlinewidth\":0,\"ticks\":\"\"},\"colorscale\":[[0.0,\"#0d0887\"],[0.1111111111111111,\"#46039f\"],[0.2222222222222222,\"#7201a8\"],[0.3333333333333333,\"#9c179e\"],[0.4444444444444444,\"#bd3786\"],[0.5555555555555556,\"#d8576b\"],[0.6666666666666666,\"#ed7953\"],[0.7777777777777778,\"#fb9f3a\"],[0.8888888888888888,\"#fdca26\"],[1.0,\"#f0f921\"]]}],\"heatmap\":[{\"type\":\"heatmap\",\"colorbar\":{\"outlinewidth\":0,\"ticks\":\"\"},\"colorscale\":[[0.0,\"#0d0887\"],[0.1111111111111111,\"#46039f\"],[0.2222222222222222,\"#7201a8\"],[0.3333333333333333,\"#9c179e\"],[0.4444444444444444,\"#bd3786\"],[0.5555555555555556,\"#d8576b\"],[0.6666666666666666,\"#ed7953\"],[0.7777777777777778,\"#fb9f3a\"],[0.8888888888888888,\"#fdca26\"],[1.0,\"#f0f921\"]]}],\"heatmapgl\":[{\"type\":\"heatmapgl\",\"colorbar\":{\"outlinewidth\":0,\"ticks\":\"\"},\"colorscale\":[[0.0,\"#0d0887\"],[0.1111111111111111,\"#46039f\"],[0.2222222222222222,\"#7201a8\"],[0.3333333333333333,\"#9c179e\"],[0.4444444444444444,\"#bd3786\"],[0.5555555555555556,\"#d8576b\"],[0.6666666666666666,\"#ed7953\"],[0.7777777777777778,\"#fb9f3a\"],[0.8888888888888888,\"#fdca26\"],[1.0,\"#f0f921\"]]}],\"contourcarpet\":[{\"type\":\"contourcarpet\",\"colorbar\":{\"outlinewidth\":0,\"ticks\":\"\"}}],\"contour\":[{\"type\":\"contour\",\"colorbar\":{\"outlinewidth\":0,\"ticks\":\"\"},\"colorscale\":[[0.0,\"#0d0887\"],[0.1111111111111111,\"#46039f\"],[0.2222222222222222,\"#7201a8\"],[0.3333333333333333,\"#9c179e\"],[0.4444444444444444,\"#bd3786\"],[0.5555555555555556,\"#d8576b\"],[0.6666666666666666,\"#ed7953\"],[0.7777777777777778,\"#fb9f3a\"],[0.8888888888888888,\"#fdca26\"],[1.0,\"#f0f921\"]]}],\"surface\":[{\"type\":\"surface\",\"colorbar\":{\"outlinewidth\":0,\"ticks\":\"\"},\"colorscale\":[[0.0,\"#0d0887\"],[0.1111111111111111,\"#46039f\"],[0.2222222222222222,\"#7201a8\"],[0.3333333333333333,\"#9c179e\"],[0.4444444444444444,\"#bd3786\"],[0.5555555555555556,\"#d8576b\"],[0.6666666666666666,\"#ed7953\"],[0.7777777777777778,\"#fb9f3a\"],[0.8888888888888888,\"#fdca26\"],[1.0,\"#f0f921\"]]}],\"mesh3d\":[{\"type\":\"mesh3d\",\"colorbar\":{\"outlinewidth\":0,\"ticks\":\"\"}}],\"scatter\":[{\"fillpattern\":{\"fillmode\":\"overlay\",\"size\":10,\"solidity\":0.2},\"type\":\"scatter\"}],\"parcoords\":[{\"type\":\"parcoords\",\"line\":{\"colorbar\":{\"outlinewidth\":0,\"ticks\":\"\"}}}],\"scatterpolargl\":[{\"type\":\"scatterpolargl\",\"marker\":{\"colorbar\":{\"outlinewidth\":0,\"ticks\":\"\"}}}],\"bar\":[{\"error_x\":{\"color\":\"#2a3f5f\"},\"error_y\":{\"color\":\"#2a3f5f\"},\"marker\":{\"line\":{\"color\":\"#E5ECF6\",\"width\":0.5},\"pattern\":{\"fillmode\":\"overlay\",\"size\":10,\"solidity\":0.2}},\"type\":\"bar\"}],\"scattergeo\":[{\"type\":\"scattergeo\",\"marker\":{\"colorbar\":{\"outlinewidth\":0,\"ticks\":\"\"}}}],\"scatterpolar\":[{\"type\":\"scatterpolar\",\"marker\":{\"colorbar\":{\"outlinewidth\":0,\"ticks\":\"\"}}}],\"histogram\":[{\"marker\":{\"pattern\":{\"fillmode\":\"overlay\",\"size\":10,\"solidity\":0.2}},\"type\":\"histogram\"}],\"scattergl\":[{\"type\":\"scattergl\",\"marker\":{\"colorbar\":{\"outlinewidth\":0,\"ticks\":\"\"}}}],\"scatter3d\":[{\"type\":\"scatter3d\",\"line\":{\"colorbar\":{\"outlinewidth\":0,\"ticks\":\"\"}},\"marker\":{\"colorbar\":{\"outlinewidth\":0,\"ticks\":\"\"}}}],\"scattermapbox\":[{\"type\":\"scattermapbox\",\"marker\":{\"colorbar\":{\"outlinewidth\":0,\"ticks\":\"\"}}}],\"scatterternary\":[{\"type\":\"scatterternary\",\"marker\":{\"colorbar\":{\"outlinewidth\":0,\"ticks\":\"\"}}}],\"scattercarpet\":[{\"type\":\"scattercarpet\",\"marker\":{\"colorbar\":{\"outlinewidth\":0,\"ticks\":\"\"}}}],\"carpet\":[{\"aaxis\":{\"endlinecolor\":\"#2a3f5f\",\"gridcolor\":\"white\",\"linecolor\":\"white\",\"minorgridcolor\":\"white\",\"startlinecolor\":\"#2a3f5f\"},\"baxis\":{\"endlinecolor\":\"#2a3f5f\",\"gridcolor\":\"white\",\"linecolor\":\"white\",\"minorgridcolor\":\"white\",\"startlinecolor\":\"#2a3f5f\"},\"type\":\"carpet\"}],\"table\":[{\"cells\":{\"fill\":{\"color\":\"#EBF0F8\"},\"line\":{\"color\":\"white\"}},\"header\":{\"fill\":{\"color\":\"#C8D4E3\"},\"line\":{\"color\":\"white\"}},\"type\":\"table\"}],\"barpolar\":[{\"marker\":{\"line\":{\"color\":\"#E5ECF6\",\"width\":0.5},\"pattern\":{\"fillmode\":\"overlay\",\"size\":10,\"solidity\":0.2}},\"type\":\"barpolar\"}],\"pie\":[{\"automargin\":true,\"type\":\"pie\"}]},\"layout\":{\"autotypenumbers\":\"strict\",\"colorway\":[\"#636efa\",\"#EF553B\",\"#00cc96\",\"#ab63fa\",\"#FFA15A\",\"#19d3f3\",\"#FF6692\",\"#B6E880\",\"#FF97FF\",\"#FECB52\"],\"font\":{\"color\":\"#2a3f5f\"},\"hovermode\":\"closest\",\"hoverlabel\":{\"align\":\"left\"},\"paper_bgcolor\":\"white\",\"plot_bgcolor\":\"#E5ECF6\",\"polar\":{\"bgcolor\":\"#E5ECF6\",\"angularaxis\":{\"gridcolor\":\"white\",\"linecolor\":\"white\",\"ticks\":\"\"},\"radialaxis\":{\"gridcolor\":\"white\",\"linecolor\":\"white\",\"ticks\":\"\"}},\"ternary\":{\"bgcolor\":\"#E5ECF6\",\"aaxis\":{\"gridcolor\":\"white\",\"linecolor\":\"white\",\"ticks\":\"\"},\"baxis\":{\"gridcolor\":\"white\",\"linecolor\":\"white\",\"ticks\":\"\"},\"caxis\":{\"gridcolor\":\"white\",\"linecolor\":\"white\",\"ticks\":\"\"}},\"coloraxis\":{\"colorbar\":{\"outlinewidth\":0,\"ticks\":\"\"}},\"colorscale\":{\"sequential\":[[0.0,\"#0d0887\"],[0.1111111111111111,\"#46039f\"],[0.2222222222222222,\"#7201a8\"],[0.3333333333333333,\"#9c179e\"],[0.4444444444444444,\"#bd3786\"],[0.5555555555555556,\"#d8576b\"],[0.6666666666666666,\"#ed7953\"],[0.7777777777777778,\"#fb9f3a\"],[0.8888888888888888,\"#fdca26\"],[1.0,\"#f0f921\"]],\"sequentialminus\":[[0.0,\"#0d0887\"],[0.1111111111111111,\"#46039f\"],[0.2222222222222222,\"#7201a8\"],[0.3333333333333333,\"#9c179e\"],[0.4444444444444444,\"#bd3786\"],[0.5555555555555556,\"#d8576b\"],[0.6666666666666666,\"#ed7953\"],[0.7777777777777778,\"#fb9f3a\"],[0.8888888888888888,\"#fdca26\"],[1.0,\"#f0f921\"]],\"diverging\":[[0,\"#8e0152\"],[0.1,\"#c51b7d\"],[0.2,\"#de77ae\"],[0.3,\"#f1b6da\"],[0.4,\"#fde0ef\"],[0.5,\"#f7f7f7\"],[0.6,\"#e6f5d0\"],[0.7,\"#b8e186\"],[0.8,\"#7fbc41\"],[0.9,\"#4d9221\"],[1,\"#276419\"]]},\"xaxis\":{\"gridcolor\":\"white\",\"linecolor\":\"white\",\"ticks\":\"\",\"title\":{\"standoff\":15},\"zerolinecolor\":\"white\",\"automargin\":true,\"zerolinewidth\":2},\"yaxis\":{\"gridcolor\":\"white\",\"linecolor\":\"white\",\"ticks\":\"\",\"title\":{\"standoff\":15},\"zerolinecolor\":\"white\",\"automargin\":true,\"zerolinewidth\":2},\"scene\":{\"xaxis\":{\"backgroundcolor\":\"#E5ECF6\",\"gridcolor\":\"white\",\"linecolor\":\"white\",\"showbackground\":true,\"ticks\":\"\",\"zerolinecolor\":\"white\",\"gridwidth\":2},\"yaxis\":{\"backgroundcolor\":\"#E5ECF6\",\"gridcolor\":\"white\",\"linecolor\":\"white\",\"showbackground\":true,\"ticks\":\"\",\"zerolinecolor\":\"white\",\"gridwidth\":2},\"zaxis\":{\"backgroundcolor\":\"#E5ECF6\",\"gridcolor\":\"white\",\"linecolor\":\"white\",\"showbackground\":true,\"ticks\":\"\",\"zerolinecolor\":\"white\",\"gridwidth\":2}},\"shapedefaults\":{\"line\":{\"color\":\"#2a3f5f\"}},\"annotationdefaults\":{\"arrowcolor\":\"#2a3f5f\",\"arrowhead\":0,\"arrowwidth\":1},\"geo\":{\"bgcolor\":\"white\",\"landcolor\":\"#E5ECF6\",\"subunitcolor\":\"white\",\"showland\":true,\"showlakes\":true,\"lakecolor\":\"white\"},\"title\":{\"x\":0.05},\"mapbox\":{\"style\":\"light\"}}},\"xaxis\":{\"anchor\":\"y\",\"domain\":[0.0,1.0],\"matches\":\"x2\",\"showticklabels\":false,\"title\":{\"text\":\"Date\"},\"rangeslider\":{\"visible\":true}},\"yaxis\":{\"anchor\":\"x\",\"domain\":[0.6499999999999999,0.9999999999999999]},\"xaxis2\":{\"anchor\":\"y2\",\"domain\":[0.0,1.0]},\"yaxis2\":{\"anchor\":\"x2\",\"domain\":[0.0,0.35],\"title\":{\"text\":\"Revenue ($US Millions)\"}},\"annotations\":[{\"font\":{\"size\":16},\"showarrow\":false,\"text\":\"Historical Share Price\",\"x\":0.5,\"xanchor\":\"center\",\"xref\":\"paper\",\"y\":0.9999999999999999,\"yanchor\":\"bottom\",\"yref\":\"paper\"},{\"font\":{\"size\":16},\"showarrow\":false,\"text\":\"Historical Revenue\",\"x\":0.5,\"xanchor\":\"center\",\"xref\":\"paper\",\"y\":0.35,\"yanchor\":\"bottom\",\"yref\":\"paper\"}],\"showlegend\":true,\"height\":900,\"title\":{\"text\":\"GameStop\"}},                        {\"responsive\": true}                    ).then(function(){\n",
              "                            \n",
              "var gd = document.getElementById('0555be6c-61c7-45ff-9f85-7020772f5168');\n",
              "var x = new MutationObserver(function (mutations, observer) {{\n",
              "        var display = window.getComputedStyle(gd).display;\n",
              "        if (!display || display === 'none') {{\n",
              "            console.log([gd, 'removed!']);\n",
              "            Plotly.purge(gd);\n",
              "            observer.disconnect();\n",
              "        }}\n",
              "}});\n",
              "\n",
              "// Listen for the removal of the full notebook cells\n",
              "var notebookContainer = gd.closest('#notebook-container');\n",
              "if (notebookContainer) {{\n",
              "    x.observe(notebookContainer, {childList: true});\n",
              "}}\n",
              "\n",
              "// Listen for the clearing of the current output cell\n",
              "var outputEl = gd.closest('.output');\n",
              "if (outputEl) {{\n",
              "    x.observe(outputEl, {childList: true});\n",
              "}}\n",
              "\n",
              "                        })                };                            </script>        </div>\n",
              "</body>\n",
              "</html>"
            ]
          },
          "metadata": {}
        }
      ],
      "source": [
        "import plotly.graph_objects as go\n",
        "from plotly.subplots import make_subplots\n",
        "\n",
        "def make_graph(stock_data, revenue_data, stock):\n",
        "    fig = make_subplots(rows=2, cols=1,\n",
        "                        shared_xaxes=True,\n",
        "                        subplot_titles=(\"Historical Share Price\", \"Historical Revenue\"),\n",
        "                        vertical_spacing=.3)\n",
        "\n",
        "    stock_data_specific = stock_data[stock_data.Date <= '2021-06-14']\n",
        "    print(stock_data_specific)\n",
        "    revenue_data_specific = revenue_data[revenue_data.Date <= '2021-04-30']\n",
        "    print(revenue_data_specific)\n",
        "    fig.add_trace(go.Scatter(\n",
        "        x=pd.to_datetime(stock_data_specific.Date, format='mixed'),\n",
        "        y=stock_data_specific.Close.astype(\"float\"), name=\"Share Price\"), row=1, col=1)\n",
        "    fig.add_trace(go.Scatter(\n",
        "        x=pd.to_datetime(revenue_data_specific.Date, format='mixed'),\n",
        "        y=revenue_data_specific.Revenue.astype(\"float\"), name=\"Volume\"), row=2, col=1)\n",
        "\n",
        "    fig.update_xaxes(title_text=\"Date\", row=1, col=1)\n",
        "\n",
        "    fig.update_yaxes(title_text=\"Revenue ($US Millions)\", row=2, col=1)\n",
        "\n",
        "    fig.update_layout(showlegend=True,\n",
        "                      height=900,\n",
        "                      title=stock,\n",
        "                      xaxis_rangeslider_visible=True)\n",
        "    fig.show()\n",
        "make_graph(gme_data, gme_revenue, 'GameStop')\n"
      ],
      "execution_count": 23
    },
    {
      "cell_type": "markdown",
      "source": [
        "# New Section"
      ],
      "metadata": {
        "id": "ujZxFTrb5hG7"
      }
    },
    {
      "cell_type": "markdown",
      "metadata": {
        "id": "78a1dc20-fd75-4f9c-bd32-84d6cee08897"
      },
      "source": [
        "<h2>About the Authors:</h2>\n",
        "\n",
        "<a href=\"https://www.linkedin.com/in/joseph-s-50398b136/\">Joseph Santarcangelo</a> has a PhD in Electrical Engineering, his research focused on using machine learning, signal processing, and computer vision to determine how videos impact human cognition. Joseph has been working for IBM since he completed his PhD.\n",
        "\n",
        "Azim Hirjani\n"
      ]
    },
    {
      "cell_type": "markdown",
      "metadata": {
        "id": "4088c15e-bf02-4718-90b2-33d21430d053"
      },
      "source": [
        "## Change Log\n",
        "\n",
        "| Date (YYYY-MM-DD) | Version | Changed By    | Change Description        |\n",
        "| ----------------- | ------- | ------------- | ------------------------- |\n",
        "| 2022-02-28        | 1.2     | Lakshmi Holla | Changed the URL of GameStop |\n",
        "| 2020-11-10        | 1.1     | Malika Singla | Deleted the Optional part |\n",
        "| 2020-08-27        | 1.0     | Malika Singla | Added lab to GitLab       |\n",
        "\n",
        "<hr>\n",
        "\n",
        "## <h3 align=\"center\"> © IBM Corporation 2020. All rights reserved. <h3/>\n",
        "\n",
        "<p>\n"
      ]
    }
  ],
  "metadata": {
    "kernelspec": {
      "display_name": "Python",
      "language": "python",
      "name": "conda-env-python-py"
    },
    "language_info": {
      "name": ""
    },
    "colab": {
      "provenance": [],
      "toc_visible": true
    }
  },
  "nbformat": 4,
  "nbformat_minor": 0
}